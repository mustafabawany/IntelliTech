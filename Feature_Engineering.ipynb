{
  "cells": [
    {
      "cell_type": "markdown",
      "metadata": {
        "id": "t5wewbNqz8cj"
      },
      "source": [
        "## **Installing Packages**"
      ]
    },
    {
      "cell_type": "code",
      "execution_count": 1,
      "metadata": {
        "colab": {
          "base_uri": "https://localhost:8080/"
        },
        "id": "PpP642wc8kXg",
        "outputId": "1554ed10-ff29-489a-9844-8b1c144fae38"
      },
      "outputs": [
        {
          "output_type": "stream",
          "name": "stdout",
          "text": [
            "Looking in indexes: https://pypi.org/simple, https://us-python.pkg.dev/colab-wheels/public/simple/\n",
            "Requirement already satisfied: textblob in /usr/local/lib/python3.8/dist-packages (0.15.3)\n",
            "Requirement already satisfied: nltk>=3.1 in /usr/local/lib/python3.8/dist-packages (from textblob) (3.7)\n",
            "Requirement already satisfied: regex>=2021.8.3 in /usr/local/lib/python3.8/dist-packages (from nltk>=3.1->textblob) (2022.6.2)\n",
            "Requirement already satisfied: tqdm in /usr/local/lib/python3.8/dist-packages (from nltk>=3.1->textblob) (4.64.1)\n",
            "Requirement already satisfied: joblib in /usr/local/lib/python3.8/dist-packages (from nltk>=3.1->textblob) (1.2.0)\n",
            "Requirement already satisfied: click in /usr/local/lib/python3.8/dist-packages (from nltk>=3.1->textblob) (7.1.2)\n",
            "Looking in indexes: https://pypi.org/simple, https://us-python.pkg.dev/colab-wheels/public/simple/\n",
            "Collecting sentencepiece\n",
            "  Downloading sentencepiece-0.1.97-cp38-cp38-manylinux_2_17_x86_64.manylinux2014_x86_64.whl (1.3 MB)\n",
            "\u001b[K     |████████████████████████████████| 1.3 MB 5.0 MB/s \n",
            "\u001b[?25hInstalling collected packages: sentencepiece\n",
            "Successfully installed sentencepiece-0.1.97\n",
            "Looking in indexes: https://pypi.org/simple, https://us-python.pkg.dev/colab-wheels/public/simple/\n",
            "Collecting transformers\n",
            "  Downloading transformers-4.25.1-py3-none-any.whl (5.8 MB)\n",
            "\u001b[K     |████████████████████████████████| 5.8 MB 5.0 MB/s \n",
            "\u001b[?25hRequirement already satisfied: pyyaml>=5.1 in /usr/local/lib/python3.8/dist-packages (from transformers) (6.0)\n",
            "Requirement already satisfied: filelock in /usr/local/lib/python3.8/dist-packages (from transformers) (3.8.0)\n",
            "Requirement already satisfied: requests in /usr/local/lib/python3.8/dist-packages (from transformers) (2.23.0)\n",
            "Collecting tokenizers!=0.11.3,<0.14,>=0.11.1\n",
            "  Downloading tokenizers-0.13.2-cp38-cp38-manylinux_2_17_x86_64.manylinux2014_x86_64.whl (7.6 MB)\n",
            "\u001b[K     |████████████████████████████████| 7.6 MB 58.2 MB/s \n",
            "\u001b[?25hRequirement already satisfied: tqdm>=4.27 in /usr/local/lib/python3.8/dist-packages (from transformers) (4.64.1)\n",
            "Requirement already satisfied: numpy>=1.17 in /usr/local/lib/python3.8/dist-packages (from transformers) (1.21.6)\n",
            "Requirement already satisfied: packaging>=20.0 in /usr/local/lib/python3.8/dist-packages (from transformers) (21.3)\n",
            "Collecting huggingface-hub<1.0,>=0.10.0\n",
            "  Downloading huggingface_hub-0.11.1-py3-none-any.whl (182 kB)\n",
            "\u001b[K     |████████████████████████████████| 182 kB 49.9 MB/s \n",
            "\u001b[?25hRequirement already satisfied: regex!=2019.12.17 in /usr/local/lib/python3.8/dist-packages (from transformers) (2022.6.2)\n",
            "Requirement already satisfied: typing-extensions>=3.7.4.3 in /usr/local/lib/python3.8/dist-packages (from huggingface-hub<1.0,>=0.10.0->transformers) (4.4.0)\n",
            "Requirement already satisfied: pyparsing!=3.0.5,>=2.0.2 in /usr/local/lib/python3.8/dist-packages (from packaging>=20.0->transformers) (3.0.9)\n",
            "Requirement already satisfied: certifi>=2017.4.17 in /usr/local/lib/python3.8/dist-packages (from requests->transformers) (2022.9.24)\n",
            "Requirement already satisfied: chardet<4,>=3.0.2 in /usr/local/lib/python3.8/dist-packages (from requests->transformers) (3.0.4)\n",
            "Requirement already satisfied: urllib3!=1.25.0,!=1.25.1,<1.26,>=1.21.1 in /usr/local/lib/python3.8/dist-packages (from requests->transformers) (1.24.3)\n",
            "Requirement already satisfied: idna<3,>=2.5 in /usr/local/lib/python3.8/dist-packages (from requests->transformers) (2.10)\n",
            "Installing collected packages: tokenizers, huggingface-hub, transformers\n",
            "Successfully installed huggingface-hub-0.11.1 tokenizers-0.13.2 transformers-4.25.1\n",
            "Looking in indexes: https://pypi.org/simple, https://us-python.pkg.dev/colab-wheels/public/simple/\n",
            "Collecting textstat\n",
            "  Downloading textstat-0.7.3-py3-none-any.whl (105 kB)\n",
            "\u001b[K     |████████████████████████████████| 105 kB 5.5 MB/s \n",
            "\u001b[?25hCollecting pyphen\n",
            "  Downloading pyphen-0.13.2-py3-none-any.whl (2.0 MB)\n",
            "\u001b[K     |████████████████████████████████| 2.0 MB 29.7 MB/s \n",
            "\u001b[?25hInstalling collected packages: pyphen, textstat\n",
            "Successfully installed pyphen-0.13.2 textstat-0.7.3\n",
            "Looking in indexes: https://pypi.org/simple, https://us-python.pkg.dev/colab-wheels/public/simple/\n",
            "Collecting language-tool-python\n",
            "  Downloading language_tool_python-2.7.1-py3-none-any.whl (34 kB)\n",
            "Requirement already satisfied: tqdm in /usr/local/lib/python3.8/dist-packages (from language-tool-python) (4.64.1)\n",
            "Requirement already satisfied: requests in /usr/local/lib/python3.8/dist-packages (from language-tool-python) (2.23.0)\n",
            "Requirement already satisfied: idna<3,>=2.5 in /usr/local/lib/python3.8/dist-packages (from requests->language-tool-python) (2.10)\n",
            "Requirement already satisfied: certifi>=2017.4.17 in /usr/local/lib/python3.8/dist-packages (from requests->language-tool-python) (2022.9.24)\n",
            "Requirement already satisfied: urllib3!=1.25.0,!=1.25.1,<1.26,>=1.21.1 in /usr/local/lib/python3.8/dist-packages (from requests->language-tool-python) (1.24.3)\n",
            "Requirement already satisfied: chardet<4,>=3.0.2 in /usr/local/lib/python3.8/dist-packages (from requests->language-tool-python) (3.0.4)\n",
            "Installing collected packages: language-tool-python\n",
            "Successfully installed language-tool-python-2.7.1\n",
            "Looking in indexes: https://pypi.org/simple, https://us-python.pkg.dev/colab-wheels/public/simple/\n",
            "Collecting sentence-transformers\n",
            "  Downloading sentence-transformers-2.2.2.tar.gz (85 kB)\n",
            "\u001b[K     |████████████████████████████████| 85 kB 2.9 MB/s \n",
            "\u001b[?25hRequirement already satisfied: transformers<5.0.0,>=4.6.0 in /usr/local/lib/python3.8/dist-packages (from sentence-transformers) (4.25.1)\n",
            "Requirement already satisfied: tqdm in /usr/local/lib/python3.8/dist-packages (from sentence-transformers) (4.64.1)\n",
            "Requirement already satisfied: torch>=1.6.0 in /usr/local/lib/python3.8/dist-packages (from sentence-transformers) (1.13.0+cu116)\n",
            "Requirement already satisfied: torchvision in /usr/local/lib/python3.8/dist-packages (from sentence-transformers) (0.14.0+cu116)\n",
            "Requirement already satisfied: numpy in /usr/local/lib/python3.8/dist-packages (from sentence-transformers) (1.21.6)\n",
            "Requirement already satisfied: scikit-learn in /usr/local/lib/python3.8/dist-packages (from sentence-transformers) (1.0.2)\n",
            "Requirement already satisfied: scipy in /usr/local/lib/python3.8/dist-packages (from sentence-transformers) (1.7.3)\n",
            "Requirement already satisfied: nltk in /usr/local/lib/python3.8/dist-packages (from sentence-transformers) (3.7)\n",
            "Requirement already satisfied: sentencepiece in /usr/local/lib/python3.8/dist-packages (from sentence-transformers) (0.1.97)\n",
            "Requirement already satisfied: huggingface-hub>=0.4.0 in /usr/local/lib/python3.8/dist-packages (from sentence-transformers) (0.11.1)\n",
            "Requirement already satisfied: packaging>=20.9 in /usr/local/lib/python3.8/dist-packages (from huggingface-hub>=0.4.0->sentence-transformers) (21.3)\n",
            "Requirement already satisfied: pyyaml>=5.1 in /usr/local/lib/python3.8/dist-packages (from huggingface-hub>=0.4.0->sentence-transformers) (6.0)\n",
            "Requirement already satisfied: filelock in /usr/local/lib/python3.8/dist-packages (from huggingface-hub>=0.4.0->sentence-transformers) (3.8.0)\n",
            "Requirement already satisfied: typing-extensions>=3.7.4.3 in /usr/local/lib/python3.8/dist-packages (from huggingface-hub>=0.4.0->sentence-transformers) (4.4.0)\n",
            "Requirement already satisfied: requests in /usr/local/lib/python3.8/dist-packages (from huggingface-hub>=0.4.0->sentence-transformers) (2.23.0)\n",
            "Requirement already satisfied: pyparsing!=3.0.5,>=2.0.2 in /usr/local/lib/python3.8/dist-packages (from packaging>=20.9->huggingface-hub>=0.4.0->sentence-transformers) (3.0.9)\n",
            "Requirement already satisfied: tokenizers!=0.11.3,<0.14,>=0.11.1 in /usr/local/lib/python3.8/dist-packages (from transformers<5.0.0,>=4.6.0->sentence-transformers) (0.13.2)\n",
            "Requirement already satisfied: regex!=2019.12.17 in /usr/local/lib/python3.8/dist-packages (from transformers<5.0.0,>=4.6.0->sentence-transformers) (2022.6.2)\n",
            "Requirement already satisfied: click in /usr/local/lib/python3.8/dist-packages (from nltk->sentence-transformers) (7.1.2)\n",
            "Requirement already satisfied: joblib in /usr/local/lib/python3.8/dist-packages (from nltk->sentence-transformers) (1.2.0)\n",
            "Requirement already satisfied: idna<3,>=2.5 in /usr/local/lib/python3.8/dist-packages (from requests->huggingface-hub>=0.4.0->sentence-transformers) (2.10)\n",
            "Requirement already satisfied: urllib3!=1.25.0,!=1.25.1,<1.26,>=1.21.1 in /usr/local/lib/python3.8/dist-packages (from requests->huggingface-hub>=0.4.0->sentence-transformers) (1.24.3)\n",
            "Requirement already satisfied: chardet<4,>=3.0.2 in /usr/local/lib/python3.8/dist-packages (from requests->huggingface-hub>=0.4.0->sentence-transformers) (3.0.4)\n",
            "Requirement already satisfied: certifi>=2017.4.17 in /usr/local/lib/python3.8/dist-packages (from requests->huggingface-hub>=0.4.0->sentence-transformers) (2022.9.24)\n",
            "Requirement already satisfied: threadpoolctl>=2.0.0 in /usr/local/lib/python3.8/dist-packages (from scikit-learn->sentence-transformers) (3.1.0)\n",
            "Requirement already satisfied: pillow!=8.3.*,>=5.3.0 in /usr/local/lib/python3.8/dist-packages (from torchvision->sentence-transformers) (7.1.2)\n",
            "Building wheels for collected packages: sentence-transformers\n",
            "  Building wheel for sentence-transformers (setup.py) ... \u001b[?25l\u001b[?25hdone\n",
            "  Created wheel for sentence-transformers: filename=sentence_transformers-2.2.2-py3-none-any.whl size=125938 sha256=bc28ac698605fa2ed25f39eaa33b84dc794a03b59bf0bb8f554845fb4cacda85\n",
            "  Stored in directory: /root/.cache/pip/wheels/5e/6f/8c/d88aec621f3f542d26fac0342bef5e693335d125f4e54aeffe\n",
            "Successfully built sentence-transformers\n",
            "Installing collected packages: sentence-transformers\n",
            "Successfully installed sentence-transformers-2.2.2\n"
          ]
        }
      ],
      "source": [
        "!pip install textblob\n",
        "!pip install sentencepiece  \n",
        "!pip install transformers\n",
        "!pip install textstat\n",
        "!pip install language-tool-python\n",
        "!pip install sentence-transformers"
      ]
    },
    {
      "cell_type": "markdown",
      "metadata": {
        "id": "oFW9msHtUg-E"
      },
      "source": [
        "Restart Runtime after installing "
      ]
    },
    {
      "cell_type": "markdown",
      "metadata": {
        "id": "-CLigcFJ0ABg"
      },
      "source": [
        "## **Importing Packages**"
      ]
    },
    {
      "cell_type": "code",
      "execution_count": 1,
      "metadata": {
        "colab": {
          "base_uri": "https://localhost:8080/"
        },
        "id": "uzNPxq8X8bYG",
        "outputId": "6c3ed3d3-6dd5-4114-b38c-9ded95971f52"
      },
      "outputs": [
        {
          "output_type": "stream",
          "name": "stderr",
          "text": [
            "/usr/local/lib/python3.8/dist-packages/torch/cuda/__init__.py:497: UserWarning: Can't initialize NVML\n",
            "  warnings.warn(\"Can't initialize NVML\")\n",
            "[nltk_data] Downloading package averaged_perceptron_tagger to\n",
            "[nltk_data]     /root/nltk_data...\n",
            "[nltk_data]   Unzipping taggers/averaged_perceptron_tagger.zip.\n",
            "[nltk_data] Downloading package punkt to /root/nltk_data...\n",
            "[nltk_data]   Unzipping tokenizers/punkt.zip.\n",
            "[nltk_data] Downloading package wordnet to /root/nltk_data...\n",
            "[nltk_data] Downloading package omw-1.4 to /root/nltk_data...\n",
            "[nltk_data] Downloading package stopwords to /root/nltk_data...\n",
            "[nltk_data]   Unzipping corpora/stopwords.zip.\n",
            "Downloading LanguageTool 5.7: 100%|██████████| 225M/225M [00:03<00:00, 63.8MB/s]\n",
            "INFO:language_tool_python.download_lt:Unzipping /tmp/tmp6mlq5y_l.zip to /root/.cache/language_tool_python.\n",
            "INFO:language_tool_python.download_lt:Downloaded https://www.languagetool.org/download/LanguageTool-5.7.zip to /root/.cache/language_tool_python.\n"
          ]
        }
      ],
      "source": [
        "import re\n",
        "import nltk \n",
        "import spacy\n",
        "import textstat\n",
        "import numpy as np\n",
        "import pandas as pd\n",
        "import seaborn as sn \n",
        "from textblob import Word\n",
        "import matplotlib.pyplot as plt\n",
        "import language_tool_python\n",
        "\n",
        "from google.colab import files\n",
        "from nltk.tag import pos_tag\n",
        "from nltk.corpus import wordnet\n",
        "from nltk.corpus import stopwords\n",
        "from nltk.stem import WordNetLemmatizer\n",
        "from nltk.tokenize import word_tokenize, sent_tokenize\n",
        "from sentence_transformers import SentenceTransformer, util\n",
        "\n",
        "nltk.download('averaged_perceptron_tagger')\n",
        "nltk.download('punkt')\n",
        "nltk.download('wordnet')\n",
        "nltk.download('omw-1.4')\n",
        "nltk.download('stopwords')\n",
        "nlp = spacy.load(\"en_core_web_sm\")\n",
        "tool = language_tool_python.LanguageTool('en-US')"
      ]
    },
    {
      "cell_type": "markdown",
      "metadata": {
        "id": "B9QmvZ2KGsPO"
      },
      "source": [
        "# **Reading Data From Google Drive**"
      ]
    },
    {
      "cell_type": "code",
      "execution_count": null,
      "metadata": {
        "colab": {
          "base_uri": "https://localhost:8080/",
          "height": 244
        },
        "id": "I7JhmdSg8swA",
        "outputId": "92de3d0a-90bd-4448-fa53-025010505d06"
      },
      "outputs": [
        {
          "output_type": "stream",
          "name": "stdout",
          "text": [
            "Drive already mounted at /content/drive; to attempt to forcibly remount, call drive.mount(\"/content/drive\", force_remount=True).\n"
          ]
        },
        {
          "output_type": "execute_result",
          "data": {
            "text/plain": [
              "      ID                                              Essay  Rater_1 Score  \\\n",
              "0  14834  There were many obstacles that the builders fa...            2.0   \n",
              "1  14835  Him from the start, there would have been many...            3.0   \n",
              "2  14836  The builders of the Empire State Building face...            3.0   \n",
              "3  14837  In the passage The Mooring Mast by Marcia Amid...            1.0   \n",
              "4  14838  The builders of the Empire State Building face...            3.0   \n",
              "\n",
              "   Rater_2 Score  Total Score  \n",
              "0            2.0          2.0  \n",
              "1            3.0          3.0  \n",
              "2            4.0          4.0  \n",
              "3            1.0          1.0  \n",
              "4            3.0          3.0  "
            ],
            "text/html": [
              "\n",
              "  <div id=\"df-54193b49-c3e2-4753-9abe-2030510c56a3\">\n",
              "    <div class=\"colab-df-container\">\n",
              "      <div>\n",
              "<style scoped>\n",
              "    .dataframe tbody tr th:only-of-type {\n",
              "        vertical-align: middle;\n",
              "    }\n",
              "\n",
              "    .dataframe tbody tr th {\n",
              "        vertical-align: top;\n",
              "    }\n",
              "\n",
              "    .dataframe thead th {\n",
              "        text-align: right;\n",
              "    }\n",
              "</style>\n",
              "<table border=\"1\" class=\"dataframe\">\n",
              "  <thead>\n",
              "    <tr style=\"text-align: right;\">\n",
              "      <th></th>\n",
              "      <th>ID</th>\n",
              "      <th>Essay</th>\n",
              "      <th>Rater_1 Score</th>\n",
              "      <th>Rater_2 Score</th>\n",
              "      <th>Total Score</th>\n",
              "    </tr>\n",
              "  </thead>\n",
              "  <tbody>\n",
              "    <tr>\n",
              "      <th>0</th>\n",
              "      <td>14834</td>\n",
              "      <td>There were many obstacles that the builders fa...</td>\n",
              "      <td>2.0</td>\n",
              "      <td>2.0</td>\n",
              "      <td>2.0</td>\n",
              "    </tr>\n",
              "    <tr>\n",
              "      <th>1</th>\n",
              "      <td>14835</td>\n",
              "      <td>Him from the start, there would have been many...</td>\n",
              "      <td>3.0</td>\n",
              "      <td>3.0</td>\n",
              "      <td>3.0</td>\n",
              "    </tr>\n",
              "    <tr>\n",
              "      <th>2</th>\n",
              "      <td>14836</td>\n",
              "      <td>The builders of the Empire State Building face...</td>\n",
              "      <td>3.0</td>\n",
              "      <td>4.0</td>\n",
              "      <td>4.0</td>\n",
              "    </tr>\n",
              "    <tr>\n",
              "      <th>3</th>\n",
              "      <td>14837</td>\n",
              "      <td>In the passage The Mooring Mast by Marcia Amid...</td>\n",
              "      <td>1.0</td>\n",
              "      <td>1.0</td>\n",
              "      <td>1.0</td>\n",
              "    </tr>\n",
              "    <tr>\n",
              "      <th>4</th>\n",
              "      <td>14838</td>\n",
              "      <td>The builders of the Empire State Building face...</td>\n",
              "      <td>3.0</td>\n",
              "      <td>3.0</td>\n",
              "      <td>3.0</td>\n",
              "    </tr>\n",
              "  </tbody>\n",
              "</table>\n",
              "</div>\n",
              "      <button class=\"colab-df-convert\" onclick=\"convertToInteractive('df-54193b49-c3e2-4753-9abe-2030510c56a3')\"\n",
              "              title=\"Convert this dataframe to an interactive table.\"\n",
              "              style=\"display:none;\">\n",
              "        \n",
              "  <svg xmlns=\"http://www.w3.org/2000/svg\" height=\"24px\"viewBox=\"0 0 24 24\"\n",
              "       width=\"24px\">\n",
              "    <path d=\"M0 0h24v24H0V0z\" fill=\"none\"/>\n",
              "    <path d=\"M18.56 5.44l.94 2.06.94-2.06 2.06-.94-2.06-.94-.94-2.06-.94 2.06-2.06.94zm-11 1L8.5 8.5l.94-2.06 2.06-.94-2.06-.94L8.5 2.5l-.94 2.06-2.06.94zm10 10l.94 2.06.94-2.06 2.06-.94-2.06-.94-.94-2.06-.94 2.06-2.06.94z\"/><path d=\"M17.41 7.96l-1.37-1.37c-.4-.4-.92-.59-1.43-.59-.52 0-1.04.2-1.43.59L10.3 9.45l-7.72 7.72c-.78.78-.78 2.05 0 2.83L4 21.41c.39.39.9.59 1.41.59.51 0 1.02-.2 1.41-.59l7.78-7.78 2.81-2.81c.8-.78.8-2.07 0-2.86zM5.41 20L4 18.59l7.72-7.72 1.47 1.35L5.41 20z\"/>\n",
              "  </svg>\n",
              "      </button>\n",
              "      \n",
              "  <style>\n",
              "    .colab-df-container {\n",
              "      display:flex;\n",
              "      flex-wrap:wrap;\n",
              "      gap: 12px;\n",
              "    }\n",
              "\n",
              "    .colab-df-convert {\n",
              "      background-color: #E8F0FE;\n",
              "      border: none;\n",
              "      border-radius: 50%;\n",
              "      cursor: pointer;\n",
              "      display: none;\n",
              "      fill: #1967D2;\n",
              "      height: 32px;\n",
              "      padding: 0 0 0 0;\n",
              "      width: 32px;\n",
              "    }\n",
              "\n",
              "    .colab-df-convert:hover {\n",
              "      background-color: #E2EBFA;\n",
              "      box-shadow: 0px 1px 2px rgba(60, 64, 67, 0.3), 0px 1px 3px 1px rgba(60, 64, 67, 0.15);\n",
              "      fill: #174EA6;\n",
              "    }\n",
              "\n",
              "    [theme=dark] .colab-df-convert {\n",
              "      background-color: #3B4455;\n",
              "      fill: #D2E3FC;\n",
              "    }\n",
              "\n",
              "    [theme=dark] .colab-df-convert:hover {\n",
              "      background-color: #434B5C;\n",
              "      box-shadow: 0px 1px 3px 1px rgba(0, 0, 0, 0.15);\n",
              "      filter: drop-shadow(0px 1px 2px rgba(0, 0, 0, 0.3));\n",
              "      fill: #FFFFFF;\n",
              "    }\n",
              "  </style>\n",
              "\n",
              "      <script>\n",
              "        const buttonEl =\n",
              "          document.querySelector('#df-54193b49-c3e2-4753-9abe-2030510c56a3 button.colab-df-convert');\n",
              "        buttonEl.style.display =\n",
              "          google.colab.kernel.accessAllowed ? 'block' : 'none';\n",
              "\n",
              "        async function convertToInteractive(key) {\n",
              "          const element = document.querySelector('#df-54193b49-c3e2-4753-9abe-2030510c56a3');\n",
              "          const dataTable =\n",
              "            await google.colab.kernel.invokeFunction('convertToInteractive',\n",
              "                                                     [key], {});\n",
              "          if (!dataTable) return;\n",
              "\n",
              "          const docLinkHtml = 'Like what you see? Visit the ' +\n",
              "            '<a target=\"_blank\" href=https://colab.research.google.com/notebooks/data_table.ipynb>data table notebook</a>'\n",
              "            + ' to learn more about interactive tables.';\n",
              "          element.innerHTML = '';\n",
              "          dataTable['output_type'] = 'display_data';\n",
              "          await google.colab.output.renderOutput(dataTable, element);\n",
              "          const docLink = document.createElement('div');\n",
              "          docLink.innerHTML = docLinkHtml;\n",
              "          element.appendChild(docLink);\n",
              "        }\n",
              "      </script>\n",
              "    </div>\n",
              "  </div>\n",
              "  "
            ]
          },
          "metadata": {},
          "execution_count": 76
        }
      ],
      "source": [
        "from google.colab import drive\n",
        "drive.mount('/content/drive')\n",
        "Data_Essay_01 = pd.read_csv(\"/content/drive/MyDrive/IntelliTech-DataSet/EssaySet06.csv\")\n",
        "Data_Essay_01.head()"
      ]
    },
    {
      "cell_type": "markdown",
      "metadata": {
        "id": "X4CyChIa3hm3"
      },
      "source": [
        "# **Feature Extraction**"
      ]
    },
    {
      "cell_type": "markdown",
      "metadata": {
        "id": "0d9vjiulC7aL"
      },
      "source": [
        "## **Essay Pre Processing**"
      ]
    },
    {
      "cell_type": "code",
      "execution_count": null,
      "metadata": {
        "id": "6qLIKn4LC7-_"
      },
      "outputs": [],
      "source": [
        "def Remove_NER(Essay):\n",
        "  \"\"\"\n",
        "    Removes Named Entity Recognition (NER) from each essay\n",
        "\n",
        "    Args:\n",
        "      Sentence: Essay of each student \n",
        "    \n",
        "    Returns: \n",
        "      String\n",
        "\n",
        "  \"\"\"\n",
        "  token = Essay.split()\n",
        "  newTokens = []\n",
        "  # print(token)\n",
        "  for i in range(len(token)):\n",
        "    if \"@\" in token[i]:\n",
        "      if \",\" in token[i]:\n",
        "        newTokens.append(\",\")\n",
        "      elif \".\" in token[i]:\n",
        "        newTokens.append(\".\")\n",
        "      elif \"!\" in token[i]:\n",
        "        newTokens.append(\"!\")\n",
        "    else:\n",
        "      newTokens.append(token[i])\n",
        "\n",
        "  return \" \".join(newTokens)\n",
        "  # return ' '.join (word for word in Essay.split(' ') if not word.startswith('@'))\n",
        "def Remove_NER2(Essay):\n",
        "    return ' '.join (word for word in Essay.split(' ') if not word.startswith('@'))\n",
        "def Remove_Punctuations(sentence):\n",
        "  \"\"\"\n",
        "    Removes punctuations from text\n",
        "    Args:\n",
        "      sentence: Essay of each student\n",
        "    \n",
        "    Returns: \n",
        "      String\n",
        "  \"\"\"\n",
        "  punctuations = '''!()-[]{};:\"\\,/'<>.?@#$%^&*_~'''\n",
        "  newSentence = \"\"\n",
        "  for word in sentence:\n",
        "      if (word in punctuations):\n",
        "          newSentence = newSentence + \" \"\n",
        "      else: \n",
        "          newSentence = newSentence + word\n",
        "  return newSentence\n",
        "\n",
        "def LowerCase_Words(Essay):\n",
        "  \"\"\"\n",
        "    Lower case all the words in an essay\n",
        "\n",
        "    Args:\n",
        "      Sentence: Essay of each student\n",
        "    \n",
        "    Returns: \n",
        "      String\n",
        "  \"\"\"\n",
        "  return re.sub('[0-9]+','', Essay).lower() \n",
        "\n",
        "def Tokenize_Essay(Essay):\n",
        "    \"\"\"\n",
        "      Create Tokens of each Essay\n",
        "\n",
        "      Args:\n",
        "        Essay: Essay of each student\n",
        "      \n",
        "      Returns: \n",
        "        String\n",
        "    \"\"\"\n",
        "    Preprocessed = Remove_Punctuations(Essay)\n",
        "    return \" \".join(word_tokenize(Preprocessed))\n",
        "\n",
        "def Remove_White_Spaces(Essay):\n",
        "  \"\"\"\n",
        "    Removes Extra White Spaces\n",
        "\n",
        "    Args:\n",
        "      Essay: Essay of each student\n",
        "    \n",
        "    Returns: \n",
        "      String\n",
        "  \"\"\"\n",
        "  return \" \".join(Essay.split())\n",
        "\n",
        "def Remove_Special_Characters(Essay):\n",
        "  \"\"\"\n",
        "    Removes Special Characters from Essay\n",
        "\n",
        "    Args:\n",
        "      Essay: Essay of each student\n",
        "    \n",
        "    Returns: \n",
        "      String\n",
        "  \"\"\"\n",
        "  new_text = re.sub(r\"[^a-zA-Z0-9 ]\", \"\", Essay)\n",
        "  return new_text"
      ]
    },
    {
      "cell_type": "markdown",
      "metadata": {
        "id": "pmuQWvabiYC-"
      },
      "source": [
        "## **Basic Count Features**\n",
        "\n",
        "This section will cover:\n",
        "\n",
        "\n",
        "*   Counting Sentences per Essay\n",
        "*   Counting Words per Essay\n",
        "*   Counting Characters per Essay\n",
        "*   Average Words per Essay\n",
        "*   Counting Syllables\n",
        "*   Percentage Of Hard Words\n",
        "\n",
        "\n"
      ]
    },
    {
      "cell_type": "markdown",
      "metadata": {
        "id": "9jYVbje0Ex_m"
      },
      "source": [
        "#### Counting Sentences per Essay"
      ]
    },
    {
      "cell_type": "code",
      "execution_count": null,
      "metadata": {
        "id": "nV3ttAkblI57"
      },
      "outputs": [],
      "source": [
        "def Sentence_Count(Essay):\n",
        "    \"\"\"\n",
        "    Counts sentences in an essay\n",
        "\n",
        "    Args:\n",
        "      Essay: Essay of each student \n",
        "    \n",
        "    Returns: \n",
        "      int\n",
        "  \"\"\"\n",
        "    sentence_no = nltk.sent_tokenize(Essay)\n",
        "    return len(sentence_no)"
      ]
    },
    {
      "cell_type": "code",
      "execution_count": null,
      "metadata": {
        "colab": {
          "base_uri": "https://localhost:8080/",
          "height": 81
        },
        "id": "hQzk8MtddUbZ",
        "outputId": "40bb5ed1-ce2e-40fe-ce6e-2569348698b4"
      },
      "outputs": [
        {
          "output_type": "execute_result",
          "data": {
            "text/plain": [
              "         ID                                              Essay  Rater_1 Score  \\\n",
              "1056  15890  When the builders of the Empire state Building...            3.0   \n",
              "\n",
              "      Rater_2 Score  Total Score  Sent_Count  \n",
              "1056            1.0          2.0           9  "
            ],
            "text/html": [
              "\n",
              "  <div id=\"df-9b89bd31-c5a4-4762-afac-f5771545a6ce\">\n",
              "    <div class=\"colab-df-container\">\n",
              "      <div>\n",
              "<style scoped>\n",
              "    .dataframe tbody tr th:only-of-type {\n",
              "        vertical-align: middle;\n",
              "    }\n",
              "\n",
              "    .dataframe tbody tr th {\n",
              "        vertical-align: top;\n",
              "    }\n",
              "\n",
              "    .dataframe thead th {\n",
              "        text-align: right;\n",
              "    }\n",
              "</style>\n",
              "<table border=\"1\" class=\"dataframe\">\n",
              "  <thead>\n",
              "    <tr style=\"text-align: right;\">\n",
              "      <th></th>\n",
              "      <th>ID</th>\n",
              "      <th>Essay</th>\n",
              "      <th>Rater_1 Score</th>\n",
              "      <th>Rater_2 Score</th>\n",
              "      <th>Total Score</th>\n",
              "      <th>Sent_Count</th>\n",
              "    </tr>\n",
              "  </thead>\n",
              "  <tbody>\n",
              "    <tr>\n",
              "      <th>1056</th>\n",
              "      <td>15890</td>\n",
              "      <td>When the builders of the Empire state Building...</td>\n",
              "      <td>3.0</td>\n",
              "      <td>1.0</td>\n",
              "      <td>2.0</td>\n",
              "      <td>9</td>\n",
              "    </tr>\n",
              "  </tbody>\n",
              "</table>\n",
              "</div>\n",
              "      <button class=\"colab-df-convert\" onclick=\"convertToInteractive('df-9b89bd31-c5a4-4762-afac-f5771545a6ce')\"\n",
              "              title=\"Convert this dataframe to an interactive table.\"\n",
              "              style=\"display:none;\">\n",
              "        \n",
              "  <svg xmlns=\"http://www.w3.org/2000/svg\" height=\"24px\"viewBox=\"0 0 24 24\"\n",
              "       width=\"24px\">\n",
              "    <path d=\"M0 0h24v24H0V0z\" fill=\"none\"/>\n",
              "    <path d=\"M18.56 5.44l.94 2.06.94-2.06 2.06-.94-2.06-.94-.94-2.06-.94 2.06-2.06.94zm-11 1L8.5 8.5l.94-2.06 2.06-.94-2.06-.94L8.5 2.5l-.94 2.06-2.06.94zm10 10l.94 2.06.94-2.06 2.06-.94-2.06-.94-.94-2.06-.94 2.06-2.06.94z\"/><path d=\"M17.41 7.96l-1.37-1.37c-.4-.4-.92-.59-1.43-.59-.52 0-1.04.2-1.43.59L10.3 9.45l-7.72 7.72c-.78.78-.78 2.05 0 2.83L4 21.41c.39.39.9.59 1.41.59.51 0 1.02-.2 1.41-.59l7.78-7.78 2.81-2.81c.8-.78.8-2.07 0-2.86zM5.41 20L4 18.59l7.72-7.72 1.47 1.35L5.41 20z\"/>\n",
              "  </svg>\n",
              "      </button>\n",
              "      \n",
              "  <style>\n",
              "    .colab-df-container {\n",
              "      display:flex;\n",
              "      flex-wrap:wrap;\n",
              "      gap: 12px;\n",
              "    }\n",
              "\n",
              "    .colab-df-convert {\n",
              "      background-color: #E8F0FE;\n",
              "      border: none;\n",
              "      border-radius: 50%;\n",
              "      cursor: pointer;\n",
              "      display: none;\n",
              "      fill: #1967D2;\n",
              "      height: 32px;\n",
              "      padding: 0 0 0 0;\n",
              "      width: 32px;\n",
              "    }\n",
              "\n",
              "    .colab-df-convert:hover {\n",
              "      background-color: #E2EBFA;\n",
              "      box-shadow: 0px 1px 2px rgba(60, 64, 67, 0.3), 0px 1px 3px 1px rgba(60, 64, 67, 0.15);\n",
              "      fill: #174EA6;\n",
              "    }\n",
              "\n",
              "    [theme=dark] .colab-df-convert {\n",
              "      background-color: #3B4455;\n",
              "      fill: #D2E3FC;\n",
              "    }\n",
              "\n",
              "    [theme=dark] .colab-df-convert:hover {\n",
              "      background-color: #434B5C;\n",
              "      box-shadow: 0px 1px 3px 1px rgba(0, 0, 0, 0.15);\n",
              "      filter: drop-shadow(0px 1px 2px rgba(0, 0, 0, 0.3));\n",
              "      fill: #FFFFFF;\n",
              "    }\n",
              "  </style>\n",
              "\n",
              "      <script>\n",
              "        const buttonEl =\n",
              "          document.querySelector('#df-9b89bd31-c5a4-4762-afac-f5771545a6ce button.colab-df-convert');\n",
              "        buttonEl.style.display =\n",
              "          google.colab.kernel.accessAllowed ? 'block' : 'none';\n",
              "\n",
              "        async function convertToInteractive(key) {\n",
              "          const element = document.querySelector('#df-9b89bd31-c5a4-4762-afac-f5771545a6ce');\n",
              "          const dataTable =\n",
              "            await google.colab.kernel.invokeFunction('convertToInteractive',\n",
              "                                                     [key], {});\n",
              "          if (!dataTable) return;\n",
              "\n",
              "          const docLinkHtml = 'Like what you see? Visit the ' +\n",
              "            '<a target=\"_blank\" href=https://colab.research.google.com/notebooks/data_table.ipynb>data table notebook</a>'\n",
              "            + ' to learn more about interactive tables.';\n",
              "          element.innerHTML = '';\n",
              "          dataTable['output_type'] = 'display_data';\n",
              "          await google.colab.output.renderOutput(dataTable, element);\n",
              "          const docLink = document.createElement('div');\n",
              "          docLink.innerHTML = docLinkHtml;\n",
              "          element.appendChild(docLink);\n",
              "        }\n",
              "      </script>\n",
              "    </div>\n",
              "  </div>\n",
              "  "
            ]
          },
          "metadata": {},
          "execution_count": 79
        }
      ],
      "source": [
        "Data_Essay_01['Sent_Count'] = Data_Essay_01['Essay'].apply(Sentence_Count)\n",
        "Data_Essay_01.sample()"
      ]
    },
    {
      "cell_type": "markdown",
      "metadata": {
        "id": "6VY92aM5E00E"
      },
      "source": [
        "#### Counting Words per Essay"
      ]
    },
    {
      "cell_type": "markdown",
      "metadata": {
        "id": "YxGrgzWIFzPU"
      },
      "source": [
        "**Observation:** These word count are more than the original count coz of nltk tokenization. Punctations are treated as seperate words.\n"
      ]
    },
    {
      "cell_type": "code",
      "execution_count": null,
      "metadata": {
        "id": "7OPVrqpAdLec"
      },
      "outputs": [],
      "source": [
        "def Word_Count(Essay):\n",
        "  \"\"\"\n",
        "    Counts words in an essay\n",
        "\n",
        "    Args:\n",
        "      Essay: Essay of each student \n",
        "    \n",
        "    Returns: \n",
        "      int  \n",
        "  \"\"\" \n",
        "  word_no = nltk.word_tokenize(Essay)\n",
        "  return len(word_no)"
      ]
    },
    {
      "cell_type": "code",
      "execution_count": null,
      "metadata": {
        "colab": {
          "base_uri": "https://localhost:8080/",
          "height": 125
        },
        "id": "8kb3-p5edQzI",
        "outputId": "810a1179-ca24-44e6-fc0f-baf35201bcc4"
      },
      "outputs": [
        {
          "output_type": "execute_result",
          "data": {
            "text/plain": [
              "        ID                                              Essay  Rater_1 Score  \\\n",
              "464  15298  When the architects and builders were planning...            1.0   \n",
              "\n",
              "     Rater_2 Score  Total Score  Sent_Count  Word_Count  \n",
              "464            2.0          2.0           7         127  "
            ],
            "text/html": [
              "\n",
              "  <div id=\"df-a7ab2d31-dd1c-4a56-a551-79db77b40283\">\n",
              "    <div class=\"colab-df-container\">\n",
              "      <div>\n",
              "<style scoped>\n",
              "    .dataframe tbody tr th:only-of-type {\n",
              "        vertical-align: middle;\n",
              "    }\n",
              "\n",
              "    .dataframe tbody tr th {\n",
              "        vertical-align: top;\n",
              "    }\n",
              "\n",
              "    .dataframe thead th {\n",
              "        text-align: right;\n",
              "    }\n",
              "</style>\n",
              "<table border=\"1\" class=\"dataframe\">\n",
              "  <thead>\n",
              "    <tr style=\"text-align: right;\">\n",
              "      <th></th>\n",
              "      <th>ID</th>\n",
              "      <th>Essay</th>\n",
              "      <th>Rater_1 Score</th>\n",
              "      <th>Rater_2 Score</th>\n",
              "      <th>Total Score</th>\n",
              "      <th>Sent_Count</th>\n",
              "      <th>Word_Count</th>\n",
              "    </tr>\n",
              "  </thead>\n",
              "  <tbody>\n",
              "    <tr>\n",
              "      <th>464</th>\n",
              "      <td>15298</td>\n",
              "      <td>When the architects and builders were planning...</td>\n",
              "      <td>1.0</td>\n",
              "      <td>2.0</td>\n",
              "      <td>2.0</td>\n",
              "      <td>7</td>\n",
              "      <td>127</td>\n",
              "    </tr>\n",
              "  </tbody>\n",
              "</table>\n",
              "</div>\n",
              "      <button class=\"colab-df-convert\" onclick=\"convertToInteractive('df-a7ab2d31-dd1c-4a56-a551-79db77b40283')\"\n",
              "              title=\"Convert this dataframe to an interactive table.\"\n",
              "              style=\"display:none;\">\n",
              "        \n",
              "  <svg xmlns=\"http://www.w3.org/2000/svg\" height=\"24px\"viewBox=\"0 0 24 24\"\n",
              "       width=\"24px\">\n",
              "    <path d=\"M0 0h24v24H0V0z\" fill=\"none\"/>\n",
              "    <path d=\"M18.56 5.44l.94 2.06.94-2.06 2.06-.94-2.06-.94-.94-2.06-.94 2.06-2.06.94zm-11 1L8.5 8.5l.94-2.06 2.06-.94-2.06-.94L8.5 2.5l-.94 2.06-2.06.94zm10 10l.94 2.06.94-2.06 2.06-.94-2.06-.94-.94-2.06-.94 2.06-2.06.94z\"/><path d=\"M17.41 7.96l-1.37-1.37c-.4-.4-.92-.59-1.43-.59-.52 0-1.04.2-1.43.59L10.3 9.45l-7.72 7.72c-.78.78-.78 2.05 0 2.83L4 21.41c.39.39.9.59 1.41.59.51 0 1.02-.2 1.41-.59l7.78-7.78 2.81-2.81c.8-.78.8-2.07 0-2.86zM5.41 20L4 18.59l7.72-7.72 1.47 1.35L5.41 20z\"/>\n",
              "  </svg>\n",
              "      </button>\n",
              "      \n",
              "  <style>\n",
              "    .colab-df-container {\n",
              "      display:flex;\n",
              "      flex-wrap:wrap;\n",
              "      gap: 12px;\n",
              "    }\n",
              "\n",
              "    .colab-df-convert {\n",
              "      background-color: #E8F0FE;\n",
              "      border: none;\n",
              "      border-radius: 50%;\n",
              "      cursor: pointer;\n",
              "      display: none;\n",
              "      fill: #1967D2;\n",
              "      height: 32px;\n",
              "      padding: 0 0 0 0;\n",
              "      width: 32px;\n",
              "    }\n",
              "\n",
              "    .colab-df-convert:hover {\n",
              "      background-color: #E2EBFA;\n",
              "      box-shadow: 0px 1px 2px rgba(60, 64, 67, 0.3), 0px 1px 3px 1px rgba(60, 64, 67, 0.15);\n",
              "      fill: #174EA6;\n",
              "    }\n",
              "\n",
              "    [theme=dark] .colab-df-convert {\n",
              "      background-color: #3B4455;\n",
              "      fill: #D2E3FC;\n",
              "    }\n",
              "\n",
              "    [theme=dark] .colab-df-convert:hover {\n",
              "      background-color: #434B5C;\n",
              "      box-shadow: 0px 1px 3px 1px rgba(0, 0, 0, 0.15);\n",
              "      filter: drop-shadow(0px 1px 2px rgba(0, 0, 0, 0.3));\n",
              "      fill: #FFFFFF;\n",
              "    }\n",
              "  </style>\n",
              "\n",
              "      <script>\n",
              "        const buttonEl =\n",
              "          document.querySelector('#df-a7ab2d31-dd1c-4a56-a551-79db77b40283 button.colab-df-convert');\n",
              "        buttonEl.style.display =\n",
              "          google.colab.kernel.accessAllowed ? 'block' : 'none';\n",
              "\n",
              "        async function convertToInteractive(key) {\n",
              "          const element = document.querySelector('#df-a7ab2d31-dd1c-4a56-a551-79db77b40283');\n",
              "          const dataTable =\n",
              "            await google.colab.kernel.invokeFunction('convertToInteractive',\n",
              "                                                     [key], {});\n",
              "          if (!dataTable) return;\n",
              "\n",
              "          const docLinkHtml = 'Like what you see? Visit the ' +\n",
              "            '<a target=\"_blank\" href=https://colab.research.google.com/notebooks/data_table.ipynb>data table notebook</a>'\n",
              "            + ' to learn more about interactive tables.';\n",
              "          element.innerHTML = '';\n",
              "          dataTable['output_type'] = 'display_data';\n",
              "          await google.colab.output.renderOutput(dataTable, element);\n",
              "          const docLink = document.createElement('div');\n",
              "          docLink.innerHTML = docLinkHtml;\n",
              "          element.appendChild(docLink);\n",
              "        }\n",
              "      </script>\n",
              "    </div>\n",
              "  </div>\n",
              "  "
            ]
          },
          "metadata": {},
          "execution_count": 81
        }
      ],
      "source": [
        "Data_Essay_01['Word_Count'] = Data_Essay_01['Essay'].apply(Word_Count)\n",
        "Data_Essay_01.sample()"
      ]
    },
    {
      "cell_type": "markdown",
      "metadata": {
        "id": "LCGMHv_yE29j"
      },
      "source": [
        "#### Counting Characters per Essay"
      ]
    },
    {
      "cell_type": "code",
      "execution_count": null,
      "metadata": {
        "id": "ELmS3Tt-f-nv"
      },
      "outputs": [],
      "source": [
        "def Char_Count(Essay):\n",
        "  \"\"\"\n",
        "    Counts characters in an essay\n",
        "\n",
        "    Args:\n",
        "      Essay: Essay of each student \n",
        "    \n",
        "    Returns: \n",
        "      int\n",
        "  \"\"\"\n",
        "  return len([character for character in Essay])"
      ]
    },
    {
      "cell_type": "code",
      "execution_count": null,
      "metadata": {
        "colab": {
          "base_uri": "https://localhost:8080/",
          "height": 159
        },
        "id": "AchO9qj9dMzh",
        "outputId": "3a4c151e-1267-4b29-a0fc-8b4c2c714c90"
      },
      "outputs": [
        {
          "output_type": "execute_result",
          "data": {
            "text/plain": [
              "        ID                                              Essay  Rater_1 Score  \\\n",
              "568  15402  The obstacles the builders of the Empire State...            0.0   \n",
              "\n",
              "     Rater_2 Score  Total Score  Sent_Count  Word_Count  Char_Count  \n",
              "568            1.0          1.0           5         126         633  "
            ],
            "text/html": [
              "\n",
              "  <div id=\"df-22e1ab26-72c7-4224-b731-4470233881d1\">\n",
              "    <div class=\"colab-df-container\">\n",
              "      <div>\n",
              "<style scoped>\n",
              "    .dataframe tbody tr th:only-of-type {\n",
              "        vertical-align: middle;\n",
              "    }\n",
              "\n",
              "    .dataframe tbody tr th {\n",
              "        vertical-align: top;\n",
              "    }\n",
              "\n",
              "    .dataframe thead th {\n",
              "        text-align: right;\n",
              "    }\n",
              "</style>\n",
              "<table border=\"1\" class=\"dataframe\">\n",
              "  <thead>\n",
              "    <tr style=\"text-align: right;\">\n",
              "      <th></th>\n",
              "      <th>ID</th>\n",
              "      <th>Essay</th>\n",
              "      <th>Rater_1 Score</th>\n",
              "      <th>Rater_2 Score</th>\n",
              "      <th>Total Score</th>\n",
              "      <th>Sent_Count</th>\n",
              "      <th>Word_Count</th>\n",
              "      <th>Char_Count</th>\n",
              "    </tr>\n",
              "  </thead>\n",
              "  <tbody>\n",
              "    <tr>\n",
              "      <th>568</th>\n",
              "      <td>15402</td>\n",
              "      <td>The obstacles the builders of the Empire State...</td>\n",
              "      <td>0.0</td>\n",
              "      <td>1.0</td>\n",
              "      <td>1.0</td>\n",
              "      <td>5</td>\n",
              "      <td>126</td>\n",
              "      <td>633</td>\n",
              "    </tr>\n",
              "  </tbody>\n",
              "</table>\n",
              "</div>\n",
              "      <button class=\"colab-df-convert\" onclick=\"convertToInteractive('df-22e1ab26-72c7-4224-b731-4470233881d1')\"\n",
              "              title=\"Convert this dataframe to an interactive table.\"\n",
              "              style=\"display:none;\">\n",
              "        \n",
              "  <svg xmlns=\"http://www.w3.org/2000/svg\" height=\"24px\"viewBox=\"0 0 24 24\"\n",
              "       width=\"24px\">\n",
              "    <path d=\"M0 0h24v24H0V0z\" fill=\"none\"/>\n",
              "    <path d=\"M18.56 5.44l.94 2.06.94-2.06 2.06-.94-2.06-.94-.94-2.06-.94 2.06-2.06.94zm-11 1L8.5 8.5l.94-2.06 2.06-.94-2.06-.94L8.5 2.5l-.94 2.06-2.06.94zm10 10l.94 2.06.94-2.06 2.06-.94-2.06-.94-.94-2.06-.94 2.06-2.06.94z\"/><path d=\"M17.41 7.96l-1.37-1.37c-.4-.4-.92-.59-1.43-.59-.52 0-1.04.2-1.43.59L10.3 9.45l-7.72 7.72c-.78.78-.78 2.05 0 2.83L4 21.41c.39.39.9.59 1.41.59.51 0 1.02-.2 1.41-.59l7.78-7.78 2.81-2.81c.8-.78.8-2.07 0-2.86zM5.41 20L4 18.59l7.72-7.72 1.47 1.35L5.41 20z\"/>\n",
              "  </svg>\n",
              "      </button>\n",
              "      \n",
              "  <style>\n",
              "    .colab-df-container {\n",
              "      display:flex;\n",
              "      flex-wrap:wrap;\n",
              "      gap: 12px;\n",
              "    }\n",
              "\n",
              "    .colab-df-convert {\n",
              "      background-color: #E8F0FE;\n",
              "      border: none;\n",
              "      border-radius: 50%;\n",
              "      cursor: pointer;\n",
              "      display: none;\n",
              "      fill: #1967D2;\n",
              "      height: 32px;\n",
              "      padding: 0 0 0 0;\n",
              "      width: 32px;\n",
              "    }\n",
              "\n",
              "    .colab-df-convert:hover {\n",
              "      background-color: #E2EBFA;\n",
              "      box-shadow: 0px 1px 2px rgba(60, 64, 67, 0.3), 0px 1px 3px 1px rgba(60, 64, 67, 0.15);\n",
              "      fill: #174EA6;\n",
              "    }\n",
              "\n",
              "    [theme=dark] .colab-df-convert {\n",
              "      background-color: #3B4455;\n",
              "      fill: #D2E3FC;\n",
              "    }\n",
              "\n",
              "    [theme=dark] .colab-df-convert:hover {\n",
              "      background-color: #434B5C;\n",
              "      box-shadow: 0px 1px 3px 1px rgba(0, 0, 0, 0.15);\n",
              "      filter: drop-shadow(0px 1px 2px rgba(0, 0, 0, 0.3));\n",
              "      fill: #FFFFFF;\n",
              "    }\n",
              "  </style>\n",
              "\n",
              "      <script>\n",
              "        const buttonEl =\n",
              "          document.querySelector('#df-22e1ab26-72c7-4224-b731-4470233881d1 button.colab-df-convert');\n",
              "        buttonEl.style.display =\n",
              "          google.colab.kernel.accessAllowed ? 'block' : 'none';\n",
              "\n",
              "        async function convertToInteractive(key) {\n",
              "          const element = document.querySelector('#df-22e1ab26-72c7-4224-b731-4470233881d1');\n",
              "          const dataTable =\n",
              "            await google.colab.kernel.invokeFunction('convertToInteractive',\n",
              "                                                     [key], {});\n",
              "          if (!dataTable) return;\n",
              "\n",
              "          const docLinkHtml = 'Like what you see? Visit the ' +\n",
              "            '<a target=\"_blank\" href=https://colab.research.google.com/notebooks/data_table.ipynb>data table notebook</a>'\n",
              "            + ' to learn more about interactive tables.';\n",
              "          element.innerHTML = '';\n",
              "          dataTable['output_type'] = 'display_data';\n",
              "          await google.colab.output.renderOutput(dataTable, element);\n",
              "          const docLink = document.createElement('div');\n",
              "          docLink.innerHTML = docLinkHtml;\n",
              "          element.appendChild(docLink);\n",
              "        }\n",
              "      </script>\n",
              "    </div>\n",
              "  </div>\n",
              "  "
            ]
          },
          "metadata": {},
          "execution_count": 83
        }
      ],
      "source": [
        "Data_Essay_01['Char_Count'] = Data_Essay_01['Essay'].apply(Char_Count)\n",
        "Data_Essay_01.sample()"
      ]
    },
    {
      "cell_type": "markdown",
      "metadata": {
        "id": "eSWTBDDpizP2"
      },
      "source": [
        "#### Average Word Length of Essay"
      ]
    },
    {
      "cell_type": "code",
      "execution_count": null,
      "metadata": {
        "id": "HujBMTSuXxxt"
      },
      "outputs": [],
      "source": [
        "def Avg_Word_Count(Essay):\n",
        "  \"\"\"\n",
        "    Calculates Average Word Count In An Essay Set\n",
        "\n",
        "    Args:\n",
        "      Essay: Essay of each student \n",
        "    \n",
        "    Returns: \n",
        "      float\n",
        "      \n",
        "  \"\"\"\n",
        "  word_list = nltk.word_tokenize(Essay)\n",
        "  total = sum(map(len, word_list))/len(word_list)\n",
        "  return total"
      ]
    },
    {
      "cell_type": "code",
      "execution_count": null,
      "metadata": {
        "colab": {
          "base_uri": "https://localhost:8080/",
          "height": 159
        },
        "id": "D5A2-UkIdX4Z",
        "outputId": "9af775cb-f649-4a94-8ae9-1f2c2c6e6ce3"
      },
      "outputs": [
        {
          "output_type": "execute_result",
          "data": {
            "text/plain": [
              "         ID                                              Essay  Rater_1 Score  \\\n",
              "1222  16056  Architects and builders faced several obstacle...            3.0   \n",
              "\n",
              "      Rater_2 Score  Total Score  Sent_Count  Word_Count  Char_Count  \\\n",
              "1222            3.0          3.0          10         173         895   \n",
              "\n",
              "      Avg_Word_Count  \n",
              "1222        4.323699  "
            ],
            "text/html": [
              "\n",
              "  <div id=\"df-fc0b11a5-3323-490e-b13e-ba657b5db89e\">\n",
              "    <div class=\"colab-df-container\">\n",
              "      <div>\n",
              "<style scoped>\n",
              "    .dataframe tbody tr th:only-of-type {\n",
              "        vertical-align: middle;\n",
              "    }\n",
              "\n",
              "    .dataframe tbody tr th {\n",
              "        vertical-align: top;\n",
              "    }\n",
              "\n",
              "    .dataframe thead th {\n",
              "        text-align: right;\n",
              "    }\n",
              "</style>\n",
              "<table border=\"1\" class=\"dataframe\">\n",
              "  <thead>\n",
              "    <tr style=\"text-align: right;\">\n",
              "      <th></th>\n",
              "      <th>ID</th>\n",
              "      <th>Essay</th>\n",
              "      <th>Rater_1 Score</th>\n",
              "      <th>Rater_2 Score</th>\n",
              "      <th>Total Score</th>\n",
              "      <th>Sent_Count</th>\n",
              "      <th>Word_Count</th>\n",
              "      <th>Char_Count</th>\n",
              "      <th>Avg_Word_Count</th>\n",
              "    </tr>\n",
              "  </thead>\n",
              "  <tbody>\n",
              "    <tr>\n",
              "      <th>1222</th>\n",
              "      <td>16056</td>\n",
              "      <td>Architects and builders faced several obstacle...</td>\n",
              "      <td>3.0</td>\n",
              "      <td>3.0</td>\n",
              "      <td>3.0</td>\n",
              "      <td>10</td>\n",
              "      <td>173</td>\n",
              "      <td>895</td>\n",
              "      <td>4.323699</td>\n",
              "    </tr>\n",
              "  </tbody>\n",
              "</table>\n",
              "</div>\n",
              "      <button class=\"colab-df-convert\" onclick=\"convertToInteractive('df-fc0b11a5-3323-490e-b13e-ba657b5db89e')\"\n",
              "              title=\"Convert this dataframe to an interactive table.\"\n",
              "              style=\"display:none;\">\n",
              "        \n",
              "  <svg xmlns=\"http://www.w3.org/2000/svg\" height=\"24px\"viewBox=\"0 0 24 24\"\n",
              "       width=\"24px\">\n",
              "    <path d=\"M0 0h24v24H0V0z\" fill=\"none\"/>\n",
              "    <path d=\"M18.56 5.44l.94 2.06.94-2.06 2.06-.94-2.06-.94-.94-2.06-.94 2.06-2.06.94zm-11 1L8.5 8.5l.94-2.06 2.06-.94-2.06-.94L8.5 2.5l-.94 2.06-2.06.94zm10 10l.94 2.06.94-2.06 2.06-.94-2.06-.94-.94-2.06-.94 2.06-2.06.94z\"/><path d=\"M17.41 7.96l-1.37-1.37c-.4-.4-.92-.59-1.43-.59-.52 0-1.04.2-1.43.59L10.3 9.45l-7.72 7.72c-.78.78-.78 2.05 0 2.83L4 21.41c.39.39.9.59 1.41.59.51 0 1.02-.2 1.41-.59l7.78-7.78 2.81-2.81c.8-.78.8-2.07 0-2.86zM5.41 20L4 18.59l7.72-7.72 1.47 1.35L5.41 20z\"/>\n",
              "  </svg>\n",
              "      </button>\n",
              "      \n",
              "  <style>\n",
              "    .colab-df-container {\n",
              "      display:flex;\n",
              "      flex-wrap:wrap;\n",
              "      gap: 12px;\n",
              "    }\n",
              "\n",
              "    .colab-df-convert {\n",
              "      background-color: #E8F0FE;\n",
              "      border: none;\n",
              "      border-radius: 50%;\n",
              "      cursor: pointer;\n",
              "      display: none;\n",
              "      fill: #1967D2;\n",
              "      height: 32px;\n",
              "      padding: 0 0 0 0;\n",
              "      width: 32px;\n",
              "    }\n",
              "\n",
              "    .colab-df-convert:hover {\n",
              "      background-color: #E2EBFA;\n",
              "      box-shadow: 0px 1px 2px rgba(60, 64, 67, 0.3), 0px 1px 3px 1px rgba(60, 64, 67, 0.15);\n",
              "      fill: #174EA6;\n",
              "    }\n",
              "\n",
              "    [theme=dark] .colab-df-convert {\n",
              "      background-color: #3B4455;\n",
              "      fill: #D2E3FC;\n",
              "    }\n",
              "\n",
              "    [theme=dark] .colab-df-convert:hover {\n",
              "      background-color: #434B5C;\n",
              "      box-shadow: 0px 1px 3px 1px rgba(0, 0, 0, 0.15);\n",
              "      filter: drop-shadow(0px 1px 2px rgba(0, 0, 0, 0.3));\n",
              "      fill: #FFFFFF;\n",
              "    }\n",
              "  </style>\n",
              "\n",
              "      <script>\n",
              "        const buttonEl =\n",
              "          document.querySelector('#df-fc0b11a5-3323-490e-b13e-ba657b5db89e button.colab-df-convert');\n",
              "        buttonEl.style.display =\n",
              "          google.colab.kernel.accessAllowed ? 'block' : 'none';\n",
              "\n",
              "        async function convertToInteractive(key) {\n",
              "          const element = document.querySelector('#df-fc0b11a5-3323-490e-b13e-ba657b5db89e');\n",
              "          const dataTable =\n",
              "            await google.colab.kernel.invokeFunction('convertToInteractive',\n",
              "                                                     [key], {});\n",
              "          if (!dataTable) return;\n",
              "\n",
              "          const docLinkHtml = 'Like what you see? Visit the ' +\n",
              "            '<a target=\"_blank\" href=https://colab.research.google.com/notebooks/data_table.ipynb>data table notebook</a>'\n",
              "            + ' to learn more about interactive tables.';\n",
              "          element.innerHTML = '';\n",
              "          dataTable['output_type'] = 'display_data';\n",
              "          await google.colab.output.renderOutput(dataTable, element);\n",
              "          const docLink = document.createElement('div');\n",
              "          docLink.innerHTML = docLinkHtml;\n",
              "          element.appendChild(docLink);\n",
              "        }\n",
              "      </script>\n",
              "    </div>\n",
              "  </div>\n",
              "  "
            ]
          },
          "metadata": {},
          "execution_count": 85
        }
      ],
      "source": [
        "Data_Essay_01['Avg_Word_Count'] = Data_Essay_01['Essay'].apply(Avg_Word_Count)\n",
        "Data_Essay_01.sample()"
      ]
    },
    {
      "cell_type": "markdown",
      "metadata": {
        "id": "lRegXINTbGzn"
      },
      "source": [
        "#### Average Sentence Length of Essay"
      ]
    },
    {
      "cell_type": "code",
      "execution_count": null,
      "metadata": {
        "id": "-xoLh0M0bgjl"
      },
      "outputs": [],
      "source": [
        "def Average_Sentence_Length(Word_Count,Sent_Count):\n",
        "  \n",
        "  average_sentence_length = float(Word_Count / Sent_Count)\n",
        "  return average_sentence_length"
      ]
    },
    {
      "cell_type": "code",
      "execution_count": null,
      "metadata": {
        "id": "J2S_o6MpbF6P"
      },
      "outputs": [],
      "source": [
        "Data_Essay_01['Avg_Sentence_Length']=Data_Essay_01.apply(lambda row :Average_Sentence_Length(row[\"Word_Count\"],row[\"Sent_Count\"]),axis=1)"
      ]
    },
    {
      "cell_type": "markdown",
      "metadata": {
        "id": "hK6BZn5TlaHp"
      },
      "source": [
        "#### Counting Syllables\n",
        "       Primarily used in Readability scores."
      ]
    },
    {
      "cell_type": "code",
      "execution_count": null,
      "metadata": {
        "id": "uG5vpuiclaHq"
      },
      "outputs": [],
      "source": [
        "def Syllable_Count(text):\n",
        "  return textstat.syllable_count(text, lang='en_US')"
      ]
    },
    {
      "cell_type": "code",
      "execution_count": null,
      "metadata": {
        "id": "4U9-sIjBlgSh"
      },
      "outputs": [],
      "source": [
        "Data_Essay_01['Preprocessed_Essay'] = Data_Essay_01['Essay'].apply(Remove_NER)\n",
        "Data_Essay_01['Preprocessed_Essay'] = Data_Essay_01['Preprocessed_Essay'].apply(Tokenize_Essay)\n",
        "Data_Essay_01[\"Syllable_Count\"] = Data_Essay_01['Preprocessed_Essay'].apply(Syllable_Count)"
      ]
    },
    {
      "cell_type": "markdown",
      "metadata": {
        "id": "7IWHDwgffcmK"
      },
      "source": [
        "#### Percentage of Difficult Words\n",
        "    Primarily used in Readability scores.\n",
        "    Execution Time: 30 mins +\n",
        "\n",
        "\n"
      ]
    },
    {
      "cell_type": "code",
      "execution_count": null,
      "metadata": {
        "id": "wcAijHgBfcYz"
      },
      "outputs": [],
      "source": [
        "def Difficult_Words_Count(text):\n",
        "    nlp = spacy.load('en_core_web_sm')\n",
        "    doc = nlp(text)\n",
        "\n",
        "    # Find all words in the text\n",
        "    words = []\n",
        "    sentences = nltk.sent_tokenize(text)\n",
        "    for sentence in sentences:\n",
        "        tokens=nltk.word_tokenize(sentence)\n",
        "        for token in tokens:\n",
        "          words.append(token)\n",
        "\n",
        "    # difficult words are those with syllables >= 2 ,Easy words are provided by textstat library.\n",
        "    diff_words_set = set()\n",
        "\n",
        "    #Syllabes are those words which have a break in between for example , book has a single syllable while reading has two.\n",
        "    for word in words:\n",
        "      syllable_count=Syllable_Count(word)\n",
        "      if word not in nlp.Defaults.stop_words and syllable_count >= 2:\n",
        "            diff_words_set.add(word)\n",
        " \n",
        "    return len(diff_words_set)"
      ]
    },
    {
      "cell_type": "code",
      "execution_count": null,
      "metadata": {
        "id": "DJLFVjZWm37R"
      },
      "outputs": [],
      "source": [
        "# Data_Essay_01[\"Difficult_Word_Count\"] = Data_Essay_01[\"Preprocessed_Essay\"].apply(Difficult_Words_Count)\n",
        "Data_Essay_01[\"Difficult_Word_Count\"] = Data_Essay_01[\"Preprocessed_Essay\"].map(Difficult_Words_Count)"
      ]
    },
    {
      "cell_type": "markdown",
      "metadata": {
        "id": "iUMnW4Qm4Vws"
      },
      "source": [
        "## **Parts Of Speech Counts**\n",
        "\n",
        "This section will cover:\n",
        "\n",
        "\n",
        "*   Counting Nouns per Essay\n",
        "*   Counting Adjectives per Essay\n",
        "*   Counting Proper Nouns per Essay\n",
        "*   Counting Adverbs per Essay\n",
        "*   Counting Conjunctions per \n",
        "\n",
        "```\n",
        "Execution Time: 2 minutes\n",
        "```"
      ]
    },
    {
      "cell_type": "markdown",
      "metadata": {
        "id": "A0qjHkwRH7FS"
      },
      "source": [
        "Removing NERs, Punctuations and Lower Casing"
      ]
    },
    {
      "cell_type": "code",
      "execution_count": null,
      "metadata": {
        "colab": {
          "base_uri": "https://localhost:8080/",
          "height": 808
        },
        "id": "mxsK-yprDcfV",
        "outputId": "ee29516d-82e9-4d23-d51d-c4d303ec0b3f"
      },
      "outputs": [
        {
          "output_type": "execute_result",
          "data": {
            "text/plain": [
              "      ID                                              Essay  Rater_1 Score  \\\n",
              "0  14834  There were many obstacles that the builders fa...            2.0   \n",
              "1  14835  Him from the start, there would have been many...            3.0   \n",
              "2  14836  The builders of the Empire State Building face...            3.0   \n",
              "3  14837  In the passage The Mooring Mast by Marcia Amid...            1.0   \n",
              "4  14838  The builders of the Empire State Building face...            3.0   \n",
              "\n",
              "   Rater_2 Score  Total Score  Sent_Count  Word_Count  Char_Count  \\\n",
              "0            2.0          2.0           6         134         694   \n",
              "1            3.0          3.0           9         201        1052   \n",
              "2            4.0          4.0           8         180         938   \n",
              "3            1.0          1.0           7         213        1098   \n",
              "4            3.0          3.0          10         176         929   \n",
              "\n",
              "   Avg_Word_Count  Avg_Sentence_Length  \\\n",
              "0        4.276119            22.333333   \n",
              "1        4.343284            22.333333   \n",
              "2        4.294444            22.500000   \n",
              "3        4.262911            30.428571   \n",
              "4        4.375000            17.600000   \n",
              "\n",
              "                                  Preprocessed_Essay  Syllable_Count  \\\n",
              "0  There were many obstacles that the builders fa...             176   \n",
              "1  Him from the start there would have been many ...             255   \n",
              "2  The builders of the Empire State Building face...             235   \n",
              "3  In the passage The Mooring Mast by Marcia Amid...             274   \n",
              "4  The builders of the Empire State Building face...             241   \n",
              "\n",
              "   Difficult_Word_Count  \n",
              "0                    24  \n",
              "1                    35  \n",
              "2                    34  \n",
              "3                    36  \n",
              "4                    34  "
            ],
            "text/html": [
              "\n",
              "  <div id=\"df-e3a142f7-0167-45f4-a8f9-9a5ba7099d03\">\n",
              "    <div class=\"colab-df-container\">\n",
              "      <div>\n",
              "<style scoped>\n",
              "    .dataframe tbody tr th:only-of-type {\n",
              "        vertical-align: middle;\n",
              "    }\n",
              "\n",
              "    .dataframe tbody tr th {\n",
              "        vertical-align: top;\n",
              "    }\n",
              "\n",
              "    .dataframe thead th {\n",
              "        text-align: right;\n",
              "    }\n",
              "</style>\n",
              "<table border=\"1\" class=\"dataframe\">\n",
              "  <thead>\n",
              "    <tr style=\"text-align: right;\">\n",
              "      <th></th>\n",
              "      <th>ID</th>\n",
              "      <th>Essay</th>\n",
              "      <th>Rater_1 Score</th>\n",
              "      <th>Rater_2 Score</th>\n",
              "      <th>Total Score</th>\n",
              "      <th>Sent_Count</th>\n",
              "      <th>Word_Count</th>\n",
              "      <th>Char_Count</th>\n",
              "      <th>Avg_Word_Count</th>\n",
              "      <th>Avg_Sentence_Length</th>\n",
              "      <th>Preprocessed_Essay</th>\n",
              "      <th>Syllable_Count</th>\n",
              "      <th>Difficult_Word_Count</th>\n",
              "    </tr>\n",
              "  </thead>\n",
              "  <tbody>\n",
              "    <tr>\n",
              "      <th>0</th>\n",
              "      <td>14834</td>\n",
              "      <td>There were many obstacles that the builders fa...</td>\n",
              "      <td>2.0</td>\n",
              "      <td>2.0</td>\n",
              "      <td>2.0</td>\n",
              "      <td>6</td>\n",
              "      <td>134</td>\n",
              "      <td>694</td>\n",
              "      <td>4.276119</td>\n",
              "      <td>22.333333</td>\n",
              "      <td>There were many obstacles that the builders fa...</td>\n",
              "      <td>176</td>\n",
              "      <td>24</td>\n",
              "    </tr>\n",
              "    <tr>\n",
              "      <th>1</th>\n",
              "      <td>14835</td>\n",
              "      <td>Him from the start, there would have been many...</td>\n",
              "      <td>3.0</td>\n",
              "      <td>3.0</td>\n",
              "      <td>3.0</td>\n",
              "      <td>9</td>\n",
              "      <td>201</td>\n",
              "      <td>1052</td>\n",
              "      <td>4.343284</td>\n",
              "      <td>22.333333</td>\n",
              "      <td>Him from the start there would have been many ...</td>\n",
              "      <td>255</td>\n",
              "      <td>35</td>\n",
              "    </tr>\n",
              "    <tr>\n",
              "      <th>2</th>\n",
              "      <td>14836</td>\n",
              "      <td>The builders of the Empire State Building face...</td>\n",
              "      <td>3.0</td>\n",
              "      <td>4.0</td>\n",
              "      <td>4.0</td>\n",
              "      <td>8</td>\n",
              "      <td>180</td>\n",
              "      <td>938</td>\n",
              "      <td>4.294444</td>\n",
              "      <td>22.500000</td>\n",
              "      <td>The builders of the Empire State Building face...</td>\n",
              "      <td>235</td>\n",
              "      <td>34</td>\n",
              "    </tr>\n",
              "    <tr>\n",
              "      <th>3</th>\n",
              "      <td>14837</td>\n",
              "      <td>In the passage The Mooring Mast by Marcia Amid...</td>\n",
              "      <td>1.0</td>\n",
              "      <td>1.0</td>\n",
              "      <td>1.0</td>\n",
              "      <td>7</td>\n",
              "      <td>213</td>\n",
              "      <td>1098</td>\n",
              "      <td>4.262911</td>\n",
              "      <td>30.428571</td>\n",
              "      <td>In the passage The Mooring Mast by Marcia Amid...</td>\n",
              "      <td>274</td>\n",
              "      <td>36</td>\n",
              "    </tr>\n",
              "    <tr>\n",
              "      <th>4</th>\n",
              "      <td>14838</td>\n",
              "      <td>The builders of the Empire State Building face...</td>\n",
              "      <td>3.0</td>\n",
              "      <td>3.0</td>\n",
              "      <td>3.0</td>\n",
              "      <td>10</td>\n",
              "      <td>176</td>\n",
              "      <td>929</td>\n",
              "      <td>4.375000</td>\n",
              "      <td>17.600000</td>\n",
              "      <td>The builders of the Empire State Building face...</td>\n",
              "      <td>241</td>\n",
              "      <td>34</td>\n",
              "    </tr>\n",
              "  </tbody>\n",
              "</table>\n",
              "</div>\n",
              "      <button class=\"colab-df-convert\" onclick=\"convertToInteractive('df-e3a142f7-0167-45f4-a8f9-9a5ba7099d03')\"\n",
              "              title=\"Convert this dataframe to an interactive table.\"\n",
              "              style=\"display:none;\">\n",
              "        \n",
              "  <svg xmlns=\"http://www.w3.org/2000/svg\" height=\"24px\"viewBox=\"0 0 24 24\"\n",
              "       width=\"24px\">\n",
              "    <path d=\"M0 0h24v24H0V0z\" fill=\"none\"/>\n",
              "    <path d=\"M18.56 5.44l.94 2.06.94-2.06 2.06-.94-2.06-.94-.94-2.06-.94 2.06-2.06.94zm-11 1L8.5 8.5l.94-2.06 2.06-.94-2.06-.94L8.5 2.5l-.94 2.06-2.06.94zm10 10l.94 2.06.94-2.06 2.06-.94-2.06-.94-.94-2.06-.94 2.06-2.06.94z\"/><path d=\"M17.41 7.96l-1.37-1.37c-.4-.4-.92-.59-1.43-.59-.52 0-1.04.2-1.43.59L10.3 9.45l-7.72 7.72c-.78.78-.78 2.05 0 2.83L4 21.41c.39.39.9.59 1.41.59.51 0 1.02-.2 1.41-.59l7.78-7.78 2.81-2.81c.8-.78.8-2.07 0-2.86zM5.41 20L4 18.59l7.72-7.72 1.47 1.35L5.41 20z\"/>\n",
              "  </svg>\n",
              "      </button>\n",
              "      \n",
              "  <style>\n",
              "    .colab-df-container {\n",
              "      display:flex;\n",
              "      flex-wrap:wrap;\n",
              "      gap: 12px;\n",
              "    }\n",
              "\n",
              "    .colab-df-convert {\n",
              "      background-color: #E8F0FE;\n",
              "      border: none;\n",
              "      border-radius: 50%;\n",
              "      cursor: pointer;\n",
              "      display: none;\n",
              "      fill: #1967D2;\n",
              "      height: 32px;\n",
              "      padding: 0 0 0 0;\n",
              "      width: 32px;\n",
              "    }\n",
              "\n",
              "    .colab-df-convert:hover {\n",
              "      background-color: #E2EBFA;\n",
              "      box-shadow: 0px 1px 2px rgba(60, 64, 67, 0.3), 0px 1px 3px 1px rgba(60, 64, 67, 0.15);\n",
              "      fill: #174EA6;\n",
              "    }\n",
              "\n",
              "    [theme=dark] .colab-df-convert {\n",
              "      background-color: #3B4455;\n",
              "      fill: #D2E3FC;\n",
              "    }\n",
              "\n",
              "    [theme=dark] .colab-df-convert:hover {\n",
              "      background-color: #434B5C;\n",
              "      box-shadow: 0px 1px 3px 1px rgba(0, 0, 0, 0.15);\n",
              "      filter: drop-shadow(0px 1px 2px rgba(0, 0, 0, 0.3));\n",
              "      fill: #FFFFFF;\n",
              "    }\n",
              "  </style>\n",
              "\n",
              "      <script>\n",
              "        const buttonEl =\n",
              "          document.querySelector('#df-e3a142f7-0167-45f4-a8f9-9a5ba7099d03 button.colab-df-convert');\n",
              "        buttonEl.style.display =\n",
              "          google.colab.kernel.accessAllowed ? 'block' : 'none';\n",
              "\n",
              "        async function convertToInteractive(key) {\n",
              "          const element = document.querySelector('#df-e3a142f7-0167-45f4-a8f9-9a5ba7099d03');\n",
              "          const dataTable =\n",
              "            await google.colab.kernel.invokeFunction('convertToInteractive',\n",
              "                                                     [key], {});\n",
              "          if (!dataTable) return;\n",
              "\n",
              "          const docLinkHtml = 'Like what you see? Visit the ' +\n",
              "            '<a target=\"_blank\" href=https://colab.research.google.com/notebooks/data_table.ipynb>data table notebook</a>'\n",
              "            + ' to learn more about interactive tables.';\n",
              "          element.innerHTML = '';\n",
              "          dataTable['output_type'] = 'display_data';\n",
              "          await google.colab.output.renderOutput(dataTable, element);\n",
              "          const docLink = document.createElement('div');\n",
              "          docLink.innerHTML = docLinkHtml;\n",
              "          element.appendChild(docLink);\n",
              "        }\n",
              "      </script>\n",
              "    </div>\n",
              "  </div>\n",
              "  "
            ]
          },
          "metadata": {},
          "execution_count": 92
        }
      ],
      "source": [
        "Data_Essay_01['Preprocessed_Essay'] = Data_Essay_01['Essay'].apply(Remove_NER)\n",
        "Data_Essay_01['Preprocessed_Essay'] = Data_Essay_01['Preprocessed_Essay'].apply(Tokenize_Essay)\n",
        "Data_Essay_01.head()"
      ]
    },
    {
      "cell_type": "code",
      "execution_count": null,
      "metadata": {
        "id": "26j3wRKD4X54"
      },
      "outputs": [],
      "source": [
        "def Pos_Tag_Count(Essay):\n",
        "  \"\"\"\n",
        "    Counts Parts of Speech in an Essay\n",
        "\n",
        "    Args:\n",
        "      Essay: Essay of each student \n",
        "    \n",
        "    Returns: \n",
        "      int,int,int,int,int,int    \n",
        "  \"\"\"\n",
        "  tagged_doc = nlp(Essay)\n",
        "\n",
        "  adj_count=0\n",
        "  verb_count=0\n",
        "  noun_count=0\n",
        "  pNoun_count=0\n",
        "  adverb_count=0\n",
        "  conj_count=0\n",
        "\n",
        "  for token in tagged_doc:\n",
        "\n",
        "    if(token.pos_ == 'ADJ'):\n",
        "      adj_count+=1\n",
        "    \n",
        "    elif(token.pos_ =='NOUN'):\n",
        "      noun_count+=1\n",
        "\n",
        "    elif (token.pos_ =='PRON'):\n",
        "      pNoun_count+=1\n",
        "\n",
        "    elif (token.pos_ =='VERB'):\n",
        "      verb_count+=1\n",
        "\n",
        "    elif (token.pos_ =='ADV'):\n",
        "      adverb_count+=1\n",
        "    \n",
        "    elif(token.pos_=='CCONJ'):\n",
        "      conj_count+=1\n",
        "\n",
        "  return verb_count,noun_count, adj_count, conj_count, adverb_count,pNoun_count"
      ]
    },
    {
      "cell_type": "code",
      "execution_count": null,
      "metadata": {
        "colab": {
          "base_uri": "https://localhost:8080/",
          "height": 266
        },
        "id": "W-WSN5Ce85Cu",
        "outputId": "60b63563-c1b6-48d0-eedc-2d7d7bc19865"
      },
      "outputs": [
        {
          "output_type": "execute_result",
          "data": {
            "text/plain": [
              "        ID                                              Essay  Rater_1 Score  \\\n",
              "212  15046  The builders of the Empire State Building were...            4.0   \n",
              "\n",
              "     Rater_2 Score  Total Score  Sent_Count  Word_Count  Char_Count  \\\n",
              "212            4.0          4.0          13         243        1277   \n",
              "\n",
              "     Avg_Word_Count  Avg_Sentence_Length  \\\n",
              "212        4.403292            18.692308   \n",
              "\n",
              "                                    Preprocessed_Essay  Syllable_Count  \\\n",
              "212  The builders of the Empire State Building were...             316   \n",
              "\n",
              "     Difficult_Word_Count  Verb_Count  Noun_Count  Adj_Count  Conj_Count  \\\n",
              "212                    50          32          42         16           5   \n",
              "\n",
              "     Adverb_Count  pNoun_Count  \n",
              "212            10            4  "
            ],
            "text/html": [
              "\n",
              "  <div id=\"df-46b7a1f8-ac4b-481c-bd66-854f41f7e692\">\n",
              "    <div class=\"colab-df-container\">\n",
              "      <div>\n",
              "<style scoped>\n",
              "    .dataframe tbody tr th:only-of-type {\n",
              "        vertical-align: middle;\n",
              "    }\n",
              "\n",
              "    .dataframe tbody tr th {\n",
              "        vertical-align: top;\n",
              "    }\n",
              "\n",
              "    .dataframe thead th {\n",
              "        text-align: right;\n",
              "    }\n",
              "</style>\n",
              "<table border=\"1\" class=\"dataframe\">\n",
              "  <thead>\n",
              "    <tr style=\"text-align: right;\">\n",
              "      <th></th>\n",
              "      <th>ID</th>\n",
              "      <th>Essay</th>\n",
              "      <th>Rater_1 Score</th>\n",
              "      <th>Rater_2 Score</th>\n",
              "      <th>Total Score</th>\n",
              "      <th>Sent_Count</th>\n",
              "      <th>Word_Count</th>\n",
              "      <th>Char_Count</th>\n",
              "      <th>Avg_Word_Count</th>\n",
              "      <th>Avg_Sentence_Length</th>\n",
              "      <th>Preprocessed_Essay</th>\n",
              "      <th>Syllable_Count</th>\n",
              "      <th>Difficult_Word_Count</th>\n",
              "      <th>Verb_Count</th>\n",
              "      <th>Noun_Count</th>\n",
              "      <th>Adj_Count</th>\n",
              "      <th>Conj_Count</th>\n",
              "      <th>Adverb_Count</th>\n",
              "      <th>pNoun_Count</th>\n",
              "    </tr>\n",
              "  </thead>\n",
              "  <tbody>\n",
              "    <tr>\n",
              "      <th>212</th>\n",
              "      <td>15046</td>\n",
              "      <td>The builders of the Empire State Building were...</td>\n",
              "      <td>4.0</td>\n",
              "      <td>4.0</td>\n",
              "      <td>4.0</td>\n",
              "      <td>13</td>\n",
              "      <td>243</td>\n",
              "      <td>1277</td>\n",
              "      <td>4.403292</td>\n",
              "      <td>18.692308</td>\n",
              "      <td>The builders of the Empire State Building were...</td>\n",
              "      <td>316</td>\n",
              "      <td>50</td>\n",
              "      <td>32</td>\n",
              "      <td>42</td>\n",
              "      <td>16</td>\n",
              "      <td>5</td>\n",
              "      <td>10</td>\n",
              "      <td>4</td>\n",
              "    </tr>\n",
              "  </tbody>\n",
              "</table>\n",
              "</div>\n",
              "      <button class=\"colab-df-convert\" onclick=\"convertToInteractive('df-46b7a1f8-ac4b-481c-bd66-854f41f7e692')\"\n",
              "              title=\"Convert this dataframe to an interactive table.\"\n",
              "              style=\"display:none;\">\n",
              "        \n",
              "  <svg xmlns=\"http://www.w3.org/2000/svg\" height=\"24px\"viewBox=\"0 0 24 24\"\n",
              "       width=\"24px\">\n",
              "    <path d=\"M0 0h24v24H0V0z\" fill=\"none\"/>\n",
              "    <path d=\"M18.56 5.44l.94 2.06.94-2.06 2.06-.94-2.06-.94-.94-2.06-.94 2.06-2.06.94zm-11 1L8.5 8.5l.94-2.06 2.06-.94-2.06-.94L8.5 2.5l-.94 2.06-2.06.94zm10 10l.94 2.06.94-2.06 2.06-.94-2.06-.94-.94-2.06-.94 2.06-2.06.94z\"/><path d=\"M17.41 7.96l-1.37-1.37c-.4-.4-.92-.59-1.43-.59-.52 0-1.04.2-1.43.59L10.3 9.45l-7.72 7.72c-.78.78-.78 2.05 0 2.83L4 21.41c.39.39.9.59 1.41.59.51 0 1.02-.2 1.41-.59l7.78-7.78 2.81-2.81c.8-.78.8-2.07 0-2.86zM5.41 20L4 18.59l7.72-7.72 1.47 1.35L5.41 20z\"/>\n",
              "  </svg>\n",
              "      </button>\n",
              "      \n",
              "  <style>\n",
              "    .colab-df-container {\n",
              "      display:flex;\n",
              "      flex-wrap:wrap;\n",
              "      gap: 12px;\n",
              "    }\n",
              "\n",
              "    .colab-df-convert {\n",
              "      background-color: #E8F0FE;\n",
              "      border: none;\n",
              "      border-radius: 50%;\n",
              "      cursor: pointer;\n",
              "      display: none;\n",
              "      fill: #1967D2;\n",
              "      height: 32px;\n",
              "      padding: 0 0 0 0;\n",
              "      width: 32px;\n",
              "    }\n",
              "\n",
              "    .colab-df-convert:hover {\n",
              "      background-color: #E2EBFA;\n",
              "      box-shadow: 0px 1px 2px rgba(60, 64, 67, 0.3), 0px 1px 3px 1px rgba(60, 64, 67, 0.15);\n",
              "      fill: #174EA6;\n",
              "    }\n",
              "\n",
              "    [theme=dark] .colab-df-convert {\n",
              "      background-color: #3B4455;\n",
              "      fill: #D2E3FC;\n",
              "    }\n",
              "\n",
              "    [theme=dark] .colab-df-convert:hover {\n",
              "      background-color: #434B5C;\n",
              "      box-shadow: 0px 1px 3px 1px rgba(0, 0, 0, 0.15);\n",
              "      filter: drop-shadow(0px 1px 2px rgba(0, 0, 0, 0.3));\n",
              "      fill: #FFFFFF;\n",
              "    }\n",
              "  </style>\n",
              "\n",
              "      <script>\n",
              "        const buttonEl =\n",
              "          document.querySelector('#df-46b7a1f8-ac4b-481c-bd66-854f41f7e692 button.colab-df-convert');\n",
              "        buttonEl.style.display =\n",
              "          google.colab.kernel.accessAllowed ? 'block' : 'none';\n",
              "\n",
              "        async function convertToInteractive(key) {\n",
              "          const element = document.querySelector('#df-46b7a1f8-ac4b-481c-bd66-854f41f7e692');\n",
              "          const dataTable =\n",
              "            await google.colab.kernel.invokeFunction('convertToInteractive',\n",
              "                                                     [key], {});\n",
              "          if (!dataTable) return;\n",
              "\n",
              "          const docLinkHtml = 'Like what you see? Visit the ' +\n",
              "            '<a target=\"_blank\" href=https://colab.research.google.com/notebooks/data_table.ipynb>data table notebook</a>'\n",
              "            + ' to learn more about interactive tables.';\n",
              "          element.innerHTML = '';\n",
              "          dataTable['output_type'] = 'display_data';\n",
              "          await google.colab.output.renderOutput(dataTable, element);\n",
              "          const docLink = document.createElement('div');\n",
              "          docLink.innerHTML = docLinkHtml;\n",
              "          element.appendChild(docLink);\n",
              "        }\n",
              "      </script>\n",
              "    </div>\n",
              "  </div>\n",
              "  "
            ]
          },
          "metadata": {},
          "execution_count": 94
        }
      ],
      "source": [
        "Data_Essay_01['Verb_Count'], Data_Essay_01['Noun_Count'], Data_Essay_01['Adj_Count'], Data_Essay_01['Conj_Count'], Data_Essay_01['Adverb_Count'], Data_Essay_01['pNoun_Count']=zip(*Data_Essay_01[\"Preprocessed_Essay\"].map(Pos_Tag_Count))\n",
        "Data_Essay_01.sample()"
      ]
    },
    {
      "cell_type": "code",
      "execution_count": null,
      "metadata": {
        "colab": {
          "base_uri": "https://localhost:8080/",
          "height": 34
        },
        "id": "Q-Tg87N-WOos",
        "outputId": "b96c4f98-b2bf-4153-c381-8e2c8a2fbf9e"
      },
      "outputs": [
        {
          "output_type": "display_data",
          "data": {
            "text/plain": [
              "<IPython.core.display.Javascript object>"
            ],
            "application/javascript": [
              "\n",
              "    async function download(id, filename, size) {\n",
              "      if (!google.colab.kernel.accessAllowed) {\n",
              "        return;\n",
              "      }\n",
              "      const div = document.createElement('div');\n",
              "      const label = document.createElement('label');\n",
              "      label.textContent = `Downloading \"${filename}\": `;\n",
              "      div.appendChild(label);\n",
              "      const progress = document.createElement('progress');\n",
              "      progress.max = size;\n",
              "      div.appendChild(progress);\n",
              "      document.body.appendChild(div);\n",
              "\n",
              "      const buffers = [];\n",
              "      let downloaded = 0;\n",
              "\n",
              "      const channel = await google.colab.kernel.comms.open(id);\n",
              "      // Send a message to notify the kernel that we're ready.\n",
              "      channel.send({})\n",
              "\n",
              "      for await (const message of channel.messages) {\n",
              "        // Send a message to notify the kernel that we're ready.\n",
              "        channel.send({})\n",
              "        if (message.buffers) {\n",
              "          for (const buffer of message.buffers) {\n",
              "            buffers.push(buffer);\n",
              "            downloaded += buffer.byteLength;\n",
              "            progress.value = downloaded;\n",
              "          }\n",
              "        }\n",
              "      }\n",
              "      const blob = new Blob(buffers, {type: 'application/binary'});\n",
              "      const a = document.createElement('a');\n",
              "      a.href = window.URL.createObjectURL(blob);\n",
              "      a.download = filename;\n",
              "      div.appendChild(a);\n",
              "      a.click();\n",
              "      div.remove();\n",
              "    }\n",
              "  "
            ]
          },
          "metadata": {}
        },
        {
          "output_type": "display_data",
          "data": {
            "text/plain": [
              "<IPython.core.display.Javascript object>"
            ],
            "application/javascript": [
              "download(\"download_04dd444d-e547-4425-8122-24db6d8fef71\", \"Output_1.csv\", 3325874)"
            ]
          },
          "metadata": {}
        }
      ],
      "source": [
        "Data_Essay_01.to_csv(\"Output_1.csv\")\n",
        "files.download('/content/Output_1.csv')"
      ]
    },
    {
      "cell_type": "markdown",
      "metadata": {
        "id": "puuRk5EHw8jJ"
      },
      "source": [
        "## **Evaluating Writing Attributes**\n",
        "\n",
        "This section will cover:\n",
        "\n",
        "\n",
        "*   Style\n",
        "*   Content\n",
        "*   Semantic\n",
        "*   Semantic Coherence & Consistency \n",
        "*   Connectivity\n",
        "*   Readibility Scores\n"
      ]
    },
    {
      "cell_type": "markdown",
      "metadata": {
        "id": "Id4wN-9AxITZ"
      },
      "source": [
        "### **Style**\n",
        "\n",
        "This section will cover:\n",
        "\n",
        "\n",
        "*   Mechanics\n",
        "*   Grammar\n",
        "*   Lexical Sophistication\n",
        "\n"
      ]
    },
    {
      "cell_type": "markdown",
      "metadata": {
        "id": "I6sEA-fCCfmN"
      },
      "source": [
        "#### **Mechanics**\n",
        "\n",
        "This section will cover:\n",
        "\n",
        "\n",
        "*   Counting Spelling Mistakes\n",
        "*   Correcting Spelling Mistakes\n",
        "*   Checking Punctuations\n",
        "*   Counting Punctuations\n",
        "*   Checking Capitalization\n",
        "\n"
      ]
    },
    {
      "cell_type": "markdown",
      "metadata": {
        "id": "2NgCS1PQZaIJ"
      },
      "source": [
        "##### Counting Spelling Mistakes\n",
        "\n",
        "\n",
        "```\n",
        "Execution Time: 30 mins +\n",
        "```\n",
        "\n"
      ]
    },
    {
      "cell_type": "code",
      "execution_count": null,
      "metadata": {
        "id": "EW5kZQP-W3CE"
      },
      "outputs": [],
      "source": [
        "def Check_Spelling(Sentence):\n",
        "  \"\"\"\n",
        "    Checks spelling of each word\n",
        "\n",
        "    Args:\n",
        "      word: Words (Tokens) of each essay \n",
        "    \n",
        "    Returns: \n",
        "      int\n",
        "  \"\"\"\n",
        "  count = 0\n",
        "  Sentence = word_tokenize(Sentence)\n",
        "  for word in Sentence:\n",
        "    word = Word(word)\n",
        "  \n",
        "    result = word.spellcheck()\n",
        "\n",
        "    # result [0][0] contains the bool value if the spelling is correct or not\n",
        "    # result [0][1] contains the confidence for the suggest correct spelling\n",
        "\n",
        "    if word != result[0][0]:\n",
        "      if(result[0][1] > 0.9 and not(wordnet.synsets(word)) and not(\"/\" in word) and not (word == \"If\" or word == \"if\")):\n",
        "        count = count + 1\n",
        "        \n",
        "  return count"
      ]
    },
    {
      "cell_type": "code",
      "execution_count": null,
      "metadata": {
        "id": "Lhbvn0kuFGnq"
      },
      "outputs": [],
      "source": [
        "Data_Essay_01[\"Preprocessed_Essay\"] = Data_Essay_01[\"Essay\"].apply(Remove_NER)"
      ]
    },
    {
      "cell_type": "code",
      "execution_count": null,
      "metadata": {
        "id": "u5UO3OIYE-8p"
      },
      "outputs": [],
      "source": [
        "# Data_Essay_01[\"Spelling_Mistakes_Count\"] = Data_Essay_01[\"Preprocessed_Essay\"].map(Check_Spelling)\n",
        "Data_Essay_01[\"Spelling_Mistakes_Count\"] = Data_Essay_01[\"Preprocessed_Essay\"].apply(Check_Spelling)"
      ]
    },
    {
      "cell_type": "markdown",
      "metadata": {
        "id": "ndVmwOgqVIfd"
      },
      "source": [
        "##### Correcting Spelling Mistakes via LanguageTool\n",
        "     This is for Grammer"
      ]
    },
    {
      "cell_type": "code",
      "execution_count": null,
      "metadata": {
        "id": "dLb4MnckVMVN"
      },
      "outputs": [],
      "source": [
        "def Spelling_Error_Correct(essays):\n",
        "    matches = tool.check(essays)\n",
        "    is_bad_rule = lambda rule: rule.category == 'GRAMMAR'\n",
        "    matches = [rule for rule in matches if not is_bad_rule(rule)]\n",
        "    # print(matches[0].category)\n",
        "    language_tool_python.utils.correct(essays, matches)   # to correct it\n",
        "    return essays"
      ]
    },
    {
      "cell_type": "code",
      "execution_count": null,
      "metadata": {
        "id": "i3m8RRJJVMMU"
      },
      "outputs": [],
      "source": [
        "Data_Essay_01[\"Without_White_Spaces\"] = Data_Essay_01[\"Essay\"].apply(Remove_White_Spaces)\n",
        "Data_Essay_01['Essay_SpellingCorrected_LT'] = Data_Essay_01['Without_White_Spaces'].apply(Spelling_Error_Correct)"
      ]
    },
    {
      "cell_type": "markdown",
      "metadata": {
        "id": "0GCMQ41VQbyC"
      },
      "source": [
        "##### Counting Number Of Punctuations"
      ]
    },
    {
      "cell_type": "code",
      "execution_count": null,
      "metadata": {
        "id": "c8GDruwFQbYj"
      },
      "outputs": [],
      "source": [
        "def Count_Punctuations(Essay):\n",
        "  \"\"\"\n",
        "    Counts Punctuations used in an Essay\n",
        "\n",
        "    Args:\n",
        "      Essay: Essay of each student \n",
        "    \n",
        "    Returns: \n",
        "      int,int,int,int,int\n",
        "      \n",
        "  \"\"\"\n",
        "  count_fullstops = 0\n",
        "  count_exclamation = 0\n",
        "  count_comma = 0\n",
        "  count_hyphens = 0\n",
        "  count_questionmark = 0\n",
        "\n",
        "  tokens = word_tokenize(Essay)\n",
        "\n",
        "  for word in tokens:\n",
        "    if word == \".\":\n",
        "      count_fullstops += 1\n",
        "    elif word == \"!\":\n",
        "      count_exclamation += 1\n",
        "    elif word == \"?\":\n",
        "      count_questionmark += 1\n",
        "    elif word == \",\":\n",
        "      count_comma += 1\n",
        "    elif word == \"-\":\n",
        "      count_hyphens += 1\n",
        "\n",
        "  return count_fullstops , count_exclamation , count_comma , count_questionmark , count_hyphens"
      ]
    },
    {
      "cell_type": "code",
      "execution_count": null,
      "metadata": {
        "colab": {
          "base_uri": "https://localhost:8080/",
          "height": 278
        },
        "id": "5ZTt9va_Vsuw",
        "outputId": "274f0f34-0b8b-4187-f934-8a0ebdc81f39"
      },
      "outputs": [
        {
          "output_type": "execute_result",
          "data": {
            "text/plain": [
              "       ID                                              Essay  Rater_1 Score  \\\n",
              "85  14919  In order to allow dirigibles to dock on the ro...            2.0   \n",
              "\n",
              "    Rater_2 Score  Total Score  Sent_Count  Word_Count  Char_Count  \\\n",
              "85            2.0          2.0           6         135         699   \n",
              "\n",
              "    Avg_Word_Count  Avg_Sentence_Length  ... Adverb_Count  pNoun_Count  \\\n",
              "85        4.296296                 22.5  ...           11            1   \n",
              "\n",
              "    Spelling_Mistakes_Count  \\\n",
              "85                        1   \n",
              "\n",
              "                                 Without_White_Spaces  \\\n",
              "85  In order to allow dirigibles to dock on the ro...   \n",
              "\n",
              "                           Essay_SpellingCorrected_LT  Count_Fullstops  \\\n",
              "85  In order to allow dirigibles to dock on the ro...                6   \n",
              "\n",
              "    Count_Exclamation  Count_Comma  Count_Questionmark  Count_Hyphens  \n",
              "85                  0            9                   0              0  \n",
              "\n",
              "[1 rows x 27 columns]"
            ],
            "text/html": [
              "\n",
              "  <div id=\"df-62314ae0-b15f-4597-8520-86d35632cf1f\">\n",
              "    <div class=\"colab-df-container\">\n",
              "      <div>\n",
              "<style scoped>\n",
              "    .dataframe tbody tr th:only-of-type {\n",
              "        vertical-align: middle;\n",
              "    }\n",
              "\n",
              "    .dataframe tbody tr th {\n",
              "        vertical-align: top;\n",
              "    }\n",
              "\n",
              "    .dataframe thead th {\n",
              "        text-align: right;\n",
              "    }\n",
              "</style>\n",
              "<table border=\"1\" class=\"dataframe\">\n",
              "  <thead>\n",
              "    <tr style=\"text-align: right;\">\n",
              "      <th></th>\n",
              "      <th>ID</th>\n",
              "      <th>Essay</th>\n",
              "      <th>Rater_1 Score</th>\n",
              "      <th>Rater_2 Score</th>\n",
              "      <th>Total Score</th>\n",
              "      <th>Sent_Count</th>\n",
              "      <th>Word_Count</th>\n",
              "      <th>Char_Count</th>\n",
              "      <th>Avg_Word_Count</th>\n",
              "      <th>Avg_Sentence_Length</th>\n",
              "      <th>...</th>\n",
              "      <th>Adverb_Count</th>\n",
              "      <th>pNoun_Count</th>\n",
              "      <th>Spelling_Mistakes_Count</th>\n",
              "      <th>Without_White_Spaces</th>\n",
              "      <th>Essay_SpellingCorrected_LT</th>\n",
              "      <th>Count_Fullstops</th>\n",
              "      <th>Count_Exclamation</th>\n",
              "      <th>Count_Comma</th>\n",
              "      <th>Count_Questionmark</th>\n",
              "      <th>Count_Hyphens</th>\n",
              "    </tr>\n",
              "  </thead>\n",
              "  <tbody>\n",
              "    <tr>\n",
              "      <th>85</th>\n",
              "      <td>14919</td>\n",
              "      <td>In order to allow dirigibles to dock on the ro...</td>\n",
              "      <td>2.0</td>\n",
              "      <td>2.0</td>\n",
              "      <td>2.0</td>\n",
              "      <td>6</td>\n",
              "      <td>135</td>\n",
              "      <td>699</td>\n",
              "      <td>4.296296</td>\n",
              "      <td>22.5</td>\n",
              "      <td>...</td>\n",
              "      <td>11</td>\n",
              "      <td>1</td>\n",
              "      <td>1</td>\n",
              "      <td>In order to allow dirigibles to dock on the ro...</td>\n",
              "      <td>In order to allow dirigibles to dock on the ro...</td>\n",
              "      <td>6</td>\n",
              "      <td>0</td>\n",
              "      <td>9</td>\n",
              "      <td>0</td>\n",
              "      <td>0</td>\n",
              "    </tr>\n",
              "  </tbody>\n",
              "</table>\n",
              "<p>1 rows × 27 columns</p>\n",
              "</div>\n",
              "      <button class=\"colab-df-convert\" onclick=\"convertToInteractive('df-62314ae0-b15f-4597-8520-86d35632cf1f')\"\n",
              "              title=\"Convert this dataframe to an interactive table.\"\n",
              "              style=\"display:none;\">\n",
              "        \n",
              "  <svg xmlns=\"http://www.w3.org/2000/svg\" height=\"24px\"viewBox=\"0 0 24 24\"\n",
              "       width=\"24px\">\n",
              "    <path d=\"M0 0h24v24H0V0z\" fill=\"none\"/>\n",
              "    <path d=\"M18.56 5.44l.94 2.06.94-2.06 2.06-.94-2.06-.94-.94-2.06-.94 2.06-2.06.94zm-11 1L8.5 8.5l.94-2.06 2.06-.94-2.06-.94L8.5 2.5l-.94 2.06-2.06.94zm10 10l.94 2.06.94-2.06 2.06-.94-2.06-.94-.94-2.06-.94 2.06-2.06.94z\"/><path d=\"M17.41 7.96l-1.37-1.37c-.4-.4-.92-.59-1.43-.59-.52 0-1.04.2-1.43.59L10.3 9.45l-7.72 7.72c-.78.78-.78 2.05 0 2.83L4 21.41c.39.39.9.59 1.41.59.51 0 1.02-.2 1.41-.59l7.78-7.78 2.81-2.81c.8-.78.8-2.07 0-2.86zM5.41 20L4 18.59l7.72-7.72 1.47 1.35L5.41 20z\"/>\n",
              "  </svg>\n",
              "      </button>\n",
              "      \n",
              "  <style>\n",
              "    .colab-df-container {\n",
              "      display:flex;\n",
              "      flex-wrap:wrap;\n",
              "      gap: 12px;\n",
              "    }\n",
              "\n",
              "    .colab-df-convert {\n",
              "      background-color: #E8F0FE;\n",
              "      border: none;\n",
              "      border-radius: 50%;\n",
              "      cursor: pointer;\n",
              "      display: none;\n",
              "      fill: #1967D2;\n",
              "      height: 32px;\n",
              "      padding: 0 0 0 0;\n",
              "      width: 32px;\n",
              "    }\n",
              "\n",
              "    .colab-df-convert:hover {\n",
              "      background-color: #E2EBFA;\n",
              "      box-shadow: 0px 1px 2px rgba(60, 64, 67, 0.3), 0px 1px 3px 1px rgba(60, 64, 67, 0.15);\n",
              "      fill: #174EA6;\n",
              "    }\n",
              "\n",
              "    [theme=dark] .colab-df-convert {\n",
              "      background-color: #3B4455;\n",
              "      fill: #D2E3FC;\n",
              "    }\n",
              "\n",
              "    [theme=dark] .colab-df-convert:hover {\n",
              "      background-color: #434B5C;\n",
              "      box-shadow: 0px 1px 3px 1px rgba(0, 0, 0, 0.15);\n",
              "      filter: drop-shadow(0px 1px 2px rgba(0, 0, 0, 0.3));\n",
              "      fill: #FFFFFF;\n",
              "    }\n",
              "  </style>\n",
              "\n",
              "      <script>\n",
              "        const buttonEl =\n",
              "          document.querySelector('#df-62314ae0-b15f-4597-8520-86d35632cf1f button.colab-df-convert');\n",
              "        buttonEl.style.display =\n",
              "          google.colab.kernel.accessAllowed ? 'block' : 'none';\n",
              "\n",
              "        async function convertToInteractive(key) {\n",
              "          const element = document.querySelector('#df-62314ae0-b15f-4597-8520-86d35632cf1f');\n",
              "          const dataTable =\n",
              "            await google.colab.kernel.invokeFunction('convertToInteractive',\n",
              "                                                     [key], {});\n",
              "          if (!dataTable) return;\n",
              "\n",
              "          const docLinkHtml = 'Like what you see? Visit the ' +\n",
              "            '<a target=\"_blank\" href=https://colab.research.google.com/notebooks/data_table.ipynb>data table notebook</a>'\n",
              "            + ' to learn more about interactive tables.';\n",
              "          element.innerHTML = '';\n",
              "          dataTable['output_type'] = 'display_data';\n",
              "          await google.colab.output.renderOutput(dataTable, element);\n",
              "          const docLink = document.createElement('div');\n",
              "          docLink.innerHTML = docLinkHtml;\n",
              "          element.appendChild(docLink);\n",
              "        }\n",
              "      </script>\n",
              "    </div>\n",
              "  </div>\n",
              "  "
            ]
          },
          "metadata": {},
          "execution_count": 102
        }
      ],
      "source": [
        "Data_Essay_01[\"Count_Fullstops\"] , Data_Essay_01[\"Count_Exclamation\"] , Data_Essay_01[\"Count_Comma\"] , Data_Essay_01[\"Count_Questionmark\"] , Data_Essay_01[\"Count_Hyphens\"] = zip(*Data_Essay_01[\"Essay\"].map(Count_Punctuations))\n",
        "Data_Essay_01.sample()"
      ]
    },
    {
      "cell_type": "markdown",
      "metadata": {
        "id": "3mZ9RfrmQwpQ"
      },
      "source": [
        "##### Checking Capitalization Mistakes"
      ]
    },
    {
      "cell_type": "code",
      "execution_count": null,
      "metadata": {
        "id": "IP6L-cA7SArH"
      },
      "outputs": [],
      "source": [
        "def Check_Capitalization(Essay):\n",
        "  \"\"\"\n",
        "    Checks capitalization in each sentence of an essay\n",
        "\n",
        "    Args:\n",
        "    Essay: Words (Tokens) of each essay \n",
        "\n",
        "    Returns: \n",
        "    int\n",
        "\n",
        "  \"\"\"\n",
        "  count = 0\n",
        "\n",
        "  words = Essay.split()\n",
        "  alreadyCounted_Words = []\n",
        "  \n",
        "  for i in range(len(words) - 1):\n",
        "    if (i == 0):                                                    # Checking Capital Letter at the start of Sentence\n",
        "      if words[i] != words[i].title():\n",
        "        alreadyCounted_Words.append(words[i])\n",
        "        count = count + 1\n",
        "    elif \"@\" in words[i]:\n",
        "      continue\n",
        "    elif words[i] == '.' or words[i] == '\"':                         # Checking Capital Letters in start of every sentence & start of every quote\n",
        "      match = words[i+1]\n",
        "      if match != words[i+1].title():\n",
        "        alreadyCounted_Words.append(words[i])\n",
        "        count = count + 1\n",
        "        i = i + 1\n",
        "    \n",
        "    # Check if capital in middle \n",
        "    \n",
        "  # Checking if all proper nouns are capital or not\n",
        "\n",
        "  tagged_sent = nlp(Essay)\n",
        "\n",
        "  for i in range(len(tagged_sent)):\n",
        "    if tagged_sent[i].pos_ == \"PROPN\":\n",
        "      # print(tagged_sent[i]) \n",
        "      word = tagged_sent[i].text \n",
        "      if word in alreadyCounted_Words:\n",
        "        alreadyCounted_Words.remove(word)\n",
        "      elif word != word.title():\n",
        "        count = count + 1\n",
        "\n",
        "  return count"
      ]
    },
    {
      "cell_type": "code",
      "execution_count": null,
      "metadata": {
        "colab": {
          "base_uri": "https://localhost:8080/",
          "height": 313
        },
        "id": "AOma5U8XSBBn",
        "outputId": "a018f1b9-f518-4e25-f674-dda90d9d3ec6"
      },
      "outputs": [
        {
          "output_type": "execute_result",
          "data": {
            "text/plain": [
              "        ID                                              Essay  Rater_1 Score  \\\n",
              "727  15561  In the excerpt from \"The Mooring Mast\" by Marc...            3.0   \n",
              "\n",
              "     Rater_2 Score  Total Score  Sent_Count  Word_Count  Char_Count  \\\n",
              "727            4.0          4.0          11         325        1766   \n",
              "\n",
              "     Avg_Word_Count  Avg_Sentence_Length  ... pNoun_Count  \\\n",
              "727        4.541538            29.545455  ...          15   \n",
              "\n",
              "     Spelling_Mistakes_Count  \\\n",
              "727                        0   \n",
              "\n",
              "                                  Without_White_Spaces  \\\n",
              "727  In the excerpt from \"The Mooring Mast\" by Marc...   \n",
              "\n",
              "                            Essay_SpellingCorrected_LT  Count_Fullstops  \\\n",
              "727  In the excerpt from \"The Mooring Mast\" by Marc...               11   \n",
              "\n",
              "     Count_Exclamation  Count_Comma  Count_Questionmark  Count_Hyphens  \\\n",
              "727                  1            8                   0              0   \n",
              "\n",
              "     Capitalization_Errors  \n",
              "727                      0  \n",
              "\n",
              "[1 rows x 28 columns]"
            ],
            "text/html": [
              "\n",
              "  <div id=\"df-0e30bcbb-b66c-40ae-8e93-9e55bda3bf63\">\n",
              "    <div class=\"colab-df-container\">\n",
              "      <div>\n",
              "<style scoped>\n",
              "    .dataframe tbody tr th:only-of-type {\n",
              "        vertical-align: middle;\n",
              "    }\n",
              "\n",
              "    .dataframe tbody tr th {\n",
              "        vertical-align: top;\n",
              "    }\n",
              "\n",
              "    .dataframe thead th {\n",
              "        text-align: right;\n",
              "    }\n",
              "</style>\n",
              "<table border=\"1\" class=\"dataframe\">\n",
              "  <thead>\n",
              "    <tr style=\"text-align: right;\">\n",
              "      <th></th>\n",
              "      <th>ID</th>\n",
              "      <th>Essay</th>\n",
              "      <th>Rater_1 Score</th>\n",
              "      <th>Rater_2 Score</th>\n",
              "      <th>Total Score</th>\n",
              "      <th>Sent_Count</th>\n",
              "      <th>Word_Count</th>\n",
              "      <th>Char_Count</th>\n",
              "      <th>Avg_Word_Count</th>\n",
              "      <th>Avg_Sentence_Length</th>\n",
              "      <th>...</th>\n",
              "      <th>pNoun_Count</th>\n",
              "      <th>Spelling_Mistakes_Count</th>\n",
              "      <th>Without_White_Spaces</th>\n",
              "      <th>Essay_SpellingCorrected_LT</th>\n",
              "      <th>Count_Fullstops</th>\n",
              "      <th>Count_Exclamation</th>\n",
              "      <th>Count_Comma</th>\n",
              "      <th>Count_Questionmark</th>\n",
              "      <th>Count_Hyphens</th>\n",
              "      <th>Capitalization_Errors</th>\n",
              "    </tr>\n",
              "  </thead>\n",
              "  <tbody>\n",
              "    <tr>\n",
              "      <th>727</th>\n",
              "      <td>15561</td>\n",
              "      <td>In the excerpt from \"The Mooring Mast\" by Marc...</td>\n",
              "      <td>3.0</td>\n",
              "      <td>4.0</td>\n",
              "      <td>4.0</td>\n",
              "      <td>11</td>\n",
              "      <td>325</td>\n",
              "      <td>1766</td>\n",
              "      <td>4.541538</td>\n",
              "      <td>29.545455</td>\n",
              "      <td>...</td>\n",
              "      <td>15</td>\n",
              "      <td>0</td>\n",
              "      <td>In the excerpt from \"The Mooring Mast\" by Marc...</td>\n",
              "      <td>In the excerpt from \"The Mooring Mast\" by Marc...</td>\n",
              "      <td>11</td>\n",
              "      <td>1</td>\n",
              "      <td>8</td>\n",
              "      <td>0</td>\n",
              "      <td>0</td>\n",
              "      <td>0</td>\n",
              "    </tr>\n",
              "  </tbody>\n",
              "</table>\n",
              "<p>1 rows × 28 columns</p>\n",
              "</div>\n",
              "      <button class=\"colab-df-convert\" onclick=\"convertToInteractive('df-0e30bcbb-b66c-40ae-8e93-9e55bda3bf63')\"\n",
              "              title=\"Convert this dataframe to an interactive table.\"\n",
              "              style=\"display:none;\">\n",
              "        \n",
              "  <svg xmlns=\"http://www.w3.org/2000/svg\" height=\"24px\"viewBox=\"0 0 24 24\"\n",
              "       width=\"24px\">\n",
              "    <path d=\"M0 0h24v24H0V0z\" fill=\"none\"/>\n",
              "    <path d=\"M18.56 5.44l.94 2.06.94-2.06 2.06-.94-2.06-.94-.94-2.06-.94 2.06-2.06.94zm-11 1L8.5 8.5l.94-2.06 2.06-.94-2.06-.94L8.5 2.5l-.94 2.06-2.06.94zm10 10l.94 2.06.94-2.06 2.06-.94-2.06-.94-.94-2.06-.94 2.06-2.06.94z\"/><path d=\"M17.41 7.96l-1.37-1.37c-.4-.4-.92-.59-1.43-.59-.52 0-1.04.2-1.43.59L10.3 9.45l-7.72 7.72c-.78.78-.78 2.05 0 2.83L4 21.41c.39.39.9.59 1.41.59.51 0 1.02-.2 1.41-.59l7.78-7.78 2.81-2.81c.8-.78.8-2.07 0-2.86zM5.41 20L4 18.59l7.72-7.72 1.47 1.35L5.41 20z\"/>\n",
              "  </svg>\n",
              "      </button>\n",
              "      \n",
              "  <style>\n",
              "    .colab-df-container {\n",
              "      display:flex;\n",
              "      flex-wrap:wrap;\n",
              "      gap: 12px;\n",
              "    }\n",
              "\n",
              "    .colab-df-convert {\n",
              "      background-color: #E8F0FE;\n",
              "      border: none;\n",
              "      border-radius: 50%;\n",
              "      cursor: pointer;\n",
              "      display: none;\n",
              "      fill: #1967D2;\n",
              "      height: 32px;\n",
              "      padding: 0 0 0 0;\n",
              "      width: 32px;\n",
              "    }\n",
              "\n",
              "    .colab-df-convert:hover {\n",
              "      background-color: #E2EBFA;\n",
              "      box-shadow: 0px 1px 2px rgba(60, 64, 67, 0.3), 0px 1px 3px 1px rgba(60, 64, 67, 0.15);\n",
              "      fill: #174EA6;\n",
              "    }\n",
              "\n",
              "    [theme=dark] .colab-df-convert {\n",
              "      background-color: #3B4455;\n",
              "      fill: #D2E3FC;\n",
              "    }\n",
              "\n",
              "    [theme=dark] .colab-df-convert:hover {\n",
              "      background-color: #434B5C;\n",
              "      box-shadow: 0px 1px 3px 1px rgba(0, 0, 0, 0.15);\n",
              "      filter: drop-shadow(0px 1px 2px rgba(0, 0, 0, 0.3));\n",
              "      fill: #FFFFFF;\n",
              "    }\n",
              "  </style>\n",
              "\n",
              "      <script>\n",
              "        const buttonEl =\n",
              "          document.querySelector('#df-0e30bcbb-b66c-40ae-8e93-9e55bda3bf63 button.colab-df-convert');\n",
              "        buttonEl.style.display =\n",
              "          google.colab.kernel.accessAllowed ? 'block' : 'none';\n",
              "\n",
              "        async function convertToInteractive(key) {\n",
              "          const element = document.querySelector('#df-0e30bcbb-b66c-40ae-8e93-9e55bda3bf63');\n",
              "          const dataTable =\n",
              "            await google.colab.kernel.invokeFunction('convertToInteractive',\n",
              "                                                     [key], {});\n",
              "          if (!dataTable) return;\n",
              "\n",
              "          const docLinkHtml = 'Like what you see? Visit the ' +\n",
              "            '<a target=\"_blank\" href=https://colab.research.google.com/notebooks/data_table.ipynb>data table notebook</a>'\n",
              "            + ' to learn more about interactive tables.';\n",
              "          element.innerHTML = '';\n",
              "          dataTable['output_type'] = 'display_data';\n",
              "          await google.colab.output.renderOutput(dataTable, element);\n",
              "          const docLink = document.createElement('div');\n",
              "          docLink.innerHTML = docLinkHtml;\n",
              "          element.appendChild(docLink);\n",
              "        }\n",
              "      </script>\n",
              "    </div>\n",
              "  </div>\n",
              "  "
            ]
          },
          "metadata": {},
          "execution_count": 104
        }
      ],
      "source": [
        "Data_Essay_01[\"Preprocessed_Essay\"] =  Data_Essay_01[\"Essay\"].apply(Remove_NER)\n",
        "Data_Essay_01[\"Capitalization_Errors\"] = Data_Essay_01[\"Preprocessed_Essay\"].apply(Check_Capitalization)\n",
        "Data_Essay_01.sample()"
      ]
    },
    {
      "cell_type": "code",
      "execution_count": null,
      "metadata": {
        "colab": {
          "base_uri": "https://localhost:8080/",
          "height": 34
        },
        "id": "jhbLU6O6ZVen",
        "outputId": "4d40f767-dd05-404d-8251-792bfa2235af"
      },
      "outputs": [
        {
          "output_type": "display_data",
          "data": {
            "text/plain": [
              "<IPython.core.display.Javascript object>"
            ],
            "application/javascript": [
              "\n",
              "    async function download(id, filename, size) {\n",
              "      if (!google.colab.kernel.accessAllowed) {\n",
              "        return;\n",
              "      }\n",
              "      const div = document.createElement('div');\n",
              "      const label = document.createElement('label');\n",
              "      label.textContent = `Downloading \"${filename}\": `;\n",
              "      div.appendChild(label);\n",
              "      const progress = document.createElement('progress');\n",
              "      progress.max = size;\n",
              "      div.appendChild(progress);\n",
              "      document.body.appendChild(div);\n",
              "\n",
              "      const buffers = [];\n",
              "      let downloaded = 0;\n",
              "\n",
              "      const channel = await google.colab.kernel.comms.open(id);\n",
              "      // Send a message to notify the kernel that we're ready.\n",
              "      channel.send({})\n",
              "\n",
              "      for await (const message of channel.messages) {\n",
              "        // Send a message to notify the kernel that we're ready.\n",
              "        channel.send({})\n",
              "        if (message.buffers) {\n",
              "          for (const buffer of message.buffers) {\n",
              "            buffers.push(buffer);\n",
              "            downloaded += buffer.byteLength;\n",
              "            progress.value = downloaded;\n",
              "          }\n",
              "        }\n",
              "      }\n",
              "      const blob = new Blob(buffers, {type: 'application/binary'});\n",
              "      const a = document.createElement('a');\n",
              "      a.href = window.URL.createObjectURL(blob);\n",
              "      a.download = filename;\n",
              "      div.appendChild(a);\n",
              "      a.click();\n",
              "      div.remove();\n",
              "    }\n",
              "  "
            ]
          },
          "metadata": {}
        },
        {
          "output_type": "display_data",
          "data": {
            "text/plain": [
              "<IPython.core.display.Javascript object>"
            ],
            "application/javascript": [
              "download(\"download_8e76890b-ba25-4540-a88e-58bfe69c6c20\", \"Output_2.csv\", 6620709)"
            ]
          },
          "metadata": {}
        }
      ],
      "source": [
        "Data_Essay_01.to_csv(\"Output_2.csv\")\n",
        "files.download('/content/Output_2.csv')"
      ]
    },
    {
      "cell_type": "markdown",
      "metadata": {
        "id": "qEPOKuVJRz1-"
      },
      "source": [
        "##### Checking Punctuation Mistakes **(Incomplete)**\n",
        "\n"
      ]
    },
    {
      "cell_type": "code",
      "execution_count": null,
      "metadata": {
        "id": "9oOhfQJHdo0C"
      },
      "outputs": [],
      "source": [
        "from transformers import AutoTokenizer, AutoModelForTokenClassification , pipeline"
      ]
    },
    {
      "cell_type": "code",
      "execution_count": null,
      "metadata": {
        "id": "Wa2ndqK-T2p_"
      },
      "outputs": [],
      "source": [
        "tokenizer = AutoTokenizer.from_pretrained('oliverguhr/fullstop-punctuation-multilang-large')\n",
        "model = AutoModelForTokenClassification.from_pretrained('oliverguhr/fullstop-punctuation-multilang-large')\n",
        "pun = pipeline('ner' , model = model , tokenizer = tokenizer)"
      ]
    },
    {
      "cell_type": "code",
      "execution_count": null,
      "metadata": {
        "id": "BZ4O_fCzUwHL"
      },
      "outputs": [],
      "source": [
        "tags = pun(text)\n",
        "\n",
        "Updated_string = ''\n",
        "\n",
        "for output in tags:\n",
        "  result = output['word'].replace('▁' , ' ') + output['entity'].replace('0', '')\n",
        "  Updated_string += result\n",
        "\n",
        "Updated_string"
      ]
    },
    {
      "cell_type": "code",
      "execution_count": null,
      "metadata": {
        "id": "cjcop4Kfrkb2"
      },
      "outputs": [],
      "source": [
        "def Punctuation_Errors(essays):\n",
        "    matches = tool.check(essays)\n",
        "    is_bad_rule = lambda rule: rule.category == 'PUNCTUATION'\n",
        "    matches = [rule for rule in matches if is_bad_rule(rule)]\n",
        "    return len(matches)"
      ]
    },
    {
      "cell_type": "code",
      "execution_count": null,
      "metadata": {
        "id": "_TNsg7Eerlz_"
      },
      "outputs": [],
      "source": [
        "Data_Essay_01[\"Without_White_Spaces\"] = Data_Essay_01[\"Essay\"].apply(Remove_White_Spaces)"
      ]
    },
    {
      "cell_type": "code",
      "execution_count": null,
      "metadata": {
        "id": "SJtdDornsMoF"
      },
      "outputs": [],
      "source": [
        "Data_Essay_01[\"Punctuation_Errors\"] = Data_Essay_01[\"Without_White_Spaces\"].apply(Punctuation_Errors)"
      ]
    },
    {
      "cell_type": "markdown",
      "metadata": {
        "id": "kZEkV3-ruDBc"
      },
      "source": [
        "#### **Grammar Error Detection**"
      ]
    },
    {
      "cell_type": "code",
      "execution_count": null,
      "metadata": {
        "colab": {
          "base_uri": "https://localhost:8080/",
          "height": 206
        },
        "id": "3CrujkhOuQ_f",
        "outputId": "1f804503-bd34-4dec-c330-188da4d9ffe9"
      },
      "outputs": [
        {
          "output_type": "execute_result",
          "data": {
            "text/plain": [
              "                          Essay_SpellingCorrected_LT  Sent_Count\n",
              "0  There were many obstacles that the builders fa...           6\n",
              "1  Him from the start, there would have been many...           9\n",
              "2  The builders of the Empire State Building face...           8\n",
              "3  In the passage The Mooring Mast by Marcia Amid...           7\n",
              "4  The builders of the Empire State Building face...          10"
            ],
            "text/html": [
              "\n",
              "  <div id=\"df-ebb71d6e-9504-4cc2-9972-80dfd882a679\">\n",
              "    <div class=\"colab-df-container\">\n",
              "      <div>\n",
              "<style scoped>\n",
              "    .dataframe tbody tr th:only-of-type {\n",
              "        vertical-align: middle;\n",
              "    }\n",
              "\n",
              "    .dataframe tbody tr th {\n",
              "        vertical-align: top;\n",
              "    }\n",
              "\n",
              "    .dataframe thead th {\n",
              "        text-align: right;\n",
              "    }\n",
              "</style>\n",
              "<table border=\"1\" class=\"dataframe\">\n",
              "  <thead>\n",
              "    <tr style=\"text-align: right;\">\n",
              "      <th></th>\n",
              "      <th>Essay_SpellingCorrected_LT</th>\n",
              "      <th>Sent_Count</th>\n",
              "    </tr>\n",
              "  </thead>\n",
              "  <tbody>\n",
              "    <tr>\n",
              "      <th>0</th>\n",
              "      <td>There were many obstacles that the builders fa...</td>\n",
              "      <td>6</td>\n",
              "    </tr>\n",
              "    <tr>\n",
              "      <th>1</th>\n",
              "      <td>Him from the start, there would have been many...</td>\n",
              "      <td>9</td>\n",
              "    </tr>\n",
              "    <tr>\n",
              "      <th>2</th>\n",
              "      <td>The builders of the Empire State Building face...</td>\n",
              "      <td>8</td>\n",
              "    </tr>\n",
              "    <tr>\n",
              "      <th>3</th>\n",
              "      <td>In the passage The Mooring Mast by Marcia Amid...</td>\n",
              "      <td>7</td>\n",
              "    </tr>\n",
              "    <tr>\n",
              "      <th>4</th>\n",
              "      <td>The builders of the Empire State Building face...</td>\n",
              "      <td>10</td>\n",
              "    </tr>\n",
              "  </tbody>\n",
              "</table>\n",
              "</div>\n",
              "      <button class=\"colab-df-convert\" onclick=\"convertToInteractive('df-ebb71d6e-9504-4cc2-9972-80dfd882a679')\"\n",
              "              title=\"Convert this dataframe to an interactive table.\"\n",
              "              style=\"display:none;\">\n",
              "        \n",
              "  <svg xmlns=\"http://www.w3.org/2000/svg\" height=\"24px\"viewBox=\"0 0 24 24\"\n",
              "       width=\"24px\">\n",
              "    <path d=\"M0 0h24v24H0V0z\" fill=\"none\"/>\n",
              "    <path d=\"M18.56 5.44l.94 2.06.94-2.06 2.06-.94-2.06-.94-.94-2.06-.94 2.06-2.06.94zm-11 1L8.5 8.5l.94-2.06 2.06-.94-2.06-.94L8.5 2.5l-.94 2.06-2.06.94zm10 10l.94 2.06.94-2.06 2.06-.94-2.06-.94-.94-2.06-.94 2.06-2.06.94z\"/><path d=\"M17.41 7.96l-1.37-1.37c-.4-.4-.92-.59-1.43-.59-.52 0-1.04.2-1.43.59L10.3 9.45l-7.72 7.72c-.78.78-.78 2.05 0 2.83L4 21.41c.39.39.9.59 1.41.59.51 0 1.02-.2 1.41-.59l7.78-7.78 2.81-2.81c.8-.78.8-2.07 0-2.86zM5.41 20L4 18.59l7.72-7.72 1.47 1.35L5.41 20z\"/>\n",
              "  </svg>\n",
              "      </button>\n",
              "      \n",
              "  <style>\n",
              "    .colab-df-container {\n",
              "      display:flex;\n",
              "      flex-wrap:wrap;\n",
              "      gap: 12px;\n",
              "    }\n",
              "\n",
              "    .colab-df-convert {\n",
              "      background-color: #E8F0FE;\n",
              "      border: none;\n",
              "      border-radius: 50%;\n",
              "      cursor: pointer;\n",
              "      display: none;\n",
              "      fill: #1967D2;\n",
              "      height: 32px;\n",
              "      padding: 0 0 0 0;\n",
              "      width: 32px;\n",
              "    }\n",
              "\n",
              "    .colab-df-convert:hover {\n",
              "      background-color: #E2EBFA;\n",
              "      box-shadow: 0px 1px 2px rgba(60, 64, 67, 0.3), 0px 1px 3px 1px rgba(60, 64, 67, 0.15);\n",
              "      fill: #174EA6;\n",
              "    }\n",
              "\n",
              "    [theme=dark] .colab-df-convert {\n",
              "      background-color: #3B4455;\n",
              "      fill: #D2E3FC;\n",
              "    }\n",
              "\n",
              "    [theme=dark] .colab-df-convert:hover {\n",
              "      background-color: #434B5C;\n",
              "      box-shadow: 0px 1px 3px 1px rgba(0, 0, 0, 0.15);\n",
              "      filter: drop-shadow(0px 1px 2px rgba(0, 0, 0, 0.3));\n",
              "      fill: #FFFFFF;\n",
              "    }\n",
              "  </style>\n",
              "\n",
              "      <script>\n",
              "        const buttonEl =\n",
              "          document.querySelector('#df-ebb71d6e-9504-4cc2-9972-80dfd882a679 button.colab-df-convert');\n",
              "        buttonEl.style.display =\n",
              "          google.colab.kernel.accessAllowed ? 'block' : 'none';\n",
              "\n",
              "        async function convertToInteractive(key) {\n",
              "          const element = document.querySelector('#df-ebb71d6e-9504-4cc2-9972-80dfd882a679');\n",
              "          const dataTable =\n",
              "            await google.colab.kernel.invokeFunction('convertToInteractive',\n",
              "                                                     [key], {});\n",
              "          if (!dataTable) return;\n",
              "\n",
              "          const docLinkHtml = 'Like what you see? Visit the ' +\n",
              "            '<a target=\"_blank\" href=https://colab.research.google.com/notebooks/data_table.ipynb>data table notebook</a>'\n",
              "            + ' to learn more about interactive tables.';\n",
              "          element.innerHTML = '';\n",
              "          dataTable['output_type'] = 'display_data';\n",
              "          await google.colab.output.renderOutput(dataTable, element);\n",
              "          const docLink = document.createElement('div');\n",
              "          docLink.innerHTML = docLinkHtml;\n",
              "          element.appendChild(docLink);\n",
              "        }\n",
              "      </script>\n",
              "    </div>\n",
              "  </div>\n",
              "  "
            ]
          },
          "metadata": {},
          "execution_count": 106
        }
      ],
      "source": [
        "df1 = Data_Essay_01[['Essay_SpellingCorrected_LT', 'Sent_Count']]\n",
        "df1.head()"
      ]
    },
    {
      "cell_type": "code",
      "execution_count": null,
      "metadata": {
        "id": "2kdFSdAfuSWo"
      },
      "outputs": [],
      "source": [
        "def Grammar_Errors(essays):\n",
        "    matches = tool.check(essays)\n",
        "    is_bad_rule = lambda rule: rule.category == 'GRAMMAR'\n",
        "    matches = [rule for rule in matches if is_bad_rule(rule)]\n",
        "    errors = []\n",
        "    #language_tool_python.utils.correct(text, matches)   # to correct it\n",
        "    for i in range(0, len(matches)):\n",
        "      errors.append(matches[i].ruleId)  # or category of the error (Misc, Whitespace, Typography)\n",
        "    return len(matches), errors"
      ]
    },
    {
      "cell_type": "code",
      "execution_count": null,
      "metadata": {
        "id": "UCNsXW7MuToX"
      },
      "outputs": [],
      "source": [
        "Data_Essay_01['Grammar_Error_Count'], Data_Essay_01['Grammar_Error_List'] = zip(*df1['Essay_SpellingCorrected_LT'].map(Grammar_Errors))"
      ]
    },
    {
      "cell_type": "code",
      "execution_count": null,
      "metadata": {
        "id": "qby9k_DduUsX",
        "colab": {
          "base_uri": "https://localhost:8080/"
        },
        "outputId": "af1a4dbd-7411-4ddc-c100-78f0dacfebbb"
      },
      "outputs": [
        {
          "output_type": "execute_result",
          "data": {
            "text/plain": [
              "Index(['ID', 'Essay', 'Rater_1 Score', 'Rater_2 Score', 'Total Score',\n",
              "       'Sent_Count', 'Word_Count', 'Char_Count', 'Avg_Word_Count',\n",
              "       'Avg_Sentence_Length', 'Preprocessed_Essay', 'Syllable_Count',\n",
              "       'Difficult_Word_Count', 'Verb_Count', 'Noun_Count', 'Adj_Count',\n",
              "       'Conj_Count', 'Adverb_Count', 'pNoun_Count', 'Spelling_Mistakes_Count',\n",
              "       'Without_White_Spaces', 'Essay_SpellingCorrected_LT', 'Count_Fullstops',\n",
              "       'Count_Exclamation', 'Count_Comma', 'Count_Questionmark',\n",
              "       'Count_Hyphens', 'Capitalization_Errors', 'Grammar_Error_Count',\n",
              "       'Grammar_Error_List'],\n",
              "      dtype='object')"
            ]
          },
          "metadata": {},
          "execution_count": 109
        }
      ],
      "source": [
        "Data_Essay_01.columns"
      ]
    },
    {
      "cell_type": "code",
      "execution_count": null,
      "metadata": {
        "id": "4KttcpfcuV6f",
        "colab": {
          "base_uri": "https://localhost:8080/"
        },
        "outputId": "6918c89d-887b-4578-d543-5443d3fc9209"
      },
      "outputs": [
        {
          "output_type": "stream",
          "name": "stdout",
          "text": [
            "GOING_TO_JJ                              78\n",
            "OVER_COMPOUNDS                           39\n",
            "AIRCRAFTS                                36\n",
            "MD_BASEFORM                              30\n",
            "A_NNS                                    26\n",
            "                                         ..\n",
            "MISSING_TO_BEFORE_A_VERB                  1\n",
            "IF_YOU_ANY                                1\n",
            "HOW_COMPOUNDS                             1\n",
            "AUXILIARY_DO_WITH_INCORRECT_VERB_FORM     1\n",
            "SINGULAR_VERB_AFTER_THESE_OR_THOSE        1\n",
            "Name: Grammar_Error_List, Length: 122, dtype: int64\n"
          ]
        }
      ],
      "source": [
        "print(Data_Essay_01['Grammar_Error_List'].explode().value_counts())"
      ]
    },
    {
      "cell_type": "markdown",
      "metadata": {
        "id": "ttyjcisFxNHZ"
      },
      "source": [
        "#### **Lexical Sophistication** (Incomplete)"
      ]
    },
    {
      "cell_type": "code",
      "execution_count": null,
      "metadata": {
        "id": "PT5e5b5axQSg"
      },
      "outputs": [],
      "source": [
        "pip install taaled\n",
        "#RESOURCES FOR LEXICAL SOPHISTICATION \n",
        "#https://eli-data-mining-group.github.io/Pitt-ELI-Corpus/publications/Naismith_2019.pdf\n",
        "#https://pypi.org/project/taaled/\n",
        "#https://github.com/LCR-ADS-Lab/pylats"
      ]
    },
    {
      "cell_type": "code",
      "execution_count": null,
      "metadata": {
        "id": "vVX_WRUzxQNg"
      },
      "outputs": [],
      "source": []
    },
    {
      "cell_type": "code",
      "execution_count": null,
      "metadata": {
        "id": "LL9lGScHxQFh"
      },
      "outputs": [],
      "source": []
    },
    {
      "cell_type": "markdown",
      "metadata": {
        "id": "iNcrlo78xaLJ"
      },
      "source": [
        "### **Content**\n",
        "\n",
        "This section will cover:\n",
        "\n",
        "\n",
        "*   Latent Semantic Analysis (LSA)\n"
      ]
    },
    {
      "cell_type": "markdown",
      "metadata": {
        "id": "0Mv-IDjowJET"
      },
      "source": [
        "#### **Latent Semantic Analysis (LSA)** (Incomplete)\n",
        "\n",
        "Content analysis generally implies only a high-level semantic analysis and comparison with source text and graded essays"
      ]
    },
    {
      "cell_type": "code",
      "execution_count": null,
      "metadata": {
        "id": "1gs2o1P6xesp"
      },
      "outputs": [],
      "source": []
    },
    {
      "cell_type": "markdown",
      "metadata": {
        "id": "JrFCVazK5PRT"
      },
      "source": [
        "### **Semantic Similarity with Sentence Transformer**\n",
        "\n",
        "1. First, we convert the two texts into individual vector representations\n",
        "2. Then, we used a metric like cosine similarity to determine the similarity between the two vectors we're comparing.\n",
        "\n",
        "https://www.vennify.ai/semantic-similarity-sentence-transformers/\n",
        "\n",
        "```\n",
        "Execution Time: 27 minutes\n",
        "```\n",
        "\n"
      ]
    },
    {
      "cell_type": "code",
      "execution_count": null,
      "metadata": {
        "id": "fHI7ecG25Xix"
      },
      "outputs": [],
      "source": [
        "model = SentenceTransformer('all-MiniLM-L6-v2')"
      ]
    },
    {
      "cell_type": "code",
      "execution_count": null,
      "metadata": {
        "id": "r4JbLD3w5Xeb"
      },
      "outputs": [],
      "source": [
        "def Extract_Sentences(Essay):\n",
        "  sentences = sent_tokenize(Essay)\n",
        "  return sentences\n",
        "\n",
        "def Compute_Cosine_Similarity(Sentences):\n",
        "  Cosine_Similarities = []\n",
        "  for i in range(len(Sentences) - 1):\n",
        "      Cosine_Similarities.append(util.cos_sim(model.encode(Sentences[i]) , model.encode(Sentences[i+1])))\n",
        "  \n",
        "  if len(Cosine_Similarities) > 0:\n",
        "    Average = sum(Cosine_Similarities) / len(Cosine_Similarities)\n",
        "    return Average\n",
        "  else:\n",
        "    return 0"
      ]
    },
    {
      "cell_type": "code",
      "execution_count": null,
      "metadata": {
        "id": "p_I8DkrO5Xca",
        "colab": {
          "base_uri": "https://localhost:8080/"
        },
        "outputId": "c7cfc2af-31f4-4378-a2b5-54a5a7e125df"
      },
      "outputs": [
        {
          "output_type": "stream",
          "name": "stdout",
          "text": [
            "0.3084096908569336\n"
          ]
        }
      ],
      "source": [
        "Sentences = Extract_Sentences(Data_Essay_01[\"Essay\"][2])\n",
        "print(float(Compute_Cosine_Similarity(Sentences)))"
      ]
    },
    {
      "cell_type": "code",
      "execution_count": null,
      "metadata": {
        "id": "21IscGQmQj-9",
        "colab": {
          "base_uri": "https://localhost:8080/",
          "height": 838
        },
        "outputId": "6eb0df96-3db0-4fe3-daac-085e6502db55"
      },
      "outputs": [
        {
          "output_type": "execute_result",
          "data": {
            "text/plain": [
              "      ID                                              Essay  Rater_1 Score  \\\n",
              "0  14834  There were many obstacles that the builders fa...            2.0   \n",
              "1  14835  Him from the start, there would have been many...            3.0   \n",
              "2  14836  The builders of the Empire State Building face...            3.0   \n",
              "3  14837  In the passage The Mooring Mast by Marcia Amid...            1.0   \n",
              "4  14838  The builders of the Empire State Building face...            3.0   \n",
              "\n",
              "   Rater_2 Score  Total Score  Sent_Count  Word_Count  Char_Count  \\\n",
              "0            2.0          2.0           6         134         694   \n",
              "1            3.0          3.0           9         201        1052   \n",
              "2            4.0          4.0           8         180         938   \n",
              "3            1.0          1.0           7         213        1098   \n",
              "4            3.0          3.0          10         176         929   \n",
              "\n",
              "   Avg_Word_Count  Avg_Sentence_Length  ...  \\\n",
              "0        4.276119            22.333333  ...   \n",
              "1        4.343284            22.333333  ...   \n",
              "2        4.294444            22.500000  ...   \n",
              "3        4.262911            30.428571  ...   \n",
              "4        4.375000            17.600000  ...   \n",
              "\n",
              "                                Without_White_Spaces  \\\n",
              "0  There were many obstacles that the builders fa...   \n",
              "1  Him from the start, there would have been many...   \n",
              "2  The builders of the Empire State Building face...   \n",
              "3  In the passage The Mooring Mast by Marcia Amid...   \n",
              "4  The builders of the Empire State Building face...   \n",
              "\n",
              "                          Essay_SpellingCorrected_LT  Count_Fullstops  \\\n",
              "0  There were many obstacles that the builders fa...                6   \n",
              "1  Him from the start, there would have been many...                9   \n",
              "2  The builders of the Empire State Building face...                8   \n",
              "3  In the passage The Mooring Mast by Marcia Amid...                6   \n",
              "4  The builders of the Empire State Building face...               10   \n",
              "\n",
              "   Count_Exclamation  Count_Comma  Count_Questionmark  Count_Hyphens  \\\n",
              "0                  0            4                   0              0   \n",
              "1                  0           10                   0              0   \n",
              "2                  0            3                   0              0   \n",
              "3                  0            4                   0              0   \n",
              "4                  0            2                   0              0   \n",
              "\n",
              "   Capitalization_Errors  Grammar_Error_Count              Grammar_Error_List  \n",
              "0                      0                    0                              []  \n",
              "1                      0                    1                        [PRP_JJ]  \n",
              "2                      0                    1                [THERE_WAS_MANY]  \n",
              "3                      0                    2  [WORLDS_BEST, THE_SUPERLATIVE]  \n",
              "4                      0                    0                              []  \n",
              "\n",
              "[5 rows x 30 columns]"
            ],
            "text/html": [
              "\n",
              "  <div id=\"df-5340e172-ea5d-4861-9da9-a84487da1499\">\n",
              "    <div class=\"colab-df-container\">\n",
              "      <div>\n",
              "<style scoped>\n",
              "    .dataframe tbody tr th:only-of-type {\n",
              "        vertical-align: middle;\n",
              "    }\n",
              "\n",
              "    .dataframe tbody tr th {\n",
              "        vertical-align: top;\n",
              "    }\n",
              "\n",
              "    .dataframe thead th {\n",
              "        text-align: right;\n",
              "    }\n",
              "</style>\n",
              "<table border=\"1\" class=\"dataframe\">\n",
              "  <thead>\n",
              "    <tr style=\"text-align: right;\">\n",
              "      <th></th>\n",
              "      <th>ID</th>\n",
              "      <th>Essay</th>\n",
              "      <th>Rater_1 Score</th>\n",
              "      <th>Rater_2 Score</th>\n",
              "      <th>Total Score</th>\n",
              "      <th>Sent_Count</th>\n",
              "      <th>Word_Count</th>\n",
              "      <th>Char_Count</th>\n",
              "      <th>Avg_Word_Count</th>\n",
              "      <th>Avg_Sentence_Length</th>\n",
              "      <th>...</th>\n",
              "      <th>Without_White_Spaces</th>\n",
              "      <th>Essay_SpellingCorrected_LT</th>\n",
              "      <th>Count_Fullstops</th>\n",
              "      <th>Count_Exclamation</th>\n",
              "      <th>Count_Comma</th>\n",
              "      <th>Count_Questionmark</th>\n",
              "      <th>Count_Hyphens</th>\n",
              "      <th>Capitalization_Errors</th>\n",
              "      <th>Grammar_Error_Count</th>\n",
              "      <th>Grammar_Error_List</th>\n",
              "    </tr>\n",
              "  </thead>\n",
              "  <tbody>\n",
              "    <tr>\n",
              "      <th>0</th>\n",
              "      <td>14834</td>\n",
              "      <td>There were many obstacles that the builders fa...</td>\n",
              "      <td>2.0</td>\n",
              "      <td>2.0</td>\n",
              "      <td>2.0</td>\n",
              "      <td>6</td>\n",
              "      <td>134</td>\n",
              "      <td>694</td>\n",
              "      <td>4.276119</td>\n",
              "      <td>22.333333</td>\n",
              "      <td>...</td>\n",
              "      <td>There were many obstacles that the builders fa...</td>\n",
              "      <td>There were many obstacles that the builders fa...</td>\n",
              "      <td>6</td>\n",
              "      <td>0</td>\n",
              "      <td>4</td>\n",
              "      <td>0</td>\n",
              "      <td>0</td>\n",
              "      <td>0</td>\n",
              "      <td>0</td>\n",
              "      <td>[]</td>\n",
              "    </tr>\n",
              "    <tr>\n",
              "      <th>1</th>\n",
              "      <td>14835</td>\n",
              "      <td>Him from the start, there would have been many...</td>\n",
              "      <td>3.0</td>\n",
              "      <td>3.0</td>\n",
              "      <td>3.0</td>\n",
              "      <td>9</td>\n",
              "      <td>201</td>\n",
              "      <td>1052</td>\n",
              "      <td>4.343284</td>\n",
              "      <td>22.333333</td>\n",
              "      <td>...</td>\n",
              "      <td>Him from the start, there would have been many...</td>\n",
              "      <td>Him from the start, there would have been many...</td>\n",
              "      <td>9</td>\n",
              "      <td>0</td>\n",
              "      <td>10</td>\n",
              "      <td>0</td>\n",
              "      <td>0</td>\n",
              "      <td>0</td>\n",
              "      <td>1</td>\n",
              "      <td>[PRP_JJ]</td>\n",
              "    </tr>\n",
              "    <tr>\n",
              "      <th>2</th>\n",
              "      <td>14836</td>\n",
              "      <td>The builders of the Empire State Building face...</td>\n",
              "      <td>3.0</td>\n",
              "      <td>4.0</td>\n",
              "      <td>4.0</td>\n",
              "      <td>8</td>\n",
              "      <td>180</td>\n",
              "      <td>938</td>\n",
              "      <td>4.294444</td>\n",
              "      <td>22.500000</td>\n",
              "      <td>...</td>\n",
              "      <td>The builders of the Empire State Building face...</td>\n",
              "      <td>The builders of the Empire State Building face...</td>\n",
              "      <td>8</td>\n",
              "      <td>0</td>\n",
              "      <td>3</td>\n",
              "      <td>0</td>\n",
              "      <td>0</td>\n",
              "      <td>0</td>\n",
              "      <td>1</td>\n",
              "      <td>[THERE_WAS_MANY]</td>\n",
              "    </tr>\n",
              "    <tr>\n",
              "      <th>3</th>\n",
              "      <td>14837</td>\n",
              "      <td>In the passage The Mooring Mast by Marcia Amid...</td>\n",
              "      <td>1.0</td>\n",
              "      <td>1.0</td>\n",
              "      <td>1.0</td>\n",
              "      <td>7</td>\n",
              "      <td>213</td>\n",
              "      <td>1098</td>\n",
              "      <td>4.262911</td>\n",
              "      <td>30.428571</td>\n",
              "      <td>...</td>\n",
              "      <td>In the passage The Mooring Mast by Marcia Amid...</td>\n",
              "      <td>In the passage The Mooring Mast by Marcia Amid...</td>\n",
              "      <td>6</td>\n",
              "      <td>0</td>\n",
              "      <td>4</td>\n",
              "      <td>0</td>\n",
              "      <td>0</td>\n",
              "      <td>0</td>\n",
              "      <td>2</td>\n",
              "      <td>[WORLDS_BEST, THE_SUPERLATIVE]</td>\n",
              "    </tr>\n",
              "    <tr>\n",
              "      <th>4</th>\n",
              "      <td>14838</td>\n",
              "      <td>The builders of the Empire State Building face...</td>\n",
              "      <td>3.0</td>\n",
              "      <td>3.0</td>\n",
              "      <td>3.0</td>\n",
              "      <td>10</td>\n",
              "      <td>176</td>\n",
              "      <td>929</td>\n",
              "      <td>4.375000</td>\n",
              "      <td>17.600000</td>\n",
              "      <td>...</td>\n",
              "      <td>The builders of the Empire State Building face...</td>\n",
              "      <td>The builders of the Empire State Building face...</td>\n",
              "      <td>10</td>\n",
              "      <td>0</td>\n",
              "      <td>2</td>\n",
              "      <td>0</td>\n",
              "      <td>0</td>\n",
              "      <td>0</td>\n",
              "      <td>0</td>\n",
              "      <td>[]</td>\n",
              "    </tr>\n",
              "  </tbody>\n",
              "</table>\n",
              "<p>5 rows × 30 columns</p>\n",
              "</div>\n",
              "      <button class=\"colab-df-convert\" onclick=\"convertToInteractive('df-5340e172-ea5d-4861-9da9-a84487da1499')\"\n",
              "              title=\"Convert this dataframe to an interactive table.\"\n",
              "              style=\"display:none;\">\n",
              "        \n",
              "  <svg xmlns=\"http://www.w3.org/2000/svg\" height=\"24px\"viewBox=\"0 0 24 24\"\n",
              "       width=\"24px\">\n",
              "    <path d=\"M0 0h24v24H0V0z\" fill=\"none\"/>\n",
              "    <path d=\"M18.56 5.44l.94 2.06.94-2.06 2.06-.94-2.06-.94-.94-2.06-.94 2.06-2.06.94zm-11 1L8.5 8.5l.94-2.06 2.06-.94-2.06-.94L8.5 2.5l-.94 2.06-2.06.94zm10 10l.94 2.06.94-2.06 2.06-.94-2.06-.94-.94-2.06-.94 2.06-2.06.94z\"/><path d=\"M17.41 7.96l-1.37-1.37c-.4-.4-.92-.59-1.43-.59-.52 0-1.04.2-1.43.59L10.3 9.45l-7.72 7.72c-.78.78-.78 2.05 0 2.83L4 21.41c.39.39.9.59 1.41.59.51 0 1.02-.2 1.41-.59l7.78-7.78 2.81-2.81c.8-.78.8-2.07 0-2.86zM5.41 20L4 18.59l7.72-7.72 1.47 1.35L5.41 20z\"/>\n",
              "  </svg>\n",
              "      </button>\n",
              "      \n",
              "  <style>\n",
              "    .colab-df-container {\n",
              "      display:flex;\n",
              "      flex-wrap:wrap;\n",
              "      gap: 12px;\n",
              "    }\n",
              "\n",
              "    .colab-df-convert {\n",
              "      background-color: #E8F0FE;\n",
              "      border: none;\n",
              "      border-radius: 50%;\n",
              "      cursor: pointer;\n",
              "      display: none;\n",
              "      fill: #1967D2;\n",
              "      height: 32px;\n",
              "      padding: 0 0 0 0;\n",
              "      width: 32px;\n",
              "    }\n",
              "\n",
              "    .colab-df-convert:hover {\n",
              "      background-color: #E2EBFA;\n",
              "      box-shadow: 0px 1px 2px rgba(60, 64, 67, 0.3), 0px 1px 3px 1px rgba(60, 64, 67, 0.15);\n",
              "      fill: #174EA6;\n",
              "    }\n",
              "\n",
              "    [theme=dark] .colab-df-convert {\n",
              "      background-color: #3B4455;\n",
              "      fill: #D2E3FC;\n",
              "    }\n",
              "\n",
              "    [theme=dark] .colab-df-convert:hover {\n",
              "      background-color: #434B5C;\n",
              "      box-shadow: 0px 1px 3px 1px rgba(0, 0, 0, 0.15);\n",
              "      filter: drop-shadow(0px 1px 2px rgba(0, 0, 0, 0.3));\n",
              "      fill: #FFFFFF;\n",
              "    }\n",
              "  </style>\n",
              "\n",
              "      <script>\n",
              "        const buttonEl =\n",
              "          document.querySelector('#df-5340e172-ea5d-4861-9da9-a84487da1499 button.colab-df-convert');\n",
              "        buttonEl.style.display =\n",
              "          google.colab.kernel.accessAllowed ? 'block' : 'none';\n",
              "\n",
              "        async function convertToInteractive(key) {\n",
              "          const element = document.querySelector('#df-5340e172-ea5d-4861-9da9-a84487da1499');\n",
              "          const dataTable =\n",
              "            await google.colab.kernel.invokeFunction('convertToInteractive',\n",
              "                                                     [key], {});\n",
              "          if (!dataTable) return;\n",
              "\n",
              "          const docLinkHtml = 'Like what you see? Visit the ' +\n",
              "            '<a target=\"_blank\" href=https://colab.research.google.com/notebooks/data_table.ipynb>data table notebook</a>'\n",
              "            + ' to learn more about interactive tables.';\n",
              "          element.innerHTML = '';\n",
              "          dataTable['output_type'] = 'display_data';\n",
              "          await google.colab.output.renderOutput(dataTable, element);\n",
              "          const docLink = document.createElement('div');\n",
              "          docLink.innerHTML = docLinkHtml;\n",
              "          element.appendChild(docLink);\n",
              "        }\n",
              "      </script>\n",
              "    </div>\n",
              "  </div>\n",
              "  "
            ]
          },
          "metadata": {},
          "execution_count": 114
        }
      ],
      "source": [
        "Data_Essay_01.head()"
      ]
    },
    {
      "cell_type": "code",
      "execution_count": null,
      "metadata": {
        "id": "dDi6dKSgQb7u"
      },
      "outputs": [],
      "source": [
        "Data_Essay_01[\"Sentences_Tokenized\"] = Data_Essay_01[\"Essay\"].apply(Extract_Sentences)"
      ]
    },
    {
      "cell_type": "code",
      "execution_count": null,
      "metadata": {
        "id": "ZMnk1vNo8rrC"
      },
      "outputs": [],
      "source": [
        "# Data_Essay_01[\"Semantic_Similarity\"] = Data_Essay_01['Sentences_Tokenized'].apply(Compute_Cosine_Similarity)\n",
        "Data_Essay_01[\"Semantic_Similarity\"] = Data_Essay_01['Sentences_Tokenized'].map(Compute_Cosine_Similarity)"
      ]
    },
    {
      "cell_type": "code",
      "execution_count": null,
      "metadata": {
        "id": "CdaeTp-K8Jgl",
        "colab": {
          "base_uri": "https://localhost:8080/"
        },
        "outputId": "16956d55-ec20-4a61-ef41-4405391cbb77"
      },
      "outputs": [
        {
          "output_type": "execute_result",
          "data": {
            "text/plain": [
              "<bound method NDFrame.sample of          ID                                              Essay  Rater_1 Score  \\\n",
              "0     14834  There were many obstacles that the builders fa...            2.0   \n",
              "1     14835  Him from the start, there would have been many...            3.0   \n",
              "2     14836  The builders of the Empire State Building face...            3.0   \n",
              "3     14837  In the passage The Mooring Mast by Marcia Amid...            1.0   \n",
              "4     14838  The builders of the Empire State Building face...            3.0   \n",
              "...     ...                                                ...            ...   \n",
              "1795  16629  The one obstacle the builders had when trying ...            2.0   \n",
              "1796  16630  Some of the problems with the constructing of ...            1.0   \n",
              "1797  16631  The builders of the Empire State building face...            2.0   \n",
              "1798  16632  The obstacles the builders of the Empire State...            2.0   \n",
              "1799  16633  You want me to tell you what they had to go th...            2.0   \n",
              "\n",
              "      Rater_2 Score  Total Score  Sent_Count  Word_Count  Char_Count  \\\n",
              "0               2.0          2.0           6         134         694   \n",
              "1               3.0          3.0           9         201        1052   \n",
              "2               4.0          4.0           8         180         938   \n",
              "3               1.0          1.0           7         213        1098   \n",
              "4               3.0          3.0          10         176         929   \n",
              "...             ...          ...         ...         ...         ...   \n",
              "1795            0.0          0.0           8         171         861   \n",
              "1796            2.0          2.0           3          72         391   \n",
              "1797            3.0          3.0           5         119         607   \n",
              "1798            1.0          2.0           2          71         375   \n",
              "1799            2.0          2.0           9         179         838   \n",
              "\n",
              "      Avg_Word_Count  Avg_Sentence_Length  ... Count_Fullstops  \\\n",
              "0           4.276119            22.333333  ...               6   \n",
              "1           4.343284            22.333333  ...               9   \n",
              "2           4.294444            22.500000  ...               8   \n",
              "3           4.262911            30.428571  ...               6   \n",
              "4           4.375000            17.600000  ...              10   \n",
              "...              ...                  ...  ...             ...   \n",
              "1795        4.152047            21.375000  ...               8   \n",
              "1796        4.513889            24.000000  ...               3   \n",
              "1797        4.260504            23.800000  ...               5   \n",
              "1798        4.338028            35.500000  ...               2   \n",
              "1799        3.849162            19.888889  ...               6   \n",
              "\n",
              "      Count_Exclamation  Count_Comma  Count_Questionmark  Count_Hyphens  \\\n",
              "0                     0            4                   0              0   \n",
              "1                     0           10                   0              0   \n",
              "2                     0            3                   0              0   \n",
              "3                     0            4                   0              0   \n",
              "4                     0            2                   0              0   \n",
              "...                 ...          ...                 ...            ...   \n",
              "1795                  0            4                   0              0   \n",
              "1796                  0            2                   0              0   \n",
              "1797                  0            5                   0              0   \n",
              "1798                  0            1                   0              0   \n",
              "1799                  3            2                   1              0   \n",
              "\n",
              "      Capitalization_Errors  Grammar_Error_Count  \\\n",
              "0                         0                    0   \n",
              "1                         0                    1   \n",
              "2                         0                    1   \n",
              "3                         0                    2   \n",
              "4                         0                    0   \n",
              "...                     ...                  ...   \n",
              "1795                      3                    0   \n",
              "1796                      0                    0   \n",
              "1797                      0                    0   \n",
              "1798                      0                    0   \n",
              "1799                      0                    0   \n",
              "\n",
              "                  Grammar_Error_List  \\\n",
              "0                                 []   \n",
              "1                           [PRP_JJ]   \n",
              "2                   [THERE_WAS_MANY]   \n",
              "3     [WORLDS_BEST, THE_SUPERLATIVE]   \n",
              "4                                 []   \n",
              "...                              ...   \n",
              "1795                              []   \n",
              "1796                              []   \n",
              "1797                              []   \n",
              "1798                              []   \n",
              "1799                              []   \n",
              "\n",
              "                                    Sentences_Tokenized  Semantic_Similarity  \n",
              "0     [There were many obstacles that the builders f...   [[tensor(0.2733)]]  \n",
              "1     [Him from the start, there would have been man...   [[tensor(0.2744)]]  \n",
              "2     [The builders of the Empire State Building fac...   [[tensor(0.3084)]]  \n",
              "3     [In the passage The Mooring Mast by Marcia Ami...   [[tensor(0.2728)]]  \n",
              "4     [The builders of the Empire State Building fac...   [[tensor(0.2717)]]  \n",
              "...                                                 ...                  ...  \n",
              "1795  [The one obstacle the builders had when trying...   [[tensor(0.3558)]]  \n",
              "1796  [Some of the problems with the constructing of...   [[tensor(0.3086)]]  \n",
              "1797  [The builders of the Empire State building fac...   [[tensor(0.3189)]]  \n",
              "1798  [The obstacles the builders of the Empire Stat...   [[tensor(0.4929)]]  \n",
              "1799  [You want me to tell you what they had to go t...   [[tensor(0.2937)]]  \n",
              "\n",
              "[1800 rows x 32 columns]>"
            ]
          },
          "metadata": {},
          "execution_count": 117
        }
      ],
      "source": [
        "Data_Essay_01.sample"
      ]
    },
    {
      "cell_type": "code",
      "execution_count": null,
      "metadata": {
        "id": "plAlXCz75_dN"
      },
      "outputs": [],
      "source": [
        "Data_Essay_01[\"Semantic_Similarity\"] = Data_Essay_01[\"Semantic_Similarity\"].astype(float)"
      ]
    },
    {
      "cell_type": "code",
      "execution_count": null,
      "metadata": {
        "id": "UO4lErevZzoD",
        "colab": {
          "base_uri": "https://localhost:8080/",
          "height": 34
        },
        "outputId": "1145a4f3-89f7-4134-c71a-185305aec910"
      },
      "outputs": [
        {
          "output_type": "display_data",
          "data": {
            "text/plain": [
              "<IPython.core.display.Javascript object>"
            ],
            "application/javascript": [
              "\n",
              "    async function download(id, filename, size) {\n",
              "      if (!google.colab.kernel.accessAllowed) {\n",
              "        return;\n",
              "      }\n",
              "      const div = document.createElement('div');\n",
              "      const label = document.createElement('label');\n",
              "      label.textContent = `Downloading \"${filename}\": `;\n",
              "      div.appendChild(label);\n",
              "      const progress = document.createElement('progress');\n",
              "      progress.max = size;\n",
              "      div.appendChild(progress);\n",
              "      document.body.appendChild(div);\n",
              "\n",
              "      const buffers = [];\n",
              "      let downloaded = 0;\n",
              "\n",
              "      const channel = await google.colab.kernel.comms.open(id);\n",
              "      // Send a message to notify the kernel that we're ready.\n",
              "      channel.send({})\n",
              "\n",
              "      for await (const message of channel.messages) {\n",
              "        // Send a message to notify the kernel that we're ready.\n",
              "        channel.send({})\n",
              "        if (message.buffers) {\n",
              "          for (const buffer of message.buffers) {\n",
              "            buffers.push(buffer);\n",
              "            downloaded += buffer.byteLength;\n",
              "            progress.value = downloaded;\n",
              "          }\n",
              "        }\n",
              "      }\n",
              "      const blob = new Blob(buffers, {type: 'application/binary'});\n",
              "      const a = document.createElement('a');\n",
              "      a.href = window.URL.createObjectURL(blob);\n",
              "      a.download = filename;\n",
              "      div.appendChild(a);\n",
              "      a.click();\n",
              "      div.remove();\n",
              "    }\n",
              "  "
            ]
          },
          "metadata": {}
        },
        {
          "output_type": "display_data",
          "data": {
            "text/plain": [
              "<IPython.core.display.Javascript object>"
            ],
            "application/javascript": [
              "download(\"download_ce1cefc0-5322-44c9-8d9f-ed0ecb290fb9\", \"Output_3.csv\", 8336822)"
            ]
          },
          "metadata": {}
        }
      ],
      "source": [
        "Data_Essay_01.to_csv(\"Output_3.csv\")\n",
        "files.download('/content/Output_3.csv')"
      ]
    },
    {
      "cell_type": "markdown",
      "metadata": {
        "id": "nEFmhVcBwKAq"
      },
      "source": [
        "### **Connectivity**"
      ]
    },
    {
      "cell_type": "code",
      "execution_count": null,
      "metadata": {
        "id": "0XzVJV-ZRg2-",
        "colab": {
          "base_uri": "https://localhost:8080/",
          "height": 539
        },
        "outputId": "7cc79b1d-bc23-419c-bb96-338c51bac6ff"
      },
      "outputs": [
        {
          "output_type": "stream",
          "name": "stderr",
          "text": [
            "<ipython-input-120-451bee7a96ef>:3: SettingWithCopyWarning: \n",
            "A value is trying to be set on a copy of a slice from a DataFrame.\n",
            "Try using .loc[row_indexer,col_indexer] = value instead\n",
            "\n",
            "See the caveats in the documentation: https://pandas.pydata.org/pandas-docs/stable/user_guide/indexing.html#returning-a-view-versus-a-copy\n",
            "  df_connectors['Preprocessed_Essay_For_Connectors'] = df_connectors['Essay'].apply(LowerCase_Words)  # for ease in matching\n",
            "<ipython-input-120-451bee7a96ef>:4: SettingWithCopyWarning: \n",
            "A value is trying to be set on a copy of a slice from a DataFrame.\n",
            "Try using .loc[row_indexer,col_indexer] = value instead\n",
            "\n",
            "See the caveats in the documentation: https://pandas.pydata.org/pandas-docs/stable/user_guide/indexing.html#returning-a-view-versus-a-copy\n",
            "  df_connectors['Preprocessed_Essay_For_Connectors'] = df_connectors['Preprocessed_Essay_For_Connectors'].apply(Remove_NER) # no impact on connectors count, removing it to save computational time.\n",
            "<ipython-input-120-451bee7a96ef>:5: SettingWithCopyWarning: \n",
            "A value is trying to be set on a copy of a slice from a DataFrame.\n",
            "Try using .loc[row_indexer,col_indexer] = value instead\n",
            "\n",
            "See the caveats in the documentation: https://pandas.pydata.org/pandas-docs/stable/user_guide/indexing.html#returning-a-view-versus-a-copy\n",
            "  df_connectors['Preprocessed_Essay_For_Connectors'] = df_connectors['Preprocessed_Essay_For_Connectors'].apply(Remove_White_Spaces) # for ease in ngrams\n"
          ]
        },
        {
          "output_type": "execute_result",
          "data": {
            "text/plain": [
              "                                               Essay  Sent_Count  \\\n",
              "0  There were many obstacles that the builders fa...           6   \n",
              "1  Him from the start, there would have been many...           9   \n",
              "2  The builders of the Empire State Building face...           8   \n",
              "3  In the passage The Mooring Mast by Marcia Amid...           7   \n",
              "4  The builders of the Empire State Building face...          10   \n",
              "\n",
              "                   Preprocessed_Essay_For_Connectors  \n",
              "0  there were many obstacles that the builders fa...  \n",
              "1  him from the start, there would have been many...  \n",
              "2  the builders of the empire state building face...  \n",
              "3  in the passage the mooring mast by marcia amid...  \n",
              "4  the builders of the empire state building face...  "
            ],
            "text/html": [
              "\n",
              "  <div id=\"df-eda25fb4-603f-4b40-8a10-244d1794d426\">\n",
              "    <div class=\"colab-df-container\">\n",
              "      <div>\n",
              "<style scoped>\n",
              "    .dataframe tbody tr th:only-of-type {\n",
              "        vertical-align: middle;\n",
              "    }\n",
              "\n",
              "    .dataframe tbody tr th {\n",
              "        vertical-align: top;\n",
              "    }\n",
              "\n",
              "    .dataframe thead th {\n",
              "        text-align: right;\n",
              "    }\n",
              "</style>\n",
              "<table border=\"1\" class=\"dataframe\">\n",
              "  <thead>\n",
              "    <tr style=\"text-align: right;\">\n",
              "      <th></th>\n",
              "      <th>Essay</th>\n",
              "      <th>Sent_Count</th>\n",
              "      <th>Preprocessed_Essay_For_Connectors</th>\n",
              "    </tr>\n",
              "  </thead>\n",
              "  <tbody>\n",
              "    <tr>\n",
              "      <th>0</th>\n",
              "      <td>There were many obstacles that the builders fa...</td>\n",
              "      <td>6</td>\n",
              "      <td>there were many obstacles that the builders fa...</td>\n",
              "    </tr>\n",
              "    <tr>\n",
              "      <th>1</th>\n",
              "      <td>Him from the start, there would have been many...</td>\n",
              "      <td>9</td>\n",
              "      <td>him from the start, there would have been many...</td>\n",
              "    </tr>\n",
              "    <tr>\n",
              "      <th>2</th>\n",
              "      <td>The builders of the Empire State Building face...</td>\n",
              "      <td>8</td>\n",
              "      <td>the builders of the empire state building face...</td>\n",
              "    </tr>\n",
              "    <tr>\n",
              "      <th>3</th>\n",
              "      <td>In the passage The Mooring Mast by Marcia Amid...</td>\n",
              "      <td>7</td>\n",
              "      <td>in the passage the mooring mast by marcia amid...</td>\n",
              "    </tr>\n",
              "    <tr>\n",
              "      <th>4</th>\n",
              "      <td>The builders of the Empire State Building face...</td>\n",
              "      <td>10</td>\n",
              "      <td>the builders of the empire state building face...</td>\n",
              "    </tr>\n",
              "  </tbody>\n",
              "</table>\n",
              "</div>\n",
              "      <button class=\"colab-df-convert\" onclick=\"convertToInteractive('df-eda25fb4-603f-4b40-8a10-244d1794d426')\"\n",
              "              title=\"Convert this dataframe to an interactive table.\"\n",
              "              style=\"display:none;\">\n",
              "        \n",
              "  <svg xmlns=\"http://www.w3.org/2000/svg\" height=\"24px\"viewBox=\"0 0 24 24\"\n",
              "       width=\"24px\">\n",
              "    <path d=\"M0 0h24v24H0V0z\" fill=\"none\"/>\n",
              "    <path d=\"M18.56 5.44l.94 2.06.94-2.06 2.06-.94-2.06-.94-.94-2.06-.94 2.06-2.06.94zm-11 1L8.5 8.5l.94-2.06 2.06-.94-2.06-.94L8.5 2.5l-.94 2.06-2.06.94zm10 10l.94 2.06.94-2.06 2.06-.94-2.06-.94-.94-2.06-.94 2.06-2.06.94z\"/><path d=\"M17.41 7.96l-1.37-1.37c-.4-.4-.92-.59-1.43-.59-.52 0-1.04.2-1.43.59L10.3 9.45l-7.72 7.72c-.78.78-.78 2.05 0 2.83L4 21.41c.39.39.9.59 1.41.59.51 0 1.02-.2 1.41-.59l7.78-7.78 2.81-2.81c.8-.78.8-2.07 0-2.86zM5.41 20L4 18.59l7.72-7.72 1.47 1.35L5.41 20z\"/>\n",
              "  </svg>\n",
              "      </button>\n",
              "      \n",
              "  <style>\n",
              "    .colab-df-container {\n",
              "      display:flex;\n",
              "      flex-wrap:wrap;\n",
              "      gap: 12px;\n",
              "    }\n",
              "\n",
              "    .colab-df-convert {\n",
              "      background-color: #E8F0FE;\n",
              "      border: none;\n",
              "      border-radius: 50%;\n",
              "      cursor: pointer;\n",
              "      display: none;\n",
              "      fill: #1967D2;\n",
              "      height: 32px;\n",
              "      padding: 0 0 0 0;\n",
              "      width: 32px;\n",
              "    }\n",
              "\n",
              "    .colab-df-convert:hover {\n",
              "      background-color: #E2EBFA;\n",
              "      box-shadow: 0px 1px 2px rgba(60, 64, 67, 0.3), 0px 1px 3px 1px rgba(60, 64, 67, 0.15);\n",
              "      fill: #174EA6;\n",
              "    }\n",
              "\n",
              "    [theme=dark] .colab-df-convert {\n",
              "      background-color: #3B4455;\n",
              "      fill: #D2E3FC;\n",
              "    }\n",
              "\n",
              "    [theme=dark] .colab-df-convert:hover {\n",
              "      background-color: #434B5C;\n",
              "      box-shadow: 0px 1px 3px 1px rgba(0, 0, 0, 0.15);\n",
              "      filter: drop-shadow(0px 1px 2px rgba(0, 0, 0, 0.3));\n",
              "      fill: #FFFFFF;\n",
              "    }\n",
              "  </style>\n",
              "\n",
              "      <script>\n",
              "        const buttonEl =\n",
              "          document.querySelector('#df-eda25fb4-603f-4b40-8a10-244d1794d426 button.colab-df-convert');\n",
              "        buttonEl.style.display =\n",
              "          google.colab.kernel.accessAllowed ? 'block' : 'none';\n",
              "\n",
              "        async function convertToInteractive(key) {\n",
              "          const element = document.querySelector('#df-eda25fb4-603f-4b40-8a10-244d1794d426');\n",
              "          const dataTable =\n",
              "            await google.colab.kernel.invokeFunction('convertToInteractive',\n",
              "                                                     [key], {});\n",
              "          if (!dataTable) return;\n",
              "\n",
              "          const docLinkHtml = 'Like what you see? Visit the ' +\n",
              "            '<a target=\"_blank\" href=https://colab.research.google.com/notebooks/data_table.ipynb>data table notebook</a>'\n",
              "            + ' to learn more about interactive tables.';\n",
              "          element.innerHTML = '';\n",
              "          dataTable['output_type'] = 'display_data';\n",
              "          await google.colab.output.renderOutput(dataTable, element);\n",
              "          const docLink = document.createElement('div');\n",
              "          docLink.innerHTML = docLinkHtml;\n",
              "          element.appendChild(docLink);\n",
              "        }\n",
              "      </script>\n",
              "    </div>\n",
              "  </div>\n",
              "  "
            ]
          },
          "metadata": {},
          "execution_count": 120
        }
      ],
      "source": [
        "# Step01: Making a temp dataframe for sepearte preprocessing of connectors\n",
        "df_connectors = Data_Essay_01[['Essay', 'Sent_Count']]\n",
        "df_connectors['Preprocessed_Essay_For_Connectors'] = df_connectors['Essay'].apply(LowerCase_Words)  # for ease in matching\n",
        "df_connectors['Preprocessed_Essay_For_Connectors'] = df_connectors['Preprocessed_Essay_For_Connectors'].apply(Remove_NER) # no impact on connectors count, removing it to save computational time.\n",
        "df_connectors['Preprocessed_Essay_For_Connectors'] = df_connectors['Preprocessed_Essay_For_Connectors'].apply(Remove_White_Spaces) # for ease in ngrams\n",
        "df_connectors.head()"
      ]
    },
    {
      "cell_type": "code",
      "execution_count": null,
      "metadata": {
        "id": "uOXKXKvNzJfn"
      },
      "outputs": [],
      "source": [
        "#Step02: Generating n_grams of each essay. \n",
        "def generate_N_grams(essay,ngram=1):\n",
        "  words=[word for word in essay.split(\" \")]  \n",
        "  temp=zip(*[words[i:] for i in range(0,ngram)])\n",
        "  ngram_list=[' '.join(ngram) for ngram in temp]\n",
        "  return ngram_list"
      ]
    },
    {
      "cell_type": "code",
      "execution_count": null,
      "metadata": {
        "id": "zTilf11_0__e",
        "colab": {
          "base_uri": "https://localhost:8080/"
        },
        "outputId": "df757ef5-b5e3-452d-bc44-3eececcea932"
      },
      "outputs": [
        {
          "output_type": "stream",
          "name": "stderr",
          "text": [
            "<ipython-input-122-40f8145c1a78>:1: SettingWithCopyWarning: \n",
            "A value is trying to be set on a copy of a slice from a DataFrame.\n",
            "Try using .loc[row_indexer,col_indexer] = value instead\n",
            "\n",
            "See the caveats in the documentation: https://pandas.pydata.org/pandas-docs/stable/user_guide/indexing.html#returning-a-view-versus-a-copy\n",
            "  df_connectors['Unigrams'] = df_connectors['Preprocessed_Essay_For_Connectors'].apply(generate_N_grams, ngram =1)\n",
            "<ipython-input-122-40f8145c1a78>:2: SettingWithCopyWarning: \n",
            "A value is trying to be set on a copy of a slice from a DataFrame.\n",
            "Try using .loc[row_indexer,col_indexer] = value instead\n",
            "\n",
            "See the caveats in the documentation: https://pandas.pydata.org/pandas-docs/stable/user_guide/indexing.html#returning-a-view-versus-a-copy\n",
            "  df_connectors['Bigrams'] = df_connectors['Preprocessed_Essay_For_Connectors'].apply(generate_N_grams, ngram =2)\n",
            "<ipython-input-122-40f8145c1a78>:3: SettingWithCopyWarning: \n",
            "A value is trying to be set on a copy of a slice from a DataFrame.\n",
            "Try using .loc[row_indexer,col_indexer] = value instead\n",
            "\n",
            "See the caveats in the documentation: https://pandas.pydata.org/pandas-docs/stable/user_guide/indexing.html#returning-a-view-versus-a-copy\n",
            "  df_connectors['Trigrams'] = df_connectors['Preprocessed_Essay_For_Connectors'].apply(generate_N_grams, ngram =3)\n",
            "<ipython-input-122-40f8145c1a78>:4: SettingWithCopyWarning: \n",
            "A value is trying to be set on a copy of a slice from a DataFrame.\n",
            "Try using .loc[row_indexer,col_indexer] = value instead\n",
            "\n",
            "See the caveats in the documentation: https://pandas.pydata.org/pandas-docs/stable/user_guide/indexing.html#returning-a-view-versus-a-copy\n",
            "  df_connectors['Four-grams'] = df_connectors['Preprocessed_Essay_For_Connectors'].apply(generate_N_grams, ngram =4)\n",
            "<ipython-input-122-40f8145c1a78>:5: SettingWithCopyWarning: \n",
            "A value is trying to be set on a copy of a slice from a DataFrame.\n",
            "Try using .loc[row_indexer,col_indexer] = value instead\n",
            "\n",
            "See the caveats in the documentation: https://pandas.pydata.org/pandas-docs/stable/user_guide/indexing.html#returning-a-view-versus-a-copy\n",
            "  df_connectors['Five-grams'] = df_connectors['Preprocessed_Essay_For_Connectors'].apply(generate_N_grams, ngram =5)\n"
          ]
        }
      ],
      "source": [
        "df_connectors['Unigrams'] = df_connectors['Preprocessed_Essay_For_Connectors'].apply(generate_N_grams, ngram =1)\n",
        "df_connectors['Bigrams'] = df_connectors['Preprocessed_Essay_For_Connectors'].apply(generate_N_grams, ngram =2)\n",
        "df_connectors['Trigrams'] = df_connectors['Preprocessed_Essay_For_Connectors'].apply(generate_N_grams, ngram =3)\n",
        "df_connectors['Four-grams'] = df_connectors['Preprocessed_Essay_For_Connectors'].apply(generate_N_grams, ngram =4)\n",
        "df_connectors['Five-grams'] = df_connectors['Preprocessed_Essay_For_Connectors'].apply(generate_N_grams, ngram =5)"
      ]
    },
    {
      "cell_type": "code",
      "execution_count": null,
      "metadata": {
        "id": "M277gjUM29p_",
        "colab": {
          "base_uri": "https://localhost:8080/"
        },
        "outputId": "01cdce89-232e-4f9c-926b-d2c45ff67eca"
      },
      "outputs": [
        {
          "output_type": "execute_result",
          "data": {
            "text/plain": [
              "['the builders of the',\n",
              " 'builders of the empire',\n",
              " 'of the empire state',\n",
              " 'the empire state buildings',\n",
              " 'empire state buildings had',\n",
              " 'state buildings had many',\n",
              " 'buildings had many problems',\n",
              " 'had many problems in',\n",
              " 'many problems in allowing',\n",
              " 'problems in allowing dirigibles',\n",
              " 'in allowing dirigibles to',\n",
              " 'allowing dirigibles to dock',\n",
              " 'dirigibles to dock there.',\n",
              " 'to dock there. things',\n",
              " 'dock there. things such',\n",
              " 'there. things such as',\n",
              " 'things such as the',\n",
              " 'such as the wind,',\n",
              " 'as the wind, the',\n",
              " 'the wind, the actual',\n",
              " 'wind, the actual docking,',\n",
              " 'the actual docking, and',\n",
              " 'actual docking, and the',\n",
              " 'docking, and the people',\n",
              " 'and the people getting',\n",
              " 'the people getting off',\n",
              " 'people getting off safely.',\n",
              " 'getting off safely. the',\n",
              " 'off safely. the actual',\n",
              " 'safely. the actual docking',\n",
              " 'the actual docking was',\n",
              " 'actual docking was impractical',\n",
              " 'docking was impractical it',\n",
              " 'was impractical it would',\n",
              " 'impractical it would be',\n",
              " 'it would be nearly',\n",
              " 'would be nearly impossible',\n",
              " 'be nearly impossible to',\n",
              " 'nearly impossible to connect',\n",
              " 'impossible to connect the',\n",
              " 'to connect the winch.',\n",
              " 'connect the winch. the',\n",
              " 'the winch. the wind',\n",
              " 'winch. the wind was',\n",
              " 'the wind was the',\n",
              " 'wind was the main',\n",
              " 'was the main reason',\n",
              " 'the main reason for',\n",
              " 'main reason for the',\n",
              " 'reason for the fate',\n",
              " 'for the fate of',\n",
              " 'the fate of the',\n",
              " 'fate of the mast.',\n",
              " 'of the mast. first',\n",
              " 'the mast. first the',\n",
              " 'mast. first the wind',\n",
              " 'first the wind current',\n",
              " 'the wind current was',\n",
              " 'wind current was so',\n",
              " 'current was so strong',\n",
              " 'was so strong that',\n",
              " 'so strong that the',\n",
              " 'strong that the pilot',\n",
              " 'that the pilot would',\n",
              " 'the pilot would have',\n",
              " 'pilot would have a',\n",
              " 'would have a very',\n",
              " 'have a very difficult',\n",
              " 'a very difficult time',\n",
              " 'very difficult time getting',\n",
              " 'difficult time getting close',\n",
              " 'time getting close enough.',\n",
              " 'getting close enough. the',\n",
              " 'close enough. the captain',\n",
              " 'enough. the captain of',\n",
              " 'the captain of the,',\n",
              " 'captain of the, \"navy',\n",
              " 'of the, \"navy dirigible',\n",
              " 'the, \"navy dirigible los',\n",
              " '\"navy dirigible los angeles',\n",
              " 'dirigible los angeles approached',\n",
              " 'los angeles approached the',\n",
              " 'angeles approached the mooring',\n",
              " 'approached the mooring mast',\n",
              " 'the mooring mast but',\n",
              " 'mooring mast but could',\n",
              " 'mast but could not',\n",
              " 'but could not get',\n",
              " 'could not get close',\n",
              " 'not get close enough',\n",
              " 'get close enough to',\n",
              " 'close enough to tie',\n",
              " 'enough to tie up',\n",
              " 'to tie up because',\n",
              " 'tie up because of',\n",
              " 'up because of the',\n",
              " 'because of the forceful',\n",
              " 'of the forceful winds.',\n",
              " 'the forceful winds. also',\n",
              " 'forceful winds. also even',\n",
              " 'winds. also even if',\n",
              " 'also even if it',\n",
              " 'even if it could',\n",
              " 'if it could tie',\n",
              " 'it could tie up',\n",
              " 'could tie up the',\n",
              " 'tie up the back',\n",
              " 'up the back of',\n",
              " 'the back of the',\n",
              " 'back of the dirigible',\n",
              " 'of the dirigible would',\n",
              " 'the dirigible would swing',\n",
              " 'dirigible would swing around',\n",
              " 'would swing around fiercefuly.',\n",
              " 'swing around fiercefuly. so',\n",
              " 'around fiercefuly. so the',\n",
              " 'fiercefuly. so the builders',\n",
              " 'so the builders were',\n",
              " 'the builders were dealing',\n",
              " 'builders were dealing with',\n",
              " 'were dealing with an',\n",
              " 'dealing with an impractical',\n",
              " 'with an impractical task']"
            ]
          },
          "metadata": {},
          "execution_count": 123
        }
      ],
      "source": [
        "df_connectors['Four-grams'][17]"
      ]
    },
    {
      "cell_type": "code",
      "execution_count": null,
      "metadata": {
        "id": "2SEow0YI6Od6",
        "colab": {
          "base_uri": "https://localhost:8080/"
        },
        "outputId": "0431de90-7011-4467-d8b0-6f788424465c"
      },
      "outputs": [
        {
          "output_type": "stream",
          "name": "stdout",
          "text": [
            "312\n"
          ]
        }
      ],
      "source": [
        "# Step03: Loading the file of connectors.\n",
        "filename = \"/content/drive/MyDrive/IntelliTech-DataSet/Connectors_Words.txt\"\n",
        "with open(filename) as file:\n",
        "    defined_connectors = [line.rstrip() for line in file]\n",
        "\n",
        "defined_connectors = set(defined_connectors)  #remove duplicate connectors\n",
        "print(len(defined_connectors))"
      ]
    },
    {
      "cell_type": "code",
      "execution_count": null,
      "metadata": {
        "id": "yAEl8Pfkp-r7"
      },
      "outputs": [],
      "source": [
        "# Step 04: Make a connector detection function\n",
        "\n",
        "def connectors_detection(unigrams_list, bigram_list, trigram_list, four_grams_list, five_grams_list):\n",
        "  connectors_detected = []\n",
        "  for token in unigrams_list:\n",
        "    if token in defined_connectors:\n",
        "      connectors_detected.append(token)\n",
        "  for token in bigram_list:\n",
        "    if token in defined_connectors:\n",
        "      connectors_detected.append(token)\n",
        "  for token in trigram_list:\n",
        "    if token in defined_connectors:\n",
        "      connectors_detected.append(token)\n",
        "  for token in four_grams_list:\n",
        "    if token in defined_connectors:\n",
        "      connectors_detected.append(token)\n",
        "  for token in five_grams_list:\n",
        "    if token in defined_connectors:\n",
        "      connectors_detected.append(token)\n",
        "  \n",
        "  #use SET connectors_detected for tf-idf work, unique connectors\n",
        "  return set(connectors_detected)\n",
        "  #return len(connectors_detected)"
      ]
    },
    {
      "cell_type": "code",
      "execution_count": null,
      "metadata": {
        "id": "8Gqa3wOajKwv",
        "colab": {
          "base_uri": "https://localhost:8080/"
        },
        "outputId": "67828219-fd28-446a-c29b-bcde57b73d8e"
      },
      "outputs": [
        {
          "output_type": "stream",
          "name": "stderr",
          "text": [
            "<ipython-input-126-c76e0b4b0128>:1: SettingWithCopyWarning: \n",
            "A value is trying to be set on a copy of a slice from a DataFrame.\n",
            "Try using .loc[row_indexer,col_indexer] = value instead\n",
            "\n",
            "See the caveats in the documentation: https://pandas.pydata.org/pandas-docs/stable/user_guide/indexing.html#returning-a-view-versus-a-copy\n",
            "  df_connectors['Connectors'] = df_connectors.apply(lambda row: connectors_detection(row['Unigrams'], row['Bigrams'],row['Trigrams'],row['Four-grams'],row['Five-grams']),axis = 1)\n"
          ]
        }
      ],
      "source": [
        "df_connectors['Connectors'] = df_connectors.apply(lambda row: connectors_detection(row['Unigrams'], row['Bigrams'],row['Trigrams'],row['Four-grams'],row['Five-grams']),axis = 1)"
      ]
    },
    {
      "cell_type": "code",
      "execution_count": null,
      "metadata": {
        "id": "5VHYoXw6dhVU",
        "colab": {
          "base_uri": "https://localhost:8080/",
          "height": 806
        },
        "outputId": "72fbe3e7-8ca0-4886-efd2-a4cf7c736293"
      },
      "outputs": [
        {
          "output_type": "execute_result",
          "data": {
            "text/plain": [
              "                                               Essay  Sent_Count  \\\n",
              "0  There were many obstacles that the builders fa...           6   \n",
              "1  Him from the start, there would have been many...           9   \n",
              "2  The builders of the Empire State Building face...           8   \n",
              "3  In the passage The Mooring Mast by Marcia Amid...           7   \n",
              "4  The builders of the Empire State Building face...          10   \n",
              "\n",
              "                   Preprocessed_Essay_For_Connectors  \\\n",
              "0  there were many obstacles that the builders fa...   \n",
              "1  him from the start, there would have been many...   \n",
              "2  the builders of the empire state building face...   \n",
              "3  in the passage the mooring mast by marcia amid...   \n",
              "4  the builders of the empire state building face...   \n",
              "\n",
              "                                            Unigrams  \\\n",
              "0  [there, were, many, obstacles, that, the, buil...   \n",
              "1  [him, from, the, start,, there, would, have, b...   \n",
              "2  [the, builders, of, the, empire, state, buildi...   \n",
              "3  [in, the, passage, the, mooring, mast, by, mar...   \n",
              "4  [the, builders, of, the, empire, state, buildi...   \n",
              "\n",
              "                                             Bigrams  \\\n",
              "0  [there were, were many, many obstacles, obstac...   \n",
              "1  [him from, from the, the start,, start, there,...   \n",
              "2  [the builders, builders of, of the, the empire...   \n",
              "3  [in the, the passage, passage the, the mooring...   \n",
              "4  [the builders, builders of, of the, the empire...   \n",
              "\n",
              "                                            Trigrams  \\\n",
              "0  [there were many, were many obstacles, many ob...   \n",
              "1  [him from the, from the start,, the start, the...   \n",
              "2  [the builders of, builders of the, of the empi...   \n",
              "3  [in the passage, the passage the, passage the ...   \n",
              "4  [the builders of, builders of the, of the empi...   \n",
              "\n",
              "                                          Four-grams  \\\n",
              "0  [there were many obstacles, were many obstacle...   \n",
              "1  [him from the start,, from the start, there, t...   \n",
              "2  [the builders of the, builders of the empire, ...   \n",
              "3  [in the passage the, the passage the mooring, ...   \n",
              "4  [the builders of the, builders of the empire, ...   \n",
              "\n",
              "                                          Five-grams  \\\n",
              "0  [there were many obstacles that, were many obs...   \n",
              "1  [him from the start, there, from the start, th...   \n",
              "2  [the builders of the empire, builders of the e...   \n",
              "3  [in the passage the mooring, the passage the m...   \n",
              "4  [the builders of the empire, builders of the e...   \n",
              "\n",
              "                                          Connectors  \n",
              "0  {while, to, there, for, but, down, and, over, ...  \n",
              "1  {while, to, as, from, there, here, about, belo...  \n",
              "2  {while, to, since, last, there, up, or, for, d...  \n",
              "3  {to, from, there, for, or, after, but, because...  \n",
              "4  {due to, to, for, up, there, around, too, even...  "
            ],
            "text/html": [
              "\n",
              "  <div id=\"df-c8542ad9-15a6-48e5-b858-610b05b67bc8\">\n",
              "    <div class=\"colab-df-container\">\n",
              "      <div>\n",
              "<style scoped>\n",
              "    .dataframe tbody tr th:only-of-type {\n",
              "        vertical-align: middle;\n",
              "    }\n",
              "\n",
              "    .dataframe tbody tr th {\n",
              "        vertical-align: top;\n",
              "    }\n",
              "\n",
              "    .dataframe thead th {\n",
              "        text-align: right;\n",
              "    }\n",
              "</style>\n",
              "<table border=\"1\" class=\"dataframe\">\n",
              "  <thead>\n",
              "    <tr style=\"text-align: right;\">\n",
              "      <th></th>\n",
              "      <th>Essay</th>\n",
              "      <th>Sent_Count</th>\n",
              "      <th>Preprocessed_Essay_For_Connectors</th>\n",
              "      <th>Unigrams</th>\n",
              "      <th>Bigrams</th>\n",
              "      <th>Trigrams</th>\n",
              "      <th>Four-grams</th>\n",
              "      <th>Five-grams</th>\n",
              "      <th>Connectors</th>\n",
              "    </tr>\n",
              "  </thead>\n",
              "  <tbody>\n",
              "    <tr>\n",
              "      <th>0</th>\n",
              "      <td>There were many obstacles that the builders fa...</td>\n",
              "      <td>6</td>\n",
              "      <td>there were many obstacles that the builders fa...</td>\n",
              "      <td>[there, were, many, obstacles, that, the, buil...</td>\n",
              "      <td>[there were, were many, many obstacles, obstac...</td>\n",
              "      <td>[there were many, were many obstacles, many ob...</td>\n",
              "      <td>[there were many obstacles, were many obstacle...</td>\n",
              "      <td>[there were many obstacles that, were many obs...</td>\n",
              "      <td>{while, to, there, for, but, down, and, over, ...</td>\n",
              "    </tr>\n",
              "    <tr>\n",
              "      <th>1</th>\n",
              "      <td>Him from the start, there would have been many...</td>\n",
              "      <td>9</td>\n",
              "      <td>him from the start, there would have been many...</td>\n",
              "      <td>[him, from, the, start,, there, would, have, b...</td>\n",
              "      <td>[him from, from the, the start,, start, there,...</td>\n",
              "      <td>[him from the, from the start,, the start, the...</td>\n",
              "      <td>[him from the start,, from the start, there, t...</td>\n",
              "      <td>[him from the start, there, from the start, th...</td>\n",
              "      <td>{while, to, as, from, there, here, about, belo...</td>\n",
              "    </tr>\n",
              "    <tr>\n",
              "      <th>2</th>\n",
              "      <td>The builders of the Empire State Building face...</td>\n",
              "      <td>8</td>\n",
              "      <td>the builders of the empire state building face...</td>\n",
              "      <td>[the, builders, of, the, empire, state, buildi...</td>\n",
              "      <td>[the builders, builders of, of the, the empire...</td>\n",
              "      <td>[the builders of, builders of the, of the empi...</td>\n",
              "      <td>[the builders of the, builders of the empire, ...</td>\n",
              "      <td>[the builders of the empire, builders of the e...</td>\n",
              "      <td>{while, to, since, last, there, up, or, for, d...</td>\n",
              "    </tr>\n",
              "    <tr>\n",
              "      <th>3</th>\n",
              "      <td>In the passage The Mooring Mast by Marcia Amid...</td>\n",
              "      <td>7</td>\n",
              "      <td>in the passage the mooring mast by marcia amid...</td>\n",
              "      <td>[in, the, passage, the, mooring, mast, by, mar...</td>\n",
              "      <td>[in the, the passage, passage the, the mooring...</td>\n",
              "      <td>[in the passage, the passage the, passage the ...</td>\n",
              "      <td>[in the passage the, the passage the mooring, ...</td>\n",
              "      <td>[in the passage the mooring, the passage the m...</td>\n",
              "      <td>{to, from, there, for, or, after, but, because...</td>\n",
              "    </tr>\n",
              "    <tr>\n",
              "      <th>4</th>\n",
              "      <td>The builders of the Empire State Building face...</td>\n",
              "      <td>10</td>\n",
              "      <td>the builders of the empire state building face...</td>\n",
              "      <td>[the, builders, of, the, empire, state, buildi...</td>\n",
              "      <td>[the builders, builders of, of the, the empire...</td>\n",
              "      <td>[the builders of, builders of the, of the empi...</td>\n",
              "      <td>[the builders of the, builders of the empire, ...</td>\n",
              "      <td>[the builders of the empire, builders of the e...</td>\n",
              "      <td>{due to, to, for, up, there, around, too, even...</td>\n",
              "    </tr>\n",
              "  </tbody>\n",
              "</table>\n",
              "</div>\n",
              "      <button class=\"colab-df-convert\" onclick=\"convertToInteractive('df-c8542ad9-15a6-48e5-b858-610b05b67bc8')\"\n",
              "              title=\"Convert this dataframe to an interactive table.\"\n",
              "              style=\"display:none;\">\n",
              "        \n",
              "  <svg xmlns=\"http://www.w3.org/2000/svg\" height=\"24px\"viewBox=\"0 0 24 24\"\n",
              "       width=\"24px\">\n",
              "    <path d=\"M0 0h24v24H0V0z\" fill=\"none\"/>\n",
              "    <path d=\"M18.56 5.44l.94 2.06.94-2.06 2.06-.94-2.06-.94-.94-2.06-.94 2.06-2.06.94zm-11 1L8.5 8.5l.94-2.06 2.06-.94-2.06-.94L8.5 2.5l-.94 2.06-2.06.94zm10 10l.94 2.06.94-2.06 2.06-.94-2.06-.94-.94-2.06-.94 2.06-2.06.94z\"/><path d=\"M17.41 7.96l-1.37-1.37c-.4-.4-.92-.59-1.43-.59-.52 0-1.04.2-1.43.59L10.3 9.45l-7.72 7.72c-.78.78-.78 2.05 0 2.83L4 21.41c.39.39.9.59 1.41.59.51 0 1.02-.2 1.41-.59l7.78-7.78 2.81-2.81c.8-.78.8-2.07 0-2.86zM5.41 20L4 18.59l7.72-7.72 1.47 1.35L5.41 20z\"/>\n",
              "  </svg>\n",
              "      </button>\n",
              "      \n",
              "  <style>\n",
              "    .colab-df-container {\n",
              "      display:flex;\n",
              "      flex-wrap:wrap;\n",
              "      gap: 12px;\n",
              "    }\n",
              "\n",
              "    .colab-df-convert {\n",
              "      background-color: #E8F0FE;\n",
              "      border: none;\n",
              "      border-radius: 50%;\n",
              "      cursor: pointer;\n",
              "      display: none;\n",
              "      fill: #1967D2;\n",
              "      height: 32px;\n",
              "      padding: 0 0 0 0;\n",
              "      width: 32px;\n",
              "    }\n",
              "\n",
              "    .colab-df-convert:hover {\n",
              "      background-color: #E2EBFA;\n",
              "      box-shadow: 0px 1px 2px rgba(60, 64, 67, 0.3), 0px 1px 3px 1px rgba(60, 64, 67, 0.15);\n",
              "      fill: #174EA6;\n",
              "    }\n",
              "\n",
              "    [theme=dark] .colab-df-convert {\n",
              "      background-color: #3B4455;\n",
              "      fill: #D2E3FC;\n",
              "    }\n",
              "\n",
              "    [theme=dark] .colab-df-convert:hover {\n",
              "      background-color: #434B5C;\n",
              "      box-shadow: 0px 1px 3px 1px rgba(0, 0, 0, 0.15);\n",
              "      filter: drop-shadow(0px 1px 2px rgba(0, 0, 0, 0.3));\n",
              "      fill: #FFFFFF;\n",
              "    }\n",
              "  </style>\n",
              "\n",
              "      <script>\n",
              "        const buttonEl =\n",
              "          document.querySelector('#df-c8542ad9-15a6-48e5-b858-610b05b67bc8 button.colab-df-convert');\n",
              "        buttonEl.style.display =\n",
              "          google.colab.kernel.accessAllowed ? 'block' : 'none';\n",
              "\n",
              "        async function convertToInteractive(key) {\n",
              "          const element = document.querySelector('#df-c8542ad9-15a6-48e5-b858-610b05b67bc8');\n",
              "          const dataTable =\n",
              "            await google.colab.kernel.invokeFunction('convertToInteractive',\n",
              "                                                     [key], {});\n",
              "          if (!dataTable) return;\n",
              "\n",
              "          const docLinkHtml = 'Like what you see? Visit the ' +\n",
              "            '<a target=\"_blank\" href=https://colab.research.google.com/notebooks/data_table.ipynb>data table notebook</a>'\n",
              "            + ' to learn more about interactive tables.';\n",
              "          element.innerHTML = '';\n",
              "          dataTable['output_type'] = 'display_data';\n",
              "          await google.colab.output.renderOutput(dataTable, element);\n",
              "          const docLink = document.createElement('div');\n",
              "          docLink.innerHTML = docLinkHtml;\n",
              "          element.appendChild(docLink);\n",
              "        }\n",
              "      </script>\n",
              "    </div>\n",
              "  </div>\n",
              "  "
            ]
          },
          "metadata": {},
          "execution_count": 127
        }
      ],
      "source": [
        "df_connectors.head()"
      ]
    },
    {
      "cell_type": "markdown",
      "metadata": {
        "id": "yMuuhUlY6kA6"
      },
      "source": [
        "The minimum value that the index may generate is 0. There is no specified maximum limit on the index. Zero (0) denotes no connector at all, while an index close to 2 shows that there are many effective connectors in (almost) every sentence. The connectivity index is calculated for each essay."
      ]
    },
    {
      "cell_type": "code",
      "execution_count": null,
      "metadata": {
        "id": "oDWgOjY6hOIf"
      },
      "outputs": [],
      "source": [
        "# Optimizing connectors via TF-IDF\n",
        "\n",
        "def TF(essay,connectors):\n",
        "  freq = 0\n",
        "  for word in essay.split(\" \"):\n",
        "    if word in connectors:\n",
        "      freq = freq + 1\n",
        "  return freq\n",
        "\n",
        "def IDF(essay,connector):\n",
        "  doc = 0;\n",
        "  sent_list = nltk.tokenize.sent_tokenize(essay)\n",
        "  for i in range(0, len(sent_list)):\n",
        "    if connector in sent_list[i]:\n",
        "      doc = doc + 1\n",
        "  return 1+ np.log(len(sent_list) / (doc))\n",
        "\n",
        "def TF_IDF(essay, connector):\n",
        "  tf = TF(essay,connector)\n",
        "  idf = IDF(essay,connector)\n",
        "  tf_idf = tf * idf\n",
        "  return tf_idf\n",
        "\n",
        "def connectivity_index(essay, connectors,num_sent):\n",
        "  weights = []\n",
        "  for word in connectors:\n",
        "    score = TF_IDF(essay,word)\n",
        "    weights.append(score)\n",
        "  return float(sum(weights) / num_sent)\n",
        "\n",
        "Data_Essay_01['Connectivity_Index'] = df_connectors.apply(lambda row: connectivity_index(row['Preprocessed_Essay_For_Connectors'], row['Connectors'], row['Sent_Count']), axis=1)\n"
      ]
    },
    {
      "cell_type": "code",
      "execution_count": null,
      "metadata": {
        "id": "acyPdFEd4X4M",
        "colab": {
          "base_uri": "https://localhost:8080/",
          "height": 806
        },
        "outputId": "7d16581c-bc14-4c6a-a4a5-f07814dd6470"
      },
      "outputs": [
        {
          "output_type": "execute_result",
          "data": {
            "text/plain": [
              "                                               Essay  Sent_Count  \\\n",
              "0  There were many obstacles that the builders fa...           6   \n",
              "1  Him from the start, there would have been many...           9   \n",
              "2  The builders of the Empire State Building face...           8   \n",
              "3  In the passage The Mooring Mast by Marcia Amid...           7   \n",
              "4  The builders of the Empire State Building face...          10   \n",
              "\n",
              "                   Preprocessed_Essay_For_Connectors  \\\n",
              "0  there were many obstacles that the builders fa...   \n",
              "1  him from the start, there would have been many...   \n",
              "2  the builders of the empire state building face...   \n",
              "3  in the passage the mooring mast by marcia amid...   \n",
              "4  the builders of the empire state building face...   \n",
              "\n",
              "                                            Unigrams  \\\n",
              "0  [there, were, many, obstacles, that, the, buil...   \n",
              "1  [him, from, the, start,, there, would, have, b...   \n",
              "2  [the, builders, of, the, empire, state, buildi...   \n",
              "3  [in, the, passage, the, mooring, mast, by, mar...   \n",
              "4  [the, builders, of, the, empire, state, buildi...   \n",
              "\n",
              "                                             Bigrams  \\\n",
              "0  [there were, were many, many obstacles, obstac...   \n",
              "1  [him from, from the, the start,, start, there,...   \n",
              "2  [the builders, builders of, of the, the empire...   \n",
              "3  [in the, the passage, passage the, the mooring...   \n",
              "4  [the builders, builders of, of the, the empire...   \n",
              "\n",
              "                                            Trigrams  \\\n",
              "0  [there were many, were many obstacles, many ob...   \n",
              "1  [him from the, from the start,, the start, the...   \n",
              "2  [the builders of, builders of the, of the empi...   \n",
              "3  [in the passage, the passage the, passage the ...   \n",
              "4  [the builders of, builders of the, of the empi...   \n",
              "\n",
              "                                          Four-grams  \\\n",
              "0  [there were many obstacles, were many obstacle...   \n",
              "1  [him from the start,, from the start, there, t...   \n",
              "2  [the builders of the, builders of the empire, ...   \n",
              "3  [in the passage the, the passage the mooring, ...   \n",
              "4  [the builders of the, builders of the empire, ...   \n",
              "\n",
              "                                          Five-grams  \\\n",
              "0  [there were many obstacles that, were many obs...   \n",
              "1  [him from the start, there, from the start, th...   \n",
              "2  [the builders of the empire, builders of the e...   \n",
              "3  [in the passage the mooring, the passage the m...   \n",
              "4  [the builders of the empire, builders of the e...   \n",
              "\n",
              "                                          Connectors  \n",
              "0  {while, to, there, for, but, down, and, over, ...  \n",
              "1  {while, to, as, from, there, here, about, belo...  \n",
              "2  {while, to, since, last, there, up, or, for, d...  \n",
              "3  {to, from, there, for, or, after, but, because...  \n",
              "4  {due to, to, for, up, there, around, too, even...  "
            ],
            "text/html": [
              "\n",
              "  <div id=\"df-bff01350-71c3-4312-99db-9d5cafbeca39\">\n",
              "    <div class=\"colab-df-container\">\n",
              "      <div>\n",
              "<style scoped>\n",
              "    .dataframe tbody tr th:only-of-type {\n",
              "        vertical-align: middle;\n",
              "    }\n",
              "\n",
              "    .dataframe tbody tr th {\n",
              "        vertical-align: top;\n",
              "    }\n",
              "\n",
              "    .dataframe thead th {\n",
              "        text-align: right;\n",
              "    }\n",
              "</style>\n",
              "<table border=\"1\" class=\"dataframe\">\n",
              "  <thead>\n",
              "    <tr style=\"text-align: right;\">\n",
              "      <th></th>\n",
              "      <th>Essay</th>\n",
              "      <th>Sent_Count</th>\n",
              "      <th>Preprocessed_Essay_For_Connectors</th>\n",
              "      <th>Unigrams</th>\n",
              "      <th>Bigrams</th>\n",
              "      <th>Trigrams</th>\n",
              "      <th>Four-grams</th>\n",
              "      <th>Five-grams</th>\n",
              "      <th>Connectors</th>\n",
              "    </tr>\n",
              "  </thead>\n",
              "  <tbody>\n",
              "    <tr>\n",
              "      <th>0</th>\n",
              "      <td>There were many obstacles that the builders fa...</td>\n",
              "      <td>6</td>\n",
              "      <td>there were many obstacles that the builders fa...</td>\n",
              "      <td>[there, were, many, obstacles, that, the, buil...</td>\n",
              "      <td>[there were, were many, many obstacles, obstac...</td>\n",
              "      <td>[there were many, were many obstacles, many ob...</td>\n",
              "      <td>[there were many obstacles, were many obstacle...</td>\n",
              "      <td>[there were many obstacles that, were many obs...</td>\n",
              "      <td>{while, to, there, for, but, down, and, over, ...</td>\n",
              "    </tr>\n",
              "    <tr>\n",
              "      <th>1</th>\n",
              "      <td>Him from the start, there would have been many...</td>\n",
              "      <td>9</td>\n",
              "      <td>him from the start, there would have been many...</td>\n",
              "      <td>[him, from, the, start,, there, would, have, b...</td>\n",
              "      <td>[him from, from the, the start,, start, there,...</td>\n",
              "      <td>[him from the, from the start,, the start, the...</td>\n",
              "      <td>[him from the start,, from the start, there, t...</td>\n",
              "      <td>[him from the start, there, from the start, th...</td>\n",
              "      <td>{while, to, as, from, there, here, about, belo...</td>\n",
              "    </tr>\n",
              "    <tr>\n",
              "      <th>2</th>\n",
              "      <td>The builders of the Empire State Building face...</td>\n",
              "      <td>8</td>\n",
              "      <td>the builders of the empire state building face...</td>\n",
              "      <td>[the, builders, of, the, empire, state, buildi...</td>\n",
              "      <td>[the builders, builders of, of the, the empire...</td>\n",
              "      <td>[the builders of, builders of the, of the empi...</td>\n",
              "      <td>[the builders of the, builders of the empire, ...</td>\n",
              "      <td>[the builders of the empire, builders of the e...</td>\n",
              "      <td>{while, to, since, last, there, up, or, for, d...</td>\n",
              "    </tr>\n",
              "    <tr>\n",
              "      <th>3</th>\n",
              "      <td>In the passage The Mooring Mast by Marcia Amid...</td>\n",
              "      <td>7</td>\n",
              "      <td>in the passage the mooring mast by marcia amid...</td>\n",
              "      <td>[in, the, passage, the, mooring, mast, by, mar...</td>\n",
              "      <td>[in the, the passage, passage the, the mooring...</td>\n",
              "      <td>[in the passage, the passage the, passage the ...</td>\n",
              "      <td>[in the passage the, the passage the mooring, ...</td>\n",
              "      <td>[in the passage the mooring, the passage the m...</td>\n",
              "      <td>{to, from, there, for, or, after, but, because...</td>\n",
              "    </tr>\n",
              "    <tr>\n",
              "      <th>4</th>\n",
              "      <td>The builders of the Empire State Building face...</td>\n",
              "      <td>10</td>\n",
              "      <td>the builders of the empire state building face...</td>\n",
              "      <td>[the, builders, of, the, empire, state, buildi...</td>\n",
              "      <td>[the builders, builders of, of the, the empire...</td>\n",
              "      <td>[the builders of, builders of the, of the empi...</td>\n",
              "      <td>[the builders of the, builders of the empire, ...</td>\n",
              "      <td>[the builders of the empire, builders of the e...</td>\n",
              "      <td>{due to, to, for, up, there, around, too, even...</td>\n",
              "    </tr>\n",
              "  </tbody>\n",
              "</table>\n",
              "</div>\n",
              "      <button class=\"colab-df-convert\" onclick=\"convertToInteractive('df-bff01350-71c3-4312-99db-9d5cafbeca39')\"\n",
              "              title=\"Convert this dataframe to an interactive table.\"\n",
              "              style=\"display:none;\">\n",
              "        \n",
              "  <svg xmlns=\"http://www.w3.org/2000/svg\" height=\"24px\"viewBox=\"0 0 24 24\"\n",
              "       width=\"24px\">\n",
              "    <path d=\"M0 0h24v24H0V0z\" fill=\"none\"/>\n",
              "    <path d=\"M18.56 5.44l.94 2.06.94-2.06 2.06-.94-2.06-.94-.94-2.06-.94 2.06-2.06.94zm-11 1L8.5 8.5l.94-2.06 2.06-.94-2.06-.94L8.5 2.5l-.94 2.06-2.06.94zm10 10l.94 2.06.94-2.06 2.06-.94-2.06-.94-.94-2.06-.94 2.06-2.06.94z\"/><path d=\"M17.41 7.96l-1.37-1.37c-.4-.4-.92-.59-1.43-.59-.52 0-1.04.2-1.43.59L10.3 9.45l-7.72 7.72c-.78.78-.78 2.05 0 2.83L4 21.41c.39.39.9.59 1.41.59.51 0 1.02-.2 1.41-.59l7.78-7.78 2.81-2.81c.8-.78.8-2.07 0-2.86zM5.41 20L4 18.59l7.72-7.72 1.47 1.35L5.41 20z\"/>\n",
              "  </svg>\n",
              "      </button>\n",
              "      \n",
              "  <style>\n",
              "    .colab-df-container {\n",
              "      display:flex;\n",
              "      flex-wrap:wrap;\n",
              "      gap: 12px;\n",
              "    }\n",
              "\n",
              "    .colab-df-convert {\n",
              "      background-color: #E8F0FE;\n",
              "      border: none;\n",
              "      border-radius: 50%;\n",
              "      cursor: pointer;\n",
              "      display: none;\n",
              "      fill: #1967D2;\n",
              "      height: 32px;\n",
              "      padding: 0 0 0 0;\n",
              "      width: 32px;\n",
              "    }\n",
              "\n",
              "    .colab-df-convert:hover {\n",
              "      background-color: #E2EBFA;\n",
              "      box-shadow: 0px 1px 2px rgba(60, 64, 67, 0.3), 0px 1px 3px 1px rgba(60, 64, 67, 0.15);\n",
              "      fill: #174EA6;\n",
              "    }\n",
              "\n",
              "    [theme=dark] .colab-df-convert {\n",
              "      background-color: #3B4455;\n",
              "      fill: #D2E3FC;\n",
              "    }\n",
              "\n",
              "    [theme=dark] .colab-df-convert:hover {\n",
              "      background-color: #434B5C;\n",
              "      box-shadow: 0px 1px 3px 1px rgba(0, 0, 0, 0.15);\n",
              "      filter: drop-shadow(0px 1px 2px rgba(0, 0, 0, 0.3));\n",
              "      fill: #FFFFFF;\n",
              "    }\n",
              "  </style>\n",
              "\n",
              "      <script>\n",
              "        const buttonEl =\n",
              "          document.querySelector('#df-bff01350-71c3-4312-99db-9d5cafbeca39 button.colab-df-convert');\n",
              "        buttonEl.style.display =\n",
              "          google.colab.kernel.accessAllowed ? 'block' : 'none';\n",
              "\n",
              "        async function convertToInteractive(key) {\n",
              "          const element = document.querySelector('#df-bff01350-71c3-4312-99db-9d5cafbeca39');\n",
              "          const dataTable =\n",
              "            await google.colab.kernel.invokeFunction('convertToInteractive',\n",
              "                                                     [key], {});\n",
              "          if (!dataTable) return;\n",
              "\n",
              "          const docLinkHtml = 'Like what you see? Visit the ' +\n",
              "            '<a target=\"_blank\" href=https://colab.research.google.com/notebooks/data_table.ipynb>data table notebook</a>'\n",
              "            + ' to learn more about interactive tables.';\n",
              "          element.innerHTML = '';\n",
              "          dataTable['output_type'] = 'display_data';\n",
              "          await google.colab.output.renderOutput(dataTable, element);\n",
              "          const docLink = document.createElement('div');\n",
              "          docLink.innerHTML = docLinkHtml;\n",
              "          element.appendChild(docLink);\n",
              "        }\n",
              "      </script>\n",
              "    </div>\n",
              "  </div>\n",
              "  "
            ]
          },
          "metadata": {},
          "execution_count": 129
        }
      ],
      "source": [
        "df_connectors.head()"
      ]
    },
    {
      "cell_type": "code",
      "execution_count": null,
      "metadata": {
        "id": "cxVdOwi34ruZ",
        "colab": {
          "base_uri": "https://localhost:8080/"
        },
        "outputId": "f6b22a4d-3e0b-4e07-c73e-aff4a51fe1f4"
      },
      "outputs": [
        {
          "output_type": "execute_result",
          "data": {
            "text/plain": [
              "count    1800.000000\n",
              "mean       17.828756\n",
              "std         9.824750\n",
              "min         0.000000\n",
              "25%        10.781369\n",
              "50%        16.359319\n",
              "75%        23.221213\n",
              "max        74.965543\n",
              "Name: Connectivity_Index, dtype: float64"
            ]
          },
          "metadata": {},
          "execution_count": 130
        }
      ],
      "source": [
        "Data_Essay_01['Connectivity_Index'].describe()"
      ]
    },
    {
      "cell_type": "code",
      "execution_count": null,
      "metadata": {
        "id": "2ozErOR07J9C",
        "colab": {
          "base_uri": "https://localhost:8080/",
          "height": 282
        },
        "outputId": "ff0e7efe-eea9-4be3-c0ac-aa3240d95eac"
      },
      "outputs": [
        {
          "output_type": "execute_result",
          "data": {
            "text/plain": [
              "<matplotlib.axes._subplots.AxesSubplot at 0x7ff5ff0532e0>"
            ]
          },
          "metadata": {},
          "execution_count": 131
        },
        {
          "output_type": "display_data",
          "data": {
            "text/plain": [
              "<Figure size 432x288 with 1 Axes>"
            ],
            "image/png": "[encoded data removed]"
          },
          "metadata": {
            "needs_background": "light"
          }
        }
      ],
      "source": [
        "Data_Essay_01['Connectivity_Index'].hist()"
      ]
    },
    {
      "cell_type": "code",
      "execution_count": null,
      "metadata": {
        "id": "D2nC5wgxZ9e5",
        "colab": {
          "base_uri": "https://localhost:8080/",
          "height": 34
        },
        "outputId": "55567478-a3c4-4eb8-ecb1-ea572e771fef"
      },
      "outputs": [
        {
          "output_type": "display_data",
          "data": {
            "text/plain": [
              "<IPython.core.display.Javascript object>"
            ],
            "application/javascript": [
              "\n",
              "    async function download(id, filename, size) {\n",
              "      if (!google.colab.kernel.accessAllowed) {\n",
              "        return;\n",
              "      }\n",
              "      const div = document.createElement('div');\n",
              "      const label = document.createElement('label');\n",
              "      label.textContent = `Downloading \"${filename}\": `;\n",
              "      div.appendChild(label);\n",
              "      const progress = document.createElement('progress');\n",
              "      progress.max = size;\n",
              "      div.appendChild(progress);\n",
              "      document.body.appendChild(div);\n",
              "\n",
              "      const buffers = [];\n",
              "      let downloaded = 0;\n",
              "\n",
              "      const channel = await google.colab.kernel.comms.open(id);\n",
              "      // Send a message to notify the kernel that we're ready.\n",
              "      channel.send({})\n",
              "\n",
              "      for await (const message of channel.messages) {\n",
              "        // Send a message to notify the kernel that we're ready.\n",
              "        channel.send({})\n",
              "        if (message.buffers) {\n",
              "          for (const buffer of message.buffers) {\n",
              "            buffers.push(buffer);\n",
              "            downloaded += buffer.byteLength;\n",
              "            progress.value = downloaded;\n",
              "          }\n",
              "        }\n",
              "      }\n",
              "      const blob = new Blob(buffers, {type: 'application/binary'});\n",
              "      const a = document.createElement('a');\n",
              "      a.href = window.URL.createObjectURL(blob);\n",
              "      a.download = filename;\n",
              "      div.appendChild(a);\n",
              "      a.click();\n",
              "      div.remove();\n",
              "    }\n",
              "  "
            ]
          },
          "metadata": {}
        },
        {
          "output_type": "display_data",
          "data": {
            "text/plain": [
              "<IPython.core.display.Javascript object>"
            ],
            "application/javascript": [
              "download(\"download_83f1cb72-448e-4ab4-a5cd-53b2f953eeef\", \"Output_4.csv\", 8369712)"
            ]
          },
          "metadata": {}
        }
      ],
      "source": [
        "Data_Essay_01.to_csv(\"Output_4.csv\")\n",
        "files.download('/content/Output_4.csv')"
      ]
    },
    {
      "cell_type": "markdown",
      "metadata": {
        "id": "VU9kawx0lFso"
      },
      "source": [
        "### **Readibility Scores**\n",
        "\n",
        "We section will cover:\n",
        "1.   Flesch Reading Ease\n",
        "2.   Flesch-Kincaid Grade Level\n",
        "3.   Gunning Fog Index\n",
        "4.   Dale Chall Readability Formula"
      ]
    },
    {
      "cell_type": "code",
      "execution_count": null,
      "metadata": {
        "id": "pMBgbmOlcTm6"
      },
      "outputs": [],
      "source": [
        "#Required Pre-processing for Readability Scores.\n",
        "Data_Essay_01[\"Preprocessed_Essay\"] = Data_Essay_01[\"Essay\"].apply(Remove_NER2)\n",
        "Data_Essay_01[\"Preprocessed_Essay\"] = Data_Essay_01[\"Preprocessed_Essay\"].apply(LowerCase_Words)"
      ]
    },
    {
      "cell_type": "code",
      "execution_count": null,
      "metadata": {
        "id": "mPGXFBMlJZ2M",
        "colab": {
          "base_uri": "https://localhost:8080/",
          "height": 838
        },
        "outputId": "d13814d7-c702-4341-d6b2-1b840736d92f"
      },
      "outputs": [
        {
          "output_type": "execute_result",
          "data": {
            "text/plain": [
              "      ID                                              Essay  Rater_1 Score  \\\n",
              "0  14834  There were many obstacles that the builders fa...            2.0   \n",
              "1  14835  Him from the start, there would have been many...            3.0   \n",
              "2  14836  The builders of the Empire State Building face...            3.0   \n",
              "3  14837  In the passage The Mooring Mast by Marcia Amid...            1.0   \n",
              "4  14838  The builders of the Empire State Building face...            3.0   \n",
              "\n",
              "   Rater_2 Score  Total Score  Sent_Count  Word_Count  Char_Count  \\\n",
              "0            2.0          2.0           6         134         694   \n",
              "1            3.0          3.0           9         201        1052   \n",
              "2            4.0          4.0           8         180         938   \n",
              "3            1.0          1.0           7         213        1098   \n",
              "4            3.0          3.0          10         176         929   \n",
              "\n",
              "   Avg_Word_Count  Avg_Sentence_Length  ... Count_Exclamation  Count_Comma  \\\n",
              "0        4.276119            22.333333  ...                 0            4   \n",
              "1        4.343284            22.333333  ...                 0           10   \n",
              "2        4.294444            22.500000  ...                 0            3   \n",
              "3        4.262911            30.428571  ...                 0            4   \n",
              "4        4.375000            17.600000  ...                 0            2   \n",
              "\n",
              "   Count_Questionmark  Count_Hyphens  Capitalization_Errors  \\\n",
              "0                   0              0                      0   \n",
              "1                   0              0                      0   \n",
              "2                   0              0                      0   \n",
              "3                   0              0                      0   \n",
              "4                   0              0                      0   \n",
              "\n",
              "   Grammar_Error_Count              Grammar_Error_List  \\\n",
              "0                    0                              []   \n",
              "1                    1                        [PRP_JJ]   \n",
              "2                    1                [THERE_WAS_MANY]   \n",
              "3                    2  [WORLDS_BEST, THE_SUPERLATIVE]   \n",
              "4                    0                              []   \n",
              "\n",
              "                                 Sentences_Tokenized  Semantic_Similarity  \\\n",
              "0  [There were many obstacles that the builders f...             0.273268   \n",
              "1  [Him from the start, there would have been man...             0.274427   \n",
              "2  [The builders of the Empire State Building fac...             0.308410   \n",
              "3  [In the passage The Mooring Mast by Marcia Ami...             0.272812   \n",
              "4  [The builders of the Empire State Building fac...             0.271680   \n",
              "\n",
              "   Connectivity_Index  \n",
              "0           14.757424  \n",
              "1           22.894405  \n",
              "2           27.225275  \n",
              "3           23.906536  \n",
              "4           19.473329  \n",
              "\n",
              "[5 rows x 33 columns]"
            ],
            "text/html": [
              "\n",
              "  <div id=\"df-5a9e4343-04d6-4d3c-a8ba-bab0a1f8b2bd\">\n",
              "    <div class=\"colab-df-container\">\n",
              "      <div>\n",
              "<style scoped>\n",
              "    .dataframe tbody tr th:only-of-type {\n",
              "        vertical-align: middle;\n",
              "    }\n",
              "\n",
              "    .dataframe tbody tr th {\n",
              "        vertical-align: top;\n",
              "    }\n",
              "\n",
              "    .dataframe thead th {\n",
              "        text-align: right;\n",
              "    }\n",
              "</style>\n",
              "<table border=\"1\" class=\"dataframe\">\n",
              "  <thead>\n",
              "    <tr style=\"text-align: right;\">\n",
              "      <th></th>\n",
              "      <th>ID</th>\n",
              "      <th>Essay</th>\n",
              "      <th>Rater_1 Score</th>\n",
              "      <th>Rater_2 Score</th>\n",
              "      <th>Total Score</th>\n",
              "      <th>Sent_Count</th>\n",
              "      <th>Word_Count</th>\n",
              "      <th>Char_Count</th>\n",
              "      <th>Avg_Word_Count</th>\n",
              "      <th>Avg_Sentence_Length</th>\n",
              "      <th>...</th>\n",
              "      <th>Count_Exclamation</th>\n",
              "      <th>Count_Comma</th>\n",
              "      <th>Count_Questionmark</th>\n",
              "      <th>Count_Hyphens</th>\n",
              "      <th>Capitalization_Errors</th>\n",
              "      <th>Grammar_Error_Count</th>\n",
              "      <th>Grammar_Error_List</th>\n",
              "      <th>Sentences_Tokenized</th>\n",
              "      <th>Semantic_Similarity</th>\n",
              "      <th>Connectivity_Index</th>\n",
              "    </tr>\n",
              "  </thead>\n",
              "  <tbody>\n",
              "    <tr>\n",
              "      <th>0</th>\n",
              "      <td>14834</td>\n",
              "      <td>There were many obstacles that the builders fa...</td>\n",
              "      <td>2.0</td>\n",
              "      <td>2.0</td>\n",
              "      <td>2.0</td>\n",
              "      <td>6</td>\n",
              "      <td>134</td>\n",
              "      <td>694</td>\n",
              "      <td>4.276119</td>\n",
              "      <td>22.333333</td>\n",
              "      <td>...</td>\n",
              "      <td>0</td>\n",
              "      <td>4</td>\n",
              "      <td>0</td>\n",
              "      <td>0</td>\n",
              "      <td>0</td>\n",
              "      <td>0</td>\n",
              "      <td>[]</td>\n",
              "      <td>[There were many obstacles that the builders f...</td>\n",
              "      <td>0.273268</td>\n",
              "      <td>14.757424</td>\n",
              "    </tr>\n",
              "    <tr>\n",
              "      <th>1</th>\n",
              "      <td>14835</td>\n",
              "      <td>Him from the start, there would have been many...</td>\n",
              "      <td>3.0</td>\n",
              "      <td>3.0</td>\n",
              "      <td>3.0</td>\n",
              "      <td>9</td>\n",
              "      <td>201</td>\n",
              "      <td>1052</td>\n",
              "      <td>4.343284</td>\n",
              "      <td>22.333333</td>\n",
              "      <td>...</td>\n",
              "      <td>0</td>\n",
              "      <td>10</td>\n",
              "      <td>0</td>\n",
              "      <td>0</td>\n",
              "      <td>0</td>\n",
              "      <td>1</td>\n",
              "      <td>[PRP_JJ]</td>\n",
              "      <td>[Him from the start, there would have been man...</td>\n",
              "      <td>0.274427</td>\n",
              "      <td>22.894405</td>\n",
              "    </tr>\n",
              "    <tr>\n",
              "      <th>2</th>\n",
              "      <td>14836</td>\n",
              "      <td>The builders of the Empire State Building face...</td>\n",
              "      <td>3.0</td>\n",
              "      <td>4.0</td>\n",
              "      <td>4.0</td>\n",
              "      <td>8</td>\n",
              "      <td>180</td>\n",
              "      <td>938</td>\n",
              "      <td>4.294444</td>\n",
              "      <td>22.500000</td>\n",
              "      <td>...</td>\n",
              "      <td>0</td>\n",
              "      <td>3</td>\n",
              "      <td>0</td>\n",
              "      <td>0</td>\n",
              "      <td>0</td>\n",
              "      <td>1</td>\n",
              "      <td>[THERE_WAS_MANY]</td>\n",
              "      <td>[The builders of the Empire State Building fac...</td>\n",
              "      <td>0.308410</td>\n",
              "      <td>27.225275</td>\n",
              "    </tr>\n",
              "    <tr>\n",
              "      <th>3</th>\n",
              "      <td>14837</td>\n",
              "      <td>In the passage The Mooring Mast by Marcia Amid...</td>\n",
              "      <td>1.0</td>\n",
              "      <td>1.0</td>\n",
              "      <td>1.0</td>\n",
              "      <td>7</td>\n",
              "      <td>213</td>\n",
              "      <td>1098</td>\n",
              "      <td>4.262911</td>\n",
              "      <td>30.428571</td>\n",
              "      <td>...</td>\n",
              "      <td>0</td>\n",
              "      <td>4</td>\n",
              "      <td>0</td>\n",
              "      <td>0</td>\n",
              "      <td>0</td>\n",
              "      <td>2</td>\n",
              "      <td>[WORLDS_BEST, THE_SUPERLATIVE]</td>\n",
              "      <td>[In the passage The Mooring Mast by Marcia Ami...</td>\n",
              "      <td>0.272812</td>\n",
              "      <td>23.906536</td>\n",
              "    </tr>\n",
              "    <tr>\n",
              "      <th>4</th>\n",
              "      <td>14838</td>\n",
              "      <td>The builders of the Empire State Building face...</td>\n",
              "      <td>3.0</td>\n",
              "      <td>3.0</td>\n",
              "      <td>3.0</td>\n",
              "      <td>10</td>\n",
              "      <td>176</td>\n",
              "      <td>929</td>\n",
              "      <td>4.375000</td>\n",
              "      <td>17.600000</td>\n",
              "      <td>...</td>\n",
              "      <td>0</td>\n",
              "      <td>2</td>\n",
              "      <td>0</td>\n",
              "      <td>0</td>\n",
              "      <td>0</td>\n",
              "      <td>0</td>\n",
              "      <td>[]</td>\n",
              "      <td>[The builders of the Empire State Building fac...</td>\n",
              "      <td>0.271680</td>\n",
              "      <td>19.473329</td>\n",
              "    </tr>\n",
              "  </tbody>\n",
              "</table>\n",
              "<p>5 rows × 33 columns</p>\n",
              "</div>\n",
              "      <button class=\"colab-df-convert\" onclick=\"convertToInteractive('df-5a9e4343-04d6-4d3c-a8ba-bab0a1f8b2bd')\"\n",
              "              title=\"Convert this dataframe to an interactive table.\"\n",
              "              style=\"display:none;\">\n",
              "        \n",
              "  <svg xmlns=\"http://www.w3.org/2000/svg\" height=\"24px\"viewBox=\"0 0 24 24\"\n",
              "       width=\"24px\">\n",
              "    <path d=\"M0 0h24v24H0V0z\" fill=\"none\"/>\n",
              "    <path d=\"M18.56 5.44l.94 2.06.94-2.06 2.06-.94-2.06-.94-.94-2.06-.94 2.06-2.06.94zm-11 1L8.5 8.5l.94-2.06 2.06-.94-2.06-.94L8.5 2.5l-.94 2.06-2.06.94zm10 10l.94 2.06.94-2.06 2.06-.94-2.06-.94-.94-2.06-.94 2.06-2.06.94z\"/><path d=\"M17.41 7.96l-1.37-1.37c-.4-.4-.92-.59-1.43-.59-.52 0-1.04.2-1.43.59L10.3 9.45l-7.72 7.72c-.78.78-.78 2.05 0 2.83L4 21.41c.39.39.9.59 1.41.59.51 0 1.02-.2 1.41-.59l7.78-7.78 2.81-2.81c.8-.78.8-2.07 0-2.86zM5.41 20L4 18.59l7.72-7.72 1.47 1.35L5.41 20z\"/>\n",
              "  </svg>\n",
              "      </button>\n",
              "      \n",
              "  <style>\n",
              "    .colab-df-container {\n",
              "      display:flex;\n",
              "      flex-wrap:wrap;\n",
              "      gap: 12px;\n",
              "    }\n",
              "\n",
              "    .colab-df-convert {\n",
              "      background-color: #E8F0FE;\n",
              "      border: none;\n",
              "      border-radius: 50%;\n",
              "      cursor: pointer;\n",
              "      display: none;\n",
              "      fill: #1967D2;\n",
              "      height: 32px;\n",
              "      padding: 0 0 0 0;\n",
              "      width: 32px;\n",
              "    }\n",
              "\n",
              "    .colab-df-convert:hover {\n",
              "      background-color: #E2EBFA;\n",
              "      box-shadow: 0px 1px 2px rgba(60, 64, 67, 0.3), 0px 1px 3px 1px rgba(60, 64, 67, 0.15);\n",
              "      fill: #174EA6;\n",
              "    }\n",
              "\n",
              "    [theme=dark] .colab-df-convert {\n",
              "      background-color: #3B4455;\n",
              "      fill: #D2E3FC;\n",
              "    }\n",
              "\n",
              "    [theme=dark] .colab-df-convert:hover {\n",
              "      background-color: #434B5C;\n",
              "      box-shadow: 0px 1px 3px 1px rgba(0, 0, 0, 0.15);\n",
              "      filter: drop-shadow(0px 1px 2px rgba(0, 0, 0, 0.3));\n",
              "      fill: #FFFFFF;\n",
              "    }\n",
              "  </style>\n",
              "\n",
              "      <script>\n",
              "        const buttonEl =\n",
              "          document.querySelector('#df-5a9e4343-04d6-4d3c-a8ba-bab0a1f8b2bd button.colab-df-convert');\n",
              "        buttonEl.style.display =\n",
              "          google.colab.kernel.accessAllowed ? 'block' : 'none';\n",
              "\n",
              "        async function convertToInteractive(key) {\n",
              "          const element = document.querySelector('#df-5a9e4343-04d6-4d3c-a8ba-bab0a1f8b2bd');\n",
              "          const dataTable =\n",
              "            await google.colab.kernel.invokeFunction('convertToInteractive',\n",
              "                                                     [key], {});\n",
              "          if (!dataTable) return;\n",
              "\n",
              "          const docLinkHtml = 'Like what you see? Visit the ' +\n",
              "            '<a target=\"_blank\" href=https://colab.research.google.com/notebooks/data_table.ipynb>data table notebook</a>'\n",
              "            + ' to learn more about interactive tables.';\n",
              "          element.innerHTML = '';\n",
              "          dataTable['output_type'] = 'display_data';\n",
              "          await google.colab.output.renderOutput(dataTable, element);\n",
              "          const docLink = document.createElement('div');\n",
              "          docLink.innerHTML = docLinkHtml;\n",
              "          element.appendChild(docLink);\n",
              "        }\n",
              "      </script>\n",
              "    </div>\n",
              "  </div>\n",
              "  "
            ]
          },
          "metadata": {},
          "execution_count": 134
        }
      ],
      "source": [
        "Data_Essay_01.head()"
      ]
    },
    {
      "cell_type": "markdown",
      "metadata": {
        "id": "E1J9uHGpUQHI"
      },
      "source": [
        "### Flesch Reading Ease Score\n",
        "    In the Flesch reading-ease test, higher scores indicate material that is easier to read; lower numbers mark passages that are more difficult to read"
      ]
    },
    {
      "cell_type": "code",
      "execution_count": null,
      "metadata": {
        "id": "-GEtUImPlFs2"
      },
      "outputs": [],
      "source": [
        "def Flesch_Reading_Ease_Score(syllable_Count,NoOfsentences,total_Words):\n",
        "  return (206.835-1.015*(total_Words/float(NoOfsentences))-84.6*(syllable_Count / float(total_Words)))"
      ]
    },
    {
      "cell_type": "code",
      "execution_count": null,
      "metadata": {
        "id": "YbdWxz6tMRGc"
      },
      "outputs": [],
      "source": [
        "Data_Essay_01['Flesch_Reading_Ease_Score']=Data_Essay_01.apply(lambda row :Flesch_Reading_Ease_Score(row[\"Syllable_Count\"],row[\"Sent_Count\"],row[\"Word_Count\"]),axis=1)"
      ]
    },
    {
      "cell_type": "markdown",
      "metadata": {
        "id": "jZX3Ov1pUWNE"
      },
      "source": [
        "### Flesch-Kincaid Grade\n",
        "    Used extensively in educational fields.\n",
        "  \n",
        "    It can also mean the number of years of education generally required to understand this text, relevant when the formula results in a number greater than 10.\n",
        "    \n",
        "    For example, a score of 9.3 means that a ninth grader would be able to read the document.\n",
        "\n",
        "\n",
        "\n",
        "\n"
      ]
    },
    {
      "cell_type": "code",
      "execution_count": null,
      "metadata": {
        "id": "PrS0D0x1UmpX"
      },
      "outputs": [],
      "source": [
        "def Flesh_Kincaid_Grade(total_Words,total_Sentences,syllable_Count):\n",
        "   F = float(0.39 * (total_Words / total_Sentences) + 11.8 * (syllable_Count / float(total_Words)) - 15.59)\n",
        "   return F"
      ]
    },
    {
      "cell_type": "code",
      "execution_count": null,
      "metadata": {
        "id": "d9rWTDYBVoju"
      },
      "outputs": [],
      "source": [
        "Data_Essay_01['Flesh_Kincaid_Grade']=Data_Essay_01.apply(lambda row :Flesh_Kincaid_Grade(row[\"Syllable_Count\"],row[\"Sent_Count\"],row[\"Word_Count\"]),axis=1)"
      ]
    },
    {
      "cell_type": "markdown",
      "metadata": {
        "id": "zgCh0AGuYS3X"
      },
      "source": [
        "###[Dale-Chall Readability Score](https://www.kaggle.com/code/fshenbayh/readability)\n",
        "    Provides a numeric gauge of the comprehension difficulty that readers come upon when reading a text\n",
        "    For example , if score is 4.9 or lower then text is understood by average 4th grade student or lower.\n",
        "\n",
        "\n",
        "\n",
        "\n",
        "\n"
      ]
    },
    {
      "cell_type": "code",
      "execution_count": null,
      "metadata": {
        "id": "NVPPq99umqVk"
      },
      "outputs": [],
      "source": [
        "#Raw score = 0.1579*(PDW) + 0.0496*(ASL) if the percentage of PDW is less than 5%, otherwise compute\n",
        "#Raw score = 0.1579*(PDW) + 0.0496*(ASL) + 3.6365  \n",
        "\n",
        "def Dale_Challl_Readability_Score(word_Count ,difficult_Words,avg_sent_length):\n",
        "    NOT_DIFFICULT_WORDS = word_Count - difficult_Words\n",
        "    if(word_Count >0):\n",
        "      # Percentage of words not on difficult word list\n",
        "\n",
        "      percent_Not_Difficult_Words = float(NOT_DIFFICULT_WORDS) / float(word_Count) * 100\n",
        "        # diff_words stores percentage of difficult words\n",
        "    diff_words = 100 - percent_Not_Difficult_Words\n",
        "    Dale_Chall_Score = (0.1579 * diff_words) +  (0.0496 * avg_sent_length)\n",
        "    if diff_words > 5:      \n",
        " \n",
        "        Dale_Chall_Score += 3.6365\n",
        "         \n",
        "    return Dale_Chall_Score"
      ]
    },
    {
      "cell_type": "code",
      "execution_count": null,
      "metadata": {
        "id": "Osobw0zFtRpH"
      },
      "outputs": [],
      "source": [
        "Data_Essay_01['Dale_Challl_Readability_Score']=Data_Essay_01.apply(lambda row :Dale_Challl_Readability_Score(row[\"Word_Count\"],row[\"Difficult_Word_Count\"],row[\"Avg_Sentence_Length\"]),axis=1)"
      ]
    },
    {
      "cell_type": "code",
      "execution_count": null,
      "metadata": {
        "id": "RpIzAZT6tk7Z",
        "colab": {
          "base_uri": "https://localhost:8080/"
        },
        "outputId": "a4cec9ba-f364-4383-bd92-07260efa9a0a"
      },
      "outputs": [
        {
          "output_type": "execute_result",
          "data": {
            "text/plain": [
              "<bound method NDFrame.sample of          ID                                              Essay  Rater_1 Score  \\\n",
              "0     14834  There were many obstacles that the builders fa...            2.0   \n",
              "1     14835  Him from the start, there would have been many...            3.0   \n",
              "2     14836  The builders of the Empire State Building face...            3.0   \n",
              "3     14837  In the passage The Mooring Mast by Marcia Amid...            1.0   \n",
              "4     14838  The builders of the Empire State Building face...            3.0   \n",
              "...     ...                                                ...            ...   \n",
              "1795  16629  The one obstacle the builders had when trying ...            2.0   \n",
              "1796  16630  Some of the problems with the constructing of ...            1.0   \n",
              "1797  16631  The builders of the Empire State building face...            2.0   \n",
              "1798  16632  The obstacles the builders of the Empire State...            2.0   \n",
              "1799  16633  You want me to tell you what they had to go th...            2.0   \n",
              "\n",
              "      Rater_2 Score  Total Score  Sent_Count  Word_Count  Char_Count  \\\n",
              "0               2.0          2.0           6         134         694   \n",
              "1               3.0          3.0           9         201        1052   \n",
              "2               4.0          4.0           8         180         938   \n",
              "3               1.0          1.0           7         213        1098   \n",
              "4               3.0          3.0          10         176         929   \n",
              "...             ...          ...         ...         ...         ...   \n",
              "1795            0.0          0.0           8         171         861   \n",
              "1796            2.0          2.0           3          72         391   \n",
              "1797            3.0          3.0           5         119         607   \n",
              "1798            1.0          2.0           2          71         375   \n",
              "1799            2.0          2.0           9         179         838   \n",
              "\n",
              "      Avg_Word_Count  Avg_Sentence_Length  ... Count_Hyphens  \\\n",
              "0           4.276119            22.333333  ...             0   \n",
              "1           4.343284            22.333333  ...             0   \n",
              "2           4.294444            22.500000  ...             0   \n",
              "3           4.262911            30.428571  ...             0   \n",
              "4           4.375000            17.600000  ...             0   \n",
              "...              ...                  ...  ...           ...   \n",
              "1795        4.152047            21.375000  ...             0   \n",
              "1796        4.513889            24.000000  ...             0   \n",
              "1797        4.260504            23.800000  ...             0   \n",
              "1798        4.338028            35.500000  ...             0   \n",
              "1799        3.849162            19.888889  ...             0   \n",
              "\n",
              "      Capitalization_Errors  Grammar_Error_Count  \\\n",
              "0                         0                    0   \n",
              "1                         0                    1   \n",
              "2                         0                    1   \n",
              "3                         0                    2   \n",
              "4                         0                    0   \n",
              "...                     ...                  ...   \n",
              "1795                      3                    0   \n",
              "1796                      0                    0   \n",
              "1797                      0                    0   \n",
              "1798                      0                    0   \n",
              "1799                      0                    0   \n",
              "\n",
              "                  Grammar_Error_List  \\\n",
              "0                                 []   \n",
              "1                           [PRP_JJ]   \n",
              "2                   [THERE_WAS_MANY]   \n",
              "3     [WORLDS_BEST, THE_SUPERLATIVE]   \n",
              "4                                 []   \n",
              "...                              ...   \n",
              "1795                              []   \n",
              "1796                              []   \n",
              "1797                              []   \n",
              "1798                              []   \n",
              "1799                              []   \n",
              "\n",
              "                                    Sentences_Tokenized  Semantic_Similarity  \\\n",
              "0     [There were many obstacles that the builders f...             0.273268   \n",
              "1     [Him from the start, there would have been man...             0.274427   \n",
              "2     [The builders of the Empire State Building fac...             0.308410   \n",
              "3     [In the passage The Mooring Mast by Marcia Ami...             0.272812   \n",
              "4     [The builders of the Empire State Building fac...             0.271680   \n",
              "...                                                 ...                  ...   \n",
              "1795  [The one obstacle the builders had when trying...             0.355835   \n",
              "1796  [Some of the problems with the constructing of...             0.308585   \n",
              "1797  [The builders of the Empire State building fac...             0.318920   \n",
              "1798  [The obstacles the builders of the Empire Stat...             0.492883   \n",
              "1799  [You want me to tell you what they had to go t...             0.293652   \n",
              "\n",
              "      Connectivity_Index  Flesch_Reading_Ease_Score  Flesh_Kincaid_Grade  \\\n",
              "0              14.757424                  73.050249             4.834091   \n",
              "1              22.894405                  76.838308             4.761176   \n",
              "2              27.225275                  73.547500             4.904548   \n",
              "3              23.906536                  67.121831             8.848707   \n",
              "4              19.473329                  73.126682             2.426427   \n",
              "...                  ...                        ...                  ...   \n",
              "1795           18.898572                  84.707796             4.246151   \n",
              "1796            3.966176                  63.800000             5.951881   \n",
              "1797           11.246357                  72.484723             5.559355   \n",
              "1798           13.005457                  59.988415            11.553602   \n",
              "1799            8.205697                  88.814258             3.583865   \n",
              "\n",
              "      Dale_Challl_Readability_Score  \n",
              "0                          7.572293  \n",
              "1                          7.493736  \n",
              "2                          7.735056  \n",
              "3                          7.814490  \n",
              "4                          7.559801  \n",
              "...                             ...  \n",
              "1795                       6.543484  \n",
              "1796                       8.116483  \n",
              "1797                       8.134207  \n",
              "1798                       8.510821  \n",
              "1799                       5.857961  \n",
              "\n",
              "[1800 rows x 36 columns]>"
            ]
          },
          "metadata": {},
          "execution_count": 141
        }
      ],
      "source": [
        "Data_Essay_01.sample"
      ]
    },
    {
      "cell_type": "markdown",
      "metadata": {
        "id": "RHukosL--XbD"
      },
      "source": [
        "## **Vocabulary Analysis**"
      ]
    },
    {
      "cell_type": "code",
      "execution_count": null,
      "metadata": {
        "id": "VWijUdc7Bd0X"
      },
      "outputs": [],
      "source": [
        "#REPEATED PROCESSING AS BAWANY SAID EVERYONE GOT TO DO THEIR OWN PROCESSING.\n",
        "Data_Essay_01[\"Preprocessed_Essay\"] = Data_Essay_01[\"Essay\"].apply(Remove_NER2)\n",
        "Data_Essay_01[\"Preprocessed_Essay\"] = Data_Essay_01[\"Preprocessed_Essay\"].apply(LowerCase_Words)\n",
        "Data_Essay_01[\"Preprocessed_Essay\"] = Data_Essay_01[\"Preprocessed_Essay\"].apply(Remove_Punctuations)"
      ]
    },
    {
      "cell_type": "markdown",
      "metadata": {
        "id": "63XWoKdh-inX"
      },
      "source": [
        "### Lexical Diversity ( Ratio of Unique Words to Total Number of Words ) "
      ]
    },
    {
      "cell_type": "code",
      "execution_count": null,
      "metadata": {
        "id": "a0FJt_rBBTz1"
      },
      "outputs": [],
      "source": [
        "lemmatizer = WordNetLemmatizer()\n",
        "\n",
        "def Unique_Words_Per_Essay(text):\n",
        "\n",
        "  token_words = word_tokenize(text)\n",
        "\n",
        "  #Perform lemma on token_words( since Continous and Continuously are both one uniquen word) and then join them as a sentence.\n",
        "\n",
        "  unique_words_lemma=[]\n",
        "  for unique in token_words:\n",
        "    unique_words_lemma.append(lemmatizer.lemmatize(unique, 'v'))\n",
        "    unique_words_lemma.append(\" \")\n",
        "  lemma_words= \"\".join(unique_words_lemma)\n",
        "\n",
        "  #COUNT ALL UNIQUE WORDS IN LEMMATIZED WORDS\n",
        "  unique_words = set(lemma_words.split())\n",
        "\n",
        "  #Neglect all the misspelt words\n",
        "  correct_unique_words=[]\n",
        "\n",
        "  for unique in unique_words:\n",
        "    word = Word(unique)\n",
        "    result = word.spellcheck()\n",
        "\n",
        "  # #   # result [0][0] contains the bool value if the spelling is correct or not\n",
        "  # #   # result [0][1] contains the confidence for the suggest correct spelling\n",
        "\n",
        "    if word == result[0][0]:\n",
        "        correct_unique_words.append(word)\n",
        "  length = len(correct_unique_words)\n",
        "\n",
        "  return length\n",
        "\n",
        "def Ratio_Lexical_Diversity(Length_Unique_Words,Word_Count):\n",
        "    return Length_Unique_Words/Word_Count\n"
      ]
    },
    {
      "cell_type": "code",
      "execution_count": null,
      "metadata": {
        "id": "nMVtyWVtCKsu"
      },
      "outputs": [],
      "source": [
        "Data_Essay_01[\"Unique_Words_LD\"]=Data_Essay_01[\"Preprocessed_Essay\"].apply(Unique_Words_Per_Essay) #Simple Count\n",
        "Data_Essay_01[\"Lexical_Diversity\"]=Data_Essay_01.apply(lambda row :Ratio_Lexical_Diversity(row[\"Unique_Words_LD\"],row[\"Word_Count\"]),axis=1) #Ratio\n"
      ]
    },
    {
      "cell_type": "code",
      "execution_count": null,
      "metadata": {
        "id": "d9DRDeVG-eon"
      },
      "outputs": [],
      "source": [
        "Data_Essay_01"
      ]
    },
    {
      "cell_type": "markdown",
      "metadata": {
        "id": "F7tjefRD-qUq"
      },
      "source": [
        "### Lexical Density (Number of content words like POS tags)"
      ]
    },
    {
      "cell_type": "code",
      "execution_count": null,
      "metadata": {
        "id": "cmQCqQuHD9XZ"
      },
      "outputs": [],
      "source": [
        "def Lexical_Density_Per_Essay(Verb_Count,Adj_Count,Conj_Count,Noun_Count,Adv_Count,pNoun_Count):\n",
        "  sum =0\n",
        "  sum=sum+Verb_Count+Adj_Count+Conj_Count+Noun_Count+Adv_Count+pNoun_Count\n",
        "  return sum;"
      ]
    },
    {
      "cell_type": "code",
      "execution_count": null,
      "metadata": {
        "id": "_aT6dGKyDNwc"
      },
      "outputs": [],
      "source": [
        "Data_Essay_01[\"Lexical_Density\"]=Data_Essay_01.apply(lambda row :Lexical_Density_Per_Essay(row[\"Verb_Count\"],row[\"Adj_Count\"],row[\"Conj_Count\"],row[\"Noun_Count\"],row[\"Adverb_Count\"],row[\"pNoun_Count\"]),axis=1)\n"
      ]
    },
    {
      "cell_type": "markdown",
      "metadata": {
        "id": "jtd50AU9-3k3"
      },
      "source": [
        "### Lexical originality(# of words unique to a writer divided by total # of words in a corpous of group of writers(essay set))"
      ]
    },
    {
      "cell_type": "code",
      "execution_count": 24,
      "metadata": {
        "id": "Zd4oNTDWm6u5"
      },
      "outputs": [],
      "source": [
        "def Total_Word_Count():\n",
        "  return Data_Essay_01['Word_Count'].sum()\n",
        "     \n",
        "def Lexical_Originality_Per_Essay(Unique_Words,Total_Words):\n",
        "    return Unique_Words/Total_Words"
      ]
    },
    {
      "cell_type": "code",
      "execution_count": 25,
      "metadata": {
        "id": "Pao_B8o7kQO2"
      },
      "outputs": [],
      "source": [
        "Total = Total_Word_Count()\n",
        "Data_Essay_01[\"Lexical_Originality\"] = Data_Essay_01.apply(lambda row :Lexical_Originality_Per_Essay(row[\"Unique_Words_LD\"],Total),axis=1)"
      ]
    },
    {
      "cell_type": "markdown",
      "metadata": {
        "id": "K1uyGQ3y-zQ6"
      },
      "source": [
        "### Lexical Accuracy (Number of errors) **(Incomplete)** "
      ]
    },
    {
      "cell_type": "code",
      "execution_count": null,
      "metadata": {
        "id": "1sybBoSnkPFC"
      },
      "outputs": [],
      "source": [
        "#LEAVE IT FOR LATER, WHEN WE WILL RUN THE NOTEBOOK FOR SPELLING AND GRAMMER MISTAKES THEN I WILL CALCULATE THE LEXICAL ACCURACY."
      ]
    },
    {
      "cell_type": "markdown",
      "metadata": {
        "id": "HZXa60mAK6I3"
      },
      "source": [
        "## **Saving All The Features in a CSV**"
      ]
    },
    {
      "cell_type": "code",
      "execution_count": null,
      "metadata": {
        "id": "GUm-lrhsMRBH"
      },
      "outputs": [],
      "source": [
        "print(Data_Essay_01.columns)"
      ]
    },
    {
      "cell_type": "code",
      "execution_count": null,
      "metadata": {
        "id": "7Rpv0cwQaHCx",
        "colab": {
          "base_uri": "https://localhost:8080/",
          "height": 34
        },
        "outputId": "bb59f3e2-ef62-4645-d21f-e4df80d00750"
      },
      "outputs": [
        {
          "output_type": "display_data",
          "data": {
            "text/plain": [
              "<IPython.core.display.Javascript object>"
            ],
            "application/javascript": [
              "\n",
              "    async function download(id, filename, size) {\n",
              "      if (!google.colab.kernel.accessAllowed) {\n",
              "        return;\n",
              "      }\n",
              "      const div = document.createElement('div');\n",
              "      const label = document.createElement('label');\n",
              "      label.textContent = `Downloading \"${filename}\": `;\n",
              "      div.appendChild(label);\n",
              "      const progress = document.createElement('progress');\n",
              "      progress.max = size;\n",
              "      div.appendChild(progress);\n",
              "      document.body.appendChild(div);\n",
              "\n",
              "      const buffers = [];\n",
              "      let downloaded = 0;\n",
              "\n",
              "      const channel = await google.colab.kernel.comms.open(id);\n",
              "      // Send a message to notify the kernel that we're ready.\n",
              "      channel.send({})\n",
              "\n",
              "      for await (const message of channel.messages) {\n",
              "        // Send a message to notify the kernel that we're ready.\n",
              "        channel.send({})\n",
              "        if (message.buffers) {\n",
              "          for (const buffer of message.buffers) {\n",
              "            buffers.push(buffer);\n",
              "            downloaded += buffer.byteLength;\n",
              "            progress.value = downloaded;\n",
              "          }\n",
              "        }\n",
              "      }\n",
              "      const blob = new Blob(buffers, {type: 'application/binary'});\n",
              "      const a = document.createElement('a');\n",
              "      a.href = window.URL.createObjectURL(blob);\n",
              "      a.download = filename;\n",
              "      div.appendChild(a);\n",
              "      a.click();\n",
              "      div.remove();\n",
              "    }\n",
              "  "
            ]
          },
          "metadata": {}
        },
        {
          "output_type": "display_data",
          "data": {
            "text/plain": [
              "<IPython.core.display.Javascript object>"
            ],
            "application/javascript": [
              "download(\"download_9ad87f88-6f5c-4302-9815-fc217e9562aa\", \"EssaySet01_Features.csv\", 8496885)"
            ]
          },
          "metadata": {}
        }
      ],
      "source": [
        "Data_Essay_01.to_csv(\"EssaySet01_Features.csv\")\n",
        "files.download('/content/EssaySet01_Features.csv')"
      ]
    },
    {
      "cell_type": "markdown",
      "metadata": {
        "id": "MSiuF2JzyBWX"
      },
      "source": [
        "## **Domain Information Content** (Incomplete)\n",
        "It is perhaps the most marked feature of our model as it tries to understand semantics and information content of an essay. To get this feature working, we first figured out the best essay from each set (highest scored essay) then, we pulled out nouns from that essay. These nouns were served as keywords for the particular domain. Then, we fire these word into 'WordNet' and take out their equivalent. In this way, for each set, we got a bunch of different words, most relevant to its particular domain. Then, we count the number of domain words in the essay provided. "
      ]
    },
    {
      "cell_type": "code",
      "execution_count": null,
      "metadata": {
        "id": "cExW4ZuiyWyx"
      },
      "outputs": [],
      "source": [
        "temp_df = Data_Essay_01[Data_Essay_01['Total Score'] == max(Data_Essay_01[\"Total Score\"])]\n",
        "temp_df.head()"
      ]
    },
    {
      "cell_type": "code",
      "execution_count": null,
      "metadata": {
        "id": "KIoxUyCXAVNq"
      },
      "outputs": [],
      "source": [
        "temp_df['Preprocessed_Essay'] = temp_df['Essay'].apply(Remove_NER)\n",
        "temp_df['Preprocessed_Essay'] = temp_df['Preprocessed_Essay'].apply(Tokenize_Essay)\n",
        "temp_df.head()"
      ]
    },
    {
      "cell_type": "code",
      "execution_count": null,
      "metadata": {
        "id": "YERCFE5w_-bs"
      },
      "outputs": [],
      "source": [
        "Nouns_List = []\n",
        "\n",
        "# Extracting Nouns of Best Essays\n",
        "\n",
        "def Extract_Nouns(Essay):\n",
        "  \"\"\"\n",
        "    Extract Nouns From an Essay\n",
        "\n",
        "    Args:\n",
        "      Essay: Best Essay based on score  \n",
        "  \"\"\"\n",
        "  tagged_doc = nlp(Essay)\n",
        "\n",
        "  for token in tagged_doc:\n",
        "    if(token.pos_ =='NOUN'):\n",
        "      if (not(token in Nouns_List)):\n",
        "        Nouns_List.append(token)"
      ]
    },
    {
      "cell_type": "code",
      "execution_count": null,
      "metadata": {
        "id": "eTya77CpA33i"
      },
      "outputs": [],
      "source": [
        "temp_df[\"Preprocessed_Essay\"].apply(Extract_Nouns)\n",
        "Nouns_List"
      ]
    },
    {
      "cell_type": "markdown",
      "metadata": {
        "id": "jQ--G0SrwJqQ"
      },
      "source": [
        "## **Semantic Similarity with sent2vec** (DON'T RUN)\n",
        "https://towardsdatascience.com/how-to-compute-sentence-similarity-using-bert-and-word2vec-ab0663a5d64"
      ]
    },
    {
      "cell_type": "code",
      "execution_count": null,
      "metadata": {
        "id": "h3C3JZsoOJbc"
      },
      "outputs": [],
      "source": [
        "!pip install sent2vec"
      ]
    },
    {
      "cell_type": "code",
      "execution_count": null,
      "metadata": {
        "id": "r2-_rC8mwdfQ"
      },
      "outputs": [],
      "source": [
        "from scipy import spatial\n",
        "from sent2vec.vectorizer import Vectorizer"
      ]
    },
    {
      "cell_type": "code",
      "execution_count": null,
      "metadata": {
        "colab": {
          "base_uri": "https://localhost:8080/"
        },
        "id": "WPJJlK4vOOqL",
        "outputId": "17d920a3-1bf9-45ee-a075-2b31509f864e"
      },
      "outputs": [
        {
          "name": "stdout",
          "output_type": "stream",
          "text": [
            "Initializing Bert distilbert-base-multilingual-cased\n",
            "Vectorization done on cpu\n"
          ]
        },
        {
          "name": "stderr",
          "output_type": "stream",
          "text": [
            "Some weights of the model checkpoint at distilbert-base-multilingual-cased were not used when initializing DistilBertModel: ['vocab_transform.weight', 'vocab_transform.bias', 'vocab_projector.weight', 'vocab_projector.bias', 'vocab_layer_norm.weight', 'vocab_layer_norm.bias']\n",
            "- This IS expected if you are initializing DistilBertModel from the checkpoint of a model trained on another task or with another architecture (e.g. initializing a BertForSequenceClassification model from a BertForPreTraining model).\n",
            "- This IS NOT expected if you are initializing DistilBertModel from the checkpoint of a model that you expect to be exactly identical (initializing a BertForSequenceClassification model from a BertForSequenceClassification model).\n"
          ]
        }
      ],
      "source": [
        "# Extracting Sentences  \n",
        "vectorizer = Vectorizer(pretrained_weights = 'distilbert-base-multilingual-cased')\n",
        "\n",
        "def Extract_Sentences(Essay):\n",
        "  # print(Essay)\n",
        "  sentences = sent_tokenize(Essay)\n",
        "  return sentences\n",
        "\n",
        "def Apply_Embedding(Sentences):\n",
        "  vectorizer.run(Sentences, remove_stop_words=['not'], add_stop_words=[])\n",
        "  vectors_w2v = vectorizer.vectors\n",
        "  distances = []\n",
        "  for i in range(len(vectors_w2v) - 1):\n",
        "    distances.append(spatial.distance.cosine(vectors_w2v[i], vectors_w2v[i+1]))\n",
        "  Average = sum(distances) / len(distances)\n",
        "\n",
        "  return Average"
      ]
    },
    {
      "cell_type": "markdown",
      "metadata": {
        "id": "H9_v794WviV_"
      },
      "source": [
        "# **Features Correlation Visualization**"
      ]
    },
    {
      "cell_type": "code",
      "execution_count": null,
      "metadata": {
        "id": "0mCatJ5XvoFc"
      },
      "outputs": [],
      "source": [
        "Data_Essay_01_Features = pd.read_csv(\"/content/drive/MyDrive/IntelliTech-DataSet/EssaySet01_Features.csv\")\n",
        "Data_Essay_01_Features.head()"
      ]
    },
    {
      "cell_type": "code",
      "execution_count": null,
      "metadata": {
        "id": "KvdRCWsWw0vW"
      },
      "outputs": [],
      "source": [
        "Data_Essay_01_Features[\"Target_Score\"] = Data_Essay_01[\"Total Score\"]\n",
        "Data_Essay_01_Features[\"Flesch_Reading_Score\"] = Data_Essay_01[\"Flesch_Reading_Score\"]\n",
        "Data_Essay_01_Features.columns"
      ]
    },
    {
      "cell_type": "code",
      "execution_count": null,
      "metadata": {
        "id": "yPhsV-Ws5xSo"
      },
      "outputs": [],
      "source": []
    },
    {
      "cell_type": "code",
      "execution_count": null,
      "metadata": {
        "id": "Ruper2IjxADt"
      },
      "outputs": [],
      "source": [
        "Data_Essay_01_Features.drop('Unnamed: 0' , axis = 1 , inplace = True)\n",
        "Data_Essay_01_Features.drop(\"Unnamed: 20\" , axis = 1, inplace = True)\n",
        "Data_Essay_01_Features.drop(\"Unnamed: 18\" , axis = 1, inplace = True)"
      ]
    },
    {
      "cell_type": "code",
      "execution_count": null,
      "metadata": {
        "id": "5UcqnTwq2KPl"
      },
      "outputs": [],
      "source": [
        "Data_Essay_01_Features.corr()"
      ]
    },
    {
      "cell_type": "code",
      "execution_count": null,
      "metadata": {
        "id": "GWo9XpQZwfgp"
      },
      "outputs": [],
      "source": [
        "import seaborn as sns\n",
        "\n",
        "# Plot correlation of essay-length related features\n",
        "cols = ['Sent_Count', 'Word_Count', 'Char_Count']\n",
        "#        'Avg_Word_Count',\n",
        "#        'Verb_Count', 'Noun_Count', 'Adj_Count', 'Conj_Count', 'Adverb_Count',\n",
        "#        'pNoun_Count', 'Count_Fullstops', 'Count_Exclamation', 'Count_Comma',\n",
        "#        'Count_Questionmark', 'Count_Hyphens', 'Capitalization_Errors',\n",
        "#        'Grammar_Error_Count', 'Punctuation_Errors']\n",
        "        \n",
        "g = sns.pairplot(Data_Essay_01_Features, hue='Target_Score', vars=cols, plot_kws={\"s\": 20}, palette=\"bright\")\n",
        "g.fig.subplots_adjust(top=.93)\n",
        "g.fig.suptitle('Pairplots of select features', fontsize=16)\n",
        "plt.show()"
      ]
    }
  ],
  "metadata": {
    "colab": {
      "collapsed_sections": [
        "pmuQWvabiYC-",
        "9jYVbje0Ex_m",
        "6VY92aM5E00E",
        "LCGMHv_yE29j",
        "eSWTBDDpizP2",
        "lRegXINTbGzn",
        "hK6BZn5TlaHp",
        "7IWHDwgffcmK",
        "iUMnW4Qm4Vws",
        "puuRk5EHw8jJ",
        "2NgCS1PQZaIJ",
        "ndVmwOgqVIfd",
        "0GCMQ41VQbyC",
        "3mZ9RfrmQwpQ",
        "qEPOKuVJRz1-",
        "kZEkV3-ruDBc",
        "ttyjcisFxNHZ",
        "iNcrlo78xaLJ",
        "JrFCVazK5PRT",
        "nEFmhVcBwKAq",
        "VU9kawx0lFso",
        "E1J9uHGpUQHI",
        "jZX3Ov1pUWNE",
        "zgCh0AGuYS3X",
        "RHukosL--XbD",
        "K1uyGQ3y-zQ6",
        "MSiuF2JzyBWX",
        "jQ--G0SrwJqQ",
        "H9_v794WviV_"
      ],
      "provenance": []
    },
    "kernelspec": {
      "display_name": "Python 3 (ipykernel)",
      "language": "python",
      "name": "python3"
    },
    "language_info": {
      "codemirror_mode": {
        "name": "ipython",
        "version": 3
      },
      "file_extension": ".py",
      "mimetype": "text/x-python",
      "name": "python",
      "nbconvert_exporter": "python",
      "pygments_lexer": "ipython3",
      "version": "3.10.6"
    }
  },
  "nbformat": 4,
  "nbformat_minor": 0
}