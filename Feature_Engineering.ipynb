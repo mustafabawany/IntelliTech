{
  "nbformat": 4,
  "nbformat_minor": 0,
  "metadata": {
    "colab": {
      "provenance": [],
      "collapsed_sections": []
    },
    "kernelspec": {
      "name": "python3",
      "display_name": "Python 3"
    },
    "language_info": {
      "name": "python"
    }
  },
  "cells": [
    {
      "cell_type": "code",
      "source": [
        "!pip install textblob"
      ],
      "metadata": {
        "colab": {
          "base_uri": "https://localhost:8080/"
        },
        "id": "PpP642wc8kXg",
        "outputId": "bcd027fb-5949-4342-8d74-c5bcff4ad30b"
      },
      "execution_count": 1,
      "outputs": [
        {
          "output_type": "stream",
          "name": "stdout",
          "text": [
            "Looking in indexes: https://pypi.org/simple, https://us-python.pkg.dev/colab-wheels/public/simple/\n",
            "Requirement already satisfied: textblob in /usr/local/lib/python3.7/dist-packages (0.15.3)\n",
            "Requirement already satisfied: nltk>=3.1 in /usr/local/lib/python3.7/dist-packages (from textblob) (3.7)\n",
            "Requirement already satisfied: regex>=2021.8.3 in /usr/local/lib/python3.7/dist-packages (from nltk>=3.1->textblob) (2022.6.2)\n",
            "Requirement already satisfied: click in /usr/local/lib/python3.7/dist-packages (from nltk>=3.1->textblob) (7.1.2)\n",
            "Requirement already satisfied: joblib in /usr/local/lib/python3.7/dist-packages (from nltk>=3.1->textblob) (1.2.0)\n",
            "Requirement already satisfied: tqdm in /usr/local/lib/python3.7/dist-packages (from nltk>=3.1->textblob) (4.64.1)\n"
          ]
        }
      ]
    },
    {
      "cell_type": "code",
      "execution_count": 2,
      "metadata": {
        "colab": {
          "base_uri": "https://localhost:8080/"
        },
        "id": "uzNPxq8X8bYG",
        "outputId": "6742e427-3e1a-4567-bf8f-213d78304dff"
      },
      "outputs": [
        {
          "output_type": "stream",
          "name": "stderr",
          "text": [
            "[nltk_data] Downloading package stopwords to /root/nltk_data...\n",
            "[nltk_data]   Unzipping corpora/stopwords.zip.\n"
          ]
        },
        {
          "output_type": "execute_result",
          "data": {
            "text/plain": [
              "True"
            ]
          },
          "metadata": {},
          "execution_count": 2
        }
      ],
      "source": [
        "import pandas as pd\n",
        "import numpy as np\n",
        "import matplotlib.pyplot as plt\n",
        "import seaborn as sn \n",
        "import re\n",
        "import nltk \n",
        "from nltk.corpus import stopwords\n",
        "from textblob import Word\n",
        "\n",
        "nltk.download('stopwords')"
      ]
    },
    {
      "cell_type": "markdown",
      "source": [
        "# **Feature Engineering**"
      ],
      "metadata": {
        "id": "X4CyChIa3hm3"
      }
    },
    {
      "cell_type": "markdown",
      "source": [
        "## Counting Spelling Mistakes"
      ],
      "metadata": {
        "id": "H0940Y5YbNuV"
      }
    },
    {
      "cell_type": "code",
      "source": [
        "Data_Essay_01 = pd.read_csv(\"/content/drive/MyDrive/IntelliTech-DataSet/EssaySet01.csv\")\n",
        "Data_Essay_01.head()"
      ],
      "metadata": {
        "colab": {
          "base_uri": "https://localhost:8080/",
          "height": 206
        },
        "id": "I7JhmdSg8swA",
        "outputId": "16d7a0a2-e175-4c4f-8038-b2778f335402"
      },
      "execution_count": 5,
      "outputs": [
        {
          "output_type": "execute_result",
          "data": {
            "text/plain": [
              "   ID                                              Essay  Rater_1 Score  \\\n",
              "0   1  Dear local newspaper, I think effects computer...            4.0   \n",
              "1   2  Dear @CAPS1 @CAPS2, I believe that using compu...            5.0   \n",
              "2   3  Dear, @CAPS1 @CAPS2 @CAPS3 More and more peopl...            4.0   \n",
              "3   4  Dear Local Newspaper, @CAPS1 I have found that...            5.0   \n",
              "4   5  Dear @LOCATION1, I know having computers has a...            4.0   \n",
              "\n",
              "   Rater_2 Score  Total Score  \n",
              "0            4.0          8.0  \n",
              "1            4.0          9.0  \n",
              "2            3.0          7.0  \n",
              "3            5.0         10.0  \n",
              "4            4.0          8.0  "
            ],
            "text/html": [
              "\n",
              "  <div id=\"df-4a1ef084-0cfe-41f3-9ca3-89521d3f5c9e\">\n",
              "    <div class=\"colab-df-container\">\n",
              "      <div>\n",
              "<style scoped>\n",
              "    .dataframe tbody tr th:only-of-type {\n",
              "        vertical-align: middle;\n",
              "    }\n",
              "\n",
              "    .dataframe tbody tr th {\n",
              "        vertical-align: top;\n",
              "    }\n",
              "\n",
              "    .dataframe thead th {\n",
              "        text-align: right;\n",
              "    }\n",
              "</style>\n",
              "<table border=\"1\" class=\"dataframe\">\n",
              "  <thead>\n",
              "    <tr style=\"text-align: right;\">\n",
              "      <th></th>\n",
              "      <th>ID</th>\n",
              "      <th>Essay</th>\n",
              "      <th>Rater_1 Score</th>\n",
              "      <th>Rater_2 Score</th>\n",
              "      <th>Total Score</th>\n",
              "    </tr>\n",
              "  </thead>\n",
              "  <tbody>\n",
              "    <tr>\n",
              "      <th>0</th>\n",
              "      <td>1</td>\n",
              "      <td>Dear local newspaper, I think effects computer...</td>\n",
              "      <td>4.0</td>\n",
              "      <td>4.0</td>\n",
              "      <td>8.0</td>\n",
              "    </tr>\n",
              "    <tr>\n",
              "      <th>1</th>\n",
              "      <td>2</td>\n",
              "      <td>Dear @CAPS1 @CAPS2, I believe that using compu...</td>\n",
              "      <td>5.0</td>\n",
              "      <td>4.0</td>\n",
              "      <td>9.0</td>\n",
              "    </tr>\n",
              "    <tr>\n",
              "      <th>2</th>\n",
              "      <td>3</td>\n",
              "      <td>Dear, @CAPS1 @CAPS2 @CAPS3 More and more peopl...</td>\n",
              "      <td>4.0</td>\n",
              "      <td>3.0</td>\n",
              "      <td>7.0</td>\n",
              "    </tr>\n",
              "    <tr>\n",
              "      <th>3</th>\n",
              "      <td>4</td>\n",
              "      <td>Dear Local Newspaper, @CAPS1 I have found that...</td>\n",
              "      <td>5.0</td>\n",
              "      <td>5.0</td>\n",
              "      <td>10.0</td>\n",
              "    </tr>\n",
              "    <tr>\n",
              "      <th>4</th>\n",
              "      <td>5</td>\n",
              "      <td>Dear @LOCATION1, I know having computers has a...</td>\n",
              "      <td>4.0</td>\n",
              "      <td>4.0</td>\n",
              "      <td>8.0</td>\n",
              "    </tr>\n",
              "  </tbody>\n",
              "</table>\n",
              "</div>\n",
              "      <button class=\"colab-df-convert\" onclick=\"convertToInteractive('df-4a1ef084-0cfe-41f3-9ca3-89521d3f5c9e')\"\n",
              "              title=\"Convert this dataframe to an interactive table.\"\n",
              "              style=\"display:none;\">\n",
              "        \n",
              "  <svg xmlns=\"http://www.w3.org/2000/svg\" height=\"24px\"viewBox=\"0 0 24 24\"\n",
              "       width=\"24px\">\n",
              "    <path d=\"M0 0h24v24H0V0z\" fill=\"none\"/>\n",
              "    <path d=\"M18.56 5.44l.94 2.06.94-2.06 2.06-.94-2.06-.94-.94-2.06-.94 2.06-2.06.94zm-11 1L8.5 8.5l.94-2.06 2.06-.94-2.06-.94L8.5 2.5l-.94 2.06-2.06.94zm10 10l.94 2.06.94-2.06 2.06-.94-2.06-.94-.94-2.06-.94 2.06-2.06.94z\"/><path d=\"M17.41 7.96l-1.37-1.37c-.4-.4-.92-.59-1.43-.59-.52 0-1.04.2-1.43.59L10.3 9.45l-7.72 7.72c-.78.78-.78 2.05 0 2.83L4 21.41c.39.39.9.59 1.41.59.51 0 1.02-.2 1.41-.59l7.78-7.78 2.81-2.81c.8-.78.8-2.07 0-2.86zM5.41 20L4 18.59l7.72-7.72 1.47 1.35L5.41 20z\"/>\n",
              "  </svg>\n",
              "      </button>\n",
              "      \n",
              "  <style>\n",
              "    .colab-df-container {\n",
              "      display:flex;\n",
              "      flex-wrap:wrap;\n",
              "      gap: 12px;\n",
              "    }\n",
              "\n",
              "    .colab-df-convert {\n",
              "      background-color: #E8F0FE;\n",
              "      border: none;\n",
              "      border-radius: 50%;\n",
              "      cursor: pointer;\n",
              "      display: none;\n",
              "      fill: #1967D2;\n",
              "      height: 32px;\n",
              "      padding: 0 0 0 0;\n",
              "      width: 32px;\n",
              "    }\n",
              "\n",
              "    .colab-df-convert:hover {\n",
              "      background-color: #E2EBFA;\n",
              "      box-shadow: 0px 1px 2px rgba(60, 64, 67, 0.3), 0px 1px 3px 1px rgba(60, 64, 67, 0.15);\n",
              "      fill: #174EA6;\n",
              "    }\n",
              "\n",
              "    [theme=dark] .colab-df-convert {\n",
              "      background-color: #3B4455;\n",
              "      fill: #D2E3FC;\n",
              "    }\n",
              "\n",
              "    [theme=dark] .colab-df-convert:hover {\n",
              "      background-color: #434B5C;\n",
              "      box-shadow: 0px 1px 3px 1px rgba(0, 0, 0, 0.15);\n",
              "      filter: drop-shadow(0px 1px 2px rgba(0, 0, 0, 0.3));\n",
              "      fill: #FFFFFF;\n",
              "    }\n",
              "  </style>\n",
              "\n",
              "      <script>\n",
              "        const buttonEl =\n",
              "          document.querySelector('#df-4a1ef084-0cfe-41f3-9ca3-89521d3f5c9e button.colab-df-convert');\n",
              "        buttonEl.style.display =\n",
              "          google.colab.kernel.accessAllowed ? 'block' : 'none';\n",
              "\n",
              "        async function convertToInteractive(key) {\n",
              "          const element = document.querySelector('#df-4a1ef084-0cfe-41f3-9ca3-89521d3f5c9e');\n",
              "          const dataTable =\n",
              "            await google.colab.kernel.invokeFunction('convertToInteractive',\n",
              "                                                     [key], {});\n",
              "          if (!dataTable) return;\n",
              "\n",
              "          const docLinkHtml = 'Like what you see? Visit the ' +\n",
              "            '<a target=\"_blank\" href=https://colab.research.google.com/notebooks/data_table.ipynb>data table notebook</a>'\n",
              "            + ' to learn more about interactive tables.';\n",
              "          element.innerHTML = '';\n",
              "          dataTable['output_type'] = 'display_data';\n",
              "          await google.colab.output.renderOutput(dataTable, element);\n",
              "          const docLink = document.createElement('div');\n",
              "          docLink.innerHTML = docLinkHtml;\n",
              "          element.appendChild(docLink);\n",
              "        }\n",
              "      </script>\n",
              "    </div>\n",
              "  </div>\n",
              "  "
            ]
          },
          "metadata": {},
          "execution_count": 5
        }
      ]
    },
    {
      "cell_type": "code",
      "source": [
        "def removePunctuations(sentence):\n",
        "  \"\"\"\n",
        "    Removes punctuations from text\n",
        "\n",
        "    Args:\n",
        "      sentence: Essay of each student\n",
        "    \n",
        "    Returns: \n",
        "      String\n",
        "\n",
        "  \"\"\"\n",
        "  punctuations = '''!()-[]{};:'\"\\,<>./?@#$%^&*_~'''\n",
        "  newSentence = \"\"\n",
        "  for word in sentence:\n",
        "      if (word in punctuations):\n",
        "          newSentence = newSentence + \" \"\n",
        "      else: \n",
        "          newSentence = newSentence + word\n",
        "  return newSentence\n",
        "\n",
        "def SplitWords(sentence):\n",
        "  \"\"\"\n",
        "    Creates tokens of sentence\n",
        "\n",
        "    Args:\n",
        "      sentence: Essay of each student\n",
        "    \n",
        "    Returns: \n",
        "      String[]\n",
        "      \n",
        "  \"\"\"\n",
        "  return sentence.split()\n",
        "\n",
        "def check_word_spelling(word):\n",
        "  \"\"\"\n",
        "    Checks spelling of each word\n",
        "\n",
        "    Args:\n",
        "      word: Words (Tokens) of each essay \n",
        "    \n",
        "    Returns: \n",
        "      int\n",
        "      \n",
        "  \"\"\"\n",
        "  word = Word(word)\n",
        "  \n",
        "  result = word.spellcheck()\n",
        "\n",
        "  # result [0][0] contains the bool value if the spelling is correct or not\n",
        "  # result [0][1] contains the confidence for the suggest correct spelling\n",
        "\n",
        "  if word != result[0][0]:\n",
        "    # print(f'Spelling of \"{word}\" is not correct!')\n",
        "    # print(f'Correct spelling of \"{word}\": \"{result[0][0]}\" (with {result[0][1]} confidence).')\n",
        "    return 1\n",
        "  return 0"
      ],
      "metadata": {
        "id": "EW5kZQP-W3CE"
      },
      "execution_count": 6,
      "outputs": []
    },
    {
      "cell_type": "code",
      "source": [
        "# df_1 = data.query('essay_set == 1')\n",
        "# cols = [\"Essay\" , \"Number of Spelling Mistakes\"]\n",
        "# Mistakes = []\n",
        "# for index, row in df_1.iterrows():\n",
        "#   sentence = row[\"essay\"]\n",
        "#   PreProcessed0 = removePunctuations(sentence)\n",
        "#   PreProcessed1 = PreProcessed0.lower()\n",
        "#   Words = SplitWords(PreProcessed1)\n",
        "#   count = 0 \n",
        "#   for word in Words:\n",
        "#     count = count + check_word_spelling(word)\n",
        "#   Mistakes.append(count)\n",
        "\n",
        "# Featured_df = pd.DataFrame(list(zip(df_1 , Mistakes)) , columns = cols)\n",
        "# Featured_df.head()"
      ],
      "metadata": {
        "id": "1TcBLGWfWs6E"
      },
      "execution_count": null,
      "outputs": []
    },
    {
      "cell_type": "code",
      "source": [],
      "metadata": {
        "id": "nV3ttAkblI57"
      },
      "execution_count": null,
      "outputs": []
    }
  ]
}