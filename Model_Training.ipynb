{
  "nbformat": 4,
  "nbformat_minor": 0,
  "metadata": {
    "colab": {
      "provenance": []
    },
    "kernelspec": {
      "name": "python3",
      "display_name": "Python 3"
    },
    "language_info": {
      "name": "python"
    }
  },
  "cells": [
    {
      "cell_type": "code",
      "execution_count": 42,
      "metadata": {
        "id": "v5pwprK665nD",
        "colab": {
          "base_uri": "https://localhost:8080/"
        },
        "outputId": "6611e1b9-83a4-40b6-9b58-dbe2346f8c46"
      },
      "outputs": [
        {
          "output_type": "stream",
          "name": "stderr",
          "text": [
            "[nltk_data] Downloading package stopwords to /root/nltk_data...\n",
            "[nltk_data]   Package stopwords is already up-to-date!\n",
            "[nltk_data] Downloading package punkt to /root/nltk_data...\n",
            "[nltk_data]   Package punkt is already up-to-date!\n"
          ]
        }
      ],
      "source": [
        "import numpy as np\n",
        "import pandas as pd\n",
        "import matplotlib.pyplot as plt\n",
        "import seaborn as sns\n",
        "%matplotlib inline\n",
        "\n",
        "from scipy.stats.mstats import normaltest # D'Agostino K^2 Test\n",
        "from scipy.stats import boxcox\n",
        "\n",
        "from gensim.models import Word2Vec\n",
        "from nltk.tokenize import word_tokenize\n",
        "\n",
        "import nltk\n",
        "nltk.download('stopwords')\n",
        "from nltk.corpus import stopwords\n",
        "nltk.download('punkt')\n",
        "stop_words = set(stopwords.words('english'))\n",
        "\n",
        "from sklearn.metrics import r2_score  # how well we are explaining our variants wrt regression\n",
        "from sklearn.model_selection import train_test_split\n",
        "from sklearn.preprocessing import StandardScaler, MinMaxScaler, MaxAbsScaler, PolynomialFeatures\n",
        "from sklearn.model_selection import KFold, cross_val_predict\n",
        "from sklearn.linear_model import LinearRegression, Lasso, Ridge\n",
        "from sklearn.pipeline import Pipeline"
      ]
    },
    {
      "cell_type": "markdown",
      "source": [
        "## **Model Tracking**"
      ],
      "metadata": {
        "id": "ZSNZJlU69Ufx"
      }
    },
    {
      "cell_type": "code",
      "source": [
        "log_df = pd.DataFrame(columns = ['modelName', 'features_list', 'features_size', 'hyperparameters', 'scaling_type', 'no_of_kfolds', 'polynomial_degree','comments','r2-score', 'cohen_kappa_score'])"
      ],
      "metadata": {
        "id": "ZP4-rRISBuoa"
      },
      "execution_count": 75,
      "outputs": []
    },
    {
      "cell_type": "code",
      "source": [
        "class Logger_Regression:\n",
        "    modelName = \"\",      # linearRegression,lasso,ridge, SVR \n",
        "    features_list = list(),\n",
        "    features_size = 0,\n",
        "    hyperparameters = \"none\",  #aplha_value, max_iteration\n",
        "    scaling_type = \"none\",    #standard, minmax, maxabs\n",
        "    no_of_kfolds = 0,\n",
        "    polynomial_degree = 1,  #default linear regression\n",
        "    comments = \"\",\n",
        "    r2_score = 0,\n",
        "    cohen_kappa_score = 0\n",
        "\n",
        "    def  __init__(self, modelName, feature_list, features_size):\n",
        "      self.modelName = modelName\n",
        "      self.features_list = feature_list\n",
        "      self.features_size = features_size\n",
        "\n",
        "    def linearRegression_basic(self,X,y):\n",
        "      X_train, X_test, y_train, y_test = train_test_split(X, y, test_size=0.3, random_state=72018)\n",
        "      lr = LinearRegression()\n",
        "      lr.fit(X_train, y_train)\n",
        "      y_pred = lr.predict(X_test)\n",
        "      self.r2_score = r2_score(y_test,y_pred)*100\n",
        "      self.add_log()\n",
        "      #return (r2_score(y_test,y_pred))\n",
        "\n",
        "    def linearRegression_scaling(self,X,y,no_of_kfolds):\n",
        "      kf = KFold(shuffle=True, random_state=72018, n_splits=no_of_kfolds)\n",
        "      self.no_of_kfolds = no_of_kfolds\n",
        "      scalers = {'standard': StandardScaler(),\n",
        "                  'minmax': MinMaxScaler(),\n",
        "                  'maxabs': MaxAbsScaler()}\n",
        "      # for train_index, test_index in kf.split(X):\n",
        "      #   X_train, X_test, y_train, y_test = (X.iloc[train_index, :], \n",
        "      #                                       X.iloc[test_index, :], \n",
        "      #                                       y[train_index], \n",
        "      #                                       y[test_index])\n",
        "        \n",
        "      for scaler_label, scaler in scalers.items():\n",
        "         s = scaler\n",
        "         self.scaling_type = scaler_label\n",
        "         lr = LinearRegression()\n",
        "         estimator = Pipeline([(\"scaler\", s), (\"regression\", lr)])\n",
        "         predictions = cross_val_predict(estimator, X, y, cv=kf)\n",
        "         self.r2_score = r2_score(y, predictions)*100\n",
        "         self.add_log()\n",
        "\n",
        "    def set_comment(self,message):\n",
        "      self.comments = message\n",
        "    \n",
        "    def add_log(self):\n",
        "      row = [self.modelName, self.features_list, self.features_size, self.hyperparameters, self.scaling_type, self.no_of_kfolds, self.polynomial_degree, self.comments ,self.r2_score, self.cohen_kappa_score]\n",
        "      log_df.loc[len(log_df)] = row"
      ],
      "metadata": {
        "id": "Gai_LPDi9Tf3"
      },
      "execution_count": 76,
      "outputs": []
    },
    {
      "cell_type": "markdown",
      "source": [
        "## **Approach01: Traditional Features**"
      ],
      "metadata": {
        "id": "dFuZCO6i1KxZ"
      }
    },
    {
      "cell_type": "markdown",
      "source": [
        "### **Transforming Target**\n",
        "1. Log Test\n",
        "2. Square Root\n",
        "3. Box Cox"
      ],
      "metadata": {
        "id": "YohXZfDXHDpM"
      }
    },
    {
      "cell_type": "markdown",
      "source": [
        "Apply transformations to make target variable more normally distributed for regression."
      ],
      "metadata": {
        "id": "rG76GHAKI6hI"
      }
    },
    {
      "cell_type": "code",
      "source": [
        "from google.colab import drive\n",
        "drive.mount('/content/drive')\n",
        "df_train = pd.read_csv(\"/content/drive/My Drive/IntelliTech-DataSet/EssaySet01_Features.csv\", index_col =0)\n",
        "df_train.head()"
      ],
      "metadata": {
        "colab": {
          "base_uri": "https://localhost:8080/",
          "height": 334
        },
        "id": "yXgw6fGe7DpH",
        "outputId": "63ec642d-760f-4b81-816f-ddafbc8d361f"
      },
      "execution_count": 45,
      "outputs": [
        {
          "output_type": "stream",
          "name": "stdout",
          "text": [
            "Drive already mounted at /content/drive; to attempt to forcibly remount, call drive.mount(\"/content/drive\", force_remount=True).\n"
          ]
        },
        {
          "output_type": "execute_result",
          "data": {
            "text/plain": [
              "   Sent_Count  Word_Count  Char_Count  Avg_Word_Count  Verb_Count  Noun_Count  \\\n",
              "0          16         386        1875        3.984456          55          74   \n",
              "1          20         464        2288        4.030172          71          97   \n",
              "2          14         313        1541        4.035144          42          69   \n",
              "3          27         611        3165        4.328969          71         126   \n",
              "4          30         517        2569        4.071567          61         107   \n",
              "\n",
              "   Adj_Count  Conj_Count  Adverb_Count  pNoun_Count  ...  Punctuation_Errors  \\\n",
              "0         18          14            15           48  ...                   1   \n",
              "1         19          18            19           49  ...                   6   \n",
              "2         17          16            11           25  ...                   4   \n",
              "3         39          17            21           33  ...                   2   \n",
              "4         30          15            34           41  ...                   2   \n",
              "\n",
              "   Connectivity_Index  Semantic_Similarity  Flesch_Reading_Ease_Score  \\\n",
              "0           24.552787             0.396690                  86.789576   \n",
              "1           25.344232             0.311087                  79.907259   \n",
              "2           14.662850             0.291317                  80.081797   \n",
              "3           32.408323             0.269810                  84.865926   \n",
              "4           27.824804             0.264052                  81.834076   \n",
              "\n",
              "   Flesh_Kincaid_Grade  Dale_Challl_Readability_Score  Lexical_Diversity  \\\n",
              "0             5.484289                       6.551183           0.370466   \n",
              "1             5.122937                       6.726940           0.342672   \n",
              "2             4.728247                       7.015542           0.418530   \n",
              "3             4.821414                       7.214003           0.301146   \n",
              "4             2.236540                       6.354310           0.324952   \n",
              "\n",
              "   Lexical_Density  Lexical_Originality  Total Score  \n",
              "0              224             0.000192            8  \n",
              "1              273             0.000214            9  \n",
              "2              180             0.000176            7  \n",
              "3              306             0.000247           10  \n",
              "4              288             0.000226            8  \n",
              "\n",
              "[5 rows x 27 columns]"
            ],
            "text/html": [
              "\n",
              "  <div id=\"df-0471c38a-5d9b-4523-85c0-90fe60c37331\">\n",
              "    <div class=\"colab-df-container\">\n",
              "      <div>\n",
              "<style scoped>\n",
              "    .dataframe tbody tr th:only-of-type {\n",
              "        vertical-align: middle;\n",
              "    }\n",
              "\n",
              "    .dataframe tbody tr th {\n",
              "        vertical-align: top;\n",
              "    }\n",
              "\n",
              "    .dataframe thead th {\n",
              "        text-align: right;\n",
              "    }\n",
              "</style>\n",
              "<table border=\"1\" class=\"dataframe\">\n",
              "  <thead>\n",
              "    <tr style=\"text-align: right;\">\n",
              "      <th></th>\n",
              "      <th>Sent_Count</th>\n",
              "      <th>Word_Count</th>\n",
              "      <th>Char_Count</th>\n",
              "      <th>Avg_Word_Count</th>\n",
              "      <th>Verb_Count</th>\n",
              "      <th>Noun_Count</th>\n",
              "      <th>Adj_Count</th>\n",
              "      <th>Conj_Count</th>\n",
              "      <th>Adverb_Count</th>\n",
              "      <th>pNoun_Count</th>\n",
              "      <th>...</th>\n",
              "      <th>Punctuation_Errors</th>\n",
              "      <th>Connectivity_Index</th>\n",
              "      <th>Semantic_Similarity</th>\n",
              "      <th>Flesch_Reading_Ease_Score</th>\n",
              "      <th>Flesh_Kincaid_Grade</th>\n",
              "      <th>Dale_Challl_Readability_Score</th>\n",
              "      <th>Lexical_Diversity</th>\n",
              "      <th>Lexical_Density</th>\n",
              "      <th>Lexical_Originality</th>\n",
              "      <th>Total Score</th>\n",
              "    </tr>\n",
              "  </thead>\n",
              "  <tbody>\n",
              "    <tr>\n",
              "      <th>0</th>\n",
              "      <td>16</td>\n",
              "      <td>386</td>\n",
              "      <td>1875</td>\n",
              "      <td>3.984456</td>\n",
              "      <td>55</td>\n",
              "      <td>74</td>\n",
              "      <td>18</td>\n",
              "      <td>14</td>\n",
              "      <td>15</td>\n",
              "      <td>48</td>\n",
              "      <td>...</td>\n",
              "      <td>1</td>\n",
              "      <td>24.552787</td>\n",
              "      <td>0.396690</td>\n",
              "      <td>86.789576</td>\n",
              "      <td>5.484289</td>\n",
              "      <td>6.551183</td>\n",
              "      <td>0.370466</td>\n",
              "      <td>224</td>\n",
              "      <td>0.000192</td>\n",
              "      <td>8</td>\n",
              "    </tr>\n",
              "    <tr>\n",
              "      <th>1</th>\n",
              "      <td>20</td>\n",
              "      <td>464</td>\n",
              "      <td>2288</td>\n",
              "      <td>4.030172</td>\n",
              "      <td>71</td>\n",
              "      <td>97</td>\n",
              "      <td>19</td>\n",
              "      <td>18</td>\n",
              "      <td>19</td>\n",
              "      <td>49</td>\n",
              "      <td>...</td>\n",
              "      <td>6</td>\n",
              "      <td>25.344232</td>\n",
              "      <td>0.311087</td>\n",
              "      <td>79.907259</td>\n",
              "      <td>5.122937</td>\n",
              "      <td>6.726940</td>\n",
              "      <td>0.342672</td>\n",
              "      <td>273</td>\n",
              "      <td>0.000214</td>\n",
              "      <td>9</td>\n",
              "    </tr>\n",
              "    <tr>\n",
              "      <th>2</th>\n",
              "      <td>14</td>\n",
              "      <td>313</td>\n",
              "      <td>1541</td>\n",
              "      <td>4.035144</td>\n",
              "      <td>42</td>\n",
              "      <td>69</td>\n",
              "      <td>17</td>\n",
              "      <td>16</td>\n",
              "      <td>11</td>\n",
              "      <td>25</td>\n",
              "      <td>...</td>\n",
              "      <td>4</td>\n",
              "      <td>14.662850</td>\n",
              "      <td>0.291317</td>\n",
              "      <td>80.081797</td>\n",
              "      <td>4.728247</td>\n",
              "      <td>7.015542</td>\n",
              "      <td>0.418530</td>\n",
              "      <td>180</td>\n",
              "      <td>0.000176</td>\n",
              "      <td>7</td>\n",
              "    </tr>\n",
              "    <tr>\n",
              "      <th>3</th>\n",
              "      <td>27</td>\n",
              "      <td>611</td>\n",
              "      <td>3165</td>\n",
              "      <td>4.328969</td>\n",
              "      <td>71</td>\n",
              "      <td>126</td>\n",
              "      <td>39</td>\n",
              "      <td>17</td>\n",
              "      <td>21</td>\n",
              "      <td>33</td>\n",
              "      <td>...</td>\n",
              "      <td>2</td>\n",
              "      <td>32.408323</td>\n",
              "      <td>0.269810</td>\n",
              "      <td>84.865926</td>\n",
              "      <td>4.821414</td>\n",
              "      <td>7.214003</td>\n",
              "      <td>0.301146</td>\n",
              "      <td>306</td>\n",
              "      <td>0.000247</td>\n",
              "      <td>10</td>\n",
              "    </tr>\n",
              "    <tr>\n",
              "      <th>4</th>\n",
              "      <td>30</td>\n",
              "      <td>517</td>\n",
              "      <td>2569</td>\n",
              "      <td>4.071567</td>\n",
              "      <td>61</td>\n",
              "      <td>107</td>\n",
              "      <td>30</td>\n",
              "      <td>15</td>\n",
              "      <td>34</td>\n",
              "      <td>41</td>\n",
              "      <td>...</td>\n",
              "      <td>2</td>\n",
              "      <td>27.824804</td>\n",
              "      <td>0.264052</td>\n",
              "      <td>81.834076</td>\n",
              "      <td>2.236540</td>\n",
              "      <td>6.354310</td>\n",
              "      <td>0.324952</td>\n",
              "      <td>288</td>\n",
              "      <td>0.000226</td>\n",
              "      <td>8</td>\n",
              "    </tr>\n",
              "  </tbody>\n",
              "</table>\n",
              "<p>5 rows × 27 columns</p>\n",
              "</div>\n",
              "      <button class=\"colab-df-convert\" onclick=\"convertToInteractive('df-0471c38a-5d9b-4523-85c0-90fe60c37331')\"\n",
              "              title=\"Convert this dataframe to an interactive table.\"\n",
              "              style=\"display:none;\">\n",
              "        \n",
              "  <svg xmlns=\"http://www.w3.org/2000/svg\" height=\"24px\"viewBox=\"0 0 24 24\"\n",
              "       width=\"24px\">\n",
              "    <path d=\"M0 0h24v24H0V0z\" fill=\"none\"/>\n",
              "    <path d=\"M18.56 5.44l.94 2.06.94-2.06 2.06-.94-2.06-.94-.94-2.06-.94 2.06-2.06.94zm-11 1L8.5 8.5l.94-2.06 2.06-.94-2.06-.94L8.5 2.5l-.94 2.06-2.06.94zm10 10l.94 2.06.94-2.06 2.06-.94-2.06-.94-.94-2.06-.94 2.06-2.06.94z\"/><path d=\"M17.41 7.96l-1.37-1.37c-.4-.4-.92-.59-1.43-.59-.52 0-1.04.2-1.43.59L10.3 9.45l-7.72 7.72c-.78.78-.78 2.05 0 2.83L4 21.41c.39.39.9.59 1.41.59.51 0 1.02-.2 1.41-.59l7.78-7.78 2.81-2.81c.8-.78.8-2.07 0-2.86zM5.41 20L4 18.59l7.72-7.72 1.47 1.35L5.41 20z\"/>\n",
              "  </svg>\n",
              "      </button>\n",
              "      \n",
              "  <style>\n",
              "    .colab-df-container {\n",
              "      display:flex;\n",
              "      flex-wrap:wrap;\n",
              "      gap: 12px;\n",
              "    }\n",
              "\n",
              "    .colab-df-convert {\n",
              "      background-color: #E8F0FE;\n",
              "      border: none;\n",
              "      border-radius: 50%;\n",
              "      cursor: pointer;\n",
              "      display: none;\n",
              "      fill: #1967D2;\n",
              "      height: 32px;\n",
              "      padding: 0 0 0 0;\n",
              "      width: 32px;\n",
              "    }\n",
              "\n",
              "    .colab-df-convert:hover {\n",
              "      background-color: #E2EBFA;\n",
              "      box-shadow: 0px 1px 2px rgba(60, 64, 67, 0.3), 0px 1px 3px 1px rgba(60, 64, 67, 0.15);\n",
              "      fill: #174EA6;\n",
              "    }\n",
              "\n",
              "    [theme=dark] .colab-df-convert {\n",
              "      background-color: #3B4455;\n",
              "      fill: #D2E3FC;\n",
              "    }\n",
              "\n",
              "    [theme=dark] .colab-df-convert:hover {\n",
              "      background-color: #434B5C;\n",
              "      box-shadow: 0px 1px 3px 1px rgba(0, 0, 0, 0.15);\n",
              "      filter: drop-shadow(0px 1px 2px rgba(0, 0, 0, 0.3));\n",
              "      fill: #FFFFFF;\n",
              "    }\n",
              "  </style>\n",
              "\n",
              "      <script>\n",
              "        const buttonEl =\n",
              "          document.querySelector('#df-0471c38a-5d9b-4523-85c0-90fe60c37331 button.colab-df-convert');\n",
              "        buttonEl.style.display =\n",
              "          google.colab.kernel.accessAllowed ? 'block' : 'none';\n",
              "\n",
              "        async function convertToInteractive(key) {\n",
              "          const element = document.querySelector('#df-0471c38a-5d9b-4523-85c0-90fe60c37331');\n",
              "          const dataTable =\n",
              "            await google.colab.kernel.invokeFunction('convertToInteractive',\n",
              "                                                     [key], {});\n",
              "          if (!dataTable) return;\n",
              "\n",
              "          const docLinkHtml = 'Like what you see? Visit the ' +\n",
              "            '<a target=\"_blank\" href=https://colab.research.google.com/notebooks/data_table.ipynb>data table notebook</a>'\n",
              "            + ' to learn more about interactive tables.';\n",
              "          element.innerHTML = '';\n",
              "          dataTable['output_type'] = 'display_data';\n",
              "          await google.colab.output.renderOutput(dataTable, element);\n",
              "          const docLink = document.createElement('div');\n",
              "          docLink.innerHTML = docLinkHtml;\n",
              "          element.appendChild(docLink);\n",
              "        }\n",
              "      </script>\n",
              "    </div>\n",
              "  </div>\n",
              "  "
            ]
          },
          "metadata": {},
          "execution_count": 45
        }
      ]
    },
    {
      "cell_type": "code",
      "source": [
        "df_train['Total Score'].hist()"
      ],
      "metadata": {
        "colab": {
          "base_uri": "https://localhost:8080/",
          "height": 282
        },
        "id": "6E6wVcUPIwyy",
        "outputId": "b60aefbc-6caa-41d5-8a1a-c5023816b0eb"
      },
      "execution_count": 46,
      "outputs": [
        {
          "output_type": "execute_result",
          "data": {
            "text/plain": [
              "<matplotlib.axes._subplots.AxesSubplot at 0x7ff6e2a0c450>"
            ]
          },
          "metadata": {},
          "execution_count": 46
        },
        {
          "output_type": "display_data",
          "data": {
            "text/plain": [
              "<Figure size 432x288 with 1 Axes>"
            ],
            "image/png": "[encoded data removed]"
          },
          "metadata": {
            "needs_background": "light"
          }
        }
      ]
    },
    {
      "cell_type": "code",
      "source": [
        "#This test outputs a \"p-value\". The higher this p-value is the closer the distribution is to normal.\n",
        "#If the p-value > 0.05, then it is bell-curve distribution.\n",
        "#Our data is clearly right skewed (Histogram)\n",
        "normaltest(df_train['Total Score'].values)  "
      ],
      "metadata": {
        "colab": {
          "base_uri": "https://localhost:8080/"
        },
        "id": "f0MhmxVGJiET",
        "outputId": "d7aa4f26-1aae-46f0-ae38-89183de080de"
      },
      "execution_count": 47,
      "outputs": [
        {
          "output_type": "execute_result",
          "data": {
            "text/plain": [
              "NormaltestResult(statistic=127.21536231858303, pvalue=2.3742971207847717e-28)"
            ]
          },
          "metadata": {},
          "execution_count": 47
        }
      ]
    },
    {
      "cell_type": "code",
      "source": [
        "df_train['Total Score'].describe()"
      ],
      "metadata": {
        "colab": {
          "base_uri": "https://localhost:8080/"
        },
        "id": "9GUx60KJkuaO",
        "outputId": "96ed07c0-5f3d-45d8-ec25-035cdd61c044"
      },
      "execution_count": 48,
      "outputs": [
        {
          "output_type": "execute_result",
          "data": {
            "text/plain": [
              "count    1783.000000\n",
              "mean        8.528323\n",
              "std         1.538565\n",
              "min         2.000000\n",
              "25%         8.000000\n",
              "50%         8.000000\n",
              "75%        10.000000\n",
              "max        12.000000\n",
              "Name: Total Score, dtype: float64"
            ]
          },
          "metadata": {},
          "execution_count": 48
        }
      ]
    },
    {
      "cell_type": "markdown",
      "source": [
        "#### Transforming Target Through Log Test"
      ],
      "metadata": {
        "id": "X691xgovKIWU"
      }
    },
    {
      "cell_type": "code",
      "source": [
        "log_scores = np.log(df_train['Total Score'])\n",
        "log_scores.hist();"
      ],
      "metadata": {
        "colab": {
          "base_uri": "https://localhost:8080/",
          "height": 265
        },
        "id": "zlx8pB2DKC7Q",
        "outputId": "9b946390-29a5-4864-8394-1bca32577b57"
      },
      "execution_count": 49,
      "outputs": [
        {
          "output_type": "display_data",
          "data": {
            "text/plain": [
              "<Figure size 432x288 with 1 Axes>"
            ],
            "image/png": "[encoded data removed]"
          },
          "metadata": {
            "needs_background": "light"
          }
        }
      ]
    },
    {
      "cell_type": "code",
      "source": [
        "log_scores"
      ],
      "metadata": {
        "colab": {
          "base_uri": "https://localhost:8080/"
        },
        "id": "8Y5NaxLcdLj_",
        "outputId": "a2fa6729-8f86-4a81-d74a-c4fb62bfe046"
      },
      "execution_count": 50,
      "outputs": [
        {
          "output_type": "execute_result",
          "data": {
            "text/plain": [
              "0       2.079442\n",
              "1       2.197225\n",
              "2       1.945910\n",
              "3       2.302585\n",
              "4       2.079442\n",
              "          ...   \n",
              "1778    2.079442\n",
              "1779    1.945910\n",
              "1780    2.079442\n",
              "1781    0.693147\n",
              "1782    1.945910\n",
              "Name: Total Score, Length: 1783, dtype: float64"
            ]
          },
          "metadata": {},
          "execution_count": 50
        }
      ]
    },
    {
      "cell_type": "code",
      "source": [
        "normaltest(log_scores)   # No significant change in p-value"
      ],
      "metadata": {
        "colab": {
          "base_uri": "https://localhost:8080/"
        },
        "id": "HIuLaEbMdUe1",
        "outputId": "f266e274-2fd4-4cf1-a78b-fcedcc0ba34b"
      },
      "execution_count": 51,
      "outputs": [
        {
          "output_type": "execute_result",
          "data": {
            "text/plain": [
              "NormaltestResult(statistic=967.974762708955, pvalue=6.411371863279588e-211)"
            ]
          },
          "metadata": {},
          "execution_count": 51
        }
      ]
    },
    {
      "cell_type": "markdown",
      "source": [
        "Transforming Through Square Root Transformation"
      ],
      "metadata": {
        "id": "eCnosLFqdsOI"
      }
    },
    {
      "cell_type": "code",
      "source": [
        "sqrt_scores = np.sqrt(df_train['Total Score'])\n",
        "plt.hist(sqrt_scores)"
      ],
      "metadata": {
        "colab": {
          "base_uri": "https://localhost:8080/",
          "height": 352
        },
        "id": "ySvkcp_Jdiyh",
        "outputId": "afa14cdd-509f-47e9-d35a-b63909174017"
      },
      "execution_count": 52,
      "outputs": [
        {
          "output_type": "execute_result",
          "data": {
            "text/plain": [
              "(array([ 10.,   1.,  17.,   0.,  17., 110., 822., 334., 316., 156.]),\n",
              " array([1.41421356, 1.61920237, 1.82419117, 2.02917998, 2.23416878,\n",
              "        2.43915759, 2.64414639, 2.8491352 , 3.054124  , 3.25911281,\n",
              "        3.46410162]),\n",
              " <a list of 10 Patch objects>)"
            ]
          },
          "metadata": {},
          "execution_count": 52
        },
        {
          "output_type": "display_data",
          "data": {
            "text/plain": [
              "<Figure size 432x288 with 1 Axes>"
            ],
            "image/png": "[encoded data removed]"
          },
          "metadata": {
            "needs_background": "light"
          }
        }
      ]
    },
    {
      "cell_type": "code",
      "source": [
        "normaltest(sqrt_scores)"
      ],
      "metadata": {
        "colab": {
          "base_uri": "https://localhost:8080/"
        },
        "id": "4pp7Gz9IkObs",
        "outputId": "5554890d-d5d4-441b-ee60-566bf4bc8bbd"
      },
      "execution_count": 53,
      "outputs": [
        {
          "output_type": "execute_result",
          "data": {
            "text/plain": [
              "NormaltestResult(statistic=456.280616698139, pvalue=8.316162831695822e-100)"
            ]
          },
          "metadata": {},
          "execution_count": 53
        }
      ]
    },
    {
      "cell_type": "markdown",
      "source": [
        "Target Transformation Through BoxCox\n",
        "\n"
      ],
      "metadata": {
        "id": "dUucR4qpkXbz"
      }
    },
    {
      "cell_type": "code",
      "source": [
        "bc_result = boxcox(df_train['Total Score'])\n",
        "boxcox_score = bc_result[0]\n",
        "lam = bc_result[1]\n",
        "lam"
      ],
      "metadata": {
        "colab": {
          "base_uri": "https://localhost:8080/"
        },
        "id": "Y4TouF0Xkcac",
        "outputId": "5bbfd5ae-28ad-4978-9285-af55bed39f8e"
      },
      "execution_count": 54,
      "outputs": [
        {
          "output_type": "execute_result",
          "data": {
            "text/plain": [
              "1.5655301603375742"
            ]
          },
          "metadata": {},
          "execution_count": 54
        }
      ]
    },
    {
      "cell_type": "code",
      "source": [
        "boxcox_score.shape"
      ],
      "metadata": {
        "colab": {
          "base_uri": "https://localhost:8080/"
        },
        "id": "HnBl3LkFCnVC",
        "outputId": "7fb7480e-a87c-4efc-d0e0-0e0081313c21"
      },
      "execution_count": 55,
      "outputs": [
        {
          "output_type": "execute_result",
          "data": {
            "text/plain": [
              "(1783,)"
            ]
          },
          "metadata": {},
          "execution_count": 55
        }
      ]
    },
    {
      "cell_type": "code",
      "source": [
        "df_train['Total Score'].hist();"
      ],
      "metadata": {
        "colab": {
          "base_uri": "https://localhost:8080/",
          "height": 265
        },
        "id": "uB5Ibv6c1jWe",
        "outputId": "db73e409-af37-4eaf-dc8c-7c7305801331"
      },
      "execution_count": 56,
      "outputs": [
        {
          "output_type": "display_data",
          "data": {
            "text/plain": [
              "<Figure size 432x288 with 1 Axes>"
            ],
            "image/png": "[encoded data removed]"
          },
          "metadata": {
            "needs_background": "light"
          }
        }
      ]
    },
    {
      "cell_type": "code",
      "source": [
        "normaltest(boxcox_score)"
      ],
      "metadata": {
        "colab": {
          "base_uri": "https://localhost:8080/"
        },
        "id": "vyrYAjpM1rVc",
        "outputId": "9ef5bcf2-1c0b-467d-872c-05ce2d8ff1f5"
      },
      "execution_count": 57,
      "outputs": [
        {
          "output_type": "execute_result",
          "data": {
            "text/plain": [
              "NormaltestResult(statistic=17.904988785940628, pvalue=0.00012941394786243168)"
            ]
          },
          "metadata": {},
          "execution_count": 57
        }
      ]
    },
    {
      "cell_type": "markdown",
      "source": [
        "Significantly more normally distributed (according to p value) than the other two distributions"
      ],
      "metadata": {
        "id": "q-TNsVqi1zgq"
      }
    },
    {
      "cell_type": "markdown",
      "source": [
        "### **Linear Regression Model**\n"
      ],
      "metadata": {
        "id": "oU35CHnU3NW2"
      }
    },
    {
      "cell_type": "code",
      "source": [
        "#basic model\n",
        "y_col = \"Total Score\"\n",
        "X = df_train.drop(y_col, axis=1)\n",
        "y = df_train[y_col]\n",
        "data_logger = Logger_Regression(\"Linear Regression\", list(X.columns), len(list(X.columns)))\n",
        "data_logger.set_comment(\"Vanilla Linear Regression Model\")\n",
        "data_logger.linearRegression_basic(X,y)\n",
        "\n",
        "#boxcox variation\n",
        "data_logger = Logger_Regression(\"Linear Regression\", list(X.columns), len(list(X.columns)))\n",
        "data_logger.set_comment(\"Vanilla Linear Regression Model with Boxcox variation\")\n",
        "data_logger.linearRegression_basic(X,boxcox_score)\n"
      ],
      "metadata": {
        "id": "mbvJkMSI_Ixg"
      },
      "execution_count": 77,
      "outputs": []
    },
    {
      "cell_type": "code",
      "source": [
        "#scaling with no transformation\n",
        "data_logger = Logger_Regression(\"Linear Regression\", list(X.columns), len(list(X.columns)))\n",
        "data_logger.set_comment(\"Vanilla Linear Regression Model with Scaling\")\n",
        "data_logger.linearRegression_scaling(X,y,3)\n",
        "\n",
        "#scaling with target transformation\n",
        "data_logger = Logger_Regression(\"Linear Regression\", list(X.columns), len(list(X.columns)))\n",
        "data_logger.set_comment(\"Vanilla Linear Regression Model with Scaling\")\n",
        "data_logger.linearRegression_scaling(X,boxcox_score,3)"
      ],
      "metadata": {
        "id": "qL4k6lmOfl4H"
      },
      "execution_count": 78,
      "outputs": []
    },
    {
      "cell_type": "code",
      "source": [
        "log_df.head()"
      ],
      "metadata": {
        "colab": {
          "base_uri": "https://localhost:8080/",
          "height": 511
        },
        "id": "jFEjRLH7fwZK",
        "outputId": "d1695241-d29e-417a-eaa2-d177c60f1625"
      },
      "execution_count": 79,
      "outputs": [
        {
          "output_type": "execute_result",
          "data": {
            "text/plain": [
              "           modelName                                      features_list  \\\n",
              "0  Linear Regression  [Sent_Count, Word_Count, Char_Count, Avg_Word_...   \n",
              "1  Linear Regression  [Sent_Count, Word_Count, Char_Count, Avg_Word_...   \n",
              "2  Linear Regression  [Sent_Count, Word_Count, Char_Count, Avg_Word_...   \n",
              "3  Linear Regression  [Sent_Count, Word_Count, Char_Count, Avg_Word_...   \n",
              "4  Linear Regression  [Sent_Count, Word_Count, Char_Count, Avg_Word_...   \n",
              "\n",
              "  features_size hyperparameters scaling_type no_of_kfolds polynomial_degree  \\\n",
              "0            26         (none,)      (none,)         (0,)              (1,)   \n",
              "1            26         (none,)      (none,)         (0,)              (1,)   \n",
              "2            26         (none,)     standard            3              (1,)   \n",
              "3            26         (none,)       minmax            3              (1,)   \n",
              "4            26         (none,)       maxabs            3              (1,)   \n",
              "\n",
              "                                            comments   r2-score  \\\n",
              "0                    Vanilla Linear Regression Model  73.633025   \n",
              "1  Vanilla Linear Regression Model with Boxcox va...  72.176556   \n",
              "2       Vanilla Linear Regression Model with Scaling  73.984812   \n",
              "3       Vanilla Linear Regression Model with Scaling  73.984812   \n",
              "4       Vanilla Linear Regression Model with Scaling  73.984812   \n",
              "\n",
              "  cohen_kappa_score  \n",
              "0                 0  \n",
              "1                 0  \n",
              "2                 0  \n",
              "3                 0  \n",
              "4                 0  "
            ],
            "text/html": [
              "\n",
              "  <div id=\"df-ec99bcdd-05de-4722-9aab-0536d9bfee43\">\n",
              "    <div class=\"colab-df-container\">\n",
              "      <div>\n",
              "<style scoped>\n",
              "    .dataframe tbody tr th:only-of-type {\n",
              "        vertical-align: middle;\n",
              "    }\n",
              "\n",
              "    .dataframe tbody tr th {\n",
              "        vertical-align: top;\n",
              "    }\n",
              "\n",
              "    .dataframe thead th {\n",
              "        text-align: right;\n",
              "    }\n",
              "</style>\n",
              "<table border=\"1\" class=\"dataframe\">\n",
              "  <thead>\n",
              "    <tr style=\"text-align: right;\">\n",
              "      <th></th>\n",
              "      <th>modelName</th>\n",
              "      <th>features_list</th>\n",
              "      <th>features_size</th>\n",
              "      <th>hyperparameters</th>\n",
              "      <th>scaling_type</th>\n",
              "      <th>no_of_kfolds</th>\n",
              "      <th>polynomial_degree</th>\n",
              "      <th>comments</th>\n",
              "      <th>r2-score</th>\n",
              "      <th>cohen_kappa_score</th>\n",
              "    </tr>\n",
              "  </thead>\n",
              "  <tbody>\n",
              "    <tr>\n",
              "      <th>0</th>\n",
              "      <td>Linear Regression</td>\n",
              "      <td>[Sent_Count, Word_Count, Char_Count, Avg_Word_...</td>\n",
              "      <td>26</td>\n",
              "      <td>(none,)</td>\n",
              "      <td>(none,)</td>\n",
              "      <td>(0,)</td>\n",
              "      <td>(1,)</td>\n",
              "      <td>Vanilla Linear Regression Model</td>\n",
              "      <td>73.633025</td>\n",
              "      <td>0</td>\n",
              "    </tr>\n",
              "    <tr>\n",
              "      <th>1</th>\n",
              "      <td>Linear Regression</td>\n",
              "      <td>[Sent_Count, Word_Count, Char_Count, Avg_Word_...</td>\n",
              "      <td>26</td>\n",
              "      <td>(none,)</td>\n",
              "      <td>(none,)</td>\n",
              "      <td>(0,)</td>\n",
              "      <td>(1,)</td>\n",
              "      <td>Vanilla Linear Regression Model with Boxcox va...</td>\n",
              "      <td>72.176556</td>\n",
              "      <td>0</td>\n",
              "    </tr>\n",
              "    <tr>\n",
              "      <th>2</th>\n",
              "      <td>Linear Regression</td>\n",
              "      <td>[Sent_Count, Word_Count, Char_Count, Avg_Word_...</td>\n",
              "      <td>26</td>\n",
              "      <td>(none,)</td>\n",
              "      <td>standard</td>\n",
              "      <td>3</td>\n",
              "      <td>(1,)</td>\n",
              "      <td>Vanilla Linear Regression Model with Scaling</td>\n",
              "      <td>73.984812</td>\n",
              "      <td>0</td>\n",
              "    </tr>\n",
              "    <tr>\n",
              "      <th>3</th>\n",
              "      <td>Linear Regression</td>\n",
              "      <td>[Sent_Count, Word_Count, Char_Count, Avg_Word_...</td>\n",
              "      <td>26</td>\n",
              "      <td>(none,)</td>\n",
              "      <td>minmax</td>\n",
              "      <td>3</td>\n",
              "      <td>(1,)</td>\n",
              "      <td>Vanilla Linear Regression Model with Scaling</td>\n",
              "      <td>73.984812</td>\n",
              "      <td>0</td>\n",
              "    </tr>\n",
              "    <tr>\n",
              "      <th>4</th>\n",
              "      <td>Linear Regression</td>\n",
              "      <td>[Sent_Count, Word_Count, Char_Count, Avg_Word_...</td>\n",
              "      <td>26</td>\n",
              "      <td>(none,)</td>\n",
              "      <td>maxabs</td>\n",
              "      <td>3</td>\n",
              "      <td>(1,)</td>\n",
              "      <td>Vanilla Linear Regression Model with Scaling</td>\n",
              "      <td>73.984812</td>\n",
              "      <td>0</td>\n",
              "    </tr>\n",
              "  </tbody>\n",
              "</table>\n",
              "</div>\n",
              "      <button class=\"colab-df-convert\" onclick=\"convertToInteractive('df-ec99bcdd-05de-4722-9aab-0536d9bfee43')\"\n",
              "              title=\"Convert this dataframe to an interactive table.\"\n",
              "              style=\"display:none;\">\n",
              "        \n",
              "  <svg xmlns=\"http://www.w3.org/2000/svg\" height=\"24px\"viewBox=\"0 0 24 24\"\n",
              "       width=\"24px\">\n",
              "    <path d=\"M0 0h24v24H0V0z\" fill=\"none\"/>\n",
              "    <path d=\"M18.56 5.44l.94 2.06.94-2.06 2.06-.94-2.06-.94-.94-2.06-.94 2.06-2.06.94zm-11 1L8.5 8.5l.94-2.06 2.06-.94-2.06-.94L8.5 2.5l-.94 2.06-2.06.94zm10 10l.94 2.06.94-2.06 2.06-.94-2.06-.94-.94-2.06-.94 2.06-2.06.94z\"/><path d=\"M17.41 7.96l-1.37-1.37c-.4-.4-.92-.59-1.43-.59-.52 0-1.04.2-1.43.59L10.3 9.45l-7.72 7.72c-.78.78-.78 2.05 0 2.83L4 21.41c.39.39.9.59 1.41.59.51 0 1.02-.2 1.41-.59l7.78-7.78 2.81-2.81c.8-.78.8-2.07 0-2.86zM5.41 20L4 18.59l7.72-7.72 1.47 1.35L5.41 20z\"/>\n",
              "  </svg>\n",
              "      </button>\n",
              "      \n",
              "  <style>\n",
              "    .colab-df-container {\n",
              "      display:flex;\n",
              "      flex-wrap:wrap;\n",
              "      gap: 12px;\n",
              "    }\n",
              "\n",
              "    .colab-df-convert {\n",
              "      background-color: #E8F0FE;\n",
              "      border: none;\n",
              "      border-radius: 50%;\n",
              "      cursor: pointer;\n",
              "      display: none;\n",
              "      fill: #1967D2;\n",
              "      height: 32px;\n",
              "      padding: 0 0 0 0;\n",
              "      width: 32px;\n",
              "    }\n",
              "\n",
              "    .colab-df-convert:hover {\n",
              "      background-color: #E2EBFA;\n",
              "      box-shadow: 0px 1px 2px rgba(60, 64, 67, 0.3), 0px 1px 3px 1px rgba(60, 64, 67, 0.15);\n",
              "      fill: #174EA6;\n",
              "    }\n",
              "\n",
              "    [theme=dark] .colab-df-convert {\n",
              "      background-color: #3B4455;\n",
              "      fill: #D2E3FC;\n",
              "    }\n",
              "\n",
              "    [theme=dark] .colab-df-convert:hover {\n",
              "      background-color: #434B5C;\n",
              "      box-shadow: 0px 1px 3px 1px rgba(0, 0, 0, 0.15);\n",
              "      filter: drop-shadow(0px 1px 2px rgba(0, 0, 0, 0.3));\n",
              "      fill: #FFFFFF;\n",
              "    }\n",
              "  </style>\n",
              "\n",
              "      <script>\n",
              "        const buttonEl =\n",
              "          document.querySelector('#df-ec99bcdd-05de-4722-9aab-0536d9bfee43 button.colab-df-convert');\n",
              "        buttonEl.style.display =\n",
              "          google.colab.kernel.accessAllowed ? 'block' : 'none';\n",
              "\n",
              "        async function convertToInteractive(key) {\n",
              "          const element = document.querySelector('#df-ec99bcdd-05de-4722-9aab-0536d9bfee43');\n",
              "          const dataTable =\n",
              "            await google.colab.kernel.invokeFunction('convertToInteractive',\n",
              "                                                     [key], {});\n",
              "          if (!dataTable) return;\n",
              "\n",
              "          const docLinkHtml = 'Like what you see? Visit the ' +\n",
              "            '<a target=\"_blank\" href=https://colab.research.google.com/notebooks/data_table.ipynb>data table notebook</a>'\n",
              "            + ' to learn more about interactive tables.';\n",
              "          element.innerHTML = '';\n",
              "          dataTable['output_type'] = 'display_data';\n",
              "          await google.colab.output.renderOutput(dataTable, element);\n",
              "          const docLink = document.createElement('div');\n",
              "          docLink.innerHTML = docLinkHtml;\n",
              "          element.appendChild(docLink);\n",
              "        }\n",
              "      </script>\n",
              "    </div>\n",
              "  </div>\n",
              "  "
            ]
          },
          "metadata": {},
          "execution_count": 79
        }
      ]
    },
    {
      "cell_type": "code",
      "source": [
        "log_df['r2-score'].head(10)"
      ],
      "metadata": {
        "colab": {
          "base_uri": "https://localhost:8080/"
        },
        "id": "Y4vyre-tGFxP",
        "outputId": "bda801b7-09cf-40c9-d017-eb84e4d58a5a"
      },
      "execution_count": 80,
      "outputs": [
        {
          "output_type": "execute_result",
          "data": {
            "text/plain": [
              "0    73.633025\n",
              "1    72.176556\n",
              "2    73.984812\n",
              "3    73.984812\n",
              "4    73.984812\n",
              "5    72.091003\n",
              "6    72.091003\n",
              "7    72.091003\n",
              "Name: r2-score, dtype: float64"
            ]
          },
          "metadata": {},
          "execution_count": 80
        }
      ]
    },
    {
      "cell_type": "markdown",
      "source": [
        "### **Word2Vec Features**"
      ],
      "metadata": {
        "id": "kvEjlJUr12UR"
      }
    },
    {
      "cell_type": "code",
      "source": [
        "from google.colab import drive\n",
        "drive.mount('/content/drive')\n",
        "df = pd.read_csv(\"/content/drive/MyDrive/IntelliTech-DataSet/EssaySet01.csv\")\n",
        "df.head()"
      ],
      "metadata": {
        "colab": {
          "base_uri": "https://localhost:8080/",
          "height": 224
        },
        "id": "JfEyqwlQoXU5",
        "outputId": "64fc126d-c479-476f-9031-8c5d891c84df"
      },
      "execution_count": 62,
      "outputs": [
        {
          "output_type": "stream",
          "name": "stdout",
          "text": [
            "Drive already mounted at /content/drive; to attempt to forcibly remount, call drive.mount(\"/content/drive\", force_remount=True).\n"
          ]
        },
        {
          "output_type": "execute_result",
          "data": {
            "text/plain": [
              "   ID                                              Essay  Rater_1 Score  \\\n",
              "0   1  Dear local newspaper, I think effects computer...            4.0   \n",
              "1   2  Dear @CAPS1 @CAPS2, I believe that using compu...            5.0   \n",
              "2   3  Dear, @CAPS1 @CAPS2 @CAPS3 More and more peopl...            4.0   \n",
              "3   4  Dear Local Newspaper, @CAPS1 I have found that...            5.0   \n",
              "4   5  Dear @LOCATION1, I know having computers has a...            4.0   \n",
              "\n",
              "   Rater_2 Score  Total Score  \n",
              "0            4.0          8.0  \n",
              "1            4.0          9.0  \n",
              "2            3.0          7.0  \n",
              "3            5.0         10.0  \n",
              "4            4.0          8.0  "
            ],
            "text/html": [
              "\n",
              "  <div id=\"df-c4a90756-2efe-4592-aa01-ffdf968d3ece\">\n",
              "    <div class=\"colab-df-container\">\n",
              "      <div>\n",
              "<style scoped>\n",
              "    .dataframe tbody tr th:only-of-type {\n",
              "        vertical-align: middle;\n",
              "    }\n",
              "\n",
              "    .dataframe tbody tr th {\n",
              "        vertical-align: top;\n",
              "    }\n",
              "\n",
              "    .dataframe thead th {\n",
              "        text-align: right;\n",
              "    }\n",
              "</style>\n",
              "<table border=\"1\" class=\"dataframe\">\n",
              "  <thead>\n",
              "    <tr style=\"text-align: right;\">\n",
              "      <th></th>\n",
              "      <th>ID</th>\n",
              "      <th>Essay</th>\n",
              "      <th>Rater_1 Score</th>\n",
              "      <th>Rater_2 Score</th>\n",
              "      <th>Total Score</th>\n",
              "    </tr>\n",
              "  </thead>\n",
              "  <tbody>\n",
              "    <tr>\n",
              "      <th>0</th>\n",
              "      <td>1</td>\n",
              "      <td>Dear local newspaper, I think effects computer...</td>\n",
              "      <td>4.0</td>\n",
              "      <td>4.0</td>\n",
              "      <td>8.0</td>\n",
              "    </tr>\n",
              "    <tr>\n",
              "      <th>1</th>\n",
              "      <td>2</td>\n",
              "      <td>Dear @CAPS1 @CAPS2, I believe that using compu...</td>\n",
              "      <td>5.0</td>\n",
              "      <td>4.0</td>\n",
              "      <td>9.0</td>\n",
              "    </tr>\n",
              "    <tr>\n",
              "      <th>2</th>\n",
              "      <td>3</td>\n",
              "      <td>Dear, @CAPS1 @CAPS2 @CAPS3 More and more peopl...</td>\n",
              "      <td>4.0</td>\n",
              "      <td>3.0</td>\n",
              "      <td>7.0</td>\n",
              "    </tr>\n",
              "    <tr>\n",
              "      <th>3</th>\n",
              "      <td>4</td>\n",
              "      <td>Dear Local Newspaper, @CAPS1 I have found that...</td>\n",
              "      <td>5.0</td>\n",
              "      <td>5.0</td>\n",
              "      <td>10.0</td>\n",
              "    </tr>\n",
              "    <tr>\n",
              "      <th>4</th>\n",
              "      <td>5</td>\n",
              "      <td>Dear @LOCATION1, I know having computers has a...</td>\n",
              "      <td>4.0</td>\n",
              "      <td>4.0</td>\n",
              "      <td>8.0</td>\n",
              "    </tr>\n",
              "  </tbody>\n",
              "</table>\n",
              "</div>\n",
              "      <button class=\"colab-df-convert\" onclick=\"convertToInteractive('df-c4a90756-2efe-4592-aa01-ffdf968d3ece')\"\n",
              "              title=\"Convert this dataframe to an interactive table.\"\n",
              "              style=\"display:none;\">\n",
              "        \n",
              "  <svg xmlns=\"http://www.w3.org/2000/svg\" height=\"24px\"viewBox=\"0 0 24 24\"\n",
              "       width=\"24px\">\n",
              "    <path d=\"M0 0h24v24H0V0z\" fill=\"none\"/>\n",
              "    <path d=\"M18.56 5.44l.94 2.06.94-2.06 2.06-.94-2.06-.94-.94-2.06-.94 2.06-2.06.94zm-11 1L8.5 8.5l.94-2.06 2.06-.94-2.06-.94L8.5 2.5l-.94 2.06-2.06.94zm10 10l.94 2.06.94-2.06 2.06-.94-2.06-.94-.94-2.06-.94 2.06-2.06.94z\"/><path d=\"M17.41 7.96l-1.37-1.37c-.4-.4-.92-.59-1.43-.59-.52 0-1.04.2-1.43.59L10.3 9.45l-7.72 7.72c-.78.78-.78 2.05 0 2.83L4 21.41c.39.39.9.59 1.41.59.51 0 1.02-.2 1.41-.59l7.78-7.78 2.81-2.81c.8-.78.8-2.07 0-2.86zM5.41 20L4 18.59l7.72-7.72 1.47 1.35L5.41 20z\"/>\n",
              "  </svg>\n",
              "      </button>\n",
              "      \n",
              "  <style>\n",
              "    .colab-df-container {\n",
              "      display:flex;\n",
              "      flex-wrap:wrap;\n",
              "      gap: 12px;\n",
              "    }\n",
              "\n",
              "    .colab-df-convert {\n",
              "      background-color: #E8F0FE;\n",
              "      border: none;\n",
              "      border-radius: 50%;\n",
              "      cursor: pointer;\n",
              "      display: none;\n",
              "      fill: #1967D2;\n",
              "      height: 32px;\n",
              "      padding: 0 0 0 0;\n",
              "      width: 32px;\n",
              "    }\n",
              "\n",
              "    .colab-df-convert:hover {\n",
              "      background-color: #E2EBFA;\n",
              "      box-shadow: 0px 1px 2px rgba(60, 64, 67, 0.3), 0px 1px 3px 1px rgba(60, 64, 67, 0.15);\n",
              "      fill: #174EA6;\n",
              "    }\n",
              "\n",
              "    [theme=dark] .colab-df-convert {\n",
              "      background-color: #3B4455;\n",
              "      fill: #D2E3FC;\n",
              "    }\n",
              "\n",
              "    [theme=dark] .colab-df-convert:hover {\n",
              "      background-color: #434B5C;\n",
              "      box-shadow: 0px 1px 3px 1px rgba(0, 0, 0, 0.15);\n",
              "      filter: drop-shadow(0px 1px 2px rgba(0, 0, 0, 0.3));\n",
              "      fill: #FFFFFF;\n",
              "    }\n",
              "  </style>\n",
              "\n",
              "      <script>\n",
              "        const buttonEl =\n",
              "          document.querySelector('#df-c4a90756-2efe-4592-aa01-ffdf968d3ece button.colab-df-convert');\n",
              "        buttonEl.style.display =\n",
              "          google.colab.kernel.accessAllowed ? 'block' : 'none';\n",
              "\n",
              "        async function convertToInteractive(key) {\n",
              "          const element = document.querySelector('#df-c4a90756-2efe-4592-aa01-ffdf968d3ece');\n",
              "          const dataTable =\n",
              "            await google.colab.kernel.invokeFunction('convertToInteractive',\n",
              "                                                     [key], {});\n",
              "          if (!dataTable) return;\n",
              "\n",
              "          const docLinkHtml = 'Like what you see? Visit the ' +\n",
              "            '<a target=\"_blank\" href=https://colab.research.google.com/notebooks/data_table.ipynb>data table notebook</a>'\n",
              "            + ' to learn more about interactive tables.';\n",
              "          element.innerHTML = '';\n",
              "          dataTable['output_type'] = 'display_data';\n",
              "          await google.colab.output.renderOutput(dataTable, element);\n",
              "          const docLink = document.createElement('div');\n",
              "          docLink.innerHTML = docLinkHtml;\n",
              "          element.appendChild(docLink);\n",
              "        }\n",
              "      </script>\n",
              "    </div>\n",
              "  </div>\n",
              "  "
            ]
          },
          "metadata": {},
          "execution_count": 62
        }
      ]
    },
    {
      "cell_type": "code",
      "source": [
        "essays = df['Essay']\n",
        "essays.shape"
      ],
      "metadata": {
        "colab": {
          "base_uri": "https://localhost:8080/"
        },
        "id": "3IyNqiI4yXf8",
        "outputId": "28f270b6-c19d-43df-f232-e0fba2eb9330"
      },
      "execution_count": 63,
      "outputs": [
        {
          "output_type": "execute_result",
          "data": {
            "text/plain": [
              "(1783,)"
            ]
          },
          "metadata": {},
          "execution_count": 63
        }
      ]
    },
    {
      "cell_type": "code",
      "source": [
        "# create a list of essay strings\n",
        "essay_list = [ess for ess in essays]\n",
        "\n",
        "# tokenize the string into words\n",
        "tokens = [word_tokenize(ess) for ess in essay_list]\n",
        "\n",
        "# Remove non-alphabetic tokens, such as punctuation\n",
        "words_list = [[word.lower() for word in sentences if word.isalpha()] for sentences in tokens]\n",
        "\n",
        "# Remove stopwords\n",
        "words_list = [[word for word in sentence if not word in stop_words] for sentence in words_list]\n"
      ],
      "metadata": {
        "id": "XP32q2fszU4A"
      },
      "execution_count": 64,
      "outputs": []
    },
    {
      "cell_type": "code",
      "source": [
        "def word2vec_model(docs_list):\n",
        "  model = Word2Vec(docs_list, min_count=1)\n",
        "\n",
        "  # understanding the model\n",
        "  # print(\"Dimension of Word Vectors are: \", model.vector_size)\n",
        "  # word embedding vector for a specific token 'dear'\n",
        "  #print(model.wv['dear'])\n",
        "\n",
        "  vocab = list(model.wv.vocab.keys())\n",
        "  df = pd.DataFrame([model.wv.word_vec(w) for w in vocab], index=vocab)\n",
        "  print(df.shape)\n",
        "  df.to_csv(\"word2vec_features.csv\", index = True)\n",
        "\n",
        "word2vec_model(words_list)"
      ],
      "metadata": {
        "colab": {
          "base_uri": "https://localhost:8080/"
        },
        "id": "FxytuL7tVa4G",
        "outputId": "6b174954-7c93-48c7-8964-9cd5a19c39fc"
      },
      "execution_count": 65,
      "outputs": [
        {
          "output_type": "stream",
          "name": "stdout",
          "text": [
            "(15342, 100)\n"
          ]
        }
      ]
    },
    {
      "cell_type": "markdown",
      "source": [],
      "metadata": {
        "id": "oGiTapPpyup5"
      }
    }
  ]
}