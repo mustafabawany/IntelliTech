{
  "nbformat": 4,
  "nbformat_minor": 0,
  "metadata": {
    "colab": {
      "provenance": []
    },
    "kernelspec": {
      "name": "python3",
      "display_name": "Python 3"
    },
    "language_info": {
      "name": "python"
    }
  },
  "cells": [
    {
      "cell_type": "code",
      "execution_count": 18,
      "metadata": {
        "id": "v5pwprK665nD"
      },
      "outputs": [],
      "source": [
        "import numpy as np\n",
        "import pandas as pd\n",
        "import matplotlib.pyplot as plt\n",
        "%matplotlib inline\n",
        "\n",
        "from scipy.stats.mstats import normaltest # D'Agostino K^2 Test\n",
        "from scipy.stats import boxcox"
      ]
    },
    {
      "cell_type": "markdown",
      "source": [
        "### **Transforming Target**\n",
        "1. Log Test\n",
        "2. Square Root\n",
        "3. Box Cox"
      ],
      "metadata": {
        "id": "YohXZfDXHDpM"
      }
    },
    {
      "cell_type": "markdown",
      "source": [
        "Apply transformations to make target variable more normally distributed for regression."
      ],
      "metadata": {
        "id": "rG76GHAKI6hI"
      }
    },
    {
      "cell_type": "code",
      "source": [
        "df_train = pd.read_csv(\"/content/EssaySet01_Features.csv\", index_col =0)\n",
        "df_train.head()"
      ],
      "metadata": {
        "colab": {
          "base_uri": "https://localhost:8080/",
          "height": 404
        },
        "id": "yXgw6fGe7DpH",
        "outputId": "b206be31-3780-4b5e-f6a0-70610b8f68f1"
      },
      "execution_count": 6,
      "outputs": [
        {
          "output_type": "execute_result",
          "data": {
            "text/plain": [
              "   Sent_Count  Word_Count  Char_Count  Avg_Word_Count  Verb_Count  Noun_Count  \\\n",
              "0          16         386        1875        3.984456          55          74   \n",
              "1          20         464        2288        4.030172          71          97   \n",
              "2          14         313        1541        4.035144          42          69   \n",
              "3          27         611        3165        4.328969          71         126   \n",
              "4          30         517        2569        4.071567          61         107   \n",
              "\n",
              "   Adj_Count  Conj_Count  Adverb_Count  pNoun_Count  ...  \\\n",
              "0         18          14            15           48  ...   \n",
              "1         19          18            19           49  ...   \n",
              "2         17          16            11           25  ...   \n",
              "3         39          17            21           33  ...   \n",
              "4         30          15            34           41  ...   \n",
              "\n",
              "   Capitalization_Errors  Grammar_Error_Count  Unnamed: 18  \\\n",
              "0                      2                    2          NaN   \n",
              "1                      0                    4          NaN   \n",
              "2                      1                    5          NaN   \n",
              "3                      1                    0          NaN   \n",
              "4                      1                    1          NaN   \n",
              "\n",
              "   Punctuation_Errors  Unnamed: 20  \\\n",
              "0                   1          NaN   \n",
              "1                   6          NaN   \n",
              "2                   4          NaN   \n",
              "3                   2          NaN   \n",
              "4                   2          NaN   \n",
              "\n",
              "                                  Grammar_Error_List  Number_of_Connectors  \\\n",
              "0                     ['CAUSE_BECAUSE', 'BE_VBP_IN']                    41   \n",
              "1  ['ON_COMPOUNDS', 'NODT_DOZEN', 'YOU_HAV', 'DT_...                    52   \n",
              "2  ['THE_SUPERLATIVE', 'PHRASE_REPETITION', 'ITS_...                    35   \n",
              "3                                                 []                    60   \n",
              "4                                          ['ARN_T']                    58   \n",
              "\n",
              "   Connectivity_Index  Semantic_Similarity  Total Score  \n",
              "0           24.552787             0.396690            8  \n",
              "1           25.344232             0.311087            9  \n",
              "2           14.662850             0.291317            7  \n",
              "3           32.408323             0.269810           10  \n",
              "4           27.824804             0.264052            8  \n",
              "\n",
              "[5 rows x 25 columns]"
            ],
            "text/html": [
              "\n",
              "  <div id=\"df-a406e71d-0037-4126-bad0-27a827292a42\">\n",
              "    <div class=\"colab-df-container\">\n",
              "      <div>\n",
              "<style scoped>\n",
              "    .dataframe tbody tr th:only-of-type {\n",
              "        vertical-align: middle;\n",
              "    }\n",
              "\n",
              "    .dataframe tbody tr th {\n",
              "        vertical-align: top;\n",
              "    }\n",
              "\n",
              "    .dataframe thead th {\n",
              "        text-align: right;\n",
              "    }\n",
              "</style>\n",
              "<table border=\"1\" class=\"dataframe\">\n",
              "  <thead>\n",
              "    <tr style=\"text-align: right;\">\n",
              "      <th></th>\n",
              "      <th>Sent_Count</th>\n",
              "      <th>Word_Count</th>\n",
              "      <th>Char_Count</th>\n",
              "      <th>Avg_Word_Count</th>\n",
              "      <th>Verb_Count</th>\n",
              "      <th>Noun_Count</th>\n",
              "      <th>Adj_Count</th>\n",
              "      <th>Conj_Count</th>\n",
              "      <th>Adverb_Count</th>\n",
              "      <th>pNoun_Count</th>\n",
              "      <th>...</th>\n",
              "      <th>Capitalization_Errors</th>\n",
              "      <th>Grammar_Error_Count</th>\n",
              "      <th>Unnamed: 18</th>\n",
              "      <th>Punctuation_Errors</th>\n",
              "      <th>Unnamed: 20</th>\n",
              "      <th>Grammar_Error_List</th>\n",
              "      <th>Number_of_Connectors</th>\n",
              "      <th>Connectivity_Index</th>\n",
              "      <th>Semantic_Similarity</th>\n",
              "      <th>Total Score</th>\n",
              "    </tr>\n",
              "  </thead>\n",
              "  <tbody>\n",
              "    <tr>\n",
              "      <th>0</th>\n",
              "      <td>16</td>\n",
              "      <td>386</td>\n",
              "      <td>1875</td>\n",
              "      <td>3.984456</td>\n",
              "      <td>55</td>\n",
              "      <td>74</td>\n",
              "      <td>18</td>\n",
              "      <td>14</td>\n",
              "      <td>15</td>\n",
              "      <td>48</td>\n",
              "      <td>...</td>\n",
              "      <td>2</td>\n",
              "      <td>2</td>\n",
              "      <td>NaN</td>\n",
              "      <td>1</td>\n",
              "      <td>NaN</td>\n",
              "      <td>['CAUSE_BECAUSE', 'BE_VBP_IN']</td>\n",
              "      <td>41</td>\n",
              "      <td>24.552787</td>\n",
              "      <td>0.396690</td>\n",
              "      <td>8</td>\n",
              "    </tr>\n",
              "    <tr>\n",
              "      <th>1</th>\n",
              "      <td>20</td>\n",
              "      <td>464</td>\n",
              "      <td>2288</td>\n",
              "      <td>4.030172</td>\n",
              "      <td>71</td>\n",
              "      <td>97</td>\n",
              "      <td>19</td>\n",
              "      <td>18</td>\n",
              "      <td>19</td>\n",
              "      <td>49</td>\n",
              "      <td>...</td>\n",
              "      <td>0</td>\n",
              "      <td>4</td>\n",
              "      <td>NaN</td>\n",
              "      <td>6</td>\n",
              "      <td>NaN</td>\n",
              "      <td>['ON_COMPOUNDS', 'NODT_DOZEN', 'YOU_HAV', 'DT_...</td>\n",
              "      <td>52</td>\n",
              "      <td>25.344232</td>\n",
              "      <td>0.311087</td>\n",
              "      <td>9</td>\n",
              "    </tr>\n",
              "    <tr>\n",
              "      <th>2</th>\n",
              "      <td>14</td>\n",
              "      <td>313</td>\n",
              "      <td>1541</td>\n",
              "      <td>4.035144</td>\n",
              "      <td>42</td>\n",
              "      <td>69</td>\n",
              "      <td>17</td>\n",
              "      <td>16</td>\n",
              "      <td>11</td>\n",
              "      <td>25</td>\n",
              "      <td>...</td>\n",
              "      <td>1</td>\n",
              "      <td>5</td>\n",
              "      <td>NaN</td>\n",
              "      <td>4</td>\n",
              "      <td>NaN</td>\n",
              "      <td>['THE_SUPERLATIVE', 'PHRASE_REPETITION', 'ITS_...</td>\n",
              "      <td>35</td>\n",
              "      <td>14.662850</td>\n",
              "      <td>0.291317</td>\n",
              "      <td>7</td>\n",
              "    </tr>\n",
              "    <tr>\n",
              "      <th>3</th>\n",
              "      <td>27</td>\n",
              "      <td>611</td>\n",
              "      <td>3165</td>\n",
              "      <td>4.328969</td>\n",
              "      <td>71</td>\n",
              "      <td>126</td>\n",
              "      <td>39</td>\n",
              "      <td>17</td>\n",
              "      <td>21</td>\n",
              "      <td>33</td>\n",
              "      <td>...</td>\n",
              "      <td>1</td>\n",
              "      <td>0</td>\n",
              "      <td>NaN</td>\n",
              "      <td>2</td>\n",
              "      <td>NaN</td>\n",
              "      <td>[]</td>\n",
              "      <td>60</td>\n",
              "      <td>32.408323</td>\n",
              "      <td>0.269810</td>\n",
              "      <td>10</td>\n",
              "    </tr>\n",
              "    <tr>\n",
              "      <th>4</th>\n",
              "      <td>30</td>\n",
              "      <td>517</td>\n",
              "      <td>2569</td>\n",
              "      <td>4.071567</td>\n",
              "      <td>61</td>\n",
              "      <td>107</td>\n",
              "      <td>30</td>\n",
              "      <td>15</td>\n",
              "      <td>34</td>\n",
              "      <td>41</td>\n",
              "      <td>...</td>\n",
              "      <td>1</td>\n",
              "      <td>1</td>\n",
              "      <td>NaN</td>\n",
              "      <td>2</td>\n",
              "      <td>NaN</td>\n",
              "      <td>['ARN_T']</td>\n",
              "      <td>58</td>\n",
              "      <td>27.824804</td>\n",
              "      <td>0.264052</td>\n",
              "      <td>8</td>\n",
              "    </tr>\n",
              "  </tbody>\n",
              "</table>\n",
              "<p>5 rows × 25 columns</p>\n",
              "</div>\n",
              "      <button class=\"colab-df-convert\" onclick=\"convertToInteractive('df-a406e71d-0037-4126-bad0-27a827292a42')\"\n",
              "              title=\"Convert this dataframe to an interactive table.\"\n",
              "              style=\"display:none;\">\n",
              "        \n",
              "  <svg xmlns=\"http://www.w3.org/2000/svg\" height=\"24px\"viewBox=\"0 0 24 24\"\n",
              "       width=\"24px\">\n",
              "    <path d=\"M0 0h24v24H0V0z\" fill=\"none\"/>\n",
              "    <path d=\"M18.56 5.44l.94 2.06.94-2.06 2.06-.94-2.06-.94-.94-2.06-.94 2.06-2.06.94zm-11 1L8.5 8.5l.94-2.06 2.06-.94-2.06-.94L8.5 2.5l-.94 2.06-2.06.94zm10 10l.94 2.06.94-2.06 2.06-.94-2.06-.94-.94-2.06-.94 2.06-2.06.94z\"/><path d=\"M17.41 7.96l-1.37-1.37c-.4-.4-.92-.59-1.43-.59-.52 0-1.04.2-1.43.59L10.3 9.45l-7.72 7.72c-.78.78-.78 2.05 0 2.83L4 21.41c.39.39.9.59 1.41.59.51 0 1.02-.2 1.41-.59l7.78-7.78 2.81-2.81c.8-.78.8-2.07 0-2.86zM5.41 20L4 18.59l7.72-7.72 1.47 1.35L5.41 20z\"/>\n",
              "  </svg>\n",
              "      </button>\n",
              "      \n",
              "  <style>\n",
              "    .colab-df-container {\n",
              "      display:flex;\n",
              "      flex-wrap:wrap;\n",
              "      gap: 12px;\n",
              "    }\n",
              "\n",
              "    .colab-df-convert {\n",
              "      background-color: #E8F0FE;\n",
              "      border: none;\n",
              "      border-radius: 50%;\n",
              "      cursor: pointer;\n",
              "      display: none;\n",
              "      fill: #1967D2;\n",
              "      height: 32px;\n",
              "      padding: 0 0 0 0;\n",
              "      width: 32px;\n",
              "    }\n",
              "\n",
              "    .colab-df-convert:hover {\n",
              "      background-color: #E2EBFA;\n",
              "      box-shadow: 0px 1px 2px rgba(60, 64, 67, 0.3), 0px 1px 3px 1px rgba(60, 64, 67, 0.15);\n",
              "      fill: #174EA6;\n",
              "    }\n",
              "\n",
              "    [theme=dark] .colab-df-convert {\n",
              "      background-color: #3B4455;\n",
              "      fill: #D2E3FC;\n",
              "    }\n",
              "\n",
              "    [theme=dark] .colab-df-convert:hover {\n",
              "      background-color: #434B5C;\n",
              "      box-shadow: 0px 1px 3px 1px rgba(0, 0, 0, 0.15);\n",
              "      filter: drop-shadow(0px 1px 2px rgba(0, 0, 0, 0.3));\n",
              "      fill: #FFFFFF;\n",
              "    }\n",
              "  </style>\n",
              "\n",
              "      <script>\n",
              "        const buttonEl =\n",
              "          document.querySelector('#df-a406e71d-0037-4126-bad0-27a827292a42 button.colab-df-convert');\n",
              "        buttonEl.style.display =\n",
              "          google.colab.kernel.accessAllowed ? 'block' : 'none';\n",
              "\n",
              "        async function convertToInteractive(key) {\n",
              "          const element = document.querySelector('#df-a406e71d-0037-4126-bad0-27a827292a42');\n",
              "          const dataTable =\n",
              "            await google.colab.kernel.invokeFunction('convertToInteractive',\n",
              "                                                     [key], {});\n",
              "          if (!dataTable) return;\n",
              "\n",
              "          const docLinkHtml = 'Like what you see? Visit the ' +\n",
              "            '<a target=\"_blank\" href=https://colab.research.google.com/notebooks/data_table.ipynb>data table notebook</a>'\n",
              "            + ' to learn more about interactive tables.';\n",
              "          element.innerHTML = '';\n",
              "          dataTable['output_type'] = 'display_data';\n",
              "          await google.colab.output.renderOutput(dataTable, element);\n",
              "          const docLink = document.createElement('div');\n",
              "          docLink.innerHTML = docLinkHtml;\n",
              "          element.appendChild(docLink);\n",
              "        }\n",
              "      </script>\n",
              "    </div>\n",
              "  </div>\n",
              "  "
            ]
          },
          "metadata": {},
          "execution_count": 6
        }
      ]
    },
    {
      "cell_type": "code",
      "source": [
        "df_train['Total Score'].hist()"
      ],
      "metadata": {
        "colab": {
          "base_uri": "https://localhost:8080/",
          "height": 282
        },
        "id": "6E6wVcUPIwyy",
        "outputId": "4b39dac1-6c45-419c-d920-d4e9cf67ff47"
      },
      "execution_count": 7,
      "outputs": [
        {
          "output_type": "execute_result",
          "data": {
            "text/plain": [
              "<matplotlib.axes._subplots.AxesSubplot at 0x7fceb04f2e10>"
            ]
          },
          "metadata": {},
          "execution_count": 7
        },
        {
          "output_type": "display_data",
          "data": {
            "text/plain": [
              "<Figure size 432x288 with 1 Axes>"
            ],
            "image/png": "[encoded data removed]"
          },
          "metadata": {
            "needs_background": "light"
          }
        }
      ]
    },
    {
      "cell_type": "code",
      "source": [
        "#This test outputs a \"p-value\". The higher this p-value is the closer the distribution is to normal.\n",
        "#If the p-value > 0.05, then it is bell-curve distribution.\n",
        "#Our data is clearly right skewed (Histogram)\n",
        "normaltest(df_train['Total Score'].values)  "
      ],
      "metadata": {
        "colab": {
          "base_uri": "https://localhost:8080/"
        },
        "id": "f0MhmxVGJiET",
        "outputId": "2893aefd-b5bb-487a-bbf3-b662a31c7a81"
      },
      "execution_count": 11,
      "outputs": [
        {
          "output_type": "execute_result",
          "data": {
            "text/plain": [
              "NormaltestResult(statistic=127.21536231858303, pvalue=2.3742971207847717e-28)"
            ]
          },
          "metadata": {},
          "execution_count": 11
        }
      ]
    },
    {
      "cell_type": "markdown",
      "source": [
        "#### Transforming Target Through Log Test"
      ],
      "metadata": {
        "id": "X691xgovKIWU"
      }
    },
    {
      "cell_type": "code",
      "source": [
        "log_scores = np.log(df_train['Total Score'])\n",
        "log_scores.hist();"
      ],
      "metadata": {
        "colab": {
          "base_uri": "https://localhost:8080/",
          "height": 265
        },
        "id": "zlx8pB2DKC7Q",
        "outputId": "d1b3a4b2-94db-478d-c6c0-6a1b1292c02c"
      },
      "execution_count": 13,
      "outputs": [
        {
          "output_type": "display_data",
          "data": {
            "text/plain": [
              "<Figure size 432x288 with 1 Axes>"
            ],
            "image/png": "[encoded data removed]"
          },
          "metadata": {
            "needs_background": "light"
          }
        }
      ]
    },
    {
      "cell_type": "code",
      "source": [
        "log_scores"
      ],
      "metadata": {
        "colab": {
          "base_uri": "https://localhost:8080/"
        },
        "id": "8Y5NaxLcdLj_",
        "outputId": "395a6b2d-5504-4ea3-bad1-0dd30ebac23c"
      },
      "execution_count": 14,
      "outputs": [
        {
          "output_type": "execute_result",
          "data": {
            "text/plain": [
              "0       2.079442\n",
              "1       2.197225\n",
              "2       1.945910\n",
              "3       2.302585\n",
              "4       2.079442\n",
              "          ...   \n",
              "1778    2.079442\n",
              "1779    1.945910\n",
              "1780    2.079442\n",
              "1781    0.693147\n",
              "1782    1.945910\n",
              "Name: Total Score, Length: 1783, dtype: float64"
            ]
          },
          "metadata": {},
          "execution_count": 14
        }
      ]
    },
    {
      "cell_type": "code",
      "source": [
        "normaltest(log_scores)   # No significant change in p-value"
      ],
      "metadata": {
        "colab": {
          "base_uri": "https://localhost:8080/"
        },
        "id": "HIuLaEbMdUe1",
        "outputId": "22490c3c-7aa5-41dd-fce0-b0c7d7bad787"
      },
      "execution_count": 15,
      "outputs": [
        {
          "output_type": "execute_result",
          "data": {
            "text/plain": [
              "NormaltestResult(statistic=967.974762708955, pvalue=6.411371863279588e-211)"
            ]
          },
          "metadata": {},
          "execution_count": 15
        }
      ]
    },
    {
      "cell_type": "markdown",
      "source": [
        "Transforming Through Square Root Transformation"
      ],
      "metadata": {
        "id": "eCnosLFqdsOI"
      }
    },
    {
      "cell_type": "code",
      "source": [
        "sqrt_scores = np.sqrt(df_train['Total Score'])\n",
        "plt.hist(sqrt_scores)"
      ],
      "metadata": {
        "colab": {
          "base_uri": "https://localhost:8080/",
          "height": 352
        },
        "id": "ySvkcp_Jdiyh",
        "outputId": "e2d9e7f6-008c-4586-ff1c-9bc0cb39e95c"
      },
      "execution_count": 16,
      "outputs": [
        {
          "output_type": "execute_result",
          "data": {
            "text/plain": [
              "(array([ 10.,   1.,  17.,   0.,  17., 110., 822., 334., 316., 156.]),\n",
              " array([1.41421356, 1.61920237, 1.82419117, 2.02917998, 2.23416878,\n",
              "        2.43915759, 2.64414639, 2.8491352 , 3.054124  , 3.25911281,\n",
              "        3.46410162]),\n",
              " <a list of 10 Patch objects>)"
            ]
          },
          "metadata": {},
          "execution_count": 16
        },
        {
          "output_type": "display_data",
          "data": {
            "text/plain": [
              "<Figure size 432x288 with 1 Axes>"
            ],
            "image/png": "[encoded data removed]"
          },
          "metadata": {
            "needs_background": "light"
          }
        }
      ]
    },
    {
      "cell_type": "code",
      "source": [
        "normaltest(sqrt_scores)"
      ],
      "metadata": {
        "colab": {
          "base_uri": "https://localhost:8080/"
        },
        "id": "4pp7Gz9IkObs",
        "outputId": "8de55723-63ff-4300-8a76-156dc9630211"
      },
      "execution_count": 17,
      "outputs": [
        {
          "output_type": "execute_result",
          "data": {
            "text/plain": [
              "NormaltestResult(statistic=456.280616698139, pvalue=8.316162831695822e-100)"
            ]
          },
          "metadata": {},
          "execution_count": 17
        }
      ]
    },
    {
      "cell_type": "markdown",
      "source": [
        "Target Transformation Through BoxCox\n",
        "\n"
      ],
      "metadata": {
        "id": "dUucR4qpkXbz"
      }
    },
    {
      "cell_type": "code",
      "source": [
        "bc_result = boxcox(df_train['Total Score'])\n",
        "boxcox_score = bc_result[0]\n",
        "lam = bc_result[1]\n",
        "lam"
      ],
      "metadata": {
        "colab": {
          "base_uri": "https://localhost:8080/"
        },
        "id": "Y4TouF0Xkcac",
        "outputId": "0f6a5c1a-dfe0-450f-f000-f861c1a7b444"
      },
      "execution_count": 20,
      "outputs": [
        {
          "output_type": "execute_result",
          "data": {
            "text/plain": [
              "1.5655301603375742"
            ]
          },
          "metadata": {},
          "execution_count": 20
        }
      ]
    },
    {
      "cell_type": "code",
      "source": [
        "df_train['Total Score'].hist();"
      ],
      "metadata": {
        "colab": {
          "base_uri": "https://localhost:8080/",
          "height": 265
        },
        "id": "uB5Ibv6c1jWe",
        "outputId": "29abeb43-ddd2-4975-8964-48f9d09cf712"
      },
      "execution_count": 21,
      "outputs": [
        {
          "output_type": "display_data",
          "data": {
            "text/plain": [
              "<Figure size 432x288 with 1 Axes>"
            ],
            "image/png": "[encoded data removed]"
          },
          "metadata": {
            "needs_background": "light"
          }
        }
      ]
    },
    {
      "cell_type": "code",
      "source": [
        "normaltest(boxcox_score)"
      ],
      "metadata": {
        "colab": {
          "base_uri": "https://localhost:8080/"
        },
        "id": "vyrYAjpM1rVc",
        "outputId": "4519f595-a013-4ab6-da6c-e9901de0f355"
      },
      "execution_count": 22,
      "outputs": [
        {
          "output_type": "execute_result",
          "data": {
            "text/plain": [
              "NormaltestResult(statistic=17.904988785940628, pvalue=0.00012941394786243168)"
            ]
          },
          "metadata": {},
          "execution_count": 22
        }
      ]
    },
    {
      "cell_type": "markdown",
      "source": [
        "Significantly more normally distributed (according to p value) than the other two distributions"
      ],
      "metadata": {
        "id": "q-TNsVqi1zgq"
      }
    },
    {
      "cell_type": "markdown",
      "source": [
        "### **Linear Regression**"
      ],
      "metadata": {
        "id": "kvEjlJUr12UR"
      }
    },
    {
      "cell_type": "code",
      "source": [],
      "metadata": {
        "id": "KPKq1H4Y2kKJ"
      },
      "execution_count": null,
      "outputs": []
    }
  ]
}