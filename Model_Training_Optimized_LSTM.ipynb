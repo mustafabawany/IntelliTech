{
  "cells": [
    {
      "cell_type": "markdown",
      "metadata": {
        "id": "NsmnJMDu5TmT"
      },
      "source": [
        "# **Installing Packages**"
      ]
    },
    {
      "cell_type": "code",
      "execution_count": 1,
      "metadata": {
        "colab": {
          "base_uri": "https://localhost:8080/"
        },
        "id": "aKIwkKP45Snj",
        "outputId": "7dae830b-3062-4444-e681-1d9619ff2078"
      },
      "outputs": [
        {
          "output_type": "stream",
          "name": "stdout",
          "text": [
            "Looking in indexes: https://pypi.org/simple, https://us-python.pkg.dev/colab-wheels/public/simple/\n",
            "Requirement already satisfied: transformers in /usr/local/lib/python3.10/dist-packages (4.28.1)\n",
            "Requirement already satisfied: tokenizers!=0.11.3,<0.14,>=0.11.1 in /usr/local/lib/python3.10/dist-packages (from transformers) (0.13.3)\n",
            "Requirement already satisfied: numpy>=1.17 in /usr/local/lib/python3.10/dist-packages (from transformers) (1.24.3)\n",
            "Requirement already satisfied: huggingface-hub<1.0,>=0.11.0 in /usr/local/lib/python3.10/dist-packages (from transformers) (0.14.1)\n",
            "Requirement already satisfied: regex!=2019.12.17 in /usr/local/lib/python3.10/dist-packages (from transformers) (2022.10.31)\n",
            "Requirement already satisfied: tqdm>=4.27 in /usr/local/lib/python3.10/dist-packages (from transformers) (4.65.0)\n",
            "Requirement already satisfied: packaging>=20.0 in /usr/local/lib/python3.10/dist-packages (from transformers) (23.1)\n",
            "Requirement already satisfied: requests in /usr/local/lib/python3.10/dist-packages (from transformers) (2.30.0)\n",
            "Requirement already satisfied: pyyaml>=5.1 in /usr/local/lib/python3.10/dist-packages (from transformers) (6.0)\n",
            "Requirement already satisfied: filelock in /usr/local/lib/python3.10/dist-packages (from transformers) (3.12.0)\n",
            "Requirement already satisfied: typing-extensions>=3.7.4.3 in /usr/local/lib/python3.10/dist-packages (from huggingface-hub<1.0,>=0.11.0->transformers) (4.5.0)\n",
            "Requirement already satisfied: fsspec in /usr/local/lib/python3.10/dist-packages (from huggingface-hub<1.0,>=0.11.0->transformers) (2023.4.0)\n",
            "Requirement already satisfied: charset-normalizer<4,>=2 in /usr/local/lib/python3.10/dist-packages (from requests->transformers) (3.1.0)\n",
            "Requirement already satisfied: certifi>=2017.4.17 in /usr/local/lib/python3.10/dist-packages (from requests->transformers) (2023.5.7)\n",
            "Requirement already satisfied: urllib3<3,>=1.21.1 in /usr/local/lib/python3.10/dist-packages (from requests->transformers) (1.26.15)\n",
            "Requirement already satisfied: idna<4,>=2.5 in /usr/local/lib/python3.10/dist-packages (from requests->transformers) (3.4)\n"
          ]
        }
      ],
      "source": [
        "!pip install transformers"
      ]
    },
    {
      "cell_type": "code",
      "source": [
        "!pip uninstall neptune-client\n",
        "!pip install --force-reinstall neptune\n",
        "# !pip install neptune"
      ],
      "metadata": {
        "colab": {
          "base_uri": "https://localhost:8080/"
        },
        "id": "X9S2UsFaeitQ",
        "outputId": "6af82b9e-c645-432b-d262-b3a599cbd18c"
      },
      "execution_count": 11,
      "outputs": [
        {
          "output_type": "stream",
          "name": "stdout",
          "text": [
            "Found existing installation: neptune-client 1.1.1\n",
            "Uninstalling neptune-client-1.1.1:\n",
            "  Would remove:\n",
            "    /usr/local/bin/neptune\n",
            "    /usr/local/lib/python3.10/dist-packages/CHANGELOG.md\n",
            "    /usr/local/lib/python3.10/dist-packages/neptune/*\n",
            "    /usr/local/lib/python3.10/dist-packages/neptune_client-1.1.1.dist-info/*\n",
            "Proceed (Y/n)? y\n",
            "  Successfully uninstalled neptune-client-1.1.1\n",
            "Looking in indexes: https://pypi.org/simple, https://us-python.pkg.dev/colab-wheels/public/simple/\n",
            "Collecting neptune\n",
            "  Using cached neptune-1.1.1-py3-none-any.whl (442 kB)\n",
            "Collecting urllib3\n",
            "  Using cached urllib3-2.0.2-py3-none-any.whl (123 kB)\n",
            "Collecting packaging\n",
            "  Using cached packaging-23.1-py3-none-any.whl (48 kB)\n",
            "Collecting pandas\n",
            "  Using cached pandas-2.0.1-cp310-cp310-manylinux_2_17_x86_64.manylinux2014_x86_64.whl (12.3 MB)\n",
            "Collecting six>=1.12.0\n",
            "  Using cached six-1.16.0-py2.py3-none-any.whl (11 kB)\n",
            "Collecting oauthlib>=2.1.0\n",
            "  Using cached oauthlib-3.2.2-py3-none-any.whl (151 kB)\n",
            "Collecting bravado<12.0.0,>=11.0.0\n",
            "  Using cached bravado-11.0.3-py2.py3-none-any.whl (38 kB)\n",
            "Collecting future>=0.17.1\n",
            "  Using cached future-0.18.3-py3-none-any.whl\n",
            "Collecting swagger-spec-validator>=2.7.4\n",
            "  Using cached swagger_spec_validator-3.0.3-py2.py3-none-any.whl (27 kB)\n",
            "Collecting click>=7.0\n",
            "  Using cached click-8.1.3-py3-none-any.whl (96 kB)\n",
            "Collecting GitPython>=2.0.8\n",
            "  Using cached GitPython-3.1.31-py3-none-any.whl (184 kB)\n",
            "Collecting psutil\n",
            "  Using cached psutil-5.9.5-cp36-abi3-manylinux_2_12_x86_64.manylinux2010_x86_64.manylinux_2_17_x86_64.manylinux2014_x86_64.whl (282 kB)\n",
            "Collecting boto3>=1.16.0\n",
            "  Using cached boto3-1.26.129-py3-none-any.whl (135 kB)\n",
            "Collecting requests-oauthlib>=1.0.0\n",
            "  Using cached requests_oauthlib-1.3.1-py2.py3-none-any.whl (23 kB)\n",
            "Collecting Pillow>=1.1.6\n",
            "  Using cached Pillow-9.5.0-cp310-cp310-manylinux_2_28_x86_64.whl (3.4 MB)\n",
            "Collecting websocket-client!=1.0.0,>=0.35.0\n",
            "  Using cached websocket_client-1.5.1-py3-none-any.whl (55 kB)\n",
            "Collecting requests>=2.20.0\n",
            "  Using cached requests-2.30.0-py3-none-any.whl (62 kB)\n",
            "Collecting PyJWT\n",
            "  Using cached PyJWT-2.6.0-py3-none-any.whl (20 kB)\n",
            "Collecting botocore<1.30.0,>=1.29.129\n",
            "  Using cached botocore-1.29.129-py3-none-any.whl (10.7 MB)\n",
            "Collecting s3transfer<0.7.0,>=0.6.0\n",
            "  Using cached s3transfer-0.6.1-py3-none-any.whl (79 kB)\n",
            "Collecting jmespath<2.0.0,>=0.7.1\n",
            "  Using cached jmespath-1.0.1-py3-none-any.whl (20 kB)\n",
            "Collecting bravado-core>=5.16.1\n",
            "  Using cached bravado_core-5.17.1-py2.py3-none-any.whl (67 kB)\n",
            "Collecting python-dateutil\n",
            "  Using cached python_dateutil-2.8.2-py2.py3-none-any.whl (247 kB)\n",
            "Collecting monotonic\n",
            "  Using cached monotonic-1.6-py2.py3-none-any.whl (8.2 kB)\n",
            "Collecting simplejson\n",
            "  Using cached simplejson-3.19.1-cp310-cp310-manylinux_2_5_x86_64.manylinux1_x86_64.manylinux_2_17_x86_64.manylinux2014_x86_64.whl (137 kB)\n",
            "Collecting typing-extensions\n",
            "  Using cached typing_extensions-4.5.0-py3-none-any.whl (27 kB)\n",
            "Collecting msgpack\n",
            "  Using cached msgpack-1.0.5-cp310-cp310-manylinux_2_17_x86_64.manylinux2014_x86_64.whl (316 kB)\n",
            "Collecting pyyaml\n",
            "  Using cached PyYAML-6.0-cp310-cp310-manylinux_2_5_x86_64.manylinux1_x86_64.manylinux_2_12_x86_64.manylinux2010_x86_64.whl (682 kB)\n",
            "Collecting gitdb<5,>=4.0.1\n",
            "  Using cached gitdb-4.0.10-py3-none-any.whl (62 kB)\n",
            "Collecting certifi>=2017.4.17\n",
            "  Using cached certifi-2023.5.7-py3-none-any.whl (156 kB)\n",
            "Collecting idna<4,>=2.5\n",
            "  Using cached idna-3.4-py3-none-any.whl (61 kB)\n",
            "Collecting charset-normalizer<4,>=2\n",
            "  Using cached charset_normalizer-3.1.0-cp310-cp310-manylinux_2_17_x86_64.manylinux2014_x86_64.whl (199 kB)\n",
            "Collecting jsonschema\n",
            "  Using cached jsonschema-4.17.3-py3-none-any.whl (90 kB)\n",
            "Collecting tzdata>=2022.1\n",
            "  Using cached tzdata-2023.3-py2.py3-none-any.whl (341 kB)\n",
            "Collecting numpy>=1.21.0\n",
            "  Using cached numpy-1.24.3-cp310-cp310-manylinux_2_17_x86_64.manylinux2014_x86_64.whl (17.3 MB)\n",
            "Collecting pytz>=2020.1\n",
            "  Using cached pytz-2023.3-py2.py3-none-any.whl (502 kB)\n",
            "Collecting urllib3\n",
            "  Using cached urllib3-1.26.15-py2.py3-none-any.whl (140 kB)\n",
            "Collecting jsonref\n",
            "  Using cached jsonref-1.1.0-py3-none-any.whl (9.4 kB)\n",
            "Collecting smmap<6,>=3.0.1\n",
            "  Using cached smmap-5.0.0-py3-none-any.whl (24 kB)\n",
            "Collecting pyrsistent!=0.17.0,!=0.17.1,!=0.17.2,>=0.14.0\n",
            "  Using cached pyrsistent-0.19.3-py3-none-any.whl (57 kB)\n",
            "Collecting attrs>=17.4.0\n",
            "  Using cached attrs-23.1.0-py3-none-any.whl (61 kB)\n",
            "Collecting jsonpointer>1.13\n",
            "  Using cached jsonpointer-2.3-py2.py3-none-any.whl (7.8 kB)\n",
            "Collecting uri-template\n",
            "  Using cached uri_template-1.2.0-py3-none-any.whl (10 kB)\n",
            "Collecting rfc3339-validator\n",
            "  Using cached rfc3339_validator-0.1.4-py2.py3-none-any.whl (3.5 kB)\n",
            "Collecting fqdn\n",
            "  Using cached fqdn-1.5.1-py3-none-any.whl (9.1 kB)\n",
            "Collecting rfc3987\n",
            "  Using cached rfc3987-1.3.8-py2.py3-none-any.whl (13 kB)\n",
            "Collecting webcolors>=1.11\n",
            "  Using cached webcolors-1.13-py3-none-any.whl (14 kB)\n",
            "Collecting isoduration\n",
            "  Using cached isoduration-20.11.0-py3-none-any.whl (11 kB)\n",
            "Collecting arrow>=0.15.0\n",
            "  Using cached arrow-1.2.3-py3-none-any.whl (66 kB)\n",
            "Installing collected packages: rfc3987, pytz, msgpack, monotonic, websocket-client, webcolors, urllib3, uri-template, tzdata, typing-extensions, smmap, six, simplejson, pyyaml, pyrsistent, PyJWT, psutil, Pillow, packaging, oauthlib, numpy, jsonref, jsonpointer, jmespath, idna, future, fqdn, click, charset-normalizer, certifi, attrs, rfc3339-validator, requests, python-dateutil, jsonschema, gitdb, swagger-spec-validator, requests-oauthlib, pandas, GitPython, botocore, arrow, s3transfer, isoduration, boto3, bravado-core, bravado, neptune\n",
            "  Attempting uninstall: rfc3987\n",
            "    Found existing installation: rfc3987 1.3.8\n",
            "    Uninstalling rfc3987-1.3.8:\n",
            "      Successfully uninstalled rfc3987-1.3.8\n",
            "  Attempting uninstall: pytz\n",
            "    Found existing installation: pytz 2023.3\n",
            "    Uninstalling pytz-2023.3:\n",
            "      Successfully uninstalled pytz-2023.3\n",
            "  Attempting uninstall: msgpack\n",
            "    Found existing installation: msgpack 1.0.5\n",
            "    Uninstalling msgpack-1.0.5:\n",
            "      Successfully uninstalled msgpack-1.0.5\n",
            "  Attempting uninstall: monotonic\n",
            "    Found existing installation: monotonic 1.6\n",
            "    Uninstalling monotonic-1.6:\n",
            "      Successfully uninstalled monotonic-1.6\n",
            "  Attempting uninstall: websocket-client\n",
            "    Found existing installation: websocket-client 1.5.1\n",
            "    Uninstalling websocket-client-1.5.1:\n",
            "      Successfully uninstalled websocket-client-1.5.1\n",
            "  Attempting uninstall: webcolors\n",
            "    Found existing installation: webcolors 1.13\n",
            "    Uninstalling webcolors-1.13:\n",
            "      Successfully uninstalled webcolors-1.13\n",
            "  Attempting uninstall: urllib3\n",
            "    Found existing installation: urllib3 1.26.15\n",
            "    Uninstalling urllib3-1.26.15:\n",
            "      Successfully uninstalled urllib3-1.26.15\n",
            "  Attempting uninstall: uri-template\n",
            "    Found existing installation: uri-template 1.2.0\n",
            "    Uninstalling uri-template-1.2.0:\n",
            "      Successfully uninstalled uri-template-1.2.0\n",
            "  Attempting uninstall: tzdata\n",
            "    Found existing installation: tzdata 2023.3\n",
            "    Uninstalling tzdata-2023.3:\n",
            "      Successfully uninstalled tzdata-2023.3\n",
            "  Attempting uninstall: typing-extensions\n",
            "    Found existing installation: typing_extensions 4.5.0\n",
            "    Uninstalling typing_extensions-4.5.0:\n",
            "      Successfully uninstalled typing_extensions-4.5.0\n",
            "  Attempting uninstall: smmap\n",
            "    Found existing installation: smmap 5.0.0\n",
            "    Uninstalling smmap-5.0.0:\n",
            "      Successfully uninstalled smmap-5.0.0\n",
            "  Attempting uninstall: six\n",
            "    Found existing installation: six 1.16.0\n",
            "    Uninstalling six-1.16.0:\n",
            "      Successfully uninstalled six-1.16.0\n",
            "  Attempting uninstall: simplejson\n",
            "    Found existing installation: simplejson 3.19.1\n",
            "    Uninstalling simplejson-3.19.1:\n",
            "      Successfully uninstalled simplejson-3.19.1\n",
            "  Attempting uninstall: pyyaml\n",
            "    Found existing installation: PyYAML 6.0\n",
            "    Uninstalling PyYAML-6.0:\n",
            "      Successfully uninstalled PyYAML-6.0\n",
            "  Attempting uninstall: pyrsistent\n",
            "    Found existing installation: pyrsistent 0.19.3\n",
            "    Uninstalling pyrsistent-0.19.3:\n",
            "      Successfully uninstalled pyrsistent-0.19.3\n",
            "  Attempting uninstall: PyJWT\n",
            "    Found existing installation: PyJWT 2.6.0\n",
            "    Uninstalling PyJWT-2.6.0:\n",
            "      Successfully uninstalled PyJWT-2.6.0\n",
            "  Attempting uninstall: psutil\n",
            "    Found existing installation: psutil 5.9.5\n",
            "    Uninstalling psutil-5.9.5:\n",
            "      Successfully uninstalled psutil-5.9.5\n",
            "  Attempting uninstall: Pillow\n",
            "    Found existing installation: Pillow 9.5.0\n",
            "    Uninstalling Pillow-9.5.0:\n",
            "      Successfully uninstalled Pillow-9.5.0\n",
            "  Attempting uninstall: packaging\n",
            "    Found existing installation: packaging 23.1\n",
            "    Uninstalling packaging-23.1:\n",
            "      Successfully uninstalled packaging-23.1\n",
            "  Attempting uninstall: oauthlib\n",
            "    Found existing installation: oauthlib 3.2.2\n",
            "    Uninstalling oauthlib-3.2.2:\n",
            "      Successfully uninstalled oauthlib-3.2.2\n",
            "  Attempting uninstall: numpy\n",
            "    Found existing installation: numpy 1.24.3\n",
            "    Uninstalling numpy-1.24.3:\n",
            "      Successfully uninstalled numpy-1.24.3\n",
            "  Attempting uninstall: jsonref\n",
            "    Found existing installation: jsonref 1.1.0\n",
            "    Uninstalling jsonref-1.1.0:\n",
            "      Successfully uninstalled jsonref-1.1.0\n",
            "  Attempting uninstall: jsonpointer\n",
            "    Found existing installation: jsonpointer 2.3\n",
            "    Uninstalling jsonpointer-2.3:\n",
            "      Successfully uninstalled jsonpointer-2.3\n",
            "  Attempting uninstall: jmespath\n",
            "    Found existing installation: jmespath 1.0.1\n",
            "    Uninstalling jmespath-1.0.1:\n",
            "      Successfully uninstalled jmespath-1.0.1\n",
            "  Attempting uninstall: idna\n",
            "    Found existing installation: idna 3.4\n",
            "    Uninstalling idna-3.4:\n",
            "      Successfully uninstalled idna-3.4\n",
            "  Attempting uninstall: future\n",
            "    Found existing installation: future 0.18.3\n",
            "    Uninstalling future-0.18.3:\n",
            "      Successfully uninstalled future-0.18.3\n",
            "  Attempting uninstall: fqdn\n",
            "    Found existing installation: fqdn 1.5.1\n",
            "    Uninstalling fqdn-1.5.1:\n",
            "      Successfully uninstalled fqdn-1.5.1\n",
            "  Attempting uninstall: click\n",
            "    Found existing installation: click 8.1.3\n",
            "    Uninstalling click-8.1.3:\n",
            "      Successfully uninstalled click-8.1.3\n",
            "  Attempting uninstall: charset-normalizer\n",
            "    Found existing installation: charset-normalizer 3.1.0\n",
            "    Uninstalling charset-normalizer-3.1.0:\n",
            "      Successfully uninstalled charset-normalizer-3.1.0\n",
            "  Attempting uninstall: certifi\n",
            "    Found existing installation: certifi 2023.5.7\n",
            "    Uninstalling certifi-2023.5.7:\n",
            "      Successfully uninstalled certifi-2023.5.7\n",
            "  Attempting uninstall: attrs\n",
            "    Found existing installation: attrs 23.1.0\n",
            "    Uninstalling attrs-23.1.0:\n",
            "      Successfully uninstalled attrs-23.1.0\n",
            "  Attempting uninstall: rfc3339-validator\n",
            "    Found existing installation: rfc3339-validator 0.1.4\n",
            "    Uninstalling rfc3339-validator-0.1.4:\n",
            "      Successfully uninstalled rfc3339-validator-0.1.4\n",
            "  Attempting uninstall: requests\n",
            "    Found existing installation: requests 2.30.0\n",
            "    Uninstalling requests-2.30.0:\n",
            "      Successfully uninstalled requests-2.30.0\n",
            "  Attempting uninstall: python-dateutil\n",
            "    Found existing installation: python-dateutil 2.8.2\n",
            "    Uninstalling python-dateutil-2.8.2:\n",
            "      Successfully uninstalled python-dateutil-2.8.2\n",
            "  Attempting uninstall: jsonschema\n",
            "    Found existing installation: jsonschema 4.17.3\n",
            "    Uninstalling jsonschema-4.17.3:\n",
            "      Successfully uninstalled jsonschema-4.17.3\n",
            "  Attempting uninstall: gitdb\n",
            "    Found existing installation: gitdb 4.0.10\n",
            "    Uninstalling gitdb-4.0.10:\n",
            "      Successfully uninstalled gitdb-4.0.10\n",
            "  Attempting uninstall: swagger-spec-validator\n",
            "    Found existing installation: swagger-spec-validator 3.0.3\n",
            "    Uninstalling swagger-spec-validator-3.0.3:\n",
            "      Successfully uninstalled swagger-spec-validator-3.0.3\n",
            "  Attempting uninstall: requests-oauthlib\n",
            "    Found existing installation: requests-oauthlib 1.3.1\n",
            "    Uninstalling requests-oauthlib-1.3.1:\n",
            "      Successfully uninstalled requests-oauthlib-1.3.1\n",
            "  Attempting uninstall: pandas\n",
            "    Found existing installation: pandas 2.0.1\n",
            "    Uninstalling pandas-2.0.1:\n",
            "      Successfully uninstalled pandas-2.0.1\n",
            "  Attempting uninstall: GitPython\n",
            "    Found existing installation: GitPython 3.1.31\n",
            "    Uninstalling GitPython-3.1.31:\n",
            "      Successfully uninstalled GitPython-3.1.31\n",
            "  Attempting uninstall: botocore\n",
            "    Found existing installation: botocore 1.29.129\n",
            "    Uninstalling botocore-1.29.129:\n",
            "      Successfully uninstalled botocore-1.29.129\n",
            "  Attempting uninstall: arrow\n",
            "    Found existing installation: arrow 1.2.3\n",
            "    Uninstalling arrow-1.2.3:\n",
            "      Successfully uninstalled arrow-1.2.3\n",
            "  Attempting uninstall: s3transfer\n",
            "    Found existing installation: s3transfer 0.6.1\n",
            "    Uninstalling s3transfer-0.6.1:\n",
            "      Successfully uninstalled s3transfer-0.6.1\n",
            "  Attempting uninstall: isoduration\n",
            "    Found existing installation: isoduration 20.11.0\n",
            "    Uninstalling isoduration-20.11.0:\n",
            "      Successfully uninstalled isoduration-20.11.0\n",
            "  Attempting uninstall: boto3\n",
            "    Found existing installation: boto3 1.26.129\n",
            "    Uninstalling boto3-1.26.129:\n",
            "      Successfully uninstalled boto3-1.26.129\n",
            "  Attempting uninstall: bravado-core\n",
            "    Found existing installation: bravado-core 5.17.1\n",
            "    Uninstalling bravado-core-5.17.1:\n",
            "      Successfully uninstalled bravado-core-5.17.1\n",
            "  Attempting uninstall: bravado\n",
            "    Found existing installation: bravado 11.0.3\n",
            "    Uninstalling bravado-11.0.3:\n",
            "      Successfully uninstalled bravado-11.0.3\n",
            "  Attempting uninstall: neptune\n",
            "    Found existing installation: neptune 1.1.1\n",
            "    Uninstalling neptune-1.1.1:\n",
            "      Successfully uninstalled neptune-1.1.1\n",
            "\u001b[31mERROR: pip's dependency resolver does not currently take into account all the packages that are installed. This behaviour is the source of the following dependency conflicts.\n",
            "neptune-contrib 0.28.1 requires neptune-client>=0.4.126, which is not installed.\n",
            "tensorflow 2.12.0 requires numpy<1.24,>=1.22, but you have numpy 1.24.3 which is incompatible.\n",
            "numba 0.56.4 requires numpy<1.24,>=1.18, but you have numpy 1.24.3 which is incompatible.\n",
            "google-colab 1.0.0 requires pandas~=1.5.3, but you have pandas 2.0.1 which is incompatible.\u001b[0m\u001b[31m\n",
            "\u001b[0mSuccessfully installed GitPython-3.1.31 Pillow-9.5.0 PyJWT-2.6.0 arrow-1.2.3 attrs-23.1.0 boto3-1.26.129 botocore-1.29.129 bravado-11.0.3 bravado-core-5.17.1 certifi-2023.5.7 charset-normalizer-3.1.0 click-8.1.3 fqdn-1.5.1 future-0.18.3 gitdb-4.0.10 idna-3.4 isoduration-20.11.0 jmespath-1.0.1 jsonpointer-2.3 jsonref-1.1.0 jsonschema-4.17.3 monotonic-1.6 msgpack-1.0.5 neptune-1.1.1 numpy-1.24.3 oauthlib-3.2.2 packaging-23.1 pandas-2.0.1 psutil-5.9.5 pyrsistent-0.19.3 python-dateutil-2.8.2 pytz-2023.3 pyyaml-6.0 requests-2.30.0 requests-oauthlib-1.3.1 rfc3339-validator-0.1.4 rfc3987-1.3.8 s3transfer-0.6.1 simplejson-3.19.1 six-1.16.0 smmap-5.0.0 swagger-spec-validator-3.0.3 typing-extensions-4.5.0 tzdata-2023.3 uri-template-1.2.0 urllib3-1.26.15 webcolors-1.13 websocket-client-1.5.1\n"
          ]
        }
      ]
    },
    {
      "cell_type": "code",
      "source": [
        "!pip install neptune-contrib"
      ],
      "metadata": {
        "colab": {
          "base_uri": "https://localhost:8080/"
        },
        "id": "DcKxAWo_rDHi",
        "outputId": "628662d7-5551-4903-aa3e-750f21a3dd45"
      },
      "execution_count": 9,
      "outputs": [
        {
          "output_type": "stream",
          "name": "stdout",
          "text": [
            "Looking in indexes: https://pypi.org/simple, https://us-python.pkg.dev/colab-wheels/public/simple/\n",
            "Requirement already satisfied: neptune-contrib in /usr/local/lib/python3.10/dist-packages (0.28.1)\n",
            "Requirement already satisfied: matplotlib in /usr/local/lib/python3.10/dist-packages (from neptune-contrib) (3.7.1)\n",
            "Requirement already satisfied: attrdict>=2.0.0 in /usr/local/lib/python3.10/dist-packages (from neptune-contrib) (2.0.1)\n",
            "Collecting neptune-client>=0.4.126\n",
            "  Using cached neptune_client-1.1.1-py3-none-any.whl (442 kB)\n",
            "Requirement already satisfied: Pillow>=6.2.0 in /usr/local/lib/python3.10/dist-packages (from neptune-contrib) (9.5.0)\n",
            "Requirement already satisfied: joblib>=0.13 in /usr/local/lib/python3.10/dist-packages (from neptune-contrib) (1.2.0)\n",
            "Requirement already satisfied: pandas in /usr/local/lib/python3.10/dist-packages (from neptune-contrib) (2.0.1)\n",
            "Requirement already satisfied: six in /usr/local/lib/python3.10/dist-packages (from attrdict>=2.0.0->neptune-contrib) (1.16.0)\n",
            "Requirement already satisfied: websocket-client!=1.0.0,>=0.35.0 in /usr/local/lib/python3.10/dist-packages (from neptune-client>=0.4.126->neptune-contrib) (1.5.1)\n",
            "Requirement already satisfied: packaging in /usr/local/lib/python3.10/dist-packages (from neptune-client>=0.4.126->neptune-contrib) (23.1)\n",
            "Requirement already satisfied: boto3>=1.16.0 in /usr/local/lib/python3.10/dist-packages (from neptune-client>=0.4.126->neptune-contrib) (1.26.129)\n",
            "Requirement already satisfied: future>=0.17.1 in /usr/local/lib/python3.10/dist-packages (from neptune-client>=0.4.126->neptune-contrib) (0.18.3)\n",
            "Requirement already satisfied: bravado<12.0.0,>=11.0.0 in /usr/local/lib/python3.10/dist-packages (from neptune-client>=0.4.126->neptune-contrib) (11.0.3)\n",
            "Requirement already satisfied: requests-oauthlib>=1.0.0 in /usr/local/lib/python3.10/dist-packages (from neptune-client>=0.4.126->neptune-contrib) (1.3.1)\n",
            "Requirement already satisfied: urllib3 in /usr/local/lib/python3.10/dist-packages (from neptune-client>=0.4.126->neptune-contrib) (1.26.15)\n",
            "Requirement already satisfied: GitPython>=2.0.8 in /usr/local/lib/python3.10/dist-packages (from neptune-client>=0.4.126->neptune-contrib) (3.1.31)\n",
            "Requirement already satisfied: click>=7.0 in /usr/local/lib/python3.10/dist-packages (from neptune-client>=0.4.126->neptune-contrib) (8.1.3)\n",
            "Requirement already satisfied: oauthlib>=2.1.0 in /usr/local/lib/python3.10/dist-packages (from neptune-client>=0.4.126->neptune-contrib) (3.2.2)\n",
            "Requirement already satisfied: psutil in /usr/local/lib/python3.10/dist-packages (from neptune-client>=0.4.126->neptune-contrib) (5.9.5)\n",
            "Requirement already satisfied: requests>=2.20.0 in /usr/local/lib/python3.10/dist-packages (from neptune-client>=0.4.126->neptune-contrib) (2.30.0)\n",
            "Requirement already satisfied: PyJWT in /usr/local/lib/python3.10/dist-packages (from neptune-client>=0.4.126->neptune-contrib) (2.6.0)\n",
            "Requirement already satisfied: swagger-spec-validator>=2.7.4 in /usr/local/lib/python3.10/dist-packages (from neptune-client>=0.4.126->neptune-contrib) (3.0.3)\n",
            "Requirement already satisfied: fonttools>=4.22.0 in /usr/local/lib/python3.10/dist-packages (from matplotlib->neptune-contrib) (4.39.3)\n",
            "Requirement already satisfied: python-dateutil>=2.7 in /usr/local/lib/python3.10/dist-packages (from matplotlib->neptune-contrib) (2.8.2)\n",
            "Requirement already satisfied: cycler>=0.10 in /usr/local/lib/python3.10/dist-packages (from matplotlib->neptune-contrib) (0.11.0)\n",
            "Requirement already satisfied: numpy>=1.20 in /usr/local/lib/python3.10/dist-packages (from matplotlib->neptune-contrib) (1.24.3)\n",
            "Requirement already satisfied: pyparsing>=2.3.1 in /usr/local/lib/python3.10/dist-packages (from matplotlib->neptune-contrib) (3.0.9)\n",
            "Requirement already satisfied: contourpy>=1.0.1 in /usr/local/lib/python3.10/dist-packages (from matplotlib->neptune-contrib) (1.0.7)\n",
            "Requirement already satisfied: kiwisolver>=1.0.1 in /usr/local/lib/python3.10/dist-packages (from matplotlib->neptune-contrib) (1.4.4)\n",
            "Requirement already satisfied: tzdata>=2022.1 in /usr/local/lib/python3.10/dist-packages (from pandas->neptune-contrib) (2023.3)\n",
            "Requirement already satisfied: pytz>=2020.1 in /usr/local/lib/python3.10/dist-packages (from pandas->neptune-contrib) (2023.3)\n",
            "Requirement already satisfied: s3transfer<0.7.0,>=0.6.0 in /usr/local/lib/python3.10/dist-packages (from boto3>=1.16.0->neptune-client>=0.4.126->neptune-contrib) (0.6.1)\n",
            "Requirement already satisfied: jmespath<2.0.0,>=0.7.1 in /usr/local/lib/python3.10/dist-packages (from boto3>=1.16.0->neptune-client>=0.4.126->neptune-contrib) (1.0.1)\n",
            "Requirement already satisfied: botocore<1.30.0,>=1.29.129 in /usr/local/lib/python3.10/dist-packages (from boto3>=1.16.0->neptune-client>=0.4.126->neptune-contrib) (1.29.129)\n",
            "Requirement already satisfied: bravado-core>=5.16.1 in /usr/local/lib/python3.10/dist-packages (from bravado<12.0.0,>=11.0.0->neptune-client>=0.4.126->neptune-contrib) (5.17.1)\n",
            "Requirement already satisfied: simplejson in /usr/local/lib/python3.10/dist-packages (from bravado<12.0.0,>=11.0.0->neptune-client>=0.4.126->neptune-contrib) (3.19.1)\n",
            "Requirement already satisfied: typing-extensions in /usr/local/lib/python3.10/dist-packages (from bravado<12.0.0,>=11.0.0->neptune-client>=0.4.126->neptune-contrib) (4.5.0)\n",
            "Requirement already satisfied: msgpack in /usr/local/lib/python3.10/dist-packages (from bravado<12.0.0,>=11.0.0->neptune-client>=0.4.126->neptune-contrib) (1.0.5)\n",
            "Requirement already satisfied: pyyaml in /usr/local/lib/python3.10/dist-packages (from bravado<12.0.0,>=11.0.0->neptune-client>=0.4.126->neptune-contrib) (6.0)\n",
            "Requirement already satisfied: monotonic in /usr/local/lib/python3.10/dist-packages (from bravado<12.0.0,>=11.0.0->neptune-client>=0.4.126->neptune-contrib) (1.6)\n",
            "Requirement already satisfied: gitdb<5,>=4.0.1 in /usr/local/lib/python3.10/dist-packages (from GitPython>=2.0.8->neptune-client>=0.4.126->neptune-contrib) (4.0.10)\n",
            "Requirement already satisfied: idna<4,>=2.5 in /usr/local/lib/python3.10/dist-packages (from requests>=2.20.0->neptune-client>=0.4.126->neptune-contrib) (3.4)\n",
            "Requirement already satisfied: certifi>=2017.4.17 in /usr/local/lib/python3.10/dist-packages (from requests>=2.20.0->neptune-client>=0.4.126->neptune-contrib) (2023.5.7)\n",
            "Requirement already satisfied: charset-normalizer<4,>=2 in /usr/local/lib/python3.10/dist-packages (from requests>=2.20.0->neptune-client>=0.4.126->neptune-contrib) (3.1.0)\n",
            "Requirement already satisfied: jsonschema in /usr/local/lib/python3.10/dist-packages (from swagger-spec-validator>=2.7.4->neptune-client>=0.4.126->neptune-contrib) (4.17.3)\n",
            "Requirement already satisfied: jsonref in /usr/local/lib/python3.10/dist-packages (from bravado-core>=5.16.1->bravado<12.0.0,>=11.0.0->neptune-client>=0.4.126->neptune-contrib) (1.1.0)\n",
            "Requirement already satisfied: smmap<6,>=3.0.1 in /usr/local/lib/python3.10/dist-packages (from gitdb<5,>=4.0.1->GitPython>=2.0.8->neptune-client>=0.4.126->neptune-contrib) (5.0.0)\n",
            "Requirement already satisfied: attrs>=17.4.0 in /usr/local/lib/python3.10/dist-packages (from jsonschema->swagger-spec-validator>=2.7.4->neptune-client>=0.4.126->neptune-contrib) (23.1.0)\n",
            "Requirement already satisfied: pyrsistent!=0.17.0,!=0.17.1,!=0.17.2,>=0.14.0 in /usr/local/lib/python3.10/dist-packages (from jsonschema->swagger-spec-validator>=2.7.4->neptune-client>=0.4.126->neptune-contrib) (0.19.3)\n",
            "Requirement already satisfied: rfc3339-validator in /usr/local/lib/python3.10/dist-packages (from jsonschema->swagger-spec-validator>=2.7.4->neptune-client>=0.4.126->neptune-contrib) (0.1.4)\n",
            "Requirement already satisfied: fqdn in /usr/local/lib/python3.10/dist-packages (from jsonschema->swagger-spec-validator>=2.7.4->neptune-client>=0.4.126->neptune-contrib) (1.5.1)\n",
            "Requirement already satisfied: uri-template in /usr/local/lib/python3.10/dist-packages (from jsonschema->swagger-spec-validator>=2.7.4->neptune-client>=0.4.126->neptune-contrib) (1.2.0)\n",
            "Requirement already satisfied: rfc3987 in /usr/local/lib/python3.10/dist-packages (from jsonschema->swagger-spec-validator>=2.7.4->neptune-client>=0.4.126->neptune-contrib) (1.3.8)\n",
            "Requirement already satisfied: webcolors>=1.11 in /usr/local/lib/python3.10/dist-packages (from jsonschema->swagger-spec-validator>=2.7.4->neptune-client>=0.4.126->neptune-contrib) (1.13)\n",
            "Requirement already satisfied: jsonpointer>1.13 in /usr/local/lib/python3.10/dist-packages (from jsonschema->swagger-spec-validator>=2.7.4->neptune-client>=0.4.126->neptune-contrib) (2.3)\n",
            "Requirement already satisfied: isoduration in /usr/local/lib/python3.10/dist-packages (from jsonschema->swagger-spec-validator>=2.7.4->neptune-client>=0.4.126->neptune-contrib) (20.11.0)\n",
            "Requirement already satisfied: arrow>=0.15.0 in /usr/local/lib/python3.10/dist-packages (from isoduration->jsonschema->swagger-spec-validator>=2.7.4->neptune-client>=0.4.126->neptune-contrib) (1.2.3)\n",
            "Installing collected packages: neptune-client\n",
            "Successfully installed neptune-client-1.1.1\n"
          ]
        }
      ]
    },
    {
      "cell_type": "markdown",
      "metadata": {
        "id": "UKAm8_BBJBif"
      },
      "source": [
        "# **Importing Packages**"
      ]
    },
    {
      "cell_type": "code",
      "execution_count": 12,
      "metadata": {
        "colab": {
          "base_uri": "https://localhost:8080/"
        },
        "id": "tJhhDUJNIl-t",
        "outputId": "b614939b-655c-4819-a0d4-b315a99e50d0"
      },
      "outputs": [
        {
          "output_type": "stream",
          "name": "stderr",
          "text": [
            "[nltk_data] Downloading package punkt to /root/nltk_data...\n",
            "[nltk_data]   Unzipping tokenizers/punkt.zip.\n",
            "[nltk_data] Downloading package stopwords to /root/nltk_data...\n",
            "[nltk_data]   Unzipping corpora/stopwords.zip.\n",
            "[nltk_data] Downloading package wordnet to /root/nltk_data...\n"
          ]
        },
        {
          "output_type": "execute_result",
          "data": {
            "text/plain": [
              "True"
            ]
          },
          "metadata": {},
          "execution_count": 12
        }
      ],
      "source": [
        "import os\n",
        "import random\n",
        "import warnings\n",
        "import pandas as pd\n",
        "import numpy as np\n",
        "import multiprocessing\n",
        "import collections\n",
        "import nltk\n",
        "import re\n",
        "import tensorflow as tf\n",
        "from nltk.corpus import stopwords\n",
        "import transformers as ppb\n",
        "from gensim.models import Word2Vec\n",
        "from sklearn.model_selection import train_test_split\n",
        "from sklearn.model_selection import KFold\n",
        "from sklearn.metrics import cohen_kappa_score\n",
        "from sklearn.manifold import TSNE\n",
        "\n",
        "import torch\n",
        "import torch.nn as nn\n",
        "import torch.nn.functional as F\n",
        "import torch.optim as optim\n",
        "\n",
        "import tensorflow as tf\n",
        "from tensorflow import keras\n",
        "\n",
        "from keras.layers import Embedding, Input, LSTM, Dense, Dropout, Lambda, Flatten, Bidirectional, Conv2D, Conv1D, MaxPooling1D, GlobalMaxPooling1D\n",
        "from keras.models import Sequential,Model, load_model, model_from_config\n",
        "import keras.backend as K\n",
        "\n",
        "import matplotlib.pyplot as plt\n",
        "%matplotlib notebook\n",
        "\n",
        "import neptune\n",
        "from neptunecontrib.monitoring.keras import NeptuneMonitor\n",
        "\n",
        "nltk.download('punkt')\n",
        "nltk.download('stopwords')\n",
        "nltk.download('wordnet')  "
      ]
    },
    {
      "cell_type": "markdown",
      "source": [
        "# **Neptune AI**"
      ],
      "metadata": {
        "id": "9OftPjcQrS2m"
      }
    },
    {
      "cell_type": "code",
      "source": [
        "run = neptune.init_run(\n",
        "    project=\"sarasameer991/Intellitech\",\n",
        "    api_token=\"eyJhcGlfYWRkcmVzcyI6Imh0dHBzOi8vbmV3LXVpLm5lcHR1bmUuYWkiLCJhcGlfdXJsIjoiaHR0cHM6Ly9uZXctdWkubmVwdHVuZS5haSIsImFwaV9rZXkiOiJjMTI0MGRkMy1kNWUwLTQ1ZWYtYTYzZS1hMDg5NzY2OGZmN2QifQ==\"\n",
        ")  # your credentials"
      ],
      "metadata": {
        "colab": {
          "base_uri": "https://localhost:8080/"
        },
        "id": "rdfrKy6prV8R",
        "outputId": "7bc9d50b-598a-4985-c7e1-f2c4b6d1ad92"
      },
      "execution_count": 62,
      "outputs": [
        {
          "output_type": "stream",
          "name": "stdout",
          "text": [
            "https://new-ui.neptune.ai/sarasameer991/Intellitech/e/IN-13\n"
          ]
        }
      ]
    },
    {
      "cell_type": "markdown",
      "source": [
        "# **Model Visualisations**"
      ],
      "metadata": {
        "id": "ke7J9hxW-S8m"
      }
    },
    {
      "cell_type": "code",
      "execution_count": 63,
      "metadata": {
        "id": "v0M_OpuPJKN2"
      },
      "outputs": [],
      "source": [
        "# Declaring some visualization methods to plot accuracy and model diagram\n",
        "def plot_accuracy_curve(history):\n",
        "  plt.plot(history.history['loss'])\n",
        "  plt.plot(history.history['mae'])\n",
        "  plt.title('Model loss')\n",
        "  plt.ylabel('Loss')\n",
        "  plt.xlabel('Epoch')\n",
        "  plt.legend(['Train', 'Test'], loc='upper left')\n",
        "  plt.show()\n",
        "\n",
        "def plot_acrchitecture(filename, model):\n",
        "  from keras.utils import plot_model\n",
        "  plot_model(model, to_file=str(filename) + '.png')"
      ]
    },
    {
      "cell_type": "markdown",
      "source": [
        "# **Mounting Google Drive**"
      ],
      "metadata": {
        "id": "6p2yQyF5AQMi"
      }
    },
    {
      "cell_type": "code",
      "execution_count": 64,
      "metadata": {
        "colab": {
          "base_uri": "https://localhost:8080/"
        },
        "id": "Kh0vjFcNKAS7",
        "outputId": "17dae798-6db6-4f52-9548-dfc661f6ac61"
      },
      "outputs": [
        {
          "output_type": "stream",
          "name": "stdout",
          "text": [
            "Drive already mounted at /content/drive; to attempt to forcibly remount, call drive.mount(\"/content/drive\", force_remount=True).\n"
          ]
        }
      ],
      "source": [
        "from google.colab import drive\n",
        "drive.mount('/content/drive')"
      ]
    },
    {
      "cell_type": "code",
      "execution_count": 65,
      "metadata": {
        "colab": {
          "base_uri": "https://localhost:8080/",
          "height": 629
        },
        "id": "FH6NXR25JPtu",
        "outputId": "2ad7d474-3172-4a62-e877-6a8e4e38a3b3"
      },
      "outputs": [
        {
          "output_type": "execute_result",
          "data": {
            "text/plain": [
              "   essay_id  essay_set                                              essay   \n",
              "0         1          1  Dear local newspaper, I think effects computer...  \\\n",
              "1         2          1  Dear @CAPS1 @CAPS2, I believe that using compu...   \n",
              "2         3          1  Dear, @CAPS1 @CAPS2 @CAPS3 More and more peopl...   \n",
              "3         4          1  Dear Local Newspaper, @CAPS1 I have found that...   \n",
              "4         5          1  Dear @LOCATION1, I know having computers has a...   \n",
              "\n",
              "   rater1_domain1  rater2_domain1  rater3_domain1  domain1_score   \n",
              "0               4               4             NaN              8  \\\n",
              "1               5               4             NaN              9   \n",
              "2               4               3             NaN              7   \n",
              "3               5               5             NaN             10   \n",
              "4               4               4             NaN              8   \n",
              "\n",
              "   rater1_domain2  rater2_domain2  domain2_score  ...  rater2_trait3   \n",
              "0             NaN             NaN            NaN  ...            NaN  \\\n",
              "1             NaN             NaN            NaN  ...            NaN   \n",
              "2             NaN             NaN            NaN  ...            NaN   \n",
              "3             NaN             NaN            NaN  ...            NaN   \n",
              "4             NaN             NaN            NaN  ...            NaN   \n",
              "\n",
              "   rater2_trait4  rater2_trait5  rater2_trait6  rater3_trait1  rater3_trait2   \n",
              "0            NaN            NaN            NaN            NaN            NaN  \\\n",
              "1            NaN            NaN            NaN            NaN            NaN   \n",
              "2            NaN            NaN            NaN            NaN            NaN   \n",
              "3            NaN            NaN            NaN            NaN            NaN   \n",
              "4            NaN            NaN            NaN            NaN            NaN   \n",
              "\n",
              "   rater3_trait3  rater3_trait4  rater3_trait5  rater3_trait6  \n",
              "0            NaN            NaN            NaN            NaN  \n",
              "1            NaN            NaN            NaN            NaN  \n",
              "2            NaN            NaN            NaN            NaN  \n",
              "3            NaN            NaN            NaN            NaN  \n",
              "4            NaN            NaN            NaN            NaN  \n",
              "\n",
              "[5 rows x 28 columns]"
            ],
            "text/html": [
              "\n",
              "  <div id=\"df-a6909f24-1531-473b-ad10-102ee3aa6df8\">\n",
              "    <div class=\"colab-df-container\">\n",
              "      <div>\n",
              "<style scoped>\n",
              "    .dataframe tbody tr th:only-of-type {\n",
              "        vertical-align: middle;\n",
              "    }\n",
              "\n",
              "    .dataframe tbody tr th {\n",
              "        vertical-align: top;\n",
              "    }\n",
              "\n",
              "    .dataframe thead th {\n",
              "        text-align: right;\n",
              "    }\n",
              "</style>\n",
              "<table border=\"1\" class=\"dataframe\">\n",
              "  <thead>\n",
              "    <tr style=\"text-align: right;\">\n",
              "      <th></th>\n",
              "      <th>essay_id</th>\n",
              "      <th>essay_set</th>\n",
              "      <th>essay</th>\n",
              "      <th>rater1_domain1</th>\n",
              "      <th>rater2_domain1</th>\n",
              "      <th>rater3_domain1</th>\n",
              "      <th>domain1_score</th>\n",
              "      <th>rater1_domain2</th>\n",
              "      <th>rater2_domain2</th>\n",
              "      <th>domain2_score</th>\n",
              "      <th>...</th>\n",
              "      <th>rater2_trait3</th>\n",
              "      <th>rater2_trait4</th>\n",
              "      <th>rater2_trait5</th>\n",
              "      <th>rater2_trait6</th>\n",
              "      <th>rater3_trait1</th>\n",
              "      <th>rater3_trait2</th>\n",
              "      <th>rater3_trait3</th>\n",
              "      <th>rater3_trait4</th>\n",
              "      <th>rater3_trait5</th>\n",
              "      <th>rater3_trait6</th>\n",
              "    </tr>\n",
              "  </thead>\n",
              "  <tbody>\n",
              "    <tr>\n",
              "      <th>0</th>\n",
              "      <td>1</td>\n",
              "      <td>1</td>\n",
              "      <td>Dear local newspaper, I think effects computer...</td>\n",
              "      <td>4</td>\n",
              "      <td>4</td>\n",
              "      <td>NaN</td>\n",
              "      <td>8</td>\n",
              "      <td>NaN</td>\n",
              "      <td>NaN</td>\n",
              "      <td>NaN</td>\n",
              "      <td>...</td>\n",
              "      <td>NaN</td>\n",
              "      <td>NaN</td>\n",
              "      <td>NaN</td>\n",
              "      <td>NaN</td>\n",
              "      <td>NaN</td>\n",
              "      <td>NaN</td>\n",
              "      <td>NaN</td>\n",
              "      <td>NaN</td>\n",
              "      <td>NaN</td>\n",
              "      <td>NaN</td>\n",
              "    </tr>\n",
              "    <tr>\n",
              "      <th>1</th>\n",
              "      <td>2</td>\n",
              "      <td>1</td>\n",
              "      <td>Dear @CAPS1 @CAPS2, I believe that using compu...</td>\n",
              "      <td>5</td>\n",
              "      <td>4</td>\n",
              "      <td>NaN</td>\n",
              "      <td>9</td>\n",
              "      <td>NaN</td>\n",
              "      <td>NaN</td>\n",
              "      <td>NaN</td>\n",
              "      <td>...</td>\n",
              "      <td>NaN</td>\n",
              "      <td>NaN</td>\n",
              "      <td>NaN</td>\n",
              "      <td>NaN</td>\n",
              "      <td>NaN</td>\n",
              "      <td>NaN</td>\n",
              "      <td>NaN</td>\n",
              "      <td>NaN</td>\n",
              "      <td>NaN</td>\n",
              "      <td>NaN</td>\n",
              "    </tr>\n",
              "    <tr>\n",
              "      <th>2</th>\n",
              "      <td>3</td>\n",
              "      <td>1</td>\n",
              "      <td>Dear, @CAPS1 @CAPS2 @CAPS3 More and more peopl...</td>\n",
              "      <td>4</td>\n",
              "      <td>3</td>\n",
              "      <td>NaN</td>\n",
              "      <td>7</td>\n",
              "      <td>NaN</td>\n",
              "      <td>NaN</td>\n",
              "      <td>NaN</td>\n",
              "      <td>...</td>\n",
              "      <td>NaN</td>\n",
              "      <td>NaN</td>\n",
              "      <td>NaN</td>\n",
              "      <td>NaN</td>\n",
              "      <td>NaN</td>\n",
              "      <td>NaN</td>\n",
              "      <td>NaN</td>\n",
              "      <td>NaN</td>\n",
              "      <td>NaN</td>\n",
              "      <td>NaN</td>\n",
              "    </tr>\n",
              "    <tr>\n",
              "      <th>3</th>\n",
              "      <td>4</td>\n",
              "      <td>1</td>\n",
              "      <td>Dear Local Newspaper, @CAPS1 I have found that...</td>\n",
              "      <td>5</td>\n",
              "      <td>5</td>\n",
              "      <td>NaN</td>\n",
              "      <td>10</td>\n",
              "      <td>NaN</td>\n",
              "      <td>NaN</td>\n",
              "      <td>NaN</td>\n",
              "      <td>...</td>\n",
              "      <td>NaN</td>\n",
              "      <td>NaN</td>\n",
              "      <td>NaN</td>\n",
              "      <td>NaN</td>\n",
              "      <td>NaN</td>\n",
              "      <td>NaN</td>\n",
              "      <td>NaN</td>\n",
              "      <td>NaN</td>\n",
              "      <td>NaN</td>\n",
              "      <td>NaN</td>\n",
              "    </tr>\n",
              "    <tr>\n",
              "      <th>4</th>\n",
              "      <td>5</td>\n",
              "      <td>1</td>\n",
              "      <td>Dear @LOCATION1, I know having computers has a...</td>\n",
              "      <td>4</td>\n",
              "      <td>4</td>\n",
              "      <td>NaN</td>\n",
              "      <td>8</td>\n",
              "      <td>NaN</td>\n",
              "      <td>NaN</td>\n",
              "      <td>NaN</td>\n",
              "      <td>...</td>\n",
              "      <td>NaN</td>\n",
              "      <td>NaN</td>\n",
              "      <td>NaN</td>\n",
              "      <td>NaN</td>\n",
              "      <td>NaN</td>\n",
              "      <td>NaN</td>\n",
              "      <td>NaN</td>\n",
              "      <td>NaN</td>\n",
              "      <td>NaN</td>\n",
              "      <td>NaN</td>\n",
              "    </tr>\n",
              "  </tbody>\n",
              "</table>\n",
              "<p>5 rows × 28 columns</p>\n",
              "</div>\n",
              "      <button class=\"colab-df-convert\" onclick=\"convertToInteractive('df-a6909f24-1531-473b-ad10-102ee3aa6df8')\"\n",
              "              title=\"Convert this dataframe to an interactive table.\"\n",
              "              style=\"display:none;\">\n",
              "        \n",
              "  <svg xmlns=\"http://www.w3.org/2000/svg\" height=\"24px\"viewBox=\"0 0 24 24\"\n",
              "       width=\"24px\">\n",
              "    <path d=\"M0 0h24v24H0V0z\" fill=\"none\"/>\n",
              "    <path d=\"M18.56 5.44l.94 2.06.94-2.06 2.06-.94-2.06-.94-.94-2.06-.94 2.06-2.06.94zm-11 1L8.5 8.5l.94-2.06 2.06-.94-2.06-.94L8.5 2.5l-.94 2.06-2.06.94zm10 10l.94 2.06.94-2.06 2.06-.94-2.06-.94-.94-2.06-.94 2.06-2.06.94z\"/><path d=\"M17.41 7.96l-1.37-1.37c-.4-.4-.92-.59-1.43-.59-.52 0-1.04.2-1.43.59L10.3 9.45l-7.72 7.72c-.78.78-.78 2.05 0 2.83L4 21.41c.39.39.9.59 1.41.59.51 0 1.02-.2 1.41-.59l7.78-7.78 2.81-2.81c.8-.78.8-2.07 0-2.86zM5.41 20L4 18.59l7.72-7.72 1.47 1.35L5.41 20z\"/>\n",
              "  </svg>\n",
              "      </button>\n",
              "      \n",
              "  <style>\n",
              "    .colab-df-container {\n",
              "      display:flex;\n",
              "      flex-wrap:wrap;\n",
              "      gap: 12px;\n",
              "    }\n",
              "\n",
              "    .colab-df-convert {\n",
              "      background-color: #E8F0FE;\n",
              "      border: none;\n",
              "      border-radius: 50%;\n",
              "      cursor: pointer;\n",
              "      display: none;\n",
              "      fill: #1967D2;\n",
              "      height: 32px;\n",
              "      padding: 0 0 0 0;\n",
              "      width: 32px;\n",
              "    }\n",
              "\n",
              "    .colab-df-convert:hover {\n",
              "      background-color: #E2EBFA;\n",
              "      box-shadow: 0px 1px 2px rgba(60, 64, 67, 0.3), 0px 1px 3px 1px rgba(60, 64, 67, 0.15);\n",
              "      fill: #174EA6;\n",
              "    }\n",
              "\n",
              "    [theme=dark] .colab-df-convert {\n",
              "      background-color: #3B4455;\n",
              "      fill: #D2E3FC;\n",
              "    }\n",
              "\n",
              "    [theme=dark] .colab-df-convert:hover {\n",
              "      background-color: #434B5C;\n",
              "      box-shadow: 0px 1px 3px 1px rgba(0, 0, 0, 0.15);\n",
              "      filter: drop-shadow(0px 1px 2px rgba(0, 0, 0, 0.3));\n",
              "      fill: #FFFFFF;\n",
              "    }\n",
              "  </style>\n",
              "\n",
              "      <script>\n",
              "        const buttonEl =\n",
              "          document.querySelector('#df-a6909f24-1531-473b-ad10-102ee3aa6df8 button.colab-df-convert');\n",
              "        buttonEl.style.display =\n",
              "          google.colab.kernel.accessAllowed ? 'block' : 'none';\n",
              "\n",
              "        async function convertToInteractive(key) {\n",
              "          const element = document.querySelector('#df-a6909f24-1531-473b-ad10-102ee3aa6df8');\n",
              "          const dataTable =\n",
              "            await google.colab.kernel.invokeFunction('convertToInteractive',\n",
              "                                                     [key], {});\n",
              "          if (!dataTable) return;\n",
              "\n",
              "          const docLinkHtml = 'Like what you see? Visit the ' +\n",
              "            '<a target=\"_blank\" href=https://colab.research.google.com/notebooks/data_table.ipynb>data table notebook</a>'\n",
              "            + ' to learn more about interactive tables.';\n",
              "          element.innerHTML = '';\n",
              "          dataTable['output_type'] = 'display_data';\n",
              "          await google.colab.output.renderOutput(dataTable, element);\n",
              "          const docLink = document.createElement('div');\n",
              "          docLink.innerHTML = docLinkHtml;\n",
              "          element.appendChild(docLink);\n",
              "        }\n",
              "      </script>\n",
              "    </div>\n",
              "  </div>\n",
              "  "
            ]
          },
          "metadata": {},
          "execution_count": 65
        }
      ],
      "source": [
        "dataset_path = \"/content/drive/MyDrive/IntelliTech-DataSet/training_set_rel3.tsv\"\n",
        "data = pd.read_csv(dataset_path, sep=\"\\t\", encoding=\"ISO-8859-1\")\n",
        "data.head()"
      ]
    },
    {
      "cell_type": "markdown",
      "source": [
        "# **Data Preprocessing**"
      ],
      "metadata": {
        "id": "r_z2NvM7-cKe"
      }
    },
    {
      "cell_type": "code",
      "execution_count": 66,
      "metadata": {
        "id": "5Psxv7jbJTh1"
      },
      "outputs": [],
      "source": [
        "cap = ['@CAPS'+str(i) for i in range(100)]\n",
        "loc = ['@LOCATION'+str(i) for i in range(100)]\n",
        "org =['@ORGANIZATION'+str(i) for i in range(100)]\n",
        "per = ['@PERSON'+str(i) for i in range(100)]\n",
        "date = ['@DATE'+str(i) for i in range(100)]\n",
        "time = ['@TIME'+str(i) for i in range(100)]\n",
        "money = ['@MONEY'+str(i) for i in range(100)]\n",
        "ner =  cap + loc + org + per + date + time + money"
      ]
    },
    {
      "cell_type": "code",
      "execution_count": 67,
      "metadata": {
        "id": "HsXxoMDIJXG1"
      },
      "outputs": [],
      "source": [
        "top10 = collections.defaultdict(int)\n",
        "def essay_to_wordlist(Essay):\n",
        "    \"\"\"\n",
        "      Removes Named Entity Recognition (NER), Special Characters, and Stop Words.\n",
        "      Also word tokenizes the essay.\n",
        "\n",
        "      Args:\n",
        "        Essay: Essay of each student \n",
        "      \n",
        "      Returns: \n",
        "        Set<String>\n",
        "\n",
        "    \"\"\"\n",
        "    Essay = re.sub(\"[^a-zA-Z]\", \" \", Essay)\n",
        "    words = Essay.lower().split()\n",
        "    \n",
        "    stops = stopwords.words(\"english\")\n",
        "    stops.extend(ner)\n",
        "    for word in words:\n",
        "      if word not in stops:\n",
        "        top10[word]+=1\n",
        "    words = [w for w in words if not w in stops]\n",
        "    return (words)"
      ]
    },
    {
      "cell_type": "markdown",
      "source": [
        "# **Feature Vector Creation**"
      ],
      "metadata": {
        "id": "KkpCGIrF-sR9"
      }
    },
    {
      "cell_type": "code",
      "source": [
        "def makeFeatureVec(words, model, num_features):\n",
        "    \"\"\"\n",
        "      Make Feature Vector from the words list of an Essay.\n",
        "\n",
        "      Args:\n",
        "        words: Words of each essay\n",
        "        model: Trained word2vec model\n",
        "        params['num_features']: Number of features to be extracted \n",
        "      \n",
        "      Returns: \n",
        "        numpy.array\n",
        "\n",
        "    \"\"\"\n",
        "    featureVec = np.zeros((num_features,), dtype=\"float32\")\n",
        "    num_words = 0.\n",
        "    index2word_set = set(model.wv.index_to_key)\n",
        "    for word in words:\n",
        "        if word in index2word_set:\n",
        "            num_words += 1\n",
        "            if word in model.wv:\n",
        "                featureVec = np.add(featureVec, model.wv[word])\n",
        "    if num_words > 0:\n",
        "        featureVec = np.divide(featureVec, num_words)\n",
        "    return featureVec\n",
        "\n",
        "def getAvgFeatureVecs(essays, model, num_features):\n",
        "    \"\"\"\n",
        "      Main function to generate the word vectors for word2vec model.\n",
        "\n",
        "      Args:\n",
        "        essays: Essay of each student\n",
        "        model: Trained word2vec model\n",
        "        params['num_features']: Number of features to be extracted \n",
        "      \n",
        "      Returns: \n",
        "        numpy.array\n",
        "\n",
        "    \"\"\"\n",
        "    counter = 0\n",
        "    essayFeatureVecs = np.zeros((len(essays),num_features),dtype=\"float32\")\n",
        "    for essay in essays:\n",
        "        essayFeatureVecs[counter] = makeFeatureVec(essay, model, num_features)\n",
        "        counter = counter + 1\n",
        "    return essayFeatureVecs"
      ],
      "metadata": {
        "id": "pDLYRxjR-lwY"
      },
      "execution_count": 68,
      "outputs": []
    },
    {
      "cell_type": "markdown",
      "source": [
        "# **Bi-LSTM and LSTM Model Architecture**"
      ],
      "metadata": {
        "id": "jQ9L_pT3-o3-"
      }
    },
    {
      "cell_type": "code",
      "execution_count": 69,
      "metadata": {
        "id": "9bLjXyD1JaMF"
      },
      "outputs": [],
      "source": [
        "def get_model(Hidden_dimension1=400, Hidden_dimension2=128, return_sequences = True, dropout=0.5, recurrent_dropout=0.4, input_size=768, activation='relu', bidirectional = False):\n",
        "    \"\"\"\n",
        "      Defines the architecture for LSTM and Bi-LSTM Model\n",
        "\n",
        "      Args:\n",
        "        Hidden_dim1: \n",
        "        Hidden_dim2: \n",
        "        return_sequences:\n",
        "        dropout: \n",
        "        recurrent_dropout: \n",
        "        input_size:\n",
        "        activation: \n",
        "        bidirectional:\n",
        "      \n",
        "      Returns: \n",
        "        keras.model\n",
        "\n",
        "    \"\"\"\n",
        "    model = Sequential()\n",
        "    if bidirectional:\n",
        "        model.add(Bidirectional(LSTM(Hidden_dimension1,return_sequences=return_sequences , dropout=0.4, recurrent_dropout=recurrent_dropout), input_shape=[1, input_size]))\n",
        "        model.add(Bidirectional(LSTM(Hidden_dimension1, recurrent_dropout=recurrent_dropout)))\n",
        "    else:\n",
        "        model.add(LSTM(Hidden_dimension1, dropout=0.4, recurrent_dropout=recurrent_dropout, input_shape=[1, input_size], return_sequences=return_sequences))\n",
        "        model.add(LSTM(Hidden_dimension2, recurrent_dropout=recurrent_dropout))\n",
        "    model.add(Dropout(dropout))\n",
        "    model.add(Dense(1, activation=activation))\n",
        "\n",
        "    model.compile(loss='mean_squared_error', optimizer='rmsprop', metrics=['mae'])\n",
        "    model.summary()\n",
        "    return model"
      ]
    },
    {
      "cell_type": "markdown",
      "source": [
        "# **Word2Vec Model Architecture**"
      ],
      "metadata": {
        "id": "Q92LtGne-y7N"
      }
    },
    {
      "cell_type": "code",
      "execution_count": 70,
      "metadata": {
        "id": "mnv9HkSGNBu7"
      },
      "outputs": [],
      "source": [
        "def build_word2vec(train_sentences, num_workers, num_features, min_word_count, context,epochs):\n",
        "    \"\"\"\n",
        "      Defines the architecture for Word2vec Model\n",
        "\n",
        "      Args:\n",
        "        train_sentences: \n",
        "        num_workers: \n",
        "        params['num_features']:\n",
        "        min_word_count: \n",
        "        context: \n",
        "      \n",
        "      Returns: \n",
        "        word2vec model\n",
        "        collections.dictionary\n",
        "\n",
        "    \"\"\"\n",
        "    model = Word2Vec(workers=num_workers, vector_size=num_features, min_count=min_word_count, window=context)\n",
        "    # saving the word2vec model\n",
        "    # model.wv.save_word2vec_format('word2vec_'+ str(fold_count) +'.bin', binary=True)\n",
        "    cores = multiprocessing.cpu_count()\n",
        "    model.build_vocab(train_sentences, progress_per=10000)\n",
        "    model.train(train_sentences, total_examples=model.corpus_count, epochs=epochs, report_delay=1)\n",
        "    model.init_sims(replace=True)\n",
        "    sorted_dic = sorted(top10.items(), key=lambda k: k[1], reverse=True)\n",
        "    return model,sorted_dic"
      ]
    },
    {
      "cell_type": "code",
      "source": [
        "X = data\n",
        "y = data['domain1_score']"
      ],
      "metadata": {
        "id": "U_fTarTZ_n-j"
      },
      "execution_count": 71,
      "outputs": []
    },
    {
      "cell_type": "markdown",
      "source": [
        "Hyperparameters for word2vec\n"
      ],
      "metadata": {
        "id": "sS15Et6L_tqD"
      }
    },
    {
      "cell_type": "code",
      "source": [
        "params_word2vec= { \"num_features\": 400,\n",
        "           \"min_word_count\": 40,\n",
        "           \"num_workers\": 4,\n",
        "           \"context\": 10,\n",
        "           \"epochs\":30\n",
        "}"
      ],
      "metadata": {
        "id": "kKn7vET0_smV"
      },
      "execution_count": 72,
      "outputs": []
    },
    {
      "cell_type": "markdown",
      "source": [
        "Hyperpaprameters for LSTM"
      ],
      "metadata": {
        "id": "5Nnjis0N_xVL"
      }
    },
    {
      "cell_type": "code",
      "source": [
        "params_lstm = { \"Hidden_dim1\":300,\n",
        "\"Hidden_dim2\": 100,\n",
        "\"return_sequences\": True,\n",
        "\"dropout\":0.5,\n",
        "\"recurrent_dropout\":0.4,\n",
        "\"input_size\":400,\n",
        "\"activation\":'relu',\n",
        "\"bidirectional\":  True,\n",
        "\"batch_size\" : 64,\n",
        "\"epoch\": 70}"
      ],
      "metadata": {
        "id": "YZtw53RL_wiD"
      },
      "execution_count": 73,
      "outputs": []
    },
    {
      "cell_type": "markdown",
      "source": [
        "# **Neptune Logger**"
      ],
      "metadata": {
        "id": "zwpbNKDdw0jB"
      }
    },
    {
      "cell_type": "code",
      "source": [
        "run[\"parameters_lstm\"] = params_lstm\n",
        "run[\"parameters_word2vec\"] = params_word2vec\n",
        "neptune_callback = NeptuneMonitor()  \n",
        "#    neptune_callback = NeptuneMonitor(project=neptune_project, experiment=neptune_experiment)\n",
        "#    Add project name and experiment name for tracking\n",
        "\n",
        "class NeptuneLogger(keras.callbacks.Callback):\n",
        "    def on_epoch_end(self, epoch, logs=None):\n",
        "        for log_name, log_value in logs.items():\n",
        "            run['logs/{}'.format(log_name)].log(log_value)"
      ],
      "metadata": {
        "id": "n-hLjI77xOAv"
      },
      "execution_count": 77,
      "outputs": []
    },
    {
      "cell_type": "markdown",
      "metadata": {
        "id": "jagYU1h2I-kf"
      },
      "source": [
        "# **Model Training**"
      ]
    },
    {
      "cell_type": "code",
      "source": [
        "# es = EarlyStopping(monitor='val_loss', mode='min', verbose=1, patience=10)"
      ],
      "metadata": {
        "id": "b20zDuyPKPgJ"
      },
      "execution_count": 75,
      "outputs": []
    },
    {
      "cell_type": "code",
      "execution_count": 78,
      "metadata": {
        "colab": {
          "base_uri": "https://localhost:8080/"
        },
        "id": "8whCaYQbI9dH",
        "outputId": "65079855-d8f5-4939-eec5-1cd922aadebc"
      },
      "outputs": [
        {
          "output_type": "stream",
          "name": "stdout",
          "text": [
            "(12976, 28)\n",
            "(12976,)\n",
            "\n",
            "--------Fold 1--------\n",
            "\n",
            "Converting sentences to word2vec model\n"
          ]
        },
        {
          "output_type": "stream",
          "name": "stderr",
          "text": [
            "WARNING:gensim.models.keyedvectors:destructive init_sims(replace=True) deprecated & no longer required for space-efficiency\n"
          ]
        },
        {
          "output_type": "stream",
          "name": "stdout",
          "text": [
            "Model: \"sequential\"\n",
            "_________________________________________________________________\n",
            " Layer (type)                Output Shape              Param #   \n",
            "=================================================================\n",
            " bidirectional (Bidirectiona  (None, 1, 600)           1682400   \n",
            " l)                                                              \n",
            "                                                                 \n",
            " bidirectional_1 (Bidirectio  (None, 600)              2162400   \n",
            " nal)                                                            \n",
            "                                                                 \n",
            " dropout (Dropout)           (None, 600)               0         \n",
            "                                                                 \n",
            " dense (Dense)               (None, 1)                 601       \n",
            "                                                                 \n",
            "=================================================================\n",
            "Total params: 3,845,401\n",
            "Trainable params: 3,845,401\n",
            "Non-trainable params: 0\n",
            "_________________________________________________________________\n",
            "Epoch 1/70\n",
            "102/102 [==============================] - 27s 126ms/step - loss: 49.2514 - mae: 4.0559\n",
            "Epoch 2/70\n",
            "102/102 [==============================] - 16s 154ms/step - loss: 21.3456 - mae: 3.0874\n",
            "Epoch 3/70\n",
            "102/102 [==============================] - 15s 151ms/step - loss: 18.5586 - mae: 3.0001\n",
            "Epoch 4/70\n",
            "102/102 [==============================] - 16s 154ms/step - loss: 17.8152 - mae: 2.9325\n",
            "Epoch 5/70\n",
            "102/102 [==============================] - 13s 124ms/step - loss: 17.0780 - mae: 2.8780\n",
            "Epoch 6/70\n",
            "102/102 [==============================] - 15s 150ms/step - loss: 17.0194 - mae: 2.8347\n",
            "Epoch 7/70\n",
            "102/102 [==============================] - 16s 154ms/step - loss: 16.5584 - mae: 2.7585\n",
            "Epoch 8/70\n",
            "102/102 [==============================] - 13s 130ms/step - loss: 16.3248 - mae: 2.7320\n",
            "Epoch 9/70\n",
            "102/102 [==============================] - 14s 135ms/step - loss: 15.8399 - mae: 2.6609\n",
            "Epoch 10/70\n",
            "102/102 [==============================] - 15s 147ms/step - loss: 15.2831 - mae: 2.5994\n",
            "Epoch 11/70\n",
            "102/102 [==============================] - 14s 135ms/step - loss: 15.2288 - mae: 2.5331\n",
            "Epoch 12/70\n",
            "102/102 [==============================] - 13s 126ms/step - loss: 14.3945 - mae: 2.4573\n",
            "Epoch 13/70\n",
            "102/102 [==============================] - 15s 152ms/step - loss: 14.7374 - mae: 2.3970\n",
            "Epoch 14/70\n",
            "102/102 [==============================] - 14s 135ms/step - loss: 13.4666 - mae: 2.2044\n",
            "Epoch 15/70\n",
            "102/102 [==============================] - 13s 129ms/step - loss: 13.0135 - mae: 2.1219\n",
            "Epoch 16/70\n",
            "102/102 [==============================] - 16s 152ms/step - loss: 12.4474 - mae: 2.0572\n",
            "Epoch 17/70\n",
            "102/102 [==============================] - 15s 147ms/step - loss: 12.3316 - mae: 2.0509\n",
            "Epoch 18/70\n",
            "102/102 [==============================] - 12s 119ms/step - loss: 11.3371 - mae: 1.9839\n",
            "Epoch 19/70\n",
            "102/102 [==============================] - 15s 150ms/step - loss: 11.2365 - mae: 1.9793\n",
            "Epoch 20/70\n",
            "102/102 [==============================] - 16s 153ms/step - loss: 10.6421 - mae: 1.9220\n",
            "Epoch 21/70\n",
            "102/102 [==============================] - 12s 121ms/step - loss: 10.3381 - mae: 1.8933\n",
            "Epoch 22/70\n",
            "102/102 [==============================] - 14s 141ms/step - loss: 10.1425 - mae: 1.8329\n",
            "Epoch 23/70\n",
            "102/102 [==============================] - 16s 156ms/step - loss: 9.5944 - mae: 1.8031\n",
            "Epoch 24/70\n",
            "102/102 [==============================] - 13s 125ms/step - loss: 9.7707 - mae: 1.7829\n",
            "Epoch 25/70\n",
            "102/102 [==============================] - 14s 134ms/step - loss: 9.3694 - mae: 1.7457\n",
            "Epoch 26/70\n",
            "102/102 [==============================] - 15s 151ms/step - loss: 8.8762 - mae: 1.7220\n",
            "Epoch 27/70\n",
            "102/102 [==============================] - 14s 141ms/step - loss: 8.6874 - mae: 1.6949\n",
            "Epoch 28/70\n",
            "102/102 [==============================] - 14s 134ms/step - loss: 8.3260 - mae: 1.6521\n",
            "Epoch 29/70\n",
            "102/102 [==============================] - 16s 158ms/step - loss: 7.9959 - mae: 1.6041\n",
            "Epoch 30/70\n",
            "102/102 [==============================] - 16s 154ms/step - loss: 7.8024 - mae: 1.5957\n",
            "Epoch 31/70\n",
            "102/102 [==============================] - 13s 127ms/step - loss: 7.9226 - mae: 1.6080\n",
            "Epoch 32/70\n",
            "102/102 [==============================] - 14s 141ms/step - loss: 7.8232 - mae: 1.5898\n",
            "Epoch 33/70\n",
            "102/102 [==============================] - 16s 156ms/step - loss: 7.4689 - mae: 1.5580\n",
            "Epoch 34/70\n",
            "102/102 [==============================] - 13s 125ms/step - loss: 7.3178 - mae: 1.5422\n",
            "Epoch 35/70\n",
            "102/102 [==============================] - 14s 142ms/step - loss: 7.1997 - mae: 1.5321\n",
            "Epoch 36/70\n",
            "102/102 [==============================] - 16s 154ms/step - loss: 7.2154 - mae: 1.5179\n",
            "Epoch 37/70\n",
            "102/102 [==============================] - 14s 138ms/step - loss: 7.0960 - mae: 1.5086\n",
            "Epoch 38/70\n",
            "102/102 [==============================] - 13s 130ms/step - loss: 7.1494 - mae: 1.5269\n",
            "Epoch 39/70\n",
            "102/102 [==============================] - 16s 154ms/step - loss: 7.1393 - mae: 1.5102\n",
            "Epoch 40/70\n",
            "102/102 [==============================] - 15s 145ms/step - loss: 6.9214 - mae: 1.4981\n",
            "Epoch 41/70\n",
            "102/102 [==============================] - 12s 118ms/step - loss: 6.8078 - mae: 1.4758\n",
            "Epoch 42/70\n",
            "102/102 [==============================] - 15s 152ms/step - loss: 6.4503 - mae: 1.4698\n",
            "Epoch 43/70\n",
            "102/102 [==============================] - 15s 150ms/step - loss: 6.6870 - mae: 1.4635\n",
            "Epoch 44/70\n",
            "102/102 [==============================] - 12s 121ms/step - loss: 6.2672 - mae: 1.4335\n",
            "Epoch 45/70\n",
            "102/102 [==============================] - 15s 143ms/step - loss: 6.1206 - mae: 1.4290\n",
            "Epoch 46/70\n",
            "102/102 [==============================] - 16s 156ms/step - loss: 6.4088 - mae: 1.4351\n",
            "Epoch 47/70\n",
            "102/102 [==============================] - 12s 121ms/step - loss: 6.1405 - mae: 1.4267\n",
            "Epoch 48/70\n",
            "102/102 [==============================] - 14s 137ms/step - loss: 5.8530 - mae: 1.4204\n",
            "Epoch 49/70\n",
            "102/102 [==============================] - 16s 155ms/step - loss: 6.1239 - mae: 1.4063\n",
            "Epoch 50/70\n",
            "102/102 [==============================] - 14s 134ms/step - loss: 5.8731 - mae: 1.3966\n",
            "Epoch 51/70\n",
            "102/102 [==============================] - 13s 131ms/step - loss: 5.7982 - mae: 1.3919\n",
            "Epoch 52/70\n",
            "102/102 [==============================] - 15s 150ms/step - loss: 5.5894 - mae: 1.3829\n",
            "Epoch 53/70\n",
            "102/102 [==============================] - 14s 142ms/step - loss: 5.6044 - mae: 1.3683\n",
            "Epoch 54/70\n",
            "102/102 [==============================] - 13s 125ms/step - loss: 5.6047 - mae: 1.3701\n",
            "Epoch 55/70\n",
            "102/102 [==============================] - 16s 154ms/step - loss: 5.5816 - mae: 1.3551\n",
            "Epoch 56/70\n",
            "102/102 [==============================] - 15s 151ms/step - loss: 5.4946 - mae: 1.3655\n",
            "Epoch 57/70\n",
            "102/102 [==============================] - 12s 115ms/step - loss: 5.4061 - mae: 1.3575\n",
            "Epoch 58/70\n",
            "102/102 [==============================] - 16s 154ms/step - loss: 5.2488 - mae: 1.3525\n",
            "Epoch 59/70\n",
            "102/102 [==============================] - 16s 154ms/step - loss: 5.3117 - mae: 1.3331\n",
            "Epoch 60/70\n",
            "102/102 [==============================] - 12s 121ms/step - loss: 5.3240 - mae: 1.3333\n",
            "Epoch 61/70\n",
            "102/102 [==============================] - 15s 148ms/step - loss: 5.2341 - mae: 1.3481\n",
            "Epoch 62/70\n",
            "102/102 [==============================] - 16s 152ms/step - loss: 5.2078 - mae: 1.3250\n",
            "Epoch 63/70\n",
            "102/102 [==============================] - 13s 128ms/step - loss: 5.0586 - mae: 1.3164\n",
            "Epoch 64/70\n",
            "102/102 [==============================] - 14s 134ms/step - loss: 4.9201 - mae: 1.2995\n",
            "Epoch 65/70\n",
            "102/102 [==============================] - 15s 151ms/step - loss: 5.1022 - mae: 1.3201\n",
            "Epoch 66/70\n",
            "102/102 [==============================] - 14s 134ms/step - loss: 5.0520 - mae: 1.3197\n",
            "Epoch 67/70\n",
            "102/102 [==============================] - 14s 135ms/step - loss: 4.9635 - mae: 1.2963\n",
            "Epoch 68/70\n",
            "102/102 [==============================] - 16s 159ms/step - loss: 5.0755 - mae: 1.3136\n",
            "Epoch 69/70\n",
            "102/102 [==============================] - 15s 146ms/step - loss: 4.8563 - mae: 1.3038\n",
            "Epoch 70/70\n",
            "102/102 [==============================] - 12s 114ms/step - loss: 4.7606 - mae: 1.2893\n",
            "203/203 [==============================] - 5s 18ms/step\n",
            "Kappa Score: 0.9648620732528372\n",
            "\n",
            "--------Fold 2--------\n",
            "\n",
            "Converting sentences to word2vec model\n"
          ]
        },
        {
          "output_type": "stream",
          "name": "stderr",
          "text": [
            "WARNING:gensim.models.keyedvectors:destructive init_sims(replace=True) deprecated & no longer required for space-efficiency\n"
          ]
        },
        {
          "output_type": "stream",
          "name": "stdout",
          "text": [
            "Model: \"sequential_1\"\n",
            "_________________________________________________________________\n",
            " Layer (type)                Output Shape              Param #   \n",
            "=================================================================\n",
            " bidirectional_2 (Bidirectio  (None, 1, 600)           1682400   \n",
            " nal)                                                            \n",
            "                                                                 \n",
            " bidirectional_3 (Bidirectio  (None, 600)              2162400   \n",
            " nal)                                                            \n",
            "                                                                 \n",
            " dropout_1 (Dropout)         (None, 600)               0         \n",
            "                                                                 \n",
            " dense_1 (Dense)             (None, 1)                 601       \n",
            "                                                                 \n",
            "=================================================================\n",
            "Total params: 3,845,401\n",
            "Trainable params: 3,845,401\n",
            "Non-trainable params: 0\n",
            "_________________________________________________________________\n",
            "Epoch 1/70\n",
            "102/102 [==============================] - 26s 138ms/step - loss: 47.0973 - mae: 3.9346\n",
            "Epoch 2/70\n",
            "102/102 [==============================] - 15s 151ms/step - loss: 20.8172 - mae: 3.0560\n",
            "Epoch 3/70\n",
            "102/102 [==============================] - 13s 128ms/step - loss: 16.9250 - mae: 2.8714\n",
            "Epoch 4/70\n",
            "102/102 [==============================] - 14s 133ms/step - loss: 16.1969 - mae: 2.7888\n",
            "Epoch 5/70\n",
            "102/102 [==============================] - 16s 159ms/step - loss: 15.2564 - mae: 2.7220\n",
            "Epoch 6/70\n",
            "102/102 [==============================] - 14s 141ms/step - loss: 15.2577 - mae: 2.6822\n",
            "Epoch 7/70\n",
            "102/102 [==============================] - 13s 124ms/step - loss: 14.9618 - mae: 2.6284\n",
            "Epoch 8/70\n",
            "102/102 [==============================] - 16s 157ms/step - loss: 14.7067 - mae: 2.5731\n",
            "Epoch 9/70\n",
            "102/102 [==============================] - 16s 156ms/step - loss: 14.4974 - mae: 2.4997\n",
            "Epoch 10/70\n",
            "102/102 [==============================] - 13s 128ms/step - loss: 13.4379 - mae: 2.4003\n",
            "Epoch 11/70\n",
            "102/102 [==============================] - 15s 144ms/step - loss: 13.5545 - mae: 2.3355\n",
            "Epoch 12/70\n",
            "102/102 [==============================] - 15s 151ms/step - loss: 12.4199 - mae: 2.1614\n",
            "Epoch 13/70\n",
            "102/102 [==============================] - 14s 138ms/step - loss: 12.1758 - mae: 2.0698\n",
            "Epoch 14/70\n",
            "102/102 [==============================] - 14s 132ms/step - loss: 11.8229 - mae: 1.9968\n",
            "Epoch 15/70\n",
            "102/102 [==============================] - 16s 157ms/step - loss: 11.1971 - mae: 1.9273\n",
            "Epoch 16/70\n",
            "102/102 [==============================] - 15s 144ms/step - loss: 11.5566 - mae: 1.9532\n",
            "Epoch 17/70\n",
            "102/102 [==============================] - 13s 126ms/step - loss: 10.4802 - mae: 1.8884\n",
            "Epoch 18/70\n",
            "102/102 [==============================] - 15s 150ms/step - loss: 10.5203 - mae: 1.8609\n",
            "Epoch 19/70\n",
            "102/102 [==============================] - 15s 149ms/step - loss: 9.6357 - mae: 1.8200\n",
            "Epoch 20/70\n",
            "102/102 [==============================] - 12s 114ms/step - loss: 9.5516 - mae: 1.7639\n",
            "Epoch 21/70\n",
            "102/102 [==============================] - 15s 144ms/step - loss: 8.8504 - mae: 1.7060\n",
            "Epoch 22/70\n",
            "102/102 [==============================] - 16s 154ms/step - loss: 8.8349 - mae: 1.6995\n",
            "Epoch 23/70\n",
            "102/102 [==============================] - 13s 125ms/step - loss: 8.5343 - mae: 1.6530\n",
            "Epoch 24/70\n",
            "102/102 [==============================] - 14s 141ms/step - loss: 7.9797 - mae: 1.6156\n",
            "Epoch 25/70\n",
            "102/102 [==============================] - 15s 150ms/step - loss: 8.2878 - mae: 1.6194\n",
            "Epoch 26/70\n",
            "102/102 [==============================] - 14s 140ms/step - loss: 7.7155 - mae: 1.5739\n",
            "Epoch 27/70\n",
            "102/102 [==============================] - 13s 125ms/step - loss: 7.2754 - mae: 1.5445\n",
            "Epoch 28/70\n",
            "102/102 [==============================] - 16s 157ms/step - loss: 7.2791 - mae: 1.5215\n",
            "Epoch 29/70\n",
            "102/102 [==============================] - 15s 148ms/step - loss: 7.0252 - mae: 1.5138\n",
            "Epoch 30/70\n",
            "102/102 [==============================] - 13s 125ms/step - loss: 6.8249 - mae: 1.4905\n",
            "Epoch 31/70\n",
            "102/102 [==============================] - 15s 148ms/step - loss: 6.5361 - mae: 1.4716\n",
            "Epoch 32/70\n",
            "102/102 [==============================] - 16s 154ms/step - loss: 6.3720 - mae: 1.4521\n",
            "Epoch 33/70\n",
            "102/102 [==============================] - 13s 129ms/step - loss: 6.3304 - mae: 1.4580\n",
            "Epoch 34/70\n",
            "102/102 [==============================] - 14s 142ms/step - loss: 6.5107 - mae: 1.4614\n",
            "Epoch 35/70\n",
            "102/102 [==============================] - 16s 156ms/step - loss: 6.5278 - mae: 1.4521\n",
            "Epoch 36/70\n",
            "102/102 [==============================] - 14s 142ms/step - loss: 5.9045 - mae: 1.4057\n",
            "Epoch 37/70\n",
            "102/102 [==============================] - 14s 132ms/step - loss: 6.1498 - mae: 1.4284\n",
            "Epoch 38/70\n",
            "102/102 [==============================] - 16s 155ms/step - loss: 5.7391 - mae: 1.3856\n",
            "Epoch 39/70\n",
            "102/102 [==============================] - 16s 157ms/step - loss: 5.8739 - mae: 1.3998\n",
            "Epoch 40/70\n",
            "102/102 [==============================] - 13s 123ms/step - loss: 5.6519 - mae: 1.3828\n",
            "Epoch 41/70\n",
            "102/102 [==============================] - 15s 147ms/step - loss: 5.7147 - mae: 1.3958\n",
            "Epoch 42/70\n",
            "102/102 [==============================] - 16s 157ms/step - loss: 5.5827 - mae: 1.3719\n",
            "Epoch 43/70\n",
            "102/102 [==============================] - 14s 135ms/step - loss: 5.5467 - mae: 1.3663\n",
            "Epoch 44/70\n",
            "102/102 [==============================] - 14s 133ms/step - loss: 5.3220 - mae: 1.3487\n",
            "Epoch 45/70\n",
            "102/102 [==============================] - 15s 152ms/step - loss: 5.3958 - mae: 1.3480\n",
            "Epoch 46/70\n",
            "102/102 [==============================] - 15s 147ms/step - loss: 5.2768 - mae: 1.3494\n",
            "Epoch 47/70\n",
            "102/102 [==============================] - 13s 124ms/step - loss: 5.1718 - mae: 1.3280\n",
            "Epoch 48/70\n",
            "102/102 [==============================] - 15s 148ms/step - loss: 5.4162 - mae: 1.3453\n",
            "Epoch 49/70\n",
            "102/102 [==============================] - 16s 157ms/step - loss: 5.3462 - mae: 1.3453\n",
            "Epoch 50/70\n",
            "102/102 [==============================] - 12s 114ms/step - loss: 5.0681 - mae: 1.3120\n",
            "Epoch 51/70\n",
            "102/102 [==============================] - 15s 142ms/step - loss: 4.9252 - mae: 1.2963\n",
            "Epoch 52/70\n",
            "102/102 [==============================] - 16s 155ms/step - loss: 5.2991 - mae: 1.3286\n",
            "Epoch 53/70\n",
            "102/102 [==============================] - 14s 133ms/step - loss: 5.0439 - mae: 1.3189\n",
            "Epoch 54/70\n",
            "102/102 [==============================] - 14s 137ms/step - loss: 4.8270 - mae: 1.2787\n",
            "Epoch 55/70\n",
            "102/102 [==============================] - 16s 155ms/step - loss: 5.0487 - mae: 1.3042\n",
            "Epoch 56/70\n",
            "102/102 [==============================] - 14s 138ms/step - loss: 4.8833 - mae: 1.2886\n",
            "Epoch 57/70\n",
            "102/102 [==============================] - 12s 122ms/step - loss: 4.6420 - mae: 1.2831\n",
            "Epoch 58/70\n",
            "102/102 [==============================] - 16s 155ms/step - loss: 4.9218 - mae: 1.2894\n",
            "Epoch 59/70\n",
            "102/102 [==============================] - 16s 156ms/step - loss: 4.8069 - mae: 1.2764\n",
            "Epoch 60/70\n",
            "102/102 [==============================] - 12s 118ms/step - loss: 4.6950 - mae: 1.2896\n",
            "Epoch 61/70\n",
            "102/102 [==============================] - 15s 146ms/step - loss: 4.4440 - mae: 1.2530\n",
            "Epoch 62/70\n",
            "102/102 [==============================] - 16s 155ms/step - loss: 4.8143 - mae: 1.2646\n",
            "Epoch 63/70\n",
            "102/102 [==============================] - 13s 128ms/step - loss: 4.4779 - mae: 1.2509\n",
            "Epoch 64/70\n",
            "102/102 [==============================] - 14s 138ms/step - loss: 4.5238 - mae: 1.2526\n",
            "Epoch 65/70\n",
            "102/102 [==============================] - 16s 155ms/step - loss: 4.5335 - mae: 1.2550\n",
            "Epoch 66/70\n",
            "102/102 [==============================] - 15s 145ms/step - loss: 4.4695 - mae: 1.2566\n",
            "Epoch 67/70\n",
            "102/102 [==============================] - 13s 128ms/step - loss: 4.5317 - mae: 1.2468\n",
            "Epoch 68/70\n",
            "102/102 [==============================] - 16s 154ms/step - loss: 4.5103 - mae: 1.2605\n",
            "Epoch 69/70\n",
            "102/102 [==============================] - 16s 158ms/step - loss: 4.4240 - mae: 1.2506\n",
            "Epoch 70/70\n",
            "102/102 [==============================] - 12s 120ms/step - loss: 4.3801 - mae: 1.2390\n",
            "203/203 [==============================] - 7s 28ms/step\n",
            "Kappa Score: 0.9620524419106149\n",
            "Average kappa score value is : 0.9634572575817261\n"
          ]
        }
      ],
      "source": [
        "warnings.filterwarnings('ignore')\n",
        "\n",
        "tf.keras.backend.clear_session()\n",
        "cv = KFold(n_splits=2, shuffle=True)\n",
        "cv_data = cv.split(X)\n",
        "results = []\n",
        "fold_count = 1\n",
        "\n",
        "print(X.shape)\n",
        "print(y.shape)\n",
        "\n",
        "for traincv, testcv in cv_data:\n",
        "    print(\"\\n--------Fold {}--------\\n\".format(fold_count))\n",
        "    # get the train and test from the dataset.\n",
        "    X_train, X_test, y_train, y_test = X.iloc[traincv], X.iloc[testcv], y.iloc[traincv], y.iloc[testcv]\n",
        "    train_essays = X_train['essay']\n",
        "    test_essays = X_test['essay']\n",
        "    train_sentences = []\n",
        "    for essay in train_essays:\n",
        "        # get all the sentences from the essay\n",
        "        train_sentences.append(essay_to_wordlist(essay))\n",
        "\n",
        "    print(\"Converting sentences to word2vec model\")\n",
        "    model,_ = build_word2vec(train_sentences, params_word2vec['num_workers'], params_word2vec['num_features'], params_word2vec['min_word_count'], params_word2vec['context'], params_word2vec['epochs'])\n",
        "    top10 = collections.defaultdict(int)\n",
        "\n",
        "    trainDataVecs = np.array(getAvgFeatureVecs(train_sentences, model, params_word2vec['num_features']))\n",
        "    test_sentences = []\n",
        "    for essay_v in test_essays:\n",
        "        test_sentences.append(essay_to_wordlist(essay_v))\n",
        "\n",
        "    testDataVecs = np.array(getAvgFeatureVecs(test_sentences, model, params_word2vec['num_features']))\n",
        "    trainDataVectors = np.reshape(trainDataVecs, (trainDataVecs.shape[0], 1, trainDataVecs.shape[1]))\n",
        "    testDataVectors = np.reshape(testDataVecs, (testDataVecs.shape[0], 1, testDataVecs.shape[1]))\n",
        "    lstm_model = get_model(Hidden_dimension1=params_lstm['Hidden_dim1'], Hidden_dimension2=params_lstm['Hidden_dim2'], return_sequences=params_lstm['return_sequences'],\n",
        "                            dropout=params_lstm['dropout'], recurrent_dropout=params_lstm['recurrent_dropout'], input_size=params_lstm['input_size'],\n",
        "                            activation=params_lstm['activation'], bidirectional=True)\n",
        "    history = lstm_model.fit(trainDataVectors, y_train, batch_size=params_lstm['batch_size'], epochs=params_lstm['epoch'], callbacks= [NeptuneLogger()])\n",
        "    y_pred = lstm_model.predict(testDataVectors)\n",
        "    y_pred = np.around(y_pred)\n",
        "    np.nan_to_num(y_pred)\n",
        "    result = cohen_kappa_score(y_test.values, y_pred, weights='quadratic')\n",
        "    print(\"Kappa Score: {}\".format(result))\n",
        "    results.append(result)\n",
        "    fold_count += 1\n",
        "\n",
        "print(\"Average kappa score value is : {}\".format(np.mean(np.asarray(results))))"
      ]
    },
    {
      "cell_type": "code",
      "source": [
        "if 'mae' in lstm_model.metrics_names:\n",
        "    print(\"MAE metric is included in the model.\")\n",
        "else:\n",
        "    print(\"MAE metric is NOT included in the model.\")"
      ],
      "metadata": {
        "colab": {
          "base_uri": "https://localhost:8080/"
        },
        "id": "mX5-ebEOnu8r",
        "outputId": "9f7233c1-4474-44a9-be59-49807e9700b7"
      },
      "execution_count": 79,
      "outputs": [
        {
          "output_type": "stream",
          "name": "stdout",
          "text": [
            "MAE metric is included in the model.\n"
          ]
        }
      ]
    },
    {
      "cell_type": "code",
      "source": [
        "# neptune.log_metric('MAE', lstm_model.history.history['val_mae'][-1])\n",
        "# neptune.log_metric('Loss', lstm_model.history.history['val_loss'][-1])\n",
        "\n",
        "run['BiLSTM_train/mae'] = history.history['mae'][-1]\n",
        "run['BiLSTM_train/loss'] = history.history['loss'][-1]\n",
        "run['BiLSTM_train/cohen_kappa'] = result"
      ],
      "metadata": {
        "id": "KuafXR9TL9-j"
      },
      "execution_count": 80,
      "outputs": []
    },
    {
      "cell_type": "code",
      "source": [
        "#Saving Model\n",
        "import pickle\n",
        "with open('BiLstm_model.pkl', 'wb') as writer:\n",
        "    # Use pickle.dump() to save the trained model to the file object\n",
        "    pickle.dump(lstm_model, writer)\n",
        "# with open('word2vec_model.pkl','wb') as writer:\n",
        "#   pickle.dump(model,writer)"
      ],
      "metadata": {
        "id": "hW7KGAtoqiib"
      },
      "execution_count": 81,
      "outputs": []
    },
    {
      "cell_type": "markdown",
      "metadata": {
        "id": "ZvtLWcuFplxj"
      },
      "source": [
        "# **Testing Model**"
      ]
    },
    {
      "cell_type": "code",
      "execution_count": 82,
      "metadata": {
        "id": "YoMYiKaQrUMP"
      },
      "outputs": [],
      "source": [
        "df_test = pd.read_excel(\"Testing_Dataset.xlsx\")"
      ]
    },
    {
      "cell_type": "code",
      "execution_count": 83,
      "metadata": {
        "colab": {
          "base_uri": "https://localhost:8080/",
          "height": 337
        },
        "id": "wnQ0JE-nsF7j",
        "outputId": "99c14d61-bee4-44bf-8014-c3cf7355f85c"
      },
      "outputs": [
        {
          "output_type": "execute_result",
          "data": {
            "text/plain": [
              "   essay_id  essay_set                                              essay   \n",
              "0      1788          1  Dear @ORGANIZATION1, @CAPS1 more and more peop...  \\\n",
              "1      1789          1  Dear @LOCATION1 Time @CAPS1 me tell you what I...   \n",
              "2      1790          1  Dear Local newspaper, Have you been spending a...   \n",
              "3      1791          1  Dear Readers, @CAPS1 you imagine how life woul...   \n",
              "4      1792          1  Dear newspaper, I strongly believe that comput...   \n",
              "\n",
              "   predicted_score  grade                           essay_type  \n",
              "0                7      8  persuasive / narrative / expository  \n",
              "1                8      8  persuasive / narrative / expository  \n",
              "2                9      8  persuasive / narrative / expository  \n",
              "3                9      8  persuasive / narrative / expository  \n",
              "4                9      8  persuasive / narrative / expository  "
            ],
            "text/html": [
              "\n",
              "  <div id=\"df-cb451a6d-b6b0-48bd-82ee-bfde4f29f293\">\n",
              "    <div class=\"colab-df-container\">\n",
              "      <div>\n",
              "<style scoped>\n",
              "    .dataframe tbody tr th:only-of-type {\n",
              "        vertical-align: middle;\n",
              "    }\n",
              "\n",
              "    .dataframe tbody tr th {\n",
              "        vertical-align: top;\n",
              "    }\n",
              "\n",
              "    .dataframe thead th {\n",
              "        text-align: right;\n",
              "    }\n",
              "</style>\n",
              "<table border=\"1\" class=\"dataframe\">\n",
              "  <thead>\n",
              "    <tr style=\"text-align: right;\">\n",
              "      <th></th>\n",
              "      <th>essay_id</th>\n",
              "      <th>essay_set</th>\n",
              "      <th>essay</th>\n",
              "      <th>predicted_score</th>\n",
              "      <th>grade</th>\n",
              "      <th>essay_type</th>\n",
              "    </tr>\n",
              "  </thead>\n",
              "  <tbody>\n",
              "    <tr>\n",
              "      <th>0</th>\n",
              "      <td>1788</td>\n",
              "      <td>1</td>\n",
              "      <td>Dear @ORGANIZATION1, @CAPS1 more and more peop...</td>\n",
              "      <td>7</td>\n",
              "      <td>8</td>\n",
              "      <td>persuasive / narrative / expository</td>\n",
              "    </tr>\n",
              "    <tr>\n",
              "      <th>1</th>\n",
              "      <td>1789</td>\n",
              "      <td>1</td>\n",
              "      <td>Dear @LOCATION1 Time @CAPS1 me tell you what I...</td>\n",
              "      <td>8</td>\n",
              "      <td>8</td>\n",
              "      <td>persuasive / narrative / expository</td>\n",
              "    </tr>\n",
              "    <tr>\n",
              "      <th>2</th>\n",
              "      <td>1790</td>\n",
              "      <td>1</td>\n",
              "      <td>Dear Local newspaper, Have you been spending a...</td>\n",
              "      <td>9</td>\n",
              "      <td>8</td>\n",
              "      <td>persuasive / narrative / expository</td>\n",
              "    </tr>\n",
              "    <tr>\n",
              "      <th>3</th>\n",
              "      <td>1791</td>\n",
              "      <td>1</td>\n",
              "      <td>Dear Readers, @CAPS1 you imagine how life woul...</td>\n",
              "      <td>9</td>\n",
              "      <td>8</td>\n",
              "      <td>persuasive / narrative / expository</td>\n",
              "    </tr>\n",
              "    <tr>\n",
              "      <th>4</th>\n",
              "      <td>1792</td>\n",
              "      <td>1</td>\n",
              "      <td>Dear newspaper, I strongly believe that comput...</td>\n",
              "      <td>9</td>\n",
              "      <td>8</td>\n",
              "      <td>persuasive / narrative / expository</td>\n",
              "    </tr>\n",
              "  </tbody>\n",
              "</table>\n",
              "</div>\n",
              "      <button class=\"colab-df-convert\" onclick=\"convertToInteractive('df-cb451a6d-b6b0-48bd-82ee-bfde4f29f293')\"\n",
              "              title=\"Convert this dataframe to an interactive table.\"\n",
              "              style=\"display:none;\">\n",
              "        \n",
              "  <svg xmlns=\"http://www.w3.org/2000/svg\" height=\"24px\"viewBox=\"0 0 24 24\"\n",
              "       width=\"24px\">\n",
              "    <path d=\"M0 0h24v24H0V0z\" fill=\"none\"/>\n",
              "    <path d=\"M18.56 5.44l.94 2.06.94-2.06 2.06-.94-2.06-.94-.94-2.06-.94 2.06-2.06.94zm-11 1L8.5 8.5l.94-2.06 2.06-.94-2.06-.94L8.5 2.5l-.94 2.06-2.06.94zm10 10l.94 2.06.94-2.06 2.06-.94-2.06-.94-.94-2.06-.94 2.06-2.06.94z\"/><path d=\"M17.41 7.96l-1.37-1.37c-.4-.4-.92-.59-1.43-.59-.52 0-1.04.2-1.43.59L10.3 9.45l-7.72 7.72c-.78.78-.78 2.05 0 2.83L4 21.41c.39.39.9.59 1.41.59.51 0 1.02-.2 1.41-.59l7.78-7.78 2.81-2.81c.8-.78.8-2.07 0-2.86zM5.41 20L4 18.59l7.72-7.72 1.47 1.35L5.41 20z\"/>\n",
              "  </svg>\n",
              "      </button>\n",
              "      \n",
              "  <style>\n",
              "    .colab-df-container {\n",
              "      display:flex;\n",
              "      flex-wrap:wrap;\n",
              "      gap: 12px;\n",
              "    }\n",
              "\n",
              "    .colab-df-convert {\n",
              "      background-color: #E8F0FE;\n",
              "      border: none;\n",
              "      border-radius: 50%;\n",
              "      cursor: pointer;\n",
              "      display: none;\n",
              "      fill: #1967D2;\n",
              "      height: 32px;\n",
              "      padding: 0 0 0 0;\n",
              "      width: 32px;\n",
              "    }\n",
              "\n",
              "    .colab-df-convert:hover {\n",
              "      background-color: #E2EBFA;\n",
              "      box-shadow: 0px 1px 2px rgba(60, 64, 67, 0.3), 0px 1px 3px 1px rgba(60, 64, 67, 0.15);\n",
              "      fill: #174EA6;\n",
              "    }\n",
              "\n",
              "    [theme=dark] .colab-df-convert {\n",
              "      background-color: #3B4455;\n",
              "      fill: #D2E3FC;\n",
              "    }\n",
              "\n",
              "    [theme=dark] .colab-df-convert:hover {\n",
              "      background-color: #434B5C;\n",
              "      box-shadow: 0px 1px 3px 1px rgba(0, 0, 0, 0.15);\n",
              "      filter: drop-shadow(0px 1px 2px rgba(0, 0, 0, 0.3));\n",
              "      fill: #FFFFFF;\n",
              "    }\n",
              "  </style>\n",
              "\n",
              "      <script>\n",
              "        const buttonEl =\n",
              "          document.querySelector('#df-cb451a6d-b6b0-48bd-82ee-bfde4f29f293 button.colab-df-convert');\n",
              "        buttonEl.style.display =\n",
              "          google.colab.kernel.accessAllowed ? 'block' : 'none';\n",
              "\n",
              "        async function convertToInteractive(key) {\n",
              "          const element = document.querySelector('#df-cb451a6d-b6b0-48bd-82ee-bfde4f29f293');\n",
              "          const dataTable =\n",
              "            await google.colab.kernel.invokeFunction('convertToInteractive',\n",
              "                                                     [key], {});\n",
              "          if (!dataTable) return;\n",
              "\n",
              "          const docLinkHtml = 'Like what you see? Visit the ' +\n",
              "            '<a target=\"_blank\" href=https://colab.research.google.com/notebooks/data_table.ipynb>data table notebook</a>'\n",
              "            + ' to learn more about interactive tables.';\n",
              "          element.innerHTML = '';\n",
              "          dataTable['output_type'] = 'display_data';\n",
              "          await google.colab.output.renderOutput(dataTable, element);\n",
              "          const docLink = document.createElement('div');\n",
              "          docLink.innerHTML = docLinkHtml;\n",
              "          element.appendChild(docLink);\n",
              "        }\n",
              "      </script>\n",
              "    </div>\n",
              "  </div>\n",
              "  "
            ]
          },
          "metadata": {},
          "execution_count": 83
        }
      ],
      "source": [
        "df_test.head()"
      ]
    },
    {
      "cell_type": "code",
      "execution_count": 84,
      "metadata": {
        "colab": {
          "base_uri": "https://localhost:8080/"
        },
        "id": "bIf2v7WosD-7",
        "outputId": "0886ffc0-5386-418f-ad96-9a400171f3f2"
      },
      "outputs": [
        {
          "output_type": "stream",
          "name": "stdout",
          "text": [
            "132/132 [==============================] - 6s 42ms/step\n"
          ]
        }
      ],
      "source": [
        "test_essays = df_test['essay']\n",
        "y_test = df_test['predicted_score']\n",
        "test_essay_sentences = []\n",
        "for each_essay in test_essays:\n",
        "  test_essay_sentences.append(essay_to_wordlist(each_essay))\n",
        "\n",
        "test_features = np.array(getAvgFeatureVecs(test_essay_sentences, model, params_word2vec['num_features']))\n",
        "test_features = np.reshape(test_features, (test_features.shape[0], 1, test_features.shape[1]))\n",
        "y_predicted = lstm_model.predict(test_features)\n",
        "y_predicted = np.around(y_predicted)\n",
        "np.nan_to_num(y_predicted)\n",
        "y_predicted_df = pd.DataFrame(y_predicted)"
      ]
    },
    {
      "cell_type": "code",
      "source": [
        "test_loss, test_mae = lstm_model.evaluate(test_features, y_test)"
      ],
      "metadata": {
        "colab": {
          "base_uri": "https://localhost:8080/"
        },
        "id": "_twQM_Fot274",
        "outputId": "19189e2a-7b47-4ac2-b2bc-a36a3b7d1d44"
      },
      "execution_count": 85,
      "outputs": [
        {
          "output_type": "stream",
          "name": "stdout",
          "text": [
            "132/132 [==============================] - 6s 32ms/step - loss: 5.0407 - mae: 1.1790\n"
          ]
        }
      ]
    },
    {
      "cell_type": "code",
      "execution_count": 86,
      "metadata": {
        "colab": {
          "base_uri": "https://localhost:8080/"
        },
        "id": "gjNzo6zRtALS",
        "outputId": "b3ab5815-f4d4-4b67-b74a-bc2b806de4d2"
      },
      "outputs": [
        {
          "output_type": "stream",
          "name": "stdout",
          "text": [
            "Kappa Score: 0.9668976613975658\n"
          ]
        }
      ],
      "source": [
        "output_df = pd.DataFrame()\n",
        "output_df['y_test'] = df_test.predicted_score\n",
        "output_df[\"y_pred\"] = y_predicted_df\n",
        "result = cohen_kappa_score(df_test.predicted_score, y_predicted, weights='quadratic')\n",
        "print(\"Kappa Score: {}\".format(result))"
      ]
    },
    {
      "cell_type": "code",
      "source": [
        "run['test/loss'] = test_loss\n",
        "run['test/mae'] = test_mae\n",
        "run['test/cohen_kappa_score'] = result"
      ],
      "metadata": {
        "id": "8Yj-kkkDuX7k"
      },
      "execution_count": 87,
      "outputs": []
    },
    {
      "cell_type": "code",
      "execution_count": null,
      "metadata": {
        "id": "lgIqUEGb1QnP"
      },
      "outputs": [],
      "source": [
        "output_df['essay'] = df_test['essay']\n",
        "output_df"
      ]
    },
    {
      "cell_type": "code",
      "execution_count": null,
      "metadata": {
        "id": "wqUajzdZ1SAA"
      },
      "outputs": [],
      "source": [
        "output_df.to_csv('test_results.csv')"
      ]
    },
    {
      "cell_type": "markdown",
      "source": [
        "# **Query Testing**"
      ],
      "metadata": {
        "id": "3LNQsHt7d4oq"
      }
    },
    {
      "cell_type": "code",
      "source": [
        "import pickle\n",
        "num_features = 400\n",
        "\n",
        "def Load_Model():\n",
        "    lstm_model = pickle.load(open('/content/BiLstm_model.pkl', 'rb'))\n",
        "    word2vec_model = pickle.load(open('/content/word2vec_model.pkl', 'rb'))\n",
        "    return lstm_model, word2vec_model;\n",
        "\n",
        "def predict_score(query_essay):\n",
        "  lstm_model,word2vec_model = Load_Model()\n",
        "  query_essay_sentences = []\n",
        "  query_essay_sentences.append(essay_to_wordlist(query_essay))\n",
        "  query_data_Vecs = np.array(getAvgFeatureVecs(query_essay_sentences, word2vec_model, num_features))\n",
        "  query_data_Vectors = np.reshape(query_data_Vecs, (query_data_Vecs.shape[0], 1, query_data_Vecs.shape[1]))\n",
        "  y_predicted = lstm_model.predict(query_data_Vectors)\n",
        "  y_predicted = np.around(y_predicted)\n",
        "  np.nan_to_num(y_predicted)\n",
        "  return y_predicted[0][0]"
      ],
      "metadata": {
        "id": "Be2VJR46d7rm"
      },
      "execution_count": 90,
      "outputs": []
    },
    {
      "cell_type": "code",
      "source": [
        "essay = \"My name is sara\"\n",
        "predict_score(essay)"
      ],
      "metadata": {
        "colab": {
          "base_uri": "https://localhost:8080/"
        },
        "id": "Wj33qNLmw3zL",
        "outputId": "0c8be424-ea5e-433c-b7b7-d58699090ac9"
      },
      "execution_count": 91,
      "outputs": [
        {
          "output_type": "stream",
          "name": "stdout",
          "text": [
            "1/1 [==============================] - 2s 2s/step\n"
          ]
        },
        {
          "output_type": "execute_result",
          "data": {
            "text/plain": [
              "3.0"
            ]
          },
          "metadata": {},
          "execution_count": 91
        }
      ]
    }
  ],
  "metadata": {
    "colab": {
      "provenance": []
    },
    "kernelspec": {
      "display_name": "Python 3",
      "name": "python3"
    },
    "language_info": {
      "name": "python"
    }
  },
  "nbformat": 4,
  "nbformat_minor": 0
}