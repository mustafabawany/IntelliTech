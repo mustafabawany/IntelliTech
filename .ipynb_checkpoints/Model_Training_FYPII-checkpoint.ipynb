{
 "cells": [
  {
   "cell_type": "markdown",
   "metadata": {
    "id": "0SGsTWX1Sg5n"
   },
   "source": [
    "Rough Notes: 1-Combined Approach\n",
    "2- Ensemble of models\n",
    "3-Inter Intra Class Approach"
   ]
  },
  {
   "cell_type": "markdown",
   "metadata": {
    "id": "t1f-zzGbm9t4"
   },
   "source": [
    "ToDo:<br/>  1- Add TfIdf scores for prompt relevancy in dataset\n",
    "            2- Change Scaling to a better type\n",
    "            3- Log Model "
   ]
  },
  {
   "cell_type": "markdown",
   "metadata": {
    "id": "Kv46EDuSIeUL"
   },
   "source": [
    "Reverse Scaling: X = (X_norm * (max_val - min_val)) + min_val"
   ]
  },
  {
   "cell_type": "markdown",
   "metadata": {
    "id": "GuNp96kBbIJ4"
   },
   "source": [
    "**Training error NaN loss:**\n",
    "<br/>1. Increased Dropout,\n",
    "<br/>2. Decreased LR, Batchsize\n",
    "<br/>3. Removed NaN values\n",
    "<br/>4. clipvalue\n",
    "\n"
   ]
  },
  {
   "cell_type": "markdown",
   "metadata": {
    "id": "Rvwsev4BDu3n"
   },
   "source": [
    "# **Importing Packages**"
   ]
  },
  {
   "cell_type": "code",
   "execution_count": null,
   "metadata": {
    "colab": {
     "base_uri": "https://localhost:8080/"
    },
    "id": "98iC34QXGJW2",
    "outputId": "093b9d03-e18b-417e-a225-d2011d75bcb1"
   },
   "outputs": [
    {
     "name": "stdout",
     "output_type": "stream",
     "text": [
      "Collecting neptune\n",
      "  Using cached neptune-1.1.1-py3-none-any.whl (442 kB)\n",
      "Requirement already satisfied: oauthlib>=2.1.0 in c:\\users\\vstar com\\appdata\\local\\programs\\python\\python310\\lib\\site-packages (from neptune) (3.2.2)\n",
      "Requirement already satisfied: pandas in c:\\users\\vstar com\\appdata\\local\\programs\\python\\python310\\lib\\site-packages (from neptune) (1.4.3)\n",
      "Requirement already satisfied: requests>=2.20.0 in c:\\users\\vstar com\\appdata\\local\\programs\\python\\python310\\lib\\site-packages (from neptune) (2.28.1)\n",
      "Requirement already satisfied: boto3>=1.16.0 in c:\\users\\vstar com\\appdata\\local\\programs\\python\\python310\\lib\\site-packages (from neptune) (1.26.111)\n",
      "Requirement already satisfied: GitPython>=2.0.8 in c:\\users\\vstar com\\appdata\\local\\programs\\python\\python310\\lib\\site-packages (from neptune) (3.1.31)\n",
      "Requirement already satisfied: swagger-spec-validator>=2.7.4 in c:\\users\\vstar com\\appdata\\local\\programs\\python\\python310\\lib\\site-packages (from neptune) (3.0.3)\n",
      "Requirement already satisfied: requests-oauthlib>=1.0.0 in c:\\users\\vstar com\\appdata\\local\\programs\\python\\python310\\lib\\site-packages (from neptune) (1.3.1)\n",
      "Requirement already satisfied: urllib3 in c:\\users\\vstar com\\appdata\\local\\programs\\python\\python310\\lib\\site-packages (from neptune) (1.26.12)\n",
      "Requirement already satisfied: psutil in c:\\users\\vstar com\\appdata\\local\\programs\\python\\python310\\lib\\site-packages (from neptune) (5.9.1)\n",
      "Requirement already satisfied: PyJWT in c:\\users\\vstar com\\appdata\\local\\programs\\python\\python310\\lib\\site-packages (from neptune) (2.6.0)\n",
      "Requirement already satisfied: click>=7.0 in c:\\users\\vstar com\\appdata\\local\\programs\\python\\python310\\lib\\site-packages (from neptune) (8.1.3)\n",
      "Requirement already satisfied: future>=0.17.1 in c:\\users\\vstar com\\appdata\\local\\programs\\python\\python310\\lib\\site-packages (from neptune) (0.18.3)\n",
      "Requirement already satisfied: bravado<12.0.0,>=11.0.0 in c:\\users\\vstar com\\appdata\\local\\programs\\python\\python310\\lib\\site-packages (from neptune) (11.0.3)\n",
      "Requirement already satisfied: Pillow>=1.1.6 in c:\\users\\vstar com\\appdata\\local\\programs\\python\\python310\\lib\\site-packages (from neptune) (9.2.0)\n",
      "Requirement already satisfied: websocket-client!=1.0.0,>=0.35.0 in c:\\users\\vstar com\\appdata\\local\\programs\\python\\python310\\lib\\site-packages (from neptune) (1.5.1)\n",
      "Requirement already satisfied: six>=1.12.0 in c:\\users\\vstar com\\appdata\\local\\programs\\python\\python310\\lib\\site-packages (from neptune) (1.16.0)\n",
      "Requirement already satisfied: packaging in c:\\users\\vstar com\\appdata\\local\\programs\\python\\python310\\lib\\site-packages (from neptune) (21.3)\n",
      "Requirement already satisfied: jmespath<2.0.0,>=0.7.1 in c:\\users\\vstar com\\appdata\\local\\programs\\python\\python310\\lib\\site-packages (from boto3>=1.16.0->neptune) (1.0.1)\n",
      "Requirement already satisfied: botocore<1.30.0,>=1.29.111 in c:\\users\\vstar com\\appdata\\local\\programs\\python\\python310\\lib\\site-packages (from boto3>=1.16.0->neptune) (1.29.111)\n",
      "Requirement already satisfied: s3transfer<0.7.0,>=0.6.0 in c:\\users\\vstar com\\appdata\\local\\programs\\python\\python310\\lib\\site-packages (from boto3>=1.16.0->neptune) (0.6.0)\n",
      "Requirement already satisfied: bravado-core>=5.16.1 in c:\\users\\vstar com\\appdata\\local\\programs\\python\\python310\\lib\\site-packages (from bravado<12.0.0,>=11.0.0->neptune) (5.17.1)\n",
      "Requirement already satisfied: monotonic in c:\\users\\vstar com\\appdata\\local\\programs\\python\\python310\\lib\\site-packages (from bravado<12.0.0,>=11.0.0->neptune) (1.6)\n",
      "Requirement already satisfied: typing-extensions in c:\\users\\vstar com\\appdata\\local\\programs\\python\\python310\\lib\\site-packages (from bravado<12.0.0,>=11.0.0->neptune) (4.3.0)\n",
      "Requirement already satisfied: pyyaml in c:\\users\\vstar com\\appdata\\local\\programs\\python\\python310\\lib\\site-packages (from bravado<12.0.0,>=11.0.0->neptune) (6.0)\n",
      "Requirement already satisfied: msgpack in c:\\users\\vstar com\\appdata\\local\\programs\\python\\python310\\lib\\site-packages (from bravado<12.0.0,>=11.0.0->neptune) (1.0.5)\n",
      "Requirement already satisfied: python-dateutil in c:\\users\\vstar com\\appdata\\local\\programs\\python\\python310\\lib\\site-packages (from bravado<12.0.0,>=11.0.0->neptune) (2.8.2)\n",
      "Requirement already satisfied: simplejson in c:\\users\\vstar com\\appdata\\local\\programs\\python\\python310\\lib\\site-packages (from bravado<12.0.0,>=11.0.0->neptune) (3.19.1)\n",
      "Requirement already satisfied: colorama in c:\\users\\vstar com\\appdata\\local\\programs\\python\\python310\\lib\\site-packages (from click>=7.0->neptune) (0.4.5)\n",
      "Requirement already satisfied: gitdb<5,>=4.0.1 in c:\\users\\vstar com\\appdata\\local\\programs\\python\\python310\\lib\\site-packages (from GitPython>=2.0.8->neptune) (4.0.10)\n",
      "Requirement already satisfied: idna<4,>=2.5 in c:\\users\\vstar com\\appdata\\local\\programs\\python\\python310\\lib\\site-packages (from requests>=2.20.0->neptune) (3.3)\n",
      "Requirement already satisfied: charset-normalizer<3,>=2 in c:\\users\\vstar com\\appdata\\local\\programs\\python\\python310\\lib\\site-packages (from requests>=2.20.0->neptune) (2.1.1)\n",
      "Requirement already satisfied: certifi>=2017.4.17 in c:\\users\\vstar com\\appdata\\local\\programs\\python\\python310\\lib\\site-packages (from requests>=2.20.0->neptune) (2022.6.15.1)\n",
      "Requirement already satisfied: jsonschema in c:\\users\\vstar com\\appdata\\local\\programs\\python\\python310\\lib\\site-packages (from swagger-spec-validator>=2.7.4->neptune) (4.9.1)\n",
      "Requirement already satisfied: pyparsing!=3.0.5,>=2.0.2 in c:\\users\\vstar com\\appdata\\local\\programs\\python\\python310\\lib\\site-packages (from packaging->neptune) (3.0.9)\n",
      "Requirement already satisfied: numpy>=1.21.0 in c:\\users\\vstar com\\appdata\\local\\programs\\python\\python310\\lib\\site-packages (from pandas->neptune) (1.23.1)\n",
      "Requirement already satisfied: pytz>=2020.1 in c:\\users\\vstar com\\appdata\\local\\programs\\python\\python310\\lib\\site-packages (from pandas->neptune) (2022.2)\n",
      "Requirement already satisfied: jsonref in c:\\users\\vstar com\\appdata\\local\\programs\\python\\python310\\lib\\site-packages (from bravado-core>=5.16.1->bravado<12.0.0,>=11.0.0->neptune) (1.1.0)\n",
      "Requirement already satisfied: smmap<6,>=3.0.1 in c:\\users\\vstar com\\appdata\\local\\programs\\python\\python310\\lib\\site-packages (from gitdb<5,>=4.0.1->GitPython>=2.0.8->neptune) (5.0.0)\n",
      "Requirement already satisfied: pyrsistent!=0.17.0,!=0.17.1,!=0.17.2,>=0.14.0 in c:\\users\\vstar com\\appdata\\local\\programs\\python\\python310\\lib\\site-packages (from jsonschema->swagger-spec-validator>=2.7.4->neptune) (0.18.1)\n",
      "Requirement already satisfied: attrs>=17.4.0 in c:\\users\\vstar com\\appdata\\local\\programs\\python\\python310\\lib\\site-packages (from jsonschema->swagger-spec-validator>=2.7.4->neptune) (22.1.0)\n",
      "Requirement already satisfied: rfc3339-validator in c:\\users\\vstar com\\appdata\\local\\programs\\python\\python310\\lib\\site-packages (from jsonschema->swagger-spec-validator>=2.7.4->neptune) (0.1.4)\n",
      "Requirement already satisfied: webcolors>=1.11 in c:\\users\\vstar com\\appdata\\local\\programs\\python\\python310\\lib\\site-packages (from jsonschema->swagger-spec-validator>=2.7.4->neptune) (1.13)\n",
      "Requirement already satisfied: fqdn in c:\\users\\vstar com\\appdata\\local\\programs\\python\\python310\\lib\\site-packages (from jsonschema->swagger-spec-validator>=2.7.4->neptune) (1.5.1)\n",
      "Requirement already satisfied: jsonpointer>1.13 in c:\\users\\vstar com\\appdata\\local\\programs\\python\\python310\\lib\\site-packages (from jsonschema->swagger-spec-validator>=2.7.4->neptune) (2.3)\n",
      "Requirement already satisfied: uri-template in c:\\users\\vstar com\\appdata\\local\\programs\\python\\python310\\lib\\site-packages (from jsonschema->swagger-spec-validator>=2.7.4->neptune) (1.2.0)\n",
      "Requirement already satisfied: rfc3987 in c:\\users\\vstar com\\appdata\\local\\programs\\python\\python310\\lib\\site-packages (from jsonschema->swagger-spec-validator>=2.7.4->neptune) (1.3.8)\n",
      "Requirement already satisfied: isoduration in c:\\users\\vstar com\\appdata\\local\\programs\\python\\python310\\lib\\site-packages (from jsonschema->swagger-spec-validator>=2.7.4->neptune) (20.11.0)\n",
      "Requirement already satisfied: arrow>=0.15.0 in c:\\users\\vstar com\\appdata\\local\\programs\\python\\python310\\lib\\site-packages (from isoduration->jsonschema->swagger-spec-validator>=2.7.4->neptune) (1.2.3)\n",
      "Installing collected packages: neptune\n",
      "Successfully installed neptune-1.1.1\n"
     ]
    },
    {
     "name": "stderr",
     "output_type": "stream",
     "text": [
      "\n",
      "[notice] A new release of pip available: 22.3.1 -> 23.1.2\n",
      "[notice] To update, run: python.exe -m pip install --upgrade pip\n"
     ]
    },
    {
     "name": "stdout",
     "output_type": "stream",
     "text": [
      "Collecting neptune-contrib\n",
      "  Downloading neptune-contrib-0.28.1.tar.gz (74 kB)\n",
      "     ---------------------------------------- 74.2/74.2 kB 1.4 MB/s eta 0:00:00\n",
      "  Preparing metadata (setup.py): started\n",
      "  Preparing metadata (setup.py): finished with status 'done'\n",
      "Collecting attrdict>=2.0.0\n",
      "  Downloading attrdict-2.0.1-py2.py3-none-any.whl (9.9 kB)\n",
      "Collecting neptune-client>=0.4.126\n",
      "  Downloading neptune_client-1.1.1-py3-none-any.whl (442 kB)\n",
      "     -------------------------------------- 442.6/442.6 kB 1.5 MB/s eta 0:00:00\n",
      "Requirement already satisfied: joblib>=0.13 in c:\\users\\vstar com\\appdata\\local\\programs\\python\\python310\\lib\\site-packages (from neptune-contrib) (1.1.0)\n",
      "Requirement already satisfied: pandas in c:\\users\\vstar com\\appdata\\local\\programs\\python\\python310\\lib\\site-packages (from neptune-contrib) (1.4.3)\n",
      "Requirement already satisfied: matplotlib in c:\\users\\vstar com\\appdata\\local\\programs\\python\\python310\\lib\\site-packages (from neptune-contrib) (3.5.3)\n",
      "Requirement already satisfied: Pillow>=6.2.0 in c:\\users\\vstar com\\appdata\\local\\programs\\python\\python310\\lib\\site-packages (from neptune-contrib) (9.2.0)\n",
      "Requirement already satisfied: six in c:\\users\\vstar com\\appdata\\local\\programs\\python\\python310\\lib\\site-packages (from attrdict>=2.0.0->neptune-contrib) (1.16.0)\n",
      "Requirement already satisfied: click>=7.0 in c:\\users\\vstar com\\appdata\\local\\programs\\python\\python310\\lib\\site-packages (from neptune-client>=0.4.126->neptune-contrib) (8.1.3)\n",
      "Requirement already satisfied: GitPython>=2.0.8 in c:\\users\\vstar com\\appdata\\local\\programs\\python\\python310\\lib\\site-packages (from neptune-client>=0.4.126->neptune-contrib) (3.1.31)\n",
      "Requirement already satisfied: oauthlib>=2.1.0 in c:\\users\\vstar com\\appdata\\local\\programs\\python\\python310\\lib\\site-packages (from neptune-client>=0.4.126->neptune-contrib) (3.2.2)\n",
      "Requirement already satisfied: PyJWT in c:\\users\\vstar com\\appdata\\local\\programs\\python\\python310\\lib\\site-packages (from neptune-client>=0.4.126->neptune-contrib) (2.6.0)\n",
      "Requirement already satisfied: bravado<12.0.0,>=11.0.0 in c:\\users\\vstar com\\appdata\\local\\programs\\python\\python310\\lib\\site-packages (from neptune-client>=0.4.126->neptune-contrib) (11.0.3)\n",
      "Requirement already satisfied: packaging in c:\\users\\vstar com\\appdata\\local\\programs\\python\\python310\\lib\\site-packages (from neptune-client>=0.4.126->neptune-contrib) (21.3)\n",
      "Requirement already satisfied: boto3>=1.16.0 in c:\\users\\vstar com\\appdata\\local\\programs\\python\\python310\\lib\\site-packages (from neptune-client>=0.4.126->neptune-contrib) (1.26.111)\n",
      "Requirement already satisfied: urllib3 in c:\\users\\vstar com\\appdata\\local\\programs\\python\\python310\\lib\\site-packages (from neptune-client>=0.4.126->neptune-contrib) (1.26.12)\n",
      "Requirement already satisfied: future>=0.17.1 in c:\\users\\vstar com\\appdata\\local\\programs\\python\\python310\\lib\\site-packages (from neptune-client>=0.4.126->neptune-contrib) (0.18.3)\n",
      "Requirement already satisfied: requests-oauthlib>=1.0.0 in c:\\users\\vstar com\\appdata\\local\\programs\\python\\python310\\lib\\site-packages (from neptune-client>=0.4.126->neptune-contrib) (1.3.1)\n",
      "Requirement already satisfied: psutil in c:\\users\\vstar com\\appdata\\local\\programs\\python\\python310\\lib\\site-packages (from neptune-client>=0.4.126->neptune-contrib) (5.9.1)\n",
      "Requirement already satisfied: requests>=2.20.0 in c:\\users\\vstar com\\appdata\\local\\programs\\python\\python310\\lib\\site-packages (from neptune-client>=0.4.126->neptune-contrib) (2.28.1)\n",
      "Requirement already satisfied: swagger-spec-validator>=2.7.4 in c:\\users\\vstar com\\appdata\\local\\programs\\python\\python310\\lib\\site-packages (from neptune-client>=0.4.126->neptune-contrib) (3.0.3)\n",
      "Requirement already satisfied: websocket-client!=1.0.0,>=0.35.0 in c:\\users\\vstar com\\appdata\\local\\programs\\python\\python310\\lib\\site-packages (from neptune-client>=0.4.126->neptune-contrib) (1.5.1)\n",
      "Requirement already satisfied: kiwisolver>=1.0.1 in c:\\users\\vstar com\\appdata\\local\\programs\\python\\python310\\lib\\site-packages (from matplotlib->neptune-contrib) (1.4.4)\n",
      "Requirement already satisfied: python-dateutil>=2.7 in c:\\users\\vstar com\\appdata\\local\\programs\\python\\python310\\lib\\site-packages (from matplotlib->neptune-contrib) (2.8.2)\n",
      "Requirement already satisfied: cycler>=0.10 in c:\\users\\vstar com\\appdata\\local\\programs\\python\\python310\\lib\\site-packages (from matplotlib->neptune-contrib) (0.11.0)\n",
      "Requirement already satisfied: pyparsing>=2.2.1 in c:\\users\\vstar com\\appdata\\local\\programs\\python\\python310\\lib\\site-packages (from matplotlib->neptune-contrib) (3.0.9)\n",
      "Requirement already satisfied: fonttools>=4.22.0 in c:\\users\\vstar com\\appdata\\local\\programs\\python\\python310\\lib\\site-packages (from matplotlib->neptune-contrib) (4.34.4)\n",
      "Requirement already satisfied: numpy>=1.17 in c:\\users\\vstar com\\appdata\\local\\programs\\python\\python310\\lib\\site-packages (from matplotlib->neptune-contrib) (1.23.1)\n",
      "Requirement already satisfied: pytz>=2020.1 in c:\\users\\vstar com\\appdata\\local\\programs\\python\\python310\\lib\\site-packages (from pandas->neptune-contrib) (2022.2)\n",
      "Requirement already satisfied: jmespath<2.0.0,>=0.7.1 in c:\\users\\vstar com\\appdata\\local\\programs\\python\\python310\\lib\\site-packages (from boto3>=1.16.0->neptune-client>=0.4.126->neptune-contrib) (1.0.1)\n",
      "Requirement already satisfied: botocore<1.30.0,>=1.29.111 in c:\\users\\vstar com\\appdata\\local\\programs\\python\\python310\\lib\\site-packages (from boto3>=1.16.0->neptune-client>=0.4.126->neptune-contrib) (1.29.111)\n",
      "Requirement already satisfied: s3transfer<0.7.0,>=0.6.0 in c:\\users\\vstar com\\appdata\\local\\programs\\python\\python310\\lib\\site-packages (from boto3>=1.16.0->neptune-client>=0.4.126->neptune-contrib) (0.6.0)\n",
      "Requirement already satisfied: typing-extensions in c:\\users\\vstar com\\appdata\\local\\programs\\python\\python310\\lib\\site-packages (from bravado<12.0.0,>=11.0.0->neptune-client>=0.4.126->neptune-contrib) (4.3.0)\n",
      "Requirement already satisfied: monotonic in c:\\users\\vstar com\\appdata\\local\\programs\\python\\python310\\lib\\site-packages (from bravado<12.0.0,>=11.0.0->neptune-client>=0.4.126->neptune-contrib) (1.6)\n",
      "Requirement already satisfied: pyyaml in c:\\users\\vstar com\\appdata\\local\\programs\\python\\python310\\lib\\site-packages (from bravado<12.0.0,>=11.0.0->neptune-client>=0.4.126->neptune-contrib) (6.0)\n",
      "Requirement already satisfied: simplejson in c:\\users\\vstar com\\appdata\\local\\programs\\python\\python310\\lib\\site-packages (from bravado<12.0.0,>=11.0.0->neptune-client>=0.4.126->neptune-contrib) (3.19.1)\n",
      "Requirement already satisfied: msgpack in c:\\users\\vstar com\\appdata\\local\\programs\\python\\python310\\lib\\site-packages (from bravado<12.0.0,>=11.0.0->neptune-client>=0.4.126->neptune-contrib) (1.0.5)\n",
      "Requirement already satisfied: bravado-core>=5.16.1 in c:\\users\\vstar com\\appdata\\local\\programs\\python\\python310\\lib\\site-packages (from bravado<12.0.0,>=11.0.0->neptune-client>=0.4.126->neptune-contrib) (5.17.1)\n",
      "Requirement already satisfied: colorama in c:\\users\\vstar com\\appdata\\local\\programs\\python\\python310\\lib\\site-packages (from click>=7.0->neptune-client>=0.4.126->neptune-contrib) (0.4.5)\n",
      "Requirement already satisfied: gitdb<5,>=4.0.1 in c:\\users\\vstar com\\appdata\\local\\programs\\python\\python310\\lib\\site-packages (from GitPython>=2.0.8->neptune-client>=0.4.126->neptune-contrib) (4.0.10)\n",
      "Requirement already satisfied: idna<4,>=2.5 in c:\\users\\vstar com\\appdata\\local\\programs\\python\\python310\\lib\\site-packages (from requests>=2.20.0->neptune-client>=0.4.126->neptune-contrib) (3.3)\n",
      "Requirement already satisfied: charset-normalizer<3,>=2 in c:\\users\\vstar com\\appdata\\local\\programs\\python\\python310\\lib\\site-packages (from requests>=2.20.0->neptune-client>=0.4.126->neptune-contrib) (2.1.1)\n",
      "Requirement already satisfied: certifi>=2017.4.17 in c:\\users\\vstar com\\appdata\\local\\programs\\python\\python310\\lib\\site-packages (from requests>=2.20.0->neptune-client>=0.4.126->neptune-contrib) (2022.6.15.1)\n",
      "Requirement already satisfied: jsonschema in c:\\users\\vstar com\\appdata\\local\\programs\\python\\python310\\lib\\site-packages (from swagger-spec-validator>=2.7.4->neptune-client>=0.4.126->neptune-contrib) (4.9.1)\n",
      "Requirement already satisfied: jsonref in c:\\users\\vstar com\\appdata\\local\\programs\\python\\python310\\lib\\site-packages (from bravado-core>=5.16.1->bravado<12.0.0,>=11.0.0->neptune-client>=0.4.126->neptune-contrib) (1.1.0)\n",
      "Requirement already satisfied: smmap<6,>=3.0.1 in c:\\users\\vstar com\\appdata\\local\\programs\\python\\python310\\lib\\site-packages (from gitdb<5,>=4.0.1->GitPython>=2.0.8->neptune-client>=0.4.126->neptune-contrib) (5.0.0)\n",
      "Requirement already satisfied: attrs>=17.4.0 in c:\\users\\vstar com\\appdata\\local\\programs\\python\\python310\\lib\\site-packages (from jsonschema->swagger-spec-validator>=2.7.4->neptune-client>=0.4.126->neptune-contrib) (22.1.0)\n",
      "Requirement already satisfied: pyrsistent!=0.17.0,!=0.17.1,!=0.17.2,>=0.14.0 in c:\\users\\vstar com\\appdata\\local\\programs\\python\\python310\\lib\\site-packages (from jsonschema->swagger-spec-validator>=2.7.4->neptune-client>=0.4.126->neptune-contrib) (0.18.1)\n",
      "Requirement already satisfied: rfc3987 in c:\\users\\vstar com\\appdata\\local\\programs\\python\\python310\\lib\\site-packages (from jsonschema->swagger-spec-validator>=2.7.4->neptune-client>=0.4.126->neptune-contrib) (1.3.8)\n",
      "Requirement already satisfied: isoduration in c:\\users\\vstar com\\appdata\\local\\programs\\python\\python310\\lib\\site-packages (from jsonschema->swagger-spec-validator>=2.7.4->neptune-client>=0.4.126->neptune-contrib) (20.11.0)\n",
      "Requirement already satisfied: uri-template in c:\\users\\vstar com\\appdata\\local\\programs\\python\\python310\\lib\\site-packages (from jsonschema->swagger-spec-validator>=2.7.4->neptune-client>=0.4.126->neptune-contrib) (1.2.0)\n",
      "Requirement already satisfied: webcolors>=1.11 in c:\\users\\vstar com\\appdata\\local\\programs\\python\\python310\\lib\\site-packages (from jsonschema->swagger-spec-validator>=2.7.4->neptune-client>=0.4.126->neptune-contrib) (1.13)\n",
      "Requirement already satisfied: fqdn in c:\\users\\vstar com\\appdata\\local\\programs\\python\\python310\\lib\\site-packages (from jsonschema->swagger-spec-validator>=2.7.4->neptune-client>=0.4.126->neptune-contrib) (1.5.1)\n",
      "Requirement already satisfied: rfc3339-validator in c:\\users\\vstar com\\appdata\\local\\programs\\python\\python310\\lib\\site-packages (from jsonschema->swagger-spec-validator>=2.7.4->neptune-client>=0.4.126->neptune-contrib) (0.1.4)\n",
      "Requirement already satisfied: jsonpointer>1.13 in c:\\users\\vstar com\\appdata\\local\\programs\\python\\python310\\lib\\site-packages (from jsonschema->swagger-spec-validator>=2.7.4->neptune-client>=0.4.126->neptune-contrib) (2.3)\n",
      "Requirement already satisfied: arrow>=0.15.0 in c:\\users\\vstar com\\appdata\\local\\programs\\python\\python310\\lib\\site-packages (from isoduration->jsonschema->swagger-spec-validator>=2.7.4->neptune-client>=0.4.126->neptune-contrib) (1.2.3)\n",
      "Installing collected packages: attrdict, neptune-client, neptune-contrib\n",
      "  Running setup.py install for neptune-contrib: started\n",
      "  Running setup.py install for neptune-contrib: finished with status 'done'\n",
      "Successfully installed attrdict-2.0.1 neptune-client-1.1.1 neptune-contrib-0.28.1\n"
     ]
    },
    {
     "name": "stderr",
     "output_type": "stream",
     "text": [
      "  DEPRECATION: neptune-contrib is being installed using the legacy 'setup.py install' method, because it does not have a 'pyproject.toml' and the 'wheel' package is not installed. pip 23.1 will enforce this behaviour change. A possible replacement is to enable the '--use-pep517' option. Discussion can be found at https://github.com/pypa/pip/issues/8559\n",
      "\n",
      "[notice] A new release of pip available: 22.3.1 -> 23.1.2\n",
      "[notice] To update, run: python.exe -m pip install --upgrade pip\n",
      "ERROR: Could not find a version that satisfies the requirement genism (from versions: none)\n",
      "ERROR: No matching distribution found for genism\n",
      "\n",
      "[notice] A new release of pip available: 22.3.1 -> 23.1.2\n",
      "[notice] To update, run: python.exe -m pip install --upgrade pip\n"
     ]
    }
   ],
   "source": [
    "!pip install neptune\n",
    "!pip install neptune-contrib\n",
    "!pip install genism\n",
    "!pip install tensorflow"
   ]
  },
  {
   "cell_type": "code",
   "execution_count": null,
   "metadata": {
    "id": "7jZwjcsWDnp2"
   },
   "outputs": [],
   "source": [
    "import numpy as np\n",
    "import pandas as pd\n",
    "import matplotlib.pyplot as ply\n",
    "from scipy.stats import zscore\n",
    "from sklearn.preprocessing import MinMaxScaler\n",
    "from sklearn.preprocessing import OrdinalEncoder\n",
    "import nltk\n",
    "import gensim.downloader as api\n",
    "from nltk.tokenize import word_tokenize, sent_tokenize\n",
    "from sklearn.model_selection import train_test_split\n",
    "\n",
    "import tensorflow as tf\n",
    "from tensorflow import keras\n",
    "from tensorflow.keras import layers\n",
    "from tensorflow.keras.preprocessing.sequence import pad_sequences\n",
    "from tensorflow.keras.preprocessing.text import Tokenizer\n",
    "from tensorflow.keras.losses import mean_squared_error\n",
    "from tensorflow.keras.models import Sequential\n",
    "from tensorflow.keras.layers import SimpleRNN, Dense, Embedding,Masking,LSTM, GRU, Conv1D, Dropout, Input\n",
    "from tensorflow.keras.optimizers import Adam\n",
    "from tensorflow.keras.layers import concatenate\n",
    "\n",
    "from keras.preprocessing import sequence\n",
    "from keras.models import Sequential\n",
    "from keras.layers import Dense, Dropout, Embedding, SimpleRNN\n",
    "from keras.callbacks import ModelCheckpoint, EarlyStopping\n",
    "\n",
    "import neptune\n",
    "from neptunecontrib.monitoring.keras import NeptuneMonitor"
   ]
  },
  {
   "cell_type": "markdown",
   "metadata": {
    "id": "InZ1mLdDcpw9"
   },
   "source": [
    "# **Neptune AI**"
   ]
  },
  {
   "cell_type": "code",
   "execution_count": 7,
   "metadata": {
    "colab": {
     "base_uri": "https://localhost:8080/"
    },
    "id": "bPAwvFHUcpEc",
    "outputId": "1ca9a6b4-1e94-4e68-b85e-ec3d143b4124"
   },
   "outputs": [
    {
     "name": "stdout",
     "output_type": "stream",
     "text": [
      "https://new-ui.neptune.ai/sarasameer991/Intellitech/e/IN-10\n"
     ]
    }
   ],
   "source": [
    "run = neptune.init_run(\n",
    "    project=\"sarasameer991/Intellitech\",\n",
    "    api_token=\"eyJhcGlfYWRkcmVzcyI6Imh0dHBzOi8vbmV3LXVpLm5lcHR1bmUuYWkiLCJhcGlfdXJsIjoiaHR0cHM6Ly9uZXctdWkubmVwdHVuZS5haSIsImFwaV9rZXkiOiJjMTI0MGRkMy1kNWUwLTQ1ZWYtYTYzZS1hMDg5NzY2OGZmN2QifQ==\"\n",
    ")  # your credentials\n"
   ]
  },
  {
   "cell_type": "markdown",
   "metadata": {
    "id": "MEeJW8ffGVER"
   },
   "source": [
    "# **Dataset Preparation**"
   ]
  },
  {
   "cell_type": "code",
   "execution_count": 8,
   "metadata": {
    "colab": {
     "base_uri": "https://localhost:8080/"
    },
    "id": "9_DM_p6nGTLn",
    "outputId": "0bef8105-3dee-4db9-b546-1f60c815403c"
   },
   "outputs": [
    {
     "name": "stdout",
     "output_type": "stream",
     "text": [
      "Mounted at /content/drive\n"
     ]
    }
   ],
   "source": [
    "from google.colab import drive\n",
    "drive.mount('/content/drive')\n",
    "df_train01 = pd.read_csv(\"/content/drive/My Drive/IntelliTech-DataSet/Features/EssaySet01_Features.csv\", index_col =0)\n",
    "df_train02 = pd.read_csv(\"/content/drive/My Drive/IntelliTech-DataSet/Features/EssaySet02_Features.csv\", index_col =0)\n",
    "df_train03 = pd.read_csv(\"/content/drive/My Drive/IntelliTech-DataSet/Features/EssaySet03_Features.csv\", index_col =0)\n",
    "df_train04 = pd.read_csv(\"/content/drive/My Drive/IntelliTech-DataSet/Features/EssaySet04_Features.csv\", index_col =0)\n",
    "df_train05 = pd.read_csv(\"/content/drive/My Drive/IntelliTech-DataSet/Features/EssaySet05_Features.csv\", index_col =0)\n",
    "df_train06 = pd.read_csv(\"/content/drive/My Drive/IntelliTech-DataSet/Features/EssaySet06_Features.csv\", index_col =0)\n",
    "df_train07 = pd.read_csv(\"/content/drive/My Drive/IntelliTech-DataSet/Features/EssaySet07_Features.csv\", index_col =0)\n",
    "df_train08 = pd.read_csv(\"/content/drive/My Drive/IntelliTech-DataSet/Features/EssaySet08_Features.csv\", index_col =0)"
   ]
  },
  {
   "cell_type": "code",
   "execution_count": 9,
   "metadata": {
    "id": "DVhSCld-OivX"
   },
   "outputs": [],
   "source": [
    "dfs = []\n",
    "for i in range(1, 9):\n",
    "    df = pd.read_csv(f'/content/drive/My Drive/IntelliTech-DataSet/Features/EssaySet0{i}_Features.csv')  # assuming the dataframes are stored as CSV files\n",
    "    scores_2d = [[score] for score in df['Total Score']]\n",
    "    scaler = MinMaxScaler(feature_range=(0, 1))\n",
    "    df['Total Score'] = scaler.fit_transform(scores_2d)   #Changed from z-score to Minmax, z-score was giving negative range\n",
    "    df['Essay Set'] = i\n",
    "    dfs.append(df[['ID', 'Essay Set', 'Total Score', 'Preprocessed_Essay']])  # extract only the ID and Score columns and append to the list\n",
    "\n",
    "# concatenate the dataframes using pd.concat() and the loc accessor\n",
    "df_train = pd.concat(dfs, axis=0).reset_index(drop=True)\n",
    "df_train['Grade'] = df_train['Essay Set'].apply(lambda x: 8 if x == 1 or x == 5 else (7 if x == 7 else 10))\n",
    "df_train['Essay Type'] = df_train['Essay Set'].apply(lambda x: 'source dependent responses' if x in range(3,7) else 'persuasive / narrative  / expository')\n"
   ]
  },
  {
   "cell_type": "code",
   "execution_count": 10,
   "metadata": {
    "colab": {
     "base_uri": "https://localhost:8080/",
     "height": 389
    },
    "id": "r2voIZhUmKR_",
    "outputId": "9ffeedf2-7412-4361-f1eb-91ca5e67ed63"
   },
   "outputs": [
    {
     "name": "stderr",
     "output_type": "stream",
     "text": [
      "[nltk_data] Downloading package punkt to /root/nltk_data...\n",
      "[nltk_data]   Unzipping tokenizers/punkt.zip.\n"
     ]
    },
    {
     "data": {
      "text/html": [
       "\n",
       "  <div id=\"df-60690cd5-a3f1-4cbb-bde7-28ce799e1182\">\n",
       "    <div class=\"colab-df-container\">\n",
       "      <div>\n",
       "<style scoped>\n",
       "    .dataframe tbody tr th:only-of-type {\n",
       "        vertical-align: middle;\n",
       "    }\n",
       "\n",
       "    .dataframe tbody tr th {\n",
       "        vertical-align: top;\n",
       "    }\n",
       "\n",
       "    .dataframe thead th {\n",
       "        text-align: right;\n",
       "    }\n",
       "</style>\n",
       "<table border=\"1\" class=\"dataframe\">\n",
       "  <thead>\n",
       "    <tr style=\"text-align: right;\">\n",
       "      <th></th>\n",
       "      <th>ID</th>\n",
       "      <th>Essay Set</th>\n",
       "      <th>Total Score</th>\n",
       "      <th>Preprocessed_Essay</th>\n",
       "      <th>Grade</th>\n",
       "      <th>Essay Type</th>\n",
       "      <th>tokenized_text</th>\n",
       "    </tr>\n",
       "  </thead>\n",
       "  <tbody>\n",
       "    <tr>\n",
       "      <th>5909</th>\n",
       "      <td>9465</td>\n",
       "      <td>4</td>\n",
       "      <td>0.333333</td>\n",
       "      <td>the author concludes the story with that parag...</td>\n",
       "      <td>10</td>\n",
       "      <td>source dependent responses</td>\n",
       "      <td>[the, author, concludes, the, story, with, tha...</td>\n",
       "    </tr>\n",
       "    <tr>\n",
       "      <th>11691</th>\n",
       "      <td>18946</td>\n",
       "      <td>7</td>\n",
       "      <td>1.000000</td>\n",
       "      <td>i wondered who would win  i just hoped i would...</td>\n",
       "      <td>7</td>\n",
       "      <td>persuasive / narrative  / expository</td>\n",
       "      <td>[i, wondered, who, would, win, i, just, hoped,...</td>\n",
       "    </tr>\n",
       "    <tr>\n",
       "      <th>1994</th>\n",
       "      <td>3189</td>\n",
       "      <td>2</td>\n",
       "      <td>0.600000</td>\n",
       "      <td>books have been apart of every single person s...</td>\n",
       "      <td>10</td>\n",
       "      <td>persuasive / narrative  / expository</td>\n",
       "      <td>[books, have, been, apart, of, every, single, ...</td>\n",
       "    </tr>\n",
       "    <tr>\n",
       "      <th>2071</th>\n",
       "      <td>3266</td>\n",
       "      <td>2</td>\n",
       "      <td>0.600000</td>\n",
       "      <td>when i was in seventh grade i had a mission to...</td>\n",
       "      <td>10</td>\n",
       "      <td>persuasive / narrative  / expository</td>\n",
       "      <td>[when, i, was, in, seventh, grade, i, had, a, ...</td>\n",
       "    </tr>\n",
       "    <tr>\n",
       "      <th>2635</th>\n",
       "      <td>3830</td>\n",
       "      <td>2</td>\n",
       "      <td>0.600000</td>\n",
       "      <td>have you ever felt as though your reading choi...</td>\n",
       "      <td>10</td>\n",
       "      <td>persuasive / narrative  / expository</td>\n",
       "      <td>[have, you, ever, felt, as, though, your, read...</td>\n",
       "    </tr>\n",
       "  </tbody>\n",
       "</table>\n",
       "</div>\n",
       "      <button class=\"colab-df-convert\" onclick=\"convertToInteractive('df-60690cd5-a3f1-4cbb-bde7-28ce799e1182')\"\n",
       "              title=\"Convert this dataframe to an interactive table.\"\n",
       "              style=\"display:none;\">\n",
       "        \n",
       "  <svg xmlns=\"http://www.w3.org/2000/svg\" height=\"24px\"viewBox=\"0 0 24 24\"\n",
       "       width=\"24px\">\n",
       "    <path d=\"M0 0h24v24H0V0z\" fill=\"none\"/>\n",
       "    <path d=\"M18.56 5.44l.94 2.06.94-2.06 2.06-.94-2.06-.94-.94-2.06-.94 2.06-2.06.94zm-11 1L8.5 8.5l.94-2.06 2.06-.94-2.06-.94L8.5 2.5l-.94 2.06-2.06.94zm10 10l.94 2.06.94-2.06 2.06-.94-2.06-.94-.94-2.06-.94 2.06-2.06.94z\"/><path d=\"M17.41 7.96l-1.37-1.37c-.4-.4-.92-.59-1.43-.59-.52 0-1.04.2-1.43.59L10.3 9.45l-7.72 7.72c-.78.78-.78 2.05 0 2.83L4 21.41c.39.39.9.59 1.41.59.51 0 1.02-.2 1.41-.59l7.78-7.78 2.81-2.81c.8-.78.8-2.07 0-2.86zM5.41 20L4 18.59l7.72-7.72 1.47 1.35L5.41 20z\"/>\n",
       "  </svg>\n",
       "      </button>\n",
       "      \n",
       "  <style>\n",
       "    .colab-df-container {\n",
       "      display:flex;\n",
       "      flex-wrap:wrap;\n",
       "      gap: 12px;\n",
       "    }\n",
       "\n",
       "    .colab-df-convert {\n",
       "      background-color: #E8F0FE;\n",
       "      border: none;\n",
       "      border-radius: 50%;\n",
       "      cursor: pointer;\n",
       "      display: none;\n",
       "      fill: #1967D2;\n",
       "      height: 32px;\n",
       "      padding: 0 0 0 0;\n",
       "      width: 32px;\n",
       "    }\n",
       "\n",
       "    .colab-df-convert:hover {\n",
       "      background-color: #E2EBFA;\n",
       "      box-shadow: 0px 1px 2px rgba(60, 64, 67, 0.3), 0px 1px 3px 1px rgba(60, 64, 67, 0.15);\n",
       "      fill: #174EA6;\n",
       "    }\n",
       "\n",
       "    [theme=dark] .colab-df-convert {\n",
       "      background-color: #3B4455;\n",
       "      fill: #D2E3FC;\n",
       "    }\n",
       "\n",
       "    [theme=dark] .colab-df-convert:hover {\n",
       "      background-color: #434B5C;\n",
       "      box-shadow: 0px 1px 3px 1px rgba(0, 0, 0, 0.15);\n",
       "      filter: drop-shadow(0px 1px 2px rgba(0, 0, 0, 0.3));\n",
       "      fill: #FFFFFF;\n",
       "    }\n",
       "  </style>\n",
       "\n",
       "      <script>\n",
       "        const buttonEl =\n",
       "          document.querySelector('#df-60690cd5-a3f1-4cbb-bde7-28ce799e1182 button.colab-df-convert');\n",
       "        buttonEl.style.display =\n",
       "          google.colab.kernel.accessAllowed ? 'block' : 'none';\n",
       "\n",
       "        async function convertToInteractive(key) {\n",
       "          const element = document.querySelector('#df-60690cd5-a3f1-4cbb-bde7-28ce799e1182');\n",
       "          const dataTable =\n",
       "            await google.colab.kernel.invokeFunction('convertToInteractive',\n",
       "                                                     [key], {});\n",
       "          if (!dataTable) return;\n",
       "\n",
       "          const docLinkHtml = 'Like what you see? Visit the ' +\n",
       "            '<a target=\"_blank\" href=https://colab.research.google.com/notebooks/data_table.ipynb>data table notebook</a>'\n",
       "            + ' to learn more about interactive tables.';\n",
       "          element.innerHTML = '';\n",
       "          dataTable['output_type'] = 'display_data';\n",
       "          await google.colab.output.renderOutput(dataTable, element);\n",
       "          const docLink = document.createElement('div');\n",
       "          docLink.innerHTML = docLinkHtml;\n",
       "          element.appendChild(docLink);\n",
       "        }\n",
       "      </script>\n",
       "    </div>\n",
       "  </div>\n",
       "  "
      ],
      "text/plain": [
       "          ID  Essay Set  Total Score  \\\n",
       "5909    9465          4     0.333333   \n",
       "11691  18946          7     1.000000   \n",
       "1994    3189          2     0.600000   \n",
       "2071    3266          2     0.600000   \n",
       "2635    3830          2     0.600000   \n",
       "\n",
       "                                      Preprocessed_Essay  Grade  \\\n",
       "5909   the author concludes the story with that parag...     10   \n",
       "11691  i wondered who would win  i just hoped i would...      7   \n",
       "1994   books have been apart of every single person s...     10   \n",
       "2071   when i was in seventh grade i had a mission to...     10   \n",
       "2635   have you ever felt as though your reading choi...     10   \n",
       "\n",
       "                                 Essay Type  \\\n",
       "5909             source dependent responses   \n",
       "11691  persuasive / narrative  / expository   \n",
       "1994   persuasive / narrative  / expository   \n",
       "2071   persuasive / narrative  / expository   \n",
       "2635   persuasive / narrative  / expository   \n",
       "\n",
       "                                          tokenized_text  \n",
       "5909   [the, author, concludes, the, story, with, tha...  \n",
       "11691  [i, wondered, who, would, win, i, just, hoped,...  \n",
       "1994   [books, have, been, apart, of, every, single, ...  \n",
       "2071   [when, i, was, in, seventh, grade, i, had, a, ...  \n",
       "2635   [have, you, ever, felt, as, though, your, read...  "
      ]
     },
     "execution_count": 10,
     "metadata": {},
     "output_type": "execute_result"
    }
   ],
   "source": [
    "nltk.download('punkt') \n",
    "#df_train['tokenized_text'] = df_train['Preprocessed_Essay'].apply(lambda x: [word_tokenize(sent.lower()) for sent in sent_tokenize(x)])\n",
    "# df_train['tokenized_text'] = df_train['tokenized_text'].apply(lambda x: ' '.join(x))\n",
    "df_train['tokenized_text'] = df_train['Preprocessed_Essay'].apply(lambda x: word_tokenize(x.lower()))\n",
    "df_train.sample(5)"
   ]
  },
  {
   "cell_type": "code",
   "execution_count": 11,
   "metadata": {
    "id": "RraloOIq_abF"
   },
   "outputs": [],
   "source": [
    "def para_to_sent(paragraph):\n",
    "    sentences = nltk.sent_tokenize(paragraph)\n",
    "    return sentences\n",
    "\n",
    "# Apply function to 'Essay' column of the dataframe\n",
    "df_train['Essay Sentences'] = df_train['Preprocessed_Essay'].apply(para_to_sent)"
   ]
  },
  {
   "cell_type": "code",
   "execution_count": 12,
   "metadata": {
    "colab": {
     "base_uri": "https://localhost:8080/"
    },
    "id": "RzgtDmch0dVE",
    "outputId": "d5cd2fca-879b-441c-ee63-eb742fd989c1"
   },
   "outputs": [
    {
     "data": {
      "text/plain": [
       "(12978, 8)"
      ]
     },
     "execution_count": 12,
     "metadata": {},
     "output_type": "execute_result"
    }
   ],
   "source": [
    "df_train.shape"
   ]
  },
  {
   "cell_type": "code",
   "execution_count": 13,
   "metadata": {
    "colab": {
     "base_uri": "https://localhost:8080/"
    },
    "id": "YOjWTpIGNaBY",
    "outputId": "7344dfac-772d-4847-b820-197b49bb18f0"
   },
   "outputs": [
    {
     "data": {
      "text/plain": [
       "0        [dear local newspaper  i think effects compute...\n",
       "1        [dear i believe that using computers will bene...\n",
       "2        [dear  more and more people use computers  but...\n",
       "3        [dear local newspaper  i have found that many ...\n",
       "4        [dear i know having computers has a positive e...\n",
       "                               ...                        \n",
       "12973    [ in most stories mothers and daughters are ei...\n",
       "12974    [ i never understood the meaning laughter is t...\n",
       "12975    [when you laugh  is out of habit  or is cause ...\n",
       "12976    [                               trippin  on fe...\n",
       "12977    [ many people believe that laughter can improv...\n",
       "Name: Essay Sentences, Length: 12978, dtype: object"
      ]
     },
     "execution_count": 13,
     "metadata": {},
     "output_type": "execute_result"
    }
   ],
   "source": [
    "df_train['Essay Sentences']"
   ]
  },
  {
   "cell_type": "code",
   "execution_count": 14,
   "metadata": {
    "id": "DNy6RguIRLLM"
   },
   "outputs": [],
   "source": [
    "df_train.to_csv(\"Dataset.csv\")"
   ]
  },
  {
   "cell_type": "markdown",
   "metadata": {
    "id": "AJTAFn6Wgb9s"
   },
   "source": [
    "# **Data Cleaning**\n",
    "Note: Change scaling type to something more inclined with non-linear data type and, remove NaNs from essay set04"
   ]
  },
  {
   "cell_type": "code",
   "execution_count": 15,
   "metadata": {
    "id": "JhS-dVXPkdBC"
   },
   "outputs": [],
   "source": [
    "df_train = pd.read_csv(\"Dataset.csv\", index_col=[0])  #Note: It has unnamed column"
   ]
  },
  {
   "cell_type": "code",
   "execution_count": 16,
   "metadata": {
    "colab": {
     "base_uri": "https://localhost:8080/"
    },
    "id": "VygHu8AdsGij",
    "outputId": "d40922e8-acba-4f50-b579-2373a8b16c5d"
   },
   "outputs": [
    {
     "name": "stdout",
     "output_type": "stream",
     "text": [
      "ID                    0\n",
      "Essay Set             0\n",
      "Total Score           1\n",
      "Preprocessed_Essay    0\n",
      "Grade                 0\n",
      "Essay Type            0\n",
      "tokenized_text        0\n",
      "Essay Sentences       0\n",
      "dtype: int64\n"
     ]
    },
    {
     "data": {
      "text/plain": [
       "0.0009631684388965943"
      ]
     },
     "execution_count": 16,
     "metadata": {},
     "output_type": "execute_result"
    }
   ],
   "source": [
    "# Finding the number of missing values in dataset\n",
    "missing = df_train.isnull().sum()\n",
    "print(missing)\n",
    "# Finding percentage of missing value\n",
    "total_cells = np.product(df_train.shape)\n",
    "percent = (missing.sum() / total_cells)*100\n",
    "percent  "
   ]
  },
  {
   "cell_type": "code",
   "execution_count": 17,
   "metadata": {
    "id": "STwNpgdV0EOh"
   },
   "outputs": [],
   "source": [
    "df_train = df_train.dropna()"
   ]
  },
  {
   "cell_type": "code",
   "execution_count": 18,
   "metadata": {
    "colab": {
     "base_uri": "https://localhost:8080/"
    },
    "id": "Zrj3V3jT0mdk",
    "outputId": "5249f718-9e01-4ca0-eefa-81f50e2cc5c7"
   },
   "outputs": [
    {
     "data": {
      "text/plain": [
       "(12977, 8)"
      ]
     },
     "execution_count": 18,
     "metadata": {},
     "output_type": "execute_result"
    }
   ],
   "source": [
    "df_train.shape"
   ]
  },
  {
   "cell_type": "code",
   "execution_count": 19,
   "metadata": {
    "colab": {
     "base_uri": "https://localhost:8080/"
    },
    "id": "jcz33TRR_MHM",
    "outputId": "ed82c575-0983-479d-fac3-855029978056"
   },
   "outputs": [
    {
     "name": "stdout",
     "output_type": "stream",
     "text": [
      "ID                    0\n",
      "Essay Set             0\n",
      "Total Score           0\n",
      "Preprocessed_Essay    0\n",
      "Grade                 0\n",
      "Essay Type            0\n",
      "tokenized_text        0\n",
      "Essay Sentences       0\n",
      "dtype: int64\n"
     ]
    },
    {
     "data": {
      "text/plain": [
       "0.0"
      ]
     },
     "execution_count": 19,
     "metadata": {},
     "output_type": "execute_result"
    }
   ],
   "source": [
    "# Finding the number of missing values in dataset\n",
    "missing = df_train.isnull().sum()\n",
    "print(missing)\n",
    "# Finding percentage of missing value\n",
    "total_cells = np.product(df_train.shape)\n",
    "percent = (missing.sum() / total_cells)*100\n",
    "percent  "
   ]
  },
  {
   "cell_type": "markdown",
   "metadata": {
    "id": "oGZehdxOgvTx"
   },
   "source": [
    "# **Word Embedding of Preprocessed Essay**\n",
    "\n"
   ]
  },
  {
   "cell_type": "code",
   "execution_count": 20,
   "metadata": {
    "colab": {
     "base_uri": "https://localhost:8080/"
    },
    "id": "HY627c_FLLf7",
    "outputId": "45f31c2a-d068-4f94-e583-99ee7de74058"
   },
   "outputs": [
    {
     "name": "stdout",
     "output_type": "stream",
     "text": [
      "[==================================================] 100.0% 128.1/128.1MB downloaded\n"
     ]
    }
   ],
   "source": [
    "glove_model = api.load(\"glove-wiki-gigaword-100\")"
   ]
  },
  {
   "cell_type": "code",
   "execution_count": 21,
   "metadata": {
    "id": "_irgyVvxOXO7"
   },
   "outputs": [],
   "source": [
    "# def get_glove_embeddings(text_data):\n",
    "#     # Tokenize the text data\n",
    "#     tokenized_data = [sentence.split() for sentence in text_data]\n",
    "\n",
    "#     # Obtain the GloVe embeddings\n",
    "#     embeddings = np.zeros((len(text_data), 100))\n",
    "\n",
    "#     for i, sentence in enumerate(tokenized_data):\n",
    "#         print(i  , sentence)\n",
    "#         break\n",
    "#         for word in sentence:\n",
    "#             if word in glove_model.key_to_index:\n",
    "#                 embeddings[i] += glove_model[word]\n",
    "#         embeddings[i] /= len(sentence)\n",
    "#     return embeddings\n",
    "\n",
    "# # Obtain the GloVe embeddings for the text data\n",
    "# glove_embeddings = get_glove_embeddings(df['Preprocessed_Essay'])"
   ]
  },
  {
   "cell_type": "code",
   "execution_count": 22,
   "metadata": {
    "id": "xbXSQpZAOlS_"
   },
   "outputs": [],
   "source": [
    "# glove_embeddings.shape"
   ]
  },
  {
   "cell_type": "code",
   "execution_count": 23,
   "metadata": {
    "id": "jK3Emdu2aiju"
   },
   "outputs": [],
   "source": [
    "# Define a function to obtain the GloVe embeddings\n",
    "def get_glove_embeddings(text_data):\n",
    "    # Flatten the list of lists\n",
    "    flattened_data = [sentence for sublist in text_data for sentence in sublist]\n",
    "    \n",
    "    # Join the sentences with a space character\n",
    "    joined_data = [' '.join(sentence) for sentence in flattened_data]\n",
    "\n",
    "    # Obtain the GloVe embeddings\n",
    "    embeddings = np.zeros((len(joined_data), 100))  \n",
    "\n",
    "    for i, sentence in enumerate(joined_data):\n",
    "        for word in sentence.split():\n",
    "            if word in glove_model.key_to_index:\n",
    "                embeddings[i] += glove_model[word]\n",
    "        embeddings[i] /= len(sentence.split())\n",
    "    return embeddings\n",
    "\n",
    "# Obtain the GloVe embeddings for the text data\n",
    "glove_embeddings = get_glove_embeddings(df['Preprocessed_Essay'])\n"
   ]
  },
  {
   "cell_type": "code",
   "execution_count": 24,
   "metadata": {
    "colab": {
     "base_uri": "https://localhost:8080/"
    },
    "id": "xssafoaANSIV",
    "outputId": "633b6ae9-c904-4f2c-8b5b-817f8495619e"
   },
   "outputs": [
    {
     "data": {
      "text/plain": [
       "(2163263, 100)"
      ]
     },
     "execution_count": 24,
     "metadata": {},
     "output_type": "execute_result"
    }
   ],
   "source": [
    "glove_embeddings.shape"
   ]
  },
  {
   "cell_type": "markdown",
   "metadata": {
    "id": "5dCJ_9jA2IW9"
   },
   "source": [
    "# **Categorical Features Encoding**"
   ]
  },
  {
   "cell_type": "code",
   "execution_count": 25,
   "metadata": {
    "id": "bRmLxSbe2Qlm"
   },
   "outputs": [],
   "source": [
    "# 0 for persuasive / narrative / expository and 1 for source dependent responses\n",
    "df_train['Essay Type'] = df_train['Essay Type'].str.replace(\n",
    "    'persuasive / narrative  / expository', '0', case=True, regex=False)\n",
    "\n",
    "df_train['Essay Type'] = df_train['Essay Type'].str.replace(\n",
    "    'source dependent responses', '1', case=True, regex=False)\n",
    "\n",
    "# Ordinal Encoding\n",
    "oe = OrdinalEncoder(categories=[['7', '8', '10']])   # encoded as 0, 1 and 2\n",
    "df_train['Grade'] = oe.fit_transform(df_train[['Grade']]).astype(int)"
   ]
  },
  {
   "cell_type": "code",
   "execution_count": 26,
   "metadata": {
    "colab": {
     "base_uri": "https://localhost:8080/",
     "height": 389
    },
    "id": "eVJtvhCY9x7h",
    "outputId": "bd4b6ea7-f2ed-4ec2-e8d1-fd09ad8a475d"
   },
   "outputs": [
    {
     "data": {
      "text/html": [
       "\n",
       "  <div id=\"df-4afcd1ce-8142-4604-9096-bdafde6a0182\">\n",
       "    <div class=\"colab-df-container\">\n",
       "      <div>\n",
       "<style scoped>\n",
       "    .dataframe tbody tr th:only-of-type {\n",
       "        vertical-align: middle;\n",
       "    }\n",
       "\n",
       "    .dataframe tbody tr th {\n",
       "        vertical-align: top;\n",
       "    }\n",
       "\n",
       "    .dataframe thead th {\n",
       "        text-align: right;\n",
       "    }\n",
       "</style>\n",
       "<table border=\"1\" class=\"dataframe\">\n",
       "  <thead>\n",
       "    <tr style=\"text-align: right;\">\n",
       "      <th></th>\n",
       "      <th>ID</th>\n",
       "      <th>Essay Set</th>\n",
       "      <th>Total Score</th>\n",
       "      <th>Preprocessed_Essay</th>\n",
       "      <th>Grade</th>\n",
       "      <th>Essay Type</th>\n",
       "      <th>tokenized_text</th>\n",
       "      <th>Essay Sentences</th>\n",
       "    </tr>\n",
       "  </thead>\n",
       "  <tbody>\n",
       "    <tr>\n",
       "      <th>12905</th>\n",
       "      <td>21536</td>\n",
       "      <td>8</td>\n",
       "      <td>0.500000</td>\n",
       "      <td>have you ever had a memorable time  where you...</td>\n",
       "      <td>2</td>\n",
       "      <td>0</td>\n",
       "      <td>['have', 'you', 'ever', 'had', 'a', 'memorable...</td>\n",
       "      <td>[' have you ever had a memorable time  where y...</td>\n",
       "    </tr>\n",
       "    <tr>\n",
       "      <th>7084</th>\n",
       "      <td>11830</td>\n",
       "      <td>5</td>\n",
       "      <td>0.250000</td>\n",
       "      <td>the mood created by the author is showing how ...</td>\n",
       "      <td>1</td>\n",
       "      <td>1</td>\n",
       "      <td>['the', 'mood', 'created', 'by', 'the', 'autho...</td>\n",
       "      <td>['the mood created by the author is showing ho...</td>\n",
       "    </tr>\n",
       "    <tr>\n",
       "      <th>9719</th>\n",
       "      <td>15667</td>\n",
       "      <td>6</td>\n",
       "      <td>0.750000</td>\n",
       "      <td>in the passage  the mooring mast  by marcia am...</td>\n",
       "      <td>2</td>\n",
       "      <td>1</td>\n",
       "      <td>['in', 'the', 'passage', 'the', 'mooring', 'ma...</td>\n",
       "      <td>['in the passage  the mooring mast  by marcia ...</td>\n",
       "    </tr>\n",
       "    <tr>\n",
       "      <th>8571</th>\n",
       "      <td>13317</td>\n",
       "      <td>5</td>\n",
       "      <td>0.500000</td>\n",
       "      <td>the mood i get from this article is that even ...</td>\n",
       "      <td>1</td>\n",
       "      <td>1</td>\n",
       "      <td>['the', 'mood', 'i', 'get', 'from', 'this', 'a...</td>\n",
       "      <td>['the mood i get from this article is that eve...</td>\n",
       "    </tr>\n",
       "    <tr>\n",
       "      <th>10873</th>\n",
       "      <td>18045</td>\n",
       "      <td>7</td>\n",
       "      <td>0.772727</td>\n",
       "      <td>here is a story  about patience  in my own way...</td>\n",
       "      <td>0</td>\n",
       "      <td>0</td>\n",
       "      <td>['here', 'is', 'a', 'story', 'about', 'patienc...</td>\n",
       "      <td>['here is a story  about patience  in my own w...</td>\n",
       "    </tr>\n",
       "  </tbody>\n",
       "</table>\n",
       "</div>\n",
       "      <button class=\"colab-df-convert\" onclick=\"convertToInteractive('df-4afcd1ce-8142-4604-9096-bdafde6a0182')\"\n",
       "              title=\"Convert this dataframe to an interactive table.\"\n",
       "              style=\"display:none;\">\n",
       "        \n",
       "  <svg xmlns=\"http://www.w3.org/2000/svg\" height=\"24px\"viewBox=\"0 0 24 24\"\n",
       "       width=\"24px\">\n",
       "    <path d=\"M0 0h24v24H0V0z\" fill=\"none\"/>\n",
       "    <path d=\"M18.56 5.44l.94 2.06.94-2.06 2.06-.94-2.06-.94-.94-2.06-.94 2.06-2.06.94zm-11 1L8.5 8.5l.94-2.06 2.06-.94-2.06-.94L8.5 2.5l-.94 2.06-2.06.94zm10 10l.94 2.06.94-2.06 2.06-.94-2.06-.94-.94-2.06-.94 2.06-2.06.94z\"/><path d=\"M17.41 7.96l-1.37-1.37c-.4-.4-.92-.59-1.43-.59-.52 0-1.04.2-1.43.59L10.3 9.45l-7.72 7.72c-.78.78-.78 2.05 0 2.83L4 21.41c.39.39.9.59 1.41.59.51 0 1.02-.2 1.41-.59l7.78-7.78 2.81-2.81c.8-.78.8-2.07 0-2.86zM5.41 20L4 18.59l7.72-7.72 1.47 1.35L5.41 20z\"/>\n",
       "  </svg>\n",
       "      </button>\n",
       "      \n",
       "  <style>\n",
       "    .colab-df-container {\n",
       "      display:flex;\n",
       "      flex-wrap:wrap;\n",
       "      gap: 12px;\n",
       "    }\n",
       "\n",
       "    .colab-df-convert {\n",
       "      background-color: #E8F0FE;\n",
       "      border: none;\n",
       "      border-radius: 50%;\n",
       "      cursor: pointer;\n",
       "      display: none;\n",
       "      fill: #1967D2;\n",
       "      height: 32px;\n",
       "      padding: 0 0 0 0;\n",
       "      width: 32px;\n",
       "    }\n",
       "\n",
       "    .colab-df-convert:hover {\n",
       "      background-color: #E2EBFA;\n",
       "      box-shadow: 0px 1px 2px rgba(60, 64, 67, 0.3), 0px 1px 3px 1px rgba(60, 64, 67, 0.15);\n",
       "      fill: #174EA6;\n",
       "    }\n",
       "\n",
       "    [theme=dark] .colab-df-convert {\n",
       "      background-color: #3B4455;\n",
       "      fill: #D2E3FC;\n",
       "    }\n",
       "\n",
       "    [theme=dark] .colab-df-convert:hover {\n",
       "      background-color: #434B5C;\n",
       "      box-shadow: 0px 1px 3px 1px rgba(0, 0, 0, 0.15);\n",
       "      filter: drop-shadow(0px 1px 2px rgba(0, 0, 0, 0.3));\n",
       "      fill: #FFFFFF;\n",
       "    }\n",
       "  </style>\n",
       "\n",
       "      <script>\n",
       "        const buttonEl =\n",
       "          document.querySelector('#df-4afcd1ce-8142-4604-9096-bdafde6a0182 button.colab-df-convert');\n",
       "        buttonEl.style.display =\n",
       "          google.colab.kernel.accessAllowed ? 'block' : 'none';\n",
       "\n",
       "        async function convertToInteractive(key) {\n",
       "          const element = document.querySelector('#df-4afcd1ce-8142-4604-9096-bdafde6a0182');\n",
       "          const dataTable =\n",
       "            await google.colab.kernel.invokeFunction('convertToInteractive',\n",
       "                                                     [key], {});\n",
       "          if (!dataTable) return;\n",
       "\n",
       "          const docLinkHtml = 'Like what you see? Visit the ' +\n",
       "            '<a target=\"_blank\" href=https://colab.research.google.com/notebooks/data_table.ipynb>data table notebook</a>'\n",
       "            + ' to learn more about interactive tables.';\n",
       "          element.innerHTML = '';\n",
       "          dataTable['output_type'] = 'display_data';\n",
       "          await google.colab.output.renderOutput(dataTable, element);\n",
       "          const docLink = document.createElement('div');\n",
       "          docLink.innerHTML = docLinkHtml;\n",
       "          element.appendChild(docLink);\n",
       "        }\n",
       "      </script>\n",
       "    </div>\n",
       "  </div>\n",
       "  "
      ],
      "text/plain": [
       "          ID  Essay Set  Total Score  \\\n",
       "12905  21536          8     0.500000   \n",
       "7084   11830          5     0.250000   \n",
       "9719   15667          6     0.750000   \n",
       "8571   13317          5     0.500000   \n",
       "10873  18045          7     0.772727   \n",
       "\n",
       "                                      Preprocessed_Essay  Grade Essay Type  \\\n",
       "12905   have you ever had a memorable time  where you...      2          0   \n",
       "7084   the mood created by the author is showing how ...      1          1   \n",
       "9719   in the passage  the mooring mast  by marcia am...      2          1   \n",
       "8571   the mood i get from this article is that even ...      1          1   \n",
       "10873  here is a story  about patience  in my own way...      0          0   \n",
       "\n",
       "                                          tokenized_text  \\\n",
       "12905  ['have', 'you', 'ever', 'had', 'a', 'memorable...   \n",
       "7084   ['the', 'mood', 'created', 'by', 'the', 'autho...   \n",
       "9719   ['in', 'the', 'passage', 'the', 'mooring', 'ma...   \n",
       "8571   ['the', 'mood', 'i', 'get', 'from', 'this', 'a...   \n",
       "10873  ['here', 'is', 'a', 'story', 'about', 'patienc...   \n",
       "\n",
       "                                         Essay Sentences  \n",
       "12905  [' have you ever had a memorable time  where y...  \n",
       "7084   ['the mood created by the author is showing ho...  \n",
       "9719   ['in the passage  the mooring mast  by marcia ...  \n",
       "8571   ['the mood i get from this article is that eve...  \n",
       "10873  ['here is a story  about patience  in my own w...  "
      ]
     },
     "execution_count": 26,
     "metadata": {},
     "output_type": "execute_result"
    }
   ],
   "source": [
    "df_train.sample(5)"
   ]
  },
  {
   "cell_type": "code",
   "execution_count": 27,
   "metadata": {
    "colab": {
     "base_uri": "https://localhost:8080/"
    },
    "id": "ybVF8RwlFmR7",
    "outputId": "7114bd39-6fc4-4dff-d27f-6b20815060f0"
   },
   "outputs": [
    {
     "name": "stdout",
     "output_type": "stream",
     "text": [
      "<class 'pandas.core.frame.DataFrame'>\n",
      "Int64Index: 12977 entries, 0 to 12977\n",
      "Data columns (total 8 columns):\n",
      " #   Column              Non-Null Count  Dtype  \n",
      "---  ------              --------------  -----  \n",
      " 0   ID                  12977 non-null  int64  \n",
      " 1   Essay Set           12977 non-null  int64  \n",
      " 2   Total Score         12977 non-null  float64\n",
      " 3   Preprocessed_Essay  12977 non-null  object \n",
      " 4   Grade               12977 non-null  int64  \n",
      " 5   Essay Type          12977 non-null  object \n",
      " 6   tokenized_text      12977 non-null  object \n",
      " 7   Essay Sentences     12977 non-null  object \n",
      "dtypes: float64(1), int64(3), object(4)\n",
      "memory usage: 912.4+ KB\n"
     ]
    }
   ],
   "source": [
    "df_train.info()"
   ]
  },
  {
   "cell_type": "markdown",
   "metadata": {
    "id": "-C2pPnTmgz-o"
   },
   "source": [
    "# **Model Implementation**"
   ]
  },
  {
   "cell_type": "code",
   "execution_count": 28,
   "metadata": {
    "id": "4_YHLSyIhAsB"
   },
   "outputs": [],
   "source": [
    "vocab_size = 10000\n",
    "trunc_type='post' # remove sentences if they reach the max_lenght\n",
    "padding_type='post' #padding after sentences\n",
    "oov_tok = \"<OOV>\"   #placeholder for new words in padding\n",
    "training_size = 20000"
   ]
  },
  {
   "cell_type": "code",
   "execution_count": 29,
   "metadata": {
    "id": "jpyRub494BK7"
   },
   "outputs": [],
   "source": [
    "params = {\n",
    "    \"epochs\" : 500,\n",
    "    \"batch_size\" : 128,\n",
    "    \"validation_split\" : 0.2,\n",
    "    \"dropout_rate\" : 0.6,\n",
    "    \"embedding_dim\" : 100,  #Decreased from 300, (Not enough RAM units)\n",
    "    \"max_seq_len\" : 100,\n",
    "    \"learning_rate\" : 0.000001,\n",
    "    \"clipvalue\": 1.0,\n",
    "    \"optimizer\": \"Adam\",\n",
    "    \"mode\": 'min',\n",
    "    \"monitor\": 'val_mae'\n",
    "}"
   ]
  },
  {
   "cell_type": "markdown",
   "metadata": {
    "id": "SJt8dmb1a3jv"
   },
   "source": [
    "## **Encoded Input Text**"
   ]
  },
  {
   "cell_type": "code",
   "execution_count": 30,
   "metadata": {
    "id": "vHt-LmlQldxt"
   },
   "outputs": [],
   "source": [
    "tk = Tokenizer(num_words=vocab_size)\n",
    "tokenized_text = df_train['tokenized_text'].values.tolist()\n",
    "flatten_text = [word for sent in tokenized_text for word in sent]\n",
    "joined_text = ' '.join(flatten_text)\n",
    "tk.fit_on_texts([joined_text])\n",
    "\n",
    "encoded_essay_train = tk.texts_to_sequences(tokenized_text)\n",
    "padded_essay = pad_sequences(encoded_essay_train, maxlen=params['max_seq_len'], padding=padding_type)   #Input Text"
   ]
  },
  {
   "cell_type": "code",
   "execution_count": 31,
   "metadata": {
    "colab": {
     "base_uri": "https://localhost:8080/"
    },
    "id": "ZiGMWC42XBgD",
    "outputId": "77c7658e-19c8-4181-e4d5-430282d333b5"
   },
   "outputs": [
    {
     "name": "stdout",
     "output_type": "stream",
     "text": [
      "int32\n"
     ]
    },
    {
     "data": {
      "text/plain": [
       "(12977, 100)"
      ]
     },
     "execution_count": 31,
     "metadata": {},
     "output_type": "execute_result"
    }
   ],
   "source": [
    "print(padded_essay.dtype)\n",
    "padded_essay.shape"
   ]
  },
  {
   "cell_type": "markdown",
   "metadata": {
    "id": "32Z0FDQkB7qo"
   },
   "source": [
    "## **Input Features**"
   ]
  },
  {
   "cell_type": "code",
   "execution_count": 32,
   "metadata": {
    "colab": {
     "base_uri": "https://localhost:8080/"
    },
    "id": "rcBaIYCiCDjr",
    "outputId": "a20f477c-8002-40fd-b179-656808cc425b"
   },
   "outputs": [
    {
     "name": "stdout",
     "output_type": "stream",
     "text": [
      "object\n",
      "(12977, 3)\n",
      "object\n"
     ]
    }
   ],
   "source": [
    "feature_cols = ['Essay Set', 'Essay Type','Grade']   #add tf-idf\n",
    "features_df = df_train[feature_cols]\n",
    "# Convert features DataFrame to NumPy array\n",
    "features = features_df.values\n",
    "\n",
    "print(features.dtype)\n",
    "print(features.shape)\n",
    "features_train = features.astype('float32')\n",
    "print(features.dtype)"
   ]
  },
  {
   "cell_type": "markdown",
   "metadata": {
    "id": "t7BL4MGxZ1b2"
   },
   "source": [
    "## **Target Variable**"
   ]
  },
  {
   "cell_type": "code",
   "execution_count": 33,
   "metadata": {
    "colab": {
     "base_uri": "https://localhost:8080/"
    },
    "id": "JowbpGuFZ4r5",
    "outputId": "7fdc6546-4831-4b9d-856f-48f23c99b7f6"
   },
   "outputs": [
    {
     "name": "stdout",
     "output_type": "stream",
     "text": [
      "float64\n",
      "(12977,)\n"
     ]
    }
   ],
   "source": [
    "target = df_train['Total Score']\n",
    "print(target.dtype)\n",
    "print(target.shape)"
   ]
  },
  {
   "cell_type": "markdown",
   "metadata": {
    "id": "h0YCPdV1rOHg"
   },
   "source": [
    "## **Train Test Split**"
   ]
  },
  {
   "cell_type": "code",
   "execution_count": 42,
   "metadata": {
    "id": "l0l1QP2aqJuk"
   },
   "outputs": [],
   "source": [
    "padded_essay_train, padded_essay_val, target_train, target_val = train_test_split(padded_essay, target, test_size=0.2, random_state=42)\n",
    "features_train, features_val, target_train, target_val = train_test_split(features, target, test_size=0.2, random_state=42)\n",
    "\n",
    "padded_essay_train = padded_essay_train.astype(np.float32)\n",
    "padded_essay_val = padded_essay_val.astype(np.float32)\n",
    "\n",
    "# Cast features_train and features_val to float32\n",
    "features_train = features_train.astype(np.float32)\n",
    "features_val = features_val.astype(np.float32)"
   ]
  },
  {
   "cell_type": "markdown",
   "metadata": {
    "id": "h-Ks12cWg4kj"
   },
   "source": [
    "## **Vanilla LSTM**"
   ]
  },
  {
   "cell_type": "markdown",
   "metadata": {
    "id": "-pHZUz3S2ECZ"
   },
   "source": [
    "### **Model Checkpoint**"
   ]
  },
  {
   "cell_type": "code",
   "execution_count": 35,
   "metadata": {
    "id": "7CAhe09R-rld"
   },
   "outputs": [],
   "source": [
    "# Creating Checkpoint to save the best model with minimum MAE \n",
    "checkpoint_filepath = './chkpt'\n",
    "model_checkpoint_callback = tf.keras.callbacks.ModelCheckpoint(\n",
    "    filepath=checkpoint_filepath,\n",
    "    save_weights_only=False,\n",
    "    monitor=params[\"monitor\"],\n",
    "    mode=params[\"mode\"],\n",
    "    save_best_only=True)\n",
    "\n",
    "# checkpoint = ModelCheckpoint(filepath=checkpoint_filepath,\n",
    "#                              save_weights_only=True,\n",
    "#                              monitor='val_loss',\n",
    "#                              save_best_only=True,\n",
    "#                              mode='min',\n",
    "#                              verbose=1)"
   ]
  },
  {
   "cell_type": "markdown",
   "metadata": {
    "id": "KKl6-ZHN2HA_"
   },
   "source": [
    "### **Neptune Logger**"
   ]
  },
  {
   "cell_type": "code",
   "execution_count": 36,
   "metadata": {
    "id": "ItPYWYKQ2_Vb"
   },
   "outputs": [],
   "source": [
    "run[\"parameters\"] = params\n",
    "neptune_callback = NeptuneMonitor()  \n",
    "#    neptune_callback = NeptuneMonitor(project=neptune_project, experiment=neptune_experiment)\n",
    "#    Add project name and experiment name for tracking\n",
    "\n",
    "class NeptuneLogger(keras.callbacks.Callback):\n",
    "    def on_epoch_end(self, epoch, logs=None):\n",
    "        for log_name, log_value in logs.items():\n",
    "            run['logs/{}'.format(log_name)].log(log_value)"
   ]
  },
  {
   "cell_type": "markdown",
   "metadata": {
    "id": "tvgnwXXn2Nkq"
   },
   "source": [
    "### **Model Architecture**"
   ]
  },
  {
   "cell_type": "code",
   "execution_count": null,
   "metadata": {
    "id": "ey3c6Q4zpNbS"
   },
   "outputs": [],
   "source": [
    "#IF NEEDED\n",
    "def cohen_kappa_with_quadratic_weights(y_true, y_pred):\n",
    "    y_true_classes = tf.round(y_true)\n",
    "    y_pred_classes = tf.round(y_pred)\n",
    "    kappa = cohen_kappa_score(y_true_classes, y_pred_classes, weights='quadratic')\n",
    "    return kappa"
   ]
  },
  {
   "cell_type": "code",
   "execution_count": 37,
   "metadata": {
    "id": "C_eihi0Mt4MK"
   },
   "outputs": [],
   "source": [
    "# Note: Reduced batch size from 2048 to 128.\n",
    "def build_vanilla_lstm(MAX_SEQ_LEN = 100, EMBEDDING_DIM = 100, DROPOUT_RATE = 0.6,EPOCHS = 100, BATCH_SIZE = 128 ,embedding_matrix=None, LEARNING_RATE = 0.000001):   \n",
    "# NOTE: Modify the function so it can accept parameters for later use in gridsearch cv  and bayesian and then make one function for bidriectional, add callback line that bahram told and plot the reslts like in tensorflow.ipynb\n",
    " \n",
    "  np.random.seed(42)\n",
    "  tf.random.set_seed(42)\n",
    "  NUM_FEATURES = len(features_train[0])\n",
    "  # Load pre-trained GloVe embeddings\n",
    "  # embedding_matrix = {} \n",
    "  # Define input layers\n",
    "  input_text = Input(shape=(MAX_SEQ_LEN,), dtype='int32')   # Padded Essay Tokens\n",
    "  input_features = Input(shape=(NUM_FEATURES,), dtype='float32') # Input Features\n",
    "\n",
    "  # Define embedding layer\n",
    "  embedding_layer = Embedding(input_dim=embedding_matrix.shape[0],\n",
    "                              output_dim=EMBEDDING_DIM,\n",
    "                              input_length=MAX_SEQ_LEN,\n",
    "                              trainable=False)\n",
    "  \n",
    "  # Define LSTM layer\n",
    "  lstm_layer = LSTM(units=64, activation='relu')\n",
    "  # Connect input layers to embedding and LSTM layers\n",
    "  text_embed = embedding_layer(input_text)\n",
    "  text_lstm = lstm_layer(text_embed)\n",
    "  # Concatenate LSTM output with input features\n",
    "  concat_layer = concatenate([text_lstm, input_features])\n",
    "  # Define dropout layer\n",
    "  dropout_layer = Dropout(rate=DROPOUT_RATE)\n",
    "  # Connect concat layer to dropout layer\n",
    "  dropout_output = dropout_layer(concat_layer)\n",
    "  # Define output layer\n",
    "  output_layer = Dense(units=1, activation='linear')   #try it with sigmoid, relu, and tanh\n",
    "  # Connect dropout output to output layer\n",
    "  output = output_layer(dropout_output)\n",
    "\n",
    "  # Define model with two inputs and one output\n",
    "  model = tf.keras.Model(inputs=[input_text, input_features], outputs=output)\n",
    "\n",
    "  # Compile model\n",
    "  model.compile(optimizer=tf.keras.optimizers.Adam(learning_rate=LEARNING_RATE),\n",
    "                loss='mse', \n",
    "                metrics=['mae'])\n",
    "  return model\n"
   ]
  },
  {
   "cell_type": "markdown",
   "metadata": {
    "id": "exzTFpx2cDxr"
   },
   "source": [
    "### **Training Model**"
   ]
  },
  {
   "cell_type": "code",
   "execution_count": 38,
   "metadata": {
    "id": "K0U7J14oJGjs"
   },
   "outputs": [],
   "source": [
    "es = EarlyStopping(monitor='val_loss', mode='min', verbose=1, patience=10)"
   ]
  },
  {
   "cell_type": "code",
   "execution_count": 43,
   "metadata": {
    "colab": {
     "base_uri": "https://localhost:8080/"
    },
    "id": "z_D6a6ZIcHOr",
    "outputId": "5cd6d6ed-1b07-42a8-a03d-c014f9263ce9"
   },
   "outputs": [
    {
     "metadata": {
      "tags": null
     },
     "name": "stdout",
     "output_type": "stream",
     "text": [
      "Epoch 1/500\n",
      "81/82 [============================>.] - ETA: 0s - loss: 0.4461 - mae: 0.6227"
     ]
    },
    {
     "metadata": {
      "tags": null
     },
     "name": "stderr",
     "output_type": "stream",
     "text": [
      "WARNING:absl:Found untraced functions such as _update_step_xla while saving (showing 1 of 1). These functions will not be directly callable after loading.\n"
     ]
    },
    {
     "metadata": {
      "tags": null
     },
     "name": "stdout",
     "output_type": "stream",
     "text": [
      "82/82 [==============================] - 26s 272ms/step - loss: 0.4460 - mae: 0.6227 - val_loss: 0.4297 - val_mae: 0.6097\n",
      "Epoch 2/500\n",
      "82/82 [==============================] - ETA: 0s - loss: 0.4446 - mae: 0.6216"
     ]
    },
    {
     "metadata": {
      "tags": null
     },
     "name": "stderr",
     "output_type": "stream",
     "text": [
      "WARNING:absl:Found untraced functions such as _update_step_xla while saving (showing 1 of 1). These functions will not be directly callable after loading.\n"
     ]
    },
    {
     "metadata": {
      "tags": null
     },
     "name": "stdout",
     "output_type": "stream",
     "text": [
      "82/82 [==============================] - 23s 275ms/step - loss: 0.4446 - mae: 0.6216 - val_loss: 0.4272 - val_mae: 0.6077\n",
      "Epoch 3/500\n",
      "81/82 [============================>.] - ETA: 0s - loss: 0.4399 - mae: 0.6183"
     ]
    },
    {
     "metadata": {
      "tags": null
     },
     "name": "stderr",
     "output_type": "stream",
     "text": [
      "WARNING:absl:Found untraced functions such as _update_step_xla while saving (showing 1 of 1). These functions will not be directly callable after loading.\n"
     ]
    },
    {
     "metadata": {
      "tags": null
     },
     "name": "stdout",
     "output_type": "stream",
     "text": [
      "82/82 [==============================] - 21s 261ms/step - loss: 0.4398 - mae: 0.6183 - val_loss: 0.4247 - val_mae: 0.6056\n",
      "Epoch 4/500\n",
      "82/82 [==============================] - ETA: 0s - loss: 0.4385 - mae: 0.6168"
     ]
    },
    {
     "metadata": {
      "tags": null
     },
     "name": "stderr",
     "output_type": "stream",
     "text": [
      "WARNING:absl:Found untraced functions such as _update_step_xla while saving (showing 1 of 1). These functions will not be directly callable after loading.\n"
     ]
    },
    {
     "metadata": {
      "tags": null
     },
     "name": "stdout",
     "output_type": "stream",
     "text": [
      "82/82 [==============================] - 26s 321ms/step - loss: 0.4385 - mae: 0.6168 - val_loss: 0.4222 - val_mae: 0.6036\n",
      "Epoch 5/500\n",
      "81/82 [============================>.] - ETA: 0s - loss: 0.4361 - mae: 0.6147"
     ]
    },
    {
     "metadata": {
      "tags": null
     },
     "name": "stderr",
     "output_type": "stream",
     "text": [
      "WARNING:absl:Found untraced functions such as _update_step_xla while saving (showing 1 of 1). These functions will not be directly callable after loading.\n"
     ]
    },
    {
     "metadata": {
      "tags": null
     },
     "name": "stdout",
     "output_type": "stream",
     "text": [
      "82/82 [==============================] - 23s 277ms/step - loss: 0.4361 - mae: 0.6147 - val_loss: 0.4198 - val_mae: 0.6016\n",
      "Epoch 6/500\n",
      "82/82 [==============================] - ETA: 0s - loss: 0.4336 - mae: 0.6131"
     ]
    },
    {
     "metadata": {
      "tags": null
     },
     "name": "stderr",
     "output_type": "stream",
     "text": [
      "WARNING:absl:Found untraced functions such as _update_step_xla while saving (showing 1 of 1). These functions will not be directly callable after loading.\n"
     ]
    },
    {
     "metadata": {
      "tags": null
     },
     "name": "stdout",
     "output_type": "stream",
     "text": [
      "82/82 [==============================] - 22s 268ms/step - loss: 0.4336 - mae: 0.6131 - val_loss: 0.4174 - val_mae: 0.5996\n",
      "Epoch 7/500\n",
      "81/82 [============================>.] - ETA: 0s - loss: 0.4313 - mae: 0.6113"
     ]
    },
    {
     "metadata": {
      "tags": null
     },
     "name": "stderr",
     "output_type": "stream",
     "text": [
      "WARNING:absl:Found untraced functions such as _update_step_xla while saving (showing 1 of 1). These functions will not be directly callable after loading.\n"
     ]
    },
    {
     "metadata": {
      "tags": null
     },
     "name": "stdout",
     "output_type": "stream",
     "text": [
      "82/82 [==============================] - 22s 272ms/step - loss: 0.4313 - mae: 0.6113 - val_loss: 0.4150 - val_mae: 0.5976\n",
      "Epoch 8/500\n",
      "81/82 [============================>.] - ETA: 0s - loss: 0.4283 - mae: 0.6091"
     ]
    },
    {
     "metadata": {
      "tags": null
     },
     "name": "stderr",
     "output_type": "stream",
     "text": [
      "WARNING:absl:Found untraced functions such as _update_step_xla while saving (showing 1 of 1). These functions will not be directly callable after loading.\n"
     ]
    },
    {
     "metadata": {
      "tags": null
     },
     "name": "stdout",
     "output_type": "stream",
     "text": [
      "82/82 [==============================] - 23s 276ms/step - loss: 0.4283 - mae: 0.6091 - val_loss: 0.4126 - val_mae: 0.5956\n",
      "Epoch 9/500\n",
      "81/82 [============================>.] - ETA: 0s - loss: 0.4254 - mae: 0.6064"
     ]
    },
    {
     "metadata": {
      "tags": null
     },
     "name": "stderr",
     "output_type": "stream",
     "text": [
      "WARNING:absl:Found untraced functions such as _update_step_xla while saving (showing 1 of 1). These functions will not be directly callable after loading.\n"
     ]
    },
    {
     "metadata": {
      "tags": null
     },
     "name": "stdout",
     "output_type": "stream",
     "text": [
      "82/82 [==============================] - 21s 258ms/step - loss: 0.4254 - mae: 0.6064 - val_loss: 0.4104 - val_mae: 0.5937\n",
      "Epoch 10/500\n",
      "81/82 [============================>.] - ETA: 0s - loss: 0.4248 - mae: 0.6058"
     ]
    },
    {
     "metadata": {
      "tags": null
     },
     "name": "stderr",
     "output_type": "stream",
     "text": [
      "WARNING:absl:Found untraced functions such as _update_step_xla while saving (showing 1 of 1). These functions will not be directly callable after loading.\n"
     ]
    },
    {
     "metadata": {
      "tags": null
     },
     "name": "stdout",
     "output_type": "stream",
     "text": [
      "82/82 [==============================] - 22s 269ms/step - loss: 0.4246 - mae: 0.6057 - val_loss: 0.4082 - val_mae: 0.5919\n",
      "Epoch 11/500\n",
      "82/82 [==============================] - ETA: 0s - loss: 0.4217 - mae: 0.6033"
     ]
    },
    {
     "metadata": {
      "tags": null
     },
     "name": "stderr",
     "output_type": "stream",
     "text": [
      "WARNING:absl:Found untraced functions such as _update_step_xla while saving (showing 1 of 1). These functions will not be directly callable after loading.\n"
     ]
    },
    {
     "metadata": {
      "tags": null
     },
     "name": "stdout",
     "output_type": "stream",
     "text": [
      "82/82 [==============================] - 23s 282ms/step - loss: 0.4217 - mae: 0.6033 - val_loss: 0.4061 - val_mae: 0.5901\n",
      "Epoch 12/500\n",
      "81/82 [============================>.] - ETA: 0s - loss: 0.4196 - mae: 0.6019"
     ]
    },
    {
     "metadata": {
      "tags": null
     },
     "name": "stderr",
     "output_type": "stream",
     "text": [
      "WARNING:absl:Found untraced functions such as _update_step_xla while saving (showing 1 of 1). These functions will not be directly callable after loading.\n"
     ]
    },
    {
     "metadata": {
      "tags": null
     },
     "name": "stdout",
     "output_type": "stream",
     "text": [
      "82/82 [==============================] - 21s 261ms/step - loss: 0.4195 - mae: 0.6018 - val_loss: 0.4039 - val_mae: 0.5883\n",
      "Epoch 13/500\n",
      "82/82 [==============================] - ETA: 0s - loss: 0.4178 - mae: 0.6002"
     ]
    },
    {
     "metadata": {
      "tags": null
     },
     "name": "stderr",
     "output_type": "stream",
     "text": [
      "WARNING:absl:Found untraced functions such as _update_step_xla while saving (showing 1 of 1). These functions will not be directly callable after loading.\n"
     ]
    },
    {
     "metadata": {
      "tags": null
     },
     "name": "stdout",
     "output_type": "stream",
     "text": [
      "82/82 [==============================] - 21s 253ms/step - loss: 0.4178 - mae: 0.6002 - val_loss: 0.4019 - val_mae: 0.5865\n",
      "Epoch 14/500\n",
      "81/82 [============================>.] - ETA: 0s - loss: 0.4148 - mae: 0.5978"
     ]
    },
    {
     "metadata": {
      "tags": null
     },
     "name": "stderr",
     "output_type": "stream",
     "text": [
      "WARNING:absl:Found untraced functions such as _update_step_xla while saving (showing 1 of 1). These functions will not be directly callable after loading.\n"
     ]
    },
    {
     "metadata": {
      "tags": null
     },
     "name": "stdout",
     "output_type": "stream",
     "text": [
      "82/82 [==============================] - 21s 255ms/step - loss: 0.4149 - mae: 0.5979 - val_loss: 0.3998 - val_mae: 0.5848\n",
      "Epoch 15/500\n",
      "81/82 [============================>.] - ETA: 0s - loss: 0.4137 - mae: 0.5968"
     ]
    },
    {
     "metadata": {
      "tags": null
     },
     "name": "stderr",
     "output_type": "stream",
     "text": [
      "WARNING:absl:Found untraced functions such as _update_step_xla while saving (showing 1 of 1). These functions will not be directly callable after loading.\n"
     ]
    },
    {
     "metadata": {
      "tags": null
     },
     "name": "stdout",
     "output_type": "stream",
     "text": [
      "82/82 [==============================] - 23s 276ms/step - loss: 0.4136 - mae: 0.5967 - val_loss: 0.3978 - val_mae: 0.5831\n",
      "Epoch 16/500\n",
      "81/82 [============================>.] - ETA: 0s - loss: 0.4113 - mae: 0.5952"
     ]
    },
    {
     "metadata": {
      "tags": null
     },
     "name": "stderr",
     "output_type": "stream",
     "text": [
      "WARNING:absl:Found untraced functions such as _update_step_xla while saving (showing 1 of 1). These functions will not be directly callable after loading.\n"
     ]
    },
    {
     "metadata": {
      "tags": null
     },
     "name": "stdout",
     "output_type": "stream",
     "text": [
      "82/82 [==============================] - 21s 256ms/step - loss: 0.4115 - mae: 0.5954 - val_loss: 0.3958 - val_mae: 0.5814\n",
      "Epoch 17/500\n",
      "81/82 [============================>.] - ETA: 0s - loss: 0.4087 - mae: 0.5930"
     ]
    },
    {
     "metadata": {
      "tags": null
     },
     "name": "stderr",
     "output_type": "stream",
     "text": [
      "WARNING:absl:Found untraced functions such as _update_step_xla while saving (showing 1 of 1). These functions will not be directly callable after loading.\n"
     ]
    },
    {
     "metadata": {
      "tags": null
     },
     "name": "stdout",
     "output_type": "stream",
     "text": [
      "82/82 [==============================] - 22s 267ms/step - loss: 0.4087 - mae: 0.5931 - val_loss: 0.3938 - val_mae: 0.5798\n",
      "Epoch 18/500\n",
      "81/82 [============================>.] - ETA: 0s - loss: 0.4071 - mae: 0.5916"
     ]
    },
    {
     "metadata": {
      "tags": null
     },
     "name": "stderr",
     "output_type": "stream",
     "text": [
      "WARNING:absl:Found untraced functions such as _update_step_xla while saving (showing 1 of 1). These functions will not be directly callable after loading.\n"
     ]
    },
    {
     "metadata": {
      "tags": null
     },
     "name": "stdout",
     "output_type": "stream",
     "text": [
      "82/82 [==============================] - 23s 277ms/step - loss: 0.4071 - mae: 0.5916 - val_loss: 0.3918 - val_mae: 0.5782\n",
      "Epoch 19/500\n",
      "82/82 [==============================] - ETA: 0s - loss: 0.4053 - mae: 0.5900"
     ]
    },
    {
     "metadata": {
      "tags": null
     },
     "name": "stderr",
     "output_type": "stream",
     "text": [
      "WARNING:absl:Found untraced functions such as _update_step_xla while saving (showing 1 of 1). These functions will not be directly callable after loading.\n"
     ]
    },
    {
     "metadata": {
      "tags": null
     },
     "name": "stdout",
     "output_type": "stream",
     "text": [
      "82/82 [==============================] - 24s 293ms/step - loss: 0.4053 - mae: 0.5900 - val_loss: 0.3898 - val_mae: 0.5766\n",
      "Epoch 20/500\n",
      "82/82 [==============================] - ETA: 0s - loss: 0.4035 - mae: 0.5886"
     ]
    },
    {
     "metadata": {
      "tags": null
     },
     "name": "stderr",
     "output_type": "stream",
     "text": [
      "WARNING:absl:Found untraced functions such as _update_step_xla while saving (showing 1 of 1). These functions will not be directly callable after loading.\n"
     ]
    },
    {
     "metadata": {
      "tags": null
     },
     "name": "stdout",
     "output_type": "stream",
     "text": [
      "82/82 [==============================] - 23s 280ms/step - loss: 0.4035 - mae: 0.5886 - val_loss: 0.3878 - val_mae: 0.5750\n",
      "Epoch 21/500\n",
      "81/82 [============================>.] - ETA: 0s - loss: 0.4016 - mae: 0.5864"
     ]
    },
    {
     "metadata": {
      "tags": null
     },
     "name": "stderr",
     "output_type": "stream",
     "text": [
      "WARNING:absl:Found untraced functions such as _update_step_xla while saving (showing 1 of 1). These functions will not be directly callable after loading.\n"
     ]
    },
    {
     "metadata": {
      "tags": null
     },
     "name": "stdout",
     "output_type": "stream",
     "text": [
      "82/82 [==============================] - 22s 267ms/step - loss: 0.4015 - mae: 0.5864 - val_loss: 0.3858 - val_mae: 0.5734\n",
      "Epoch 22/500\n",
      "82/82 [==============================] - ETA: 0s - loss: 0.3994 - mae: 0.5850"
     ]
    },
    {
     "metadata": {
      "tags": null
     },
     "name": "stderr",
     "output_type": "stream",
     "text": [
      "WARNING:absl:Found untraced functions such as _update_step_xla while saving (showing 1 of 1). These functions will not be directly callable after loading.\n"
     ]
    },
    {
     "metadata": {
      "tags": null
     },
     "name": "stdout",
     "output_type": "stream",
     "text": [
      "82/82 [==============================] - 22s 267ms/step - loss: 0.3994 - mae: 0.5850 - val_loss: 0.3838 - val_mae: 0.5718\n",
      "Epoch 23/500\n",
      "81/82 [============================>.] - ETA: 0s - loss: 0.3959 - mae: 0.5828"
     ]
    },
    {
     "metadata": {
      "tags": null
     },
     "name": "stderr",
     "output_type": "stream",
     "text": [
      "WARNING:absl:Found untraced functions such as _update_step_xla while saving (showing 1 of 1). These functions will not be directly callable after loading.\n"
     ]
    },
    {
     "metadata": {
      "tags": null
     },
     "name": "stdout",
     "output_type": "stream",
     "text": [
      "82/82 [==============================] - 22s 264ms/step - loss: 0.3960 - mae: 0.5829 - val_loss: 0.3818 - val_mae: 0.5702\n",
      "Epoch 24/500\n",
      "82/82 [==============================] - ETA: 0s - loss: 0.3952 - mae: 0.5815"
     ]
    },
    {
     "metadata": {
      "tags": null
     },
     "name": "stderr",
     "output_type": "stream",
     "text": [
      "WARNING:absl:Found untraced functions such as _update_step_xla while saving (showing 1 of 1). These functions will not be directly callable after loading.\n"
     ]
    },
    {
     "metadata": {
      "tags": null
     },
     "name": "stdout",
     "output_type": "stream",
     "text": [
      "82/82 [==============================] - 23s 275ms/step - loss: 0.3952 - mae: 0.5815 - val_loss: 0.3798 - val_mae: 0.5686\n",
      "Epoch 25/500\n",
      "82/82 [==============================] - ETA: 0s - loss: 0.3926 - mae: 0.5798"
     ]
    },
    {
     "metadata": {
      "tags": null
     },
     "name": "stderr",
     "output_type": "stream",
     "text": [
      "WARNING:absl:Found untraced functions such as _update_step_xla while saving (showing 1 of 1). These functions will not be directly callable after loading.\n"
     ]
    },
    {
     "metadata": {
      "tags": null
     },
     "name": "stdout",
     "output_type": "stream",
     "text": [
      "82/82 [==============================] - 24s 301ms/step - loss: 0.3926 - mae: 0.5798 - val_loss: 0.3778 - val_mae: 0.5670\n",
      "Epoch 26/500\n",
      "82/82 [==============================] - ETA: 0s - loss: 0.3910 - mae: 0.5784"
     ]
    },
    {
     "metadata": {
      "tags": null
     },
     "name": "stderr",
     "output_type": "stream",
     "text": [
      "WARNING:absl:Found untraced functions such as _update_step_xla while saving (showing 1 of 1). These functions will not be directly callable after loading.\n"
     ]
    },
    {
     "metadata": {
      "tags": null
     },
     "name": "stdout",
     "output_type": "stream",
     "text": [
      "82/82 [==============================] - 23s 281ms/step - loss: 0.3910 - mae: 0.5784 - val_loss: 0.3759 - val_mae: 0.5654\n",
      "Epoch 27/500\n",
      "81/82 [============================>.] - ETA: 0s - loss: 0.3903 - mae: 0.5775"
     ]
    },
    {
     "metadata": {
      "tags": null
     },
     "name": "stderr",
     "output_type": "stream",
     "text": [
      "WARNING:absl:Found untraced functions such as _update_step_xla while saving (showing 1 of 1). These functions will not be directly callable after loading.\n"
     ]
    },
    {
     "metadata": {
      "tags": null
     },
     "name": "stdout",
     "output_type": "stream",
     "text": [
      "82/82 [==============================] - 22s 265ms/step - loss: 0.3904 - mae: 0.5776 - val_loss: 0.3740 - val_mae: 0.5638\n",
      "Epoch 28/500\n",
      "82/82 [==============================] - ETA: 0s - loss: 0.3865 - mae: 0.5750"
     ]
    },
    {
     "metadata": {
      "tags": null
     },
     "name": "stderr",
     "output_type": "stream",
     "text": [
      "WARNING:absl:Found untraced functions such as _update_step_xla while saving (showing 1 of 1). These functions will not be directly callable after loading.\n"
     ]
    },
    {
     "metadata": {
      "tags": null
     },
     "name": "stdout",
     "output_type": "stream",
     "text": [
      "82/82 [==============================] - 23s 284ms/step - loss: 0.3865 - mae: 0.5750 - val_loss: 0.3721 - val_mae: 0.5623\n",
      "Epoch 29/500\n",
      "81/82 [============================>.] - ETA: 0s - loss: 0.3844 - mae: 0.5728"
     ]
    },
    {
     "metadata": {
      "tags": null
     },
     "name": "stderr",
     "output_type": "stream",
     "text": [
      "WARNING:absl:Found untraced functions such as _update_step_xla while saving (showing 1 of 1). These functions will not be directly callable after loading.\n"
     ]
    },
    {
     "metadata": {
      "tags": null
     },
     "name": "stdout",
     "output_type": "stream",
     "text": [
      "82/82 [==============================] - 22s 264ms/step - loss: 0.3844 - mae: 0.5729 - val_loss: 0.3701 - val_mae: 0.5607\n",
      "Epoch 30/500\n",
      "81/82 [============================>.] - ETA: 0s - loss: 0.3839 - mae: 0.5726"
     ]
    },
    {
     "metadata": {
      "tags": null
     },
     "name": "stderr",
     "output_type": "stream",
     "text": [
      "WARNING:absl:Found untraced functions such as _update_step_xla while saving (showing 1 of 1). These functions will not be directly callable after loading.\n"
     ]
    },
    {
     "metadata": {
      "tags": null
     },
     "name": "stdout",
     "output_type": "stream",
     "text": [
      "82/82 [==============================] - 22s 271ms/step - loss: 0.3839 - mae: 0.5725 - val_loss: 0.3682 - val_mae: 0.5591\n",
      "Epoch 31/500\n",
      "81/82 [============================>.] - ETA: 0s - loss: 0.3801 - mae: 0.5697"
     ]
    },
    {
     "metadata": {
      "tags": null
     },
     "name": "stderr",
     "output_type": "stream",
     "text": [
      "WARNING:absl:Found untraced functions such as _update_step_xla while saving (showing 1 of 1). These functions will not be directly callable after loading.\n"
     ]
    },
    {
     "metadata": {
      "tags": null
     },
     "name": "stdout",
     "output_type": "stream",
     "text": [
      "82/82 [==============================] - 25s 301ms/step - loss: 0.3801 - mae: 0.5696 - val_loss: 0.3659 - val_mae: 0.5572\n",
      "Epoch 32/500\n",
      "81/82 [============================>.] - ETA: 0s - loss: 0.3783 - mae: 0.5678"
     ]
    },
    {
     "metadata": {
      "tags": null
     },
     "name": "stderr",
     "output_type": "stream",
     "text": [
      "WARNING:absl:Found untraced functions such as _update_step_xla while saving (showing 1 of 1). These functions will not be directly callable after loading.\n"
     ]
    },
    {
     "metadata": {
      "tags": null
     },
     "name": "stdout",
     "output_type": "stream",
     "text": [
      "82/82 [==============================] - 24s 288ms/step - loss: 0.3781 - mae: 0.5677 - val_loss: 0.3636 - val_mae: 0.5553\n",
      "Epoch 33/500\n",
      "81/82 [============================>.] - ETA: 0s - loss: 0.3759 - mae: 0.5657"
     ]
    },
    {
     "metadata": {
      "tags": null
     },
     "name": "stderr",
     "output_type": "stream",
     "text": [
      "WARNING:absl:Found untraced functions such as _update_step_xla while saving (showing 1 of 1). These functions will not be directly callable after loading.\n"
     ]
    },
    {
     "metadata": {
      "tags": null
     },
     "name": "stdout",
     "output_type": "stream",
     "text": [
      "82/82 [==============================] - 21s 258ms/step - loss: 0.3758 - mae: 0.5656 - val_loss: 0.3614 - val_mae: 0.5534\n",
      "Epoch 34/500\n",
      "81/82 [============================>.] - ETA: 0s - loss: 0.3728 - mae: 0.5631"
     ]
    },
    {
     "metadata": {
      "tags": null
     },
     "name": "stderr",
     "output_type": "stream",
     "text": [
      "WARNING:absl:Found untraced functions such as _update_step_xla while saving (showing 1 of 1). These functions will not be directly callable after loading.\n"
     ]
    },
    {
     "metadata": {
      "tags": null
     },
     "name": "stdout",
     "output_type": "stream",
     "text": [
      "82/82 [==============================] - 22s 265ms/step - loss: 0.3729 - mae: 0.5631 - val_loss: 0.3592 - val_mae: 0.5516\n",
      "Epoch 35/500\n",
      "81/82 [============================>.] - ETA: 0s - loss: 0.3712 - mae: 0.5616"
     ]
    },
    {
     "metadata": {
      "tags": null
     },
     "name": "stderr",
     "output_type": "stream",
     "text": [
      "WARNING:absl:Found untraced functions such as _update_step_xla while saving (showing 1 of 1). These functions will not be directly callable after loading.\n"
     ]
    },
    {
     "metadata": {
      "tags": null
     },
     "name": "stdout",
     "output_type": "stream",
     "text": [
      "82/82 [==============================] - 21s 256ms/step - loss: 0.3713 - mae: 0.5617 - val_loss: 0.3570 - val_mae: 0.5498\n",
      "Epoch 36/500\n",
      "81/82 [============================>.] - ETA: 0s - loss: 0.3697 - mae: 0.5604"
     ]
    },
    {
     "metadata": {
      "tags": null
     },
     "name": "stderr",
     "output_type": "stream",
     "text": [
      "WARNING:absl:Found untraced functions such as _update_step_xla while saving (showing 1 of 1). These functions will not be directly callable after loading.\n"
     ]
    },
    {
     "metadata": {
      "tags": null
     },
     "name": "stdout",
     "output_type": "stream",
     "text": [
      "82/82 [==============================] - 22s 267ms/step - loss: 0.3696 - mae: 0.5603 - val_loss: 0.3549 - val_mae: 0.5480\n",
      "Epoch 37/500\n",
      "82/82 [==============================] - ETA: 0s - loss: 0.3682 - mae: 0.5591"
     ]
    },
    {
     "metadata": {
      "tags": null
     },
     "name": "stderr",
     "output_type": "stream",
     "text": [
      "WARNING:absl:Found untraced functions such as _update_step_xla while saving (showing 1 of 1). These functions will not be directly callable after loading.\n"
     ]
    },
    {
     "metadata": {
      "tags": null
     },
     "name": "stdout",
     "output_type": "stream",
     "text": [
      "82/82 [==============================] - 22s 268ms/step - loss: 0.3682 - mae: 0.5591 - val_loss: 0.3528 - val_mae: 0.5462\n",
      "Epoch 38/500\n",
      "81/82 [============================>.] - ETA: 0s - loss: 0.3657 - mae: 0.5568"
     ]
    },
    {
     "metadata": {
      "tags": null
     },
     "name": "stderr",
     "output_type": "stream",
     "text": [
      "WARNING:absl:Found untraced functions such as _update_step_xla while saving (showing 1 of 1). These functions will not be directly callable after loading.\n"
     ]
    },
    {
     "metadata": {
      "tags": null
     },
     "name": "stdout",
     "output_type": "stream",
     "text": [
      "82/82 [==============================] - 21s 255ms/step - loss: 0.3658 - mae: 0.5568 - val_loss: 0.3507 - val_mae: 0.5444\n",
      "Epoch 39/500\n",
      "81/82 [============================>.] - ETA: 0s - loss: 0.3636 - mae: 0.5551"
     ]
    },
    {
     "metadata": {
      "tags": null
     },
     "name": "stderr",
     "output_type": "stream",
     "text": [
      "WARNING:absl:Found untraced functions such as _update_step_xla while saving (showing 1 of 1). These functions will not be directly callable after loading.\n"
     ]
    },
    {
     "metadata": {
      "tags": null
     },
     "name": "stdout",
     "output_type": "stream",
     "text": [
      "82/82 [==============================] - 21s 259ms/step - loss: 0.3635 - mae: 0.5550 - val_loss: 0.3486 - val_mae: 0.5426\n",
      "Epoch 40/500\n",
      "81/82 [============================>.] - ETA: 0s - loss: 0.3614 - mae: 0.5529"
     ]
    },
    {
     "metadata": {
      "tags": null
     },
     "name": "stderr",
     "output_type": "stream",
     "text": [
      "WARNING:absl:Found untraced functions such as _update_step_xla while saving (showing 1 of 1). These functions will not be directly callable after loading.\n"
     ]
    },
    {
     "metadata": {
      "tags": null
     },
     "name": "stdout",
     "output_type": "stream",
     "text": [
      "82/82 [==============================] - 21s 255ms/step - loss: 0.3612 - mae: 0.5527 - val_loss: 0.3465 - val_mae: 0.5409\n",
      "Epoch 41/500\n",
      "81/82 [============================>.] - ETA: 0s - loss: 0.3583 - mae: 0.5506"
     ]
    },
    {
     "metadata": {
      "tags": null
     },
     "name": "stderr",
     "output_type": "stream",
     "text": [
      "WARNING:absl:Found untraced functions such as _update_step_xla while saving (showing 1 of 1). These functions will not be directly callable after loading.\n"
     ]
    },
    {
     "metadata": {
      "tags": null
     },
     "name": "stdout",
     "output_type": "stream",
     "text": [
      "82/82 [==============================] - 22s 273ms/step - loss: 0.3583 - mae: 0.5507 - val_loss: 0.3445 - val_mae: 0.5391\n",
      "Epoch 42/500\n",
      "81/82 [============================>.] - ETA: 0s - loss: 0.3572 - mae: 0.5495"
     ]
    },
    {
     "metadata": {
      "tags": null
     },
     "name": "stderr",
     "output_type": "stream",
     "text": [
      "WARNING:absl:Found untraced functions such as _update_step_xla while saving (showing 1 of 1). These functions will not be directly callable after loading.\n"
     ]
    },
    {
     "metadata": {
      "tags": null
     },
     "name": "stdout",
     "output_type": "stream",
     "text": [
      "82/82 [==============================] - 21s 253ms/step - loss: 0.3573 - mae: 0.5495 - val_loss: 0.3424 - val_mae: 0.5374\n",
      "Epoch 43/500\n",
      "81/82 [============================>.] - ETA: 0s - loss: 0.3558 - mae: 0.5481"
     ]
    },
    {
     "metadata": {
      "tags": null
     },
     "name": "stderr",
     "output_type": "stream",
     "text": [
      "WARNING:absl:Found untraced functions such as _update_step_xla while saving (showing 1 of 1). These functions will not be directly callable after loading.\n"
     ]
    },
    {
     "metadata": {
      "tags": null
     },
     "name": "stdout",
     "output_type": "stream",
     "text": [
      "82/82 [==============================] - 21s 260ms/step - loss: 0.3558 - mae: 0.5482 - val_loss: 0.3404 - val_mae: 0.5356\n",
      "Epoch 44/500\n",
      "82/82 [==============================] - ETA: 0s - loss: 0.3532 - mae: 0.5457"
     ]
    },
    {
     "metadata": {
      "tags": null
     },
     "name": "stderr",
     "output_type": "stream",
     "text": [
      "WARNING:absl:Found untraced functions such as _update_step_xla while saving (showing 1 of 1). These functions will not be directly callable after loading.\n"
     ]
    },
    {
     "metadata": {
      "tags": null
     },
     "name": "stdout",
     "output_type": "stream",
     "text": [
      "82/82 [==============================] - 22s 266ms/step - loss: 0.3532 - mae: 0.5457 - val_loss: 0.3383 - val_mae: 0.5338\n",
      "Epoch 45/500\n",
      "82/82 [==============================] - ETA: 0s - loss: 0.3516 - mae: 0.5443"
     ]
    },
    {
     "metadata": {
      "tags": null
     },
     "name": "stderr",
     "output_type": "stream",
     "text": [
      "WARNING:absl:Found untraced functions such as _update_step_xla while saving (showing 1 of 1). These functions will not be directly callable after loading.\n"
     ]
    },
    {
     "metadata": {
      "tags": null
     },
     "name": "stdout",
     "output_type": "stream",
     "text": [
      "82/82 [==============================] - 22s 266ms/step - loss: 0.3516 - mae: 0.5443 - val_loss: 0.3363 - val_mae: 0.5321\n",
      "Epoch 46/500\n",
      "81/82 [============================>.] - ETA: 0s - loss: 0.3490 - mae: 0.5422"
     ]
    },
    {
     "metadata": {
      "tags": null
     },
     "name": "stderr",
     "output_type": "stream",
     "text": [
      "WARNING:absl:Found untraced functions such as _update_step_xla while saving (showing 1 of 1). These functions will not be directly callable after loading.\n"
     ]
    },
    {
     "metadata": {
      "tags": null
     },
     "name": "stdout",
     "output_type": "stream",
     "text": [
      "82/82 [==============================] - 22s 264ms/step - loss: 0.3490 - mae: 0.5422 - val_loss: 0.3337 - val_mae: 0.5298\n",
      "Epoch 47/500\n",
      "81/82 [============================>.] - ETA: 0s - loss: 0.3457 - mae: 0.5392"
     ]
    },
    {
     "metadata": {
      "tags": null
     },
     "name": "stderr",
     "output_type": "stream",
     "text": [
      "WARNING:absl:Found untraced functions such as _update_step_xla while saving (showing 1 of 1). These functions will not be directly callable after loading.\n"
     ]
    },
    {
     "metadata": {
      "tags": null
     },
     "name": "stdout",
     "output_type": "stream",
     "text": [
      "82/82 [==============================] - 21s 257ms/step - loss: 0.3457 - mae: 0.5392 - val_loss: 0.3314 - val_mae: 0.5278\n",
      "Epoch 48/500\n",
      "81/82 [============================>.] - ETA: 0s - loss: 0.3446 - mae: 0.5384"
     ]
    },
    {
     "metadata": {
      "tags": null
     },
     "name": "stderr",
     "output_type": "stream",
     "text": [
      "WARNING:absl:Found untraced functions such as _update_step_xla while saving (showing 1 of 1). These functions will not be directly callable after loading.\n"
     ]
    },
    {
     "metadata": {
      "tags": null
     },
     "name": "stdout",
     "output_type": "stream",
     "text": [
      "82/82 [==============================] - 21s 263ms/step - loss: 0.3446 - mae: 0.5385 - val_loss: 0.3292 - val_mae: 0.5259\n",
      "Epoch 49/500\n",
      "82/82 [==============================] - ETA: 0s - loss: 0.3414 - mae: 0.5355"
     ]
    },
    {
     "metadata": {
      "tags": null
     },
     "name": "stderr",
     "output_type": "stream",
     "text": [
      "WARNING:absl:Found untraced functions such as _update_step_xla while saving (showing 1 of 1). These functions will not be directly callable after loading.\n"
     ]
    },
    {
     "metadata": {
      "tags": null
     },
     "name": "stdout",
     "output_type": "stream",
     "text": [
      "82/82 [==============================] - 22s 266ms/step - loss: 0.3414 - mae: 0.5355 - val_loss: 0.3270 - val_mae: 0.5239\n",
      "Epoch 50/500\n",
      "81/82 [============================>.] - ETA: 0s - loss: 0.3384 - mae: 0.5329"
     ]
    },
    {
     "metadata": {
      "tags": null
     },
     "name": "stderr",
     "output_type": "stream",
     "text": [
      "WARNING:absl:Found untraced functions such as _update_step_xla while saving (showing 1 of 1). These functions will not be directly callable after loading.\n"
     ]
    },
    {
     "metadata": {
      "tags": null
     },
     "name": "stdout",
     "output_type": "stream",
     "text": [
      "82/82 [==============================] - 21s 256ms/step - loss: 0.3383 - mae: 0.5328 - val_loss: 0.3249 - val_mae: 0.5220\n",
      "Epoch 51/500\n",
      "82/82 [==============================] - ETA: 0s - loss: 0.3366 - mae: 0.5314"
     ]
    },
    {
     "metadata": {
      "tags": null
     },
     "name": "stderr",
     "output_type": "stream",
     "text": [
      "WARNING:absl:Found untraced functions such as _update_step_xla while saving (showing 1 of 1). These functions will not be directly callable after loading.\n"
     ]
    },
    {
     "metadata": {
      "tags": null
     },
     "name": "stdout",
     "output_type": "stream",
     "text": [
      "82/82 [==============================] - 22s 267ms/step - loss: 0.3366 - mae: 0.5314 - val_loss: 0.3228 - val_mae: 0.5202\n",
      "Epoch 52/500\n",
      "81/82 [============================>.] - ETA: 0s - loss: 0.3351 - mae: 0.5299"
     ]
    },
    {
     "metadata": {
      "tags": null
     },
     "name": "stderr",
     "output_type": "stream",
     "text": [
      "WARNING:absl:Found untraced functions such as _update_step_xla while saving (showing 1 of 1). These functions will not be directly callable after loading.\n"
     ]
    },
    {
     "metadata": {
      "tags": null
     },
     "name": "stdout",
     "output_type": "stream",
     "text": [
      "82/82 [==============================] - 21s 256ms/step - loss: 0.3349 - mae: 0.5298 - val_loss: 0.3207 - val_mae: 0.5183\n",
      "Epoch 53/500\n",
      "81/82 [============================>.] - ETA: 0s - loss: 0.3327 - mae: 0.5276"
     ]
    },
    {
     "metadata": {
      "tags": null
     },
     "name": "stderr",
     "output_type": "stream",
     "text": [
      "WARNING:absl:Found untraced functions such as _update_step_xla while saving (showing 1 of 1). These functions will not be directly callable after loading.\n"
     ]
    },
    {
     "metadata": {
      "tags": null
     },
     "name": "stdout",
     "output_type": "stream",
     "text": [
      "82/82 [==============================] - 23s 280ms/step - loss: 0.3328 - mae: 0.5276 - val_loss: 0.3186 - val_mae: 0.5164\n",
      "Epoch 54/500\n",
      "81/82 [============================>.] - ETA: 0s - loss: 0.3299 - mae: 0.5253"
     ]
    },
    {
     "metadata": {
      "tags": null
     },
     "name": "stderr",
     "output_type": "stream",
     "text": [
      "WARNING:absl:Found untraced functions such as _update_step_xla while saving (showing 1 of 1). These functions will not be directly callable after loading.\n"
     ]
    },
    {
     "metadata": {
      "tags": null
     },
     "name": "stdout",
     "output_type": "stream",
     "text": [
      "82/82 [==============================] - 21s 256ms/step - loss: 0.3299 - mae: 0.5253 - val_loss: 0.3165 - val_mae: 0.5145\n",
      "Epoch 55/500\n",
      "81/82 [============================>.] - ETA: 0s - loss: 0.3285 - mae: 0.5239"
     ]
    },
    {
     "metadata": {
      "tags": null
     },
     "name": "stderr",
     "output_type": "stream",
     "text": [
      "WARNING:absl:Found untraced functions such as _update_step_xla while saving (showing 1 of 1). These functions will not be directly callable after loading.\n"
     ]
    },
    {
     "metadata": {
      "tags": null
     },
     "name": "stdout",
     "output_type": "stream",
     "text": [
      "82/82 [==============================] - 21s 263ms/step - loss: 0.3285 - mae: 0.5240 - val_loss: 0.3144 - val_mae: 0.5127\n",
      "Epoch 56/500\n",
      "82/82 [==============================] - ETA: 0s - loss: 0.3269 - mae: 0.5220"
     ]
    },
    {
     "metadata": {
      "tags": null
     },
     "name": "stderr",
     "output_type": "stream",
     "text": [
      "WARNING:absl:Found untraced functions such as _update_step_xla while saving (showing 1 of 1). These functions will not be directly callable after loading.\n"
     ]
    },
    {
     "metadata": {
      "tags": null
     },
     "name": "stdout",
     "output_type": "stream",
     "text": [
      "82/82 [==============================] - 21s 253ms/step - loss: 0.3269 - mae: 0.5220 - val_loss: 0.3124 - val_mae: 0.5108\n",
      "Epoch 57/500\n",
      "81/82 [============================>.] - ETA: 0s - loss: 0.3250 - mae: 0.5207"
     ]
    },
    {
     "metadata": {
      "tags": null
     },
     "name": "stderr",
     "output_type": "stream",
     "text": [
      "WARNING:absl:Found untraced functions such as _update_step_xla while saving (showing 1 of 1). These functions will not be directly callable after loading.\n"
     ]
    },
    {
     "metadata": {
      "tags": null
     },
     "name": "stdout",
     "output_type": "stream",
     "text": [
      "82/82 [==============================] - 21s 257ms/step - loss: 0.3248 - mae: 0.5205 - val_loss: 0.3103 - val_mae: 0.5089\n",
      "Epoch 58/500\n",
      "81/82 [============================>.] - ETA: 0s - loss: 0.3219 - mae: 0.5177"
     ]
    },
    {
     "metadata": {
      "tags": null
     },
     "name": "stderr",
     "output_type": "stream",
     "text": [
      "WARNING:absl:Found untraced functions such as _update_step_xla while saving (showing 1 of 1). These functions will not be directly callable after loading.\n"
     ]
    },
    {
     "metadata": {
      "tags": null
     },
     "name": "stdout",
     "output_type": "stream",
     "text": [
      "82/82 [==============================] - 23s 280ms/step - loss: 0.3218 - mae: 0.5177 - val_loss: 0.3083 - val_mae: 0.5071\n",
      "Epoch 59/500\n",
      "81/82 [============================>.] - ETA: 0s - loss: 0.3216 - mae: 0.5169"
     ]
    },
    {
     "metadata": {
      "tags": null
     },
     "name": "stderr",
     "output_type": "stream",
     "text": [
      "WARNING:absl:Found untraced functions such as _update_step_xla while saving (showing 1 of 1). These functions will not be directly callable after loading.\n"
     ]
    },
    {
     "metadata": {
      "tags": null
     },
     "name": "stdout",
     "output_type": "stream",
     "text": [
      "82/82 [==============================] - 20s 248ms/step - loss: 0.3216 - mae: 0.5169 - val_loss: 0.3063 - val_mae: 0.5052\n",
      "Epoch 60/500\n",
      "81/82 [============================>.] - ETA: 0s - loss: 0.3188 - mae: 0.5143"
     ]
    },
    {
     "metadata": {
      "tags": null
     },
     "name": "stderr",
     "output_type": "stream",
     "text": [
      "WARNING:absl:Found untraced functions such as _update_step_xla while saving (showing 1 of 1). These functions will not be directly callable after loading.\n"
     ]
    },
    {
     "metadata": {
      "tags": null
     },
     "name": "stdout",
     "output_type": "stream",
     "text": [
      "82/82 [==============================] - 27s 330ms/step - loss: 0.3189 - mae: 0.5144 - val_loss: 0.3042 - val_mae: 0.5033\n",
      "Epoch 61/500\n",
      "81/82 [============================>.] - ETA: 0s - loss: 0.3157 - mae: 0.5122"
     ]
    },
    {
     "metadata": {
      "tags": null
     },
     "name": "stderr",
     "output_type": "stream",
     "text": [
      "WARNING:absl:Found untraced functions such as _update_step_xla while saving (showing 1 of 1). These functions will not be directly callable after loading.\n"
     ]
    },
    {
     "metadata": {
      "tags": null
     },
     "name": "stdout",
     "output_type": "stream",
     "text": [
      "82/82 [==============================] - 20s 247ms/step - loss: 0.3157 - mae: 0.5122 - val_loss: 0.3022 - val_mae: 0.5014\n",
      "Epoch 62/500\n",
      "81/82 [============================>.] - ETA: 0s - loss: 0.3144 - mae: 0.5106"
     ]
    },
    {
     "metadata": {
      "tags": null
     },
     "name": "stderr",
     "output_type": "stream",
     "text": [
      "WARNING:absl:Found untraced functions such as _update_step_xla while saving (showing 1 of 1). These functions will not be directly callable after loading.\n"
     ]
    },
    {
     "metadata": {
      "tags": null
     },
     "name": "stdout",
     "output_type": "stream",
     "text": [
      "82/82 [==============================] - 21s 260ms/step - loss: 0.3144 - mae: 0.5106 - val_loss: 0.3002 - val_mae: 0.4996\n",
      "Epoch 63/500\n",
      "82/82 [==============================] - ETA: 0s - loss: 0.3128 - mae: 0.5087"
     ]
    },
    {
     "metadata": {
      "tags": null
     },
     "name": "stderr",
     "output_type": "stream",
     "text": [
      "WARNING:absl:Found untraced functions such as _update_step_xla while saving (showing 1 of 1). These functions will not be directly callable after loading.\n"
     ]
    },
    {
     "metadata": {
      "tags": null
     },
     "name": "stdout",
     "output_type": "stream",
     "text": [
      "82/82 [==============================] - 21s 258ms/step - loss: 0.3128 - mae: 0.5087 - val_loss: 0.2981 - val_mae: 0.4977\n",
      "Epoch 64/500\n",
      "81/82 [============================>.] - ETA: 0s - loss: 0.3095 - mae: 0.5059"
     ]
    },
    {
     "metadata": {
      "tags": null
     },
     "name": "stderr",
     "output_type": "stream",
     "text": [
      "WARNING:absl:Found untraced functions such as _update_step_xla while saving (showing 1 of 1). These functions will not be directly callable after loading.\n"
     ]
    },
    {
     "metadata": {
      "tags": null
     },
     "name": "stdout",
     "output_type": "stream",
     "text": [
      "82/82 [==============================] - 20s 249ms/step - loss: 0.3097 - mae: 0.5061 - val_loss: 0.2961 - val_mae: 0.4958\n",
      "Epoch 65/500\n",
      "81/82 [============================>.] - ETA: 0s - loss: 0.3083 - mae: 0.5047"
     ]
    },
    {
     "metadata": {
      "tags": null
     },
     "name": "stderr",
     "output_type": "stream",
     "text": [
      "WARNING:absl:Found untraced functions such as _update_step_xla while saving (showing 1 of 1). These functions will not be directly callable after loading.\n"
     ]
    },
    {
     "metadata": {
      "tags": null
     },
     "name": "stdout",
     "output_type": "stream",
     "text": [
      "82/82 [==============================] - 21s 255ms/step - loss: 0.3082 - mae: 0.5047 - val_loss: 0.2941 - val_mae: 0.4939\n",
      "Epoch 66/500\n",
      "82/82 [==============================] - ETA: 0s - loss: 0.3066 - mae: 0.5031"
     ]
    },
    {
     "metadata": {
      "tags": null
     },
     "name": "stderr",
     "output_type": "stream",
     "text": [
      "WARNING:absl:Found untraced functions such as _update_step_xla while saving (showing 1 of 1). These functions will not be directly callable after loading.\n"
     ]
    },
    {
     "metadata": {
      "tags": null
     },
     "name": "stdout",
     "output_type": "stream",
     "text": [
      "82/82 [==============================] - 21s 253ms/step - loss: 0.3066 - mae: 0.5031 - val_loss: 0.2921 - val_mae: 0.4919\n",
      "Epoch 67/500\n",
      "81/82 [============================>.] - ETA: 0s - loss: 0.3050 - mae: 0.5017"
     ]
    },
    {
     "metadata": {
      "tags": null
     },
     "name": "stderr",
     "output_type": "stream",
     "text": [
      "WARNING:absl:Found untraced functions such as _update_step_xla while saving (showing 1 of 1). These functions will not be directly callable after loading.\n"
     ]
    },
    {
     "metadata": {
      "tags": null
     },
     "name": "stdout",
     "output_type": "stream",
     "text": [
      "82/82 [==============================] - 20s 250ms/step - loss: 0.3050 - mae: 0.5017 - val_loss: 0.2901 - val_mae: 0.4901\n",
      "Epoch 68/500\n",
      "81/82 [============================>.] - ETA: 0s - loss: 0.3034 - mae: 0.4999"
     ]
    },
    {
     "metadata": {
      "tags": null
     },
     "name": "stderr",
     "output_type": "stream",
     "text": [
      "WARNING:absl:Found untraced functions such as _update_step_xla while saving (showing 1 of 1). These functions will not be directly callable after loading.\n"
     ]
    },
    {
     "metadata": {
      "tags": null
     },
     "name": "stdout",
     "output_type": "stream",
     "text": [
      "82/82 [==============================] - 21s 254ms/step - loss: 0.3033 - mae: 0.4998 - val_loss: 0.2881 - val_mae: 0.4881\n",
      "Epoch 69/500\n",
      "81/82 [============================>.] - ETA: 0s - loss: 0.3002 - mae: 0.4968"
     ]
    },
    {
     "metadata": {
      "tags": null
     },
     "name": "stderr",
     "output_type": "stream",
     "text": [
      "WARNING:absl:Found untraced functions such as _update_step_xla while saving (showing 1 of 1). These functions will not be directly callable after loading.\n"
     ]
    },
    {
     "metadata": {
      "tags": null
     },
     "name": "stdout",
     "output_type": "stream",
     "text": [
      "82/82 [==============================] - 20s 249ms/step - loss: 0.3002 - mae: 0.4968 - val_loss: 0.2861 - val_mae: 0.4862\n",
      "Epoch 70/500\n",
      "81/82 [============================>.] - ETA: 0s - loss: 0.2981 - mae: 0.4947"
     ]
    },
    {
     "metadata": {
      "tags": null
     },
     "name": "stderr",
     "output_type": "stream",
     "text": [
      "WARNING:absl:Found untraced functions such as _update_step_xla while saving (showing 1 of 1). These functions will not be directly callable after loading.\n"
     ]
    },
    {
     "metadata": {
      "tags": null
     },
     "name": "stdout",
     "output_type": "stream",
     "text": [
      "82/82 [==============================] - 21s 261ms/step - loss: 0.2980 - mae: 0.4946 - val_loss: 0.2841 - val_mae: 0.4843\n",
      "Epoch 71/500\n",
      "82/82 [==============================] - ETA: 0s - loss: 0.2964 - mae: 0.4929"
     ]
    },
    {
     "metadata": {
      "tags": null
     },
     "name": "stderr",
     "output_type": "stream",
     "text": [
      "WARNING:absl:Found untraced functions such as _update_step_xla while saving (showing 1 of 1). These functions will not be directly callable after loading.\n"
     ]
    },
    {
     "metadata": {
      "tags": null
     },
     "name": "stdout",
     "output_type": "stream",
     "text": [
      "82/82 [==============================] - 21s 255ms/step - loss: 0.2964 - mae: 0.4929 - val_loss: 0.2821 - val_mae: 0.4824\n",
      "Epoch 72/500\n",
      "81/82 [============================>.] - ETA: 0s - loss: 0.2939 - mae: 0.4906"
     ]
    },
    {
     "metadata": {
      "tags": null
     },
     "name": "stderr",
     "output_type": "stream",
     "text": [
      "WARNING:absl:Found untraced functions such as _update_step_xla while saving (showing 1 of 1). These functions will not be directly callable after loading.\n"
     ]
    },
    {
     "metadata": {
      "tags": null
     },
     "name": "stdout",
     "output_type": "stream",
     "text": [
      "82/82 [==============================] - 20s 248ms/step - loss: 0.2940 - mae: 0.4908 - val_loss: 0.2801 - val_mae: 0.4804\n",
      "Epoch 73/500\n",
      "81/82 [============================>.] - ETA: 0s - loss: 0.2923 - mae: 0.4893"
     ]
    },
    {
     "metadata": {
      "tags": null
     },
     "name": "stderr",
     "output_type": "stream",
     "text": [
      "WARNING:absl:Found untraced functions such as _update_step_xla while saving (showing 1 of 1). These functions will not be directly callable after loading.\n"
     ]
    },
    {
     "metadata": {
      "tags": null
     },
     "name": "stdout",
     "output_type": "stream",
     "text": [
      "82/82 [==============================] - 21s 256ms/step - loss: 0.2923 - mae: 0.4893 - val_loss: 0.2781 - val_mae: 0.4785\n",
      "Epoch 74/500\n",
      "82/82 [==============================] - ETA: 0s - loss: 0.2896 - mae: 0.4868"
     ]
    },
    {
     "metadata": {
      "tags": null
     },
     "name": "stderr",
     "output_type": "stream",
     "text": [
      "WARNING:absl:Found untraced functions such as _update_step_xla while saving (showing 1 of 1). These functions will not be directly callable after loading.\n"
     ]
    },
    {
     "metadata": {
      "tags": null
     },
     "name": "stdout",
     "output_type": "stream",
     "text": [
      "82/82 [==============================] - 20s 245ms/step - loss: 0.2896 - mae: 0.4868 - val_loss: 0.2761 - val_mae: 0.4765\n",
      "Epoch 75/500\n",
      "81/82 [============================>.] - ETA: 0s - loss: 0.2889 - mae: 0.4855"
     ]
    },
    {
     "metadata": {
      "tags": null
     },
     "name": "stderr",
     "output_type": "stream",
     "text": [
      "WARNING:absl:Found untraced functions such as _update_step_xla while saving (showing 1 of 1). These functions will not be directly callable after loading.\n"
     ]
    },
    {
     "metadata": {
      "tags": null
     },
     "name": "stdout",
     "output_type": "stream",
     "text": [
      "82/82 [==============================] - 22s 264ms/step - loss: 0.2888 - mae: 0.4855 - val_loss: 0.2741 - val_mae: 0.4746\n",
      "Epoch 76/500\n",
      "81/82 [============================>.] - ETA: 0s - loss: 0.2870 - mae: 0.4840"
     ]
    },
    {
     "metadata": {
      "tags": null
     },
     "name": "stderr",
     "output_type": "stream",
     "text": [
      "WARNING:absl:Found untraced functions such as _update_step_xla while saving (showing 1 of 1). These functions will not be directly callable after loading.\n"
     ]
    },
    {
     "metadata": {
      "tags": null
     },
     "name": "stdout",
     "output_type": "stream",
     "text": [
      "82/82 [==============================] - 22s 271ms/step - loss: 0.2870 - mae: 0.4840 - val_loss: 0.2722 - val_mae: 0.4726\n",
      "Epoch 77/500\n",
      "81/82 [============================>.] - ETA: 0s - loss: 0.2837 - mae: 0.4809"
     ]
    },
    {
     "metadata": {
      "tags": null
     },
     "name": "stderr",
     "output_type": "stream",
     "text": [
      "WARNING:absl:Found untraced functions such as _update_step_xla while saving (showing 1 of 1). These functions will not be directly callable after loading.\n"
     ]
    },
    {
     "metadata": {
      "tags": null
     },
     "name": "stdout",
     "output_type": "stream",
     "text": [
      "82/82 [==============================] - 20s 248ms/step - loss: 0.2838 - mae: 0.4810 - val_loss: 0.2702 - val_mae: 0.4707\n",
      "Epoch 78/500\n",
      "82/82 [==============================] - ETA: 0s - loss: 0.2836 - mae: 0.4804"
     ]
    },
    {
     "metadata": {
      "tags": null
     },
     "name": "stderr",
     "output_type": "stream",
     "text": [
      "WARNING:absl:Found untraced functions such as _update_step_xla while saving (showing 1 of 1). These functions will not be directly callable after loading.\n"
     ]
    },
    {
     "metadata": {
      "tags": null
     },
     "name": "stdout",
     "output_type": "stream",
     "text": [
      "82/82 [==============================] - 21s 256ms/step - loss: 0.2836 - mae: 0.4804 - val_loss: 0.2682 - val_mae: 0.4687\n",
      "Epoch 79/500\n",
      "82/82 [==============================] - ETA: 0s - loss: 0.2810 - mae: 0.4779"
     ]
    },
    {
     "metadata": {
      "tags": null
     },
     "name": "stderr",
     "output_type": "stream",
     "text": [
      "WARNING:absl:Found untraced functions such as _update_step_xla while saving (showing 1 of 1). These functions will not be directly callable after loading.\n"
     ]
    },
    {
     "metadata": {
      "tags": null
     },
     "name": "stdout",
     "output_type": "stream",
     "text": [
      "82/82 [==============================] - 22s 265ms/step - loss: 0.2810 - mae: 0.4779 - val_loss: 0.2663 - val_mae: 0.4668\n",
      "Epoch 80/500\n",
      "81/82 [============================>.] - ETA: 0s - loss: 0.2781 - mae: 0.4749"
     ]
    },
    {
     "metadata": {
      "tags": null
     },
     "name": "stderr",
     "output_type": "stream",
     "text": [
      "WARNING:absl:Found untraced functions such as _update_step_xla while saving (showing 1 of 1). These functions will not be directly callable after loading.\n"
     ]
    },
    {
     "metadata": {
      "tags": null
     },
     "name": "stdout",
     "output_type": "stream",
     "text": [
      "82/82 [==============================] - 20s 250ms/step - loss: 0.2781 - mae: 0.4749 - val_loss: 0.2644 - val_mae: 0.4649\n",
      "Epoch 81/500\n",
      "81/82 [============================>.] - ETA: 0s - loss: 0.2762 - mae: 0.4733"
     ]
    },
    {
     "metadata": {
      "tags": null
     },
     "name": "stderr",
     "output_type": "stream",
     "text": [
      "WARNING:absl:Found untraced functions such as _update_step_xla while saving (showing 1 of 1). These functions will not be directly callable after loading.\n"
     ]
    },
    {
     "metadata": {
      "tags": null
     },
     "name": "stdout",
     "output_type": "stream",
     "text": [
      "82/82 [==============================] - 21s 261ms/step - loss: 0.2762 - mae: 0.4733 - val_loss: 0.2625 - val_mae: 0.4629\n",
      "Epoch 82/500\n",
      "81/82 [============================>.] - ETA: 0s - loss: 0.2748 - mae: 0.4719"
     ]
    },
    {
     "metadata": {
      "tags": null
     },
     "name": "stderr",
     "output_type": "stream",
     "text": [
      "WARNING:absl:Found untraced functions such as _update_step_xla while saving (showing 1 of 1). These functions will not be directly callable after loading.\n"
     ]
    },
    {
     "metadata": {
      "tags": null
     },
     "name": "stdout",
     "output_type": "stream",
     "text": [
      "82/82 [==============================] - 20s 248ms/step - loss: 0.2747 - mae: 0.4719 - val_loss: 0.2606 - val_mae: 0.4610\n",
      "Epoch 83/500\n",
      "81/82 [============================>.] - ETA: 0s - loss: 0.2722 - mae: 0.4689"
     ]
    },
    {
     "metadata": {
      "tags": null
     },
     "name": "stderr",
     "output_type": "stream",
     "text": [
      "WARNING:absl:Found untraced functions such as _update_step_xla while saving (showing 1 of 1). These functions will not be directly callable after loading.\n"
     ]
    },
    {
     "metadata": {
      "tags": null
     },
     "name": "stdout",
     "output_type": "stream",
     "text": [
      "82/82 [==============================] - 21s 261ms/step - loss: 0.2722 - mae: 0.4690 - val_loss: 0.2587 - val_mae: 0.4590\n",
      "Epoch 84/500\n",
      "82/82 [==============================] - ETA: 0s - loss: 0.2720 - mae: 0.4685"
     ]
    },
    {
     "metadata": {
      "tags": null
     },
     "name": "stderr",
     "output_type": "stream",
     "text": [
      "WARNING:absl:Found untraced functions such as _update_step_xla while saving (showing 1 of 1). These functions will not be directly callable after loading.\n"
     ]
    },
    {
     "metadata": {
      "tags": null
     },
     "name": "stdout",
     "output_type": "stream",
     "text": [
      "82/82 [==============================] - 20s 243ms/step - loss: 0.2720 - mae: 0.4685 - val_loss: 0.2568 - val_mae: 0.4571\n",
      "Epoch 85/500\n",
      "81/82 [============================>.] - ETA: 0s - loss: 0.2692 - mae: 0.4654"
     ]
    },
    {
     "metadata": {
      "tags": null
     },
     "name": "stderr",
     "output_type": "stream",
     "text": [
      "WARNING:absl:Found untraced functions such as _update_step_xla while saving (showing 1 of 1). These functions will not be directly callable after loading.\n"
     ]
    },
    {
     "metadata": {
      "tags": null
     },
     "name": "stdout",
     "output_type": "stream",
     "text": [
      "82/82 [==============================] - 20s 251ms/step - loss: 0.2692 - mae: 0.4654 - val_loss: 0.2549 - val_mae: 0.4551\n",
      "Epoch 86/500\n",
      "81/82 [============================>.] - ETA: 0s - loss: 0.2683 - mae: 0.4650"
     ]
    },
    {
     "metadata": {
      "tags": null
     },
     "name": "stderr",
     "output_type": "stream",
     "text": [
      "WARNING:absl:Found untraced functions such as _update_step_xla while saving (showing 1 of 1). These functions will not be directly callable after loading.\n"
     ]
    },
    {
     "metadata": {
      "tags": null
     },
     "name": "stdout",
     "output_type": "stream",
     "text": [
      "82/82 [==============================] - 21s 259ms/step - loss: 0.2682 - mae: 0.4649 - val_loss: 0.2530 - val_mae: 0.4531\n",
      "Epoch 87/500\n",
      "81/82 [============================>.] - ETA: 0s - loss: 0.2660 - mae: 0.4621"
     ]
    },
    {
     "metadata": {
      "tags": null
     },
     "name": "stderr",
     "output_type": "stream",
     "text": [
      "WARNING:absl:Found untraced functions such as _update_step_xla while saving (showing 1 of 1). These functions will not be directly callable after loading.\n"
     ]
    },
    {
     "metadata": {
      "tags": null
     },
     "name": "stdout",
     "output_type": "stream",
     "text": [
      "82/82 [==============================] - 20s 248ms/step - loss: 0.2660 - mae: 0.4621 - val_loss: 0.2511 - val_mae: 0.4512\n",
      "Epoch 88/500\n",
      "81/82 [============================>.] - ETA: 0s - loss: 0.2639 - mae: 0.4604"
     ]
    },
    {
     "metadata": {
      "tags": null
     },
     "name": "stderr",
     "output_type": "stream",
     "text": [
      "WARNING:absl:Found untraced functions such as _update_step_xla while saving (showing 1 of 1). These functions will not be directly callable after loading.\n"
     ]
    },
    {
     "metadata": {
      "tags": null
     },
     "name": "stdout",
     "output_type": "stream",
     "text": [
      "82/82 [==============================] - 21s 259ms/step - loss: 0.2639 - mae: 0.4604 - val_loss: 0.2492 - val_mae: 0.4492\n",
      "Epoch 89/500\n",
      "82/82 [==============================] - ETA: 0s - loss: 0.2603 - mae: 0.4572"
     ]
    },
    {
     "metadata": {
      "tags": null
     },
     "name": "stderr",
     "output_type": "stream",
     "text": [
      "WARNING:absl:Found untraced functions such as _update_step_xla while saving (showing 1 of 1). These functions will not be directly callable after loading.\n"
     ]
    },
    {
     "metadata": {
      "tags": null
     },
     "name": "stdout",
     "output_type": "stream",
     "text": [
      "82/82 [==============================] - 27s 325ms/step - loss: 0.2603 - mae: 0.4572 - val_loss: 0.2473 - val_mae: 0.4472\n",
      "Epoch 90/500\n",
      "81/82 [============================>.] - ETA: 0s - loss: 0.2602 - mae: 0.4566"
     ]
    },
    {
     "metadata": {
      "tags": null
     },
     "name": "stderr",
     "output_type": "stream",
     "text": [
      "WARNING:absl:Found untraced functions such as _update_step_xla while saving (showing 1 of 1). These functions will not be directly callable after loading.\n"
     ]
    },
    {
     "metadata": {
      "tags": null
     },
     "name": "stdout",
     "output_type": "stream",
     "text": [
      "82/82 [==============================] - 21s 252ms/step - loss: 0.2602 - mae: 0.4565 - val_loss: 0.2455 - val_mae: 0.4452\n",
      "Epoch 91/500\n",
      "82/82 [==============================] - ETA: 0s - loss: 0.2577 - mae: 0.4538"
     ]
    },
    {
     "metadata": {
      "tags": null
     },
     "name": "stderr",
     "output_type": "stream",
     "text": [
      "WARNING:absl:Found untraced functions such as _update_step_xla while saving (showing 1 of 1). These functions will not be directly callable after loading.\n"
     ]
    },
    {
     "metadata": {
      "tags": null
     },
     "name": "stdout",
     "output_type": "stream",
     "text": [
      "82/82 [==============================] - 20s 242ms/step - loss: 0.2577 - mae: 0.4538 - val_loss: 0.2436 - val_mae: 0.4433\n",
      "Epoch 92/500\n",
      "81/82 [============================>.] - ETA: 0s - loss: 0.2570 - mae: 0.4530"
     ]
    },
    {
     "metadata": {
      "tags": null
     },
     "name": "stderr",
     "output_type": "stream",
     "text": [
      "WARNING:absl:Found untraced functions such as _update_step_xla while saving (showing 1 of 1). These functions will not be directly callable after loading.\n"
     ]
    },
    {
     "metadata": {
      "tags": null
     },
     "name": "stdout",
     "output_type": "stream",
     "text": [
      "82/82 [==============================] - 23s 285ms/step - loss: 0.2569 - mae: 0.4529 - val_loss: 0.2417 - val_mae: 0.4413\n",
      "Epoch 93/500\n",
      "81/82 [============================>.] - ETA: 0s - loss: 0.2543 - mae: 0.4501"
     ]
    },
    {
     "metadata": {
      "tags": null
     },
     "name": "stderr",
     "output_type": "stream",
     "text": [
      "WARNING:absl:Found untraced functions such as _update_step_xla while saving (showing 1 of 1). These functions will not be directly callable after loading.\n"
     ]
    },
    {
     "metadata": {
      "tags": null
     },
     "name": "stdout",
     "output_type": "stream",
     "text": [
      "82/82 [==============================] - 21s 252ms/step - loss: 0.2544 - mae: 0.4501 - val_loss: 0.2399 - val_mae: 0.4393\n",
      "Epoch 94/500\n",
      "82/82 [==============================] - ETA: 0s - loss: 0.2543 - mae: 0.4493"
     ]
    },
    {
     "metadata": {
      "tags": null
     },
     "name": "stderr",
     "output_type": "stream",
     "text": [
      "WARNING:absl:Found untraced functions such as _update_step_xla while saving (showing 1 of 1). These functions will not be directly callable after loading.\n"
     ]
    },
    {
     "metadata": {
      "tags": null
     },
     "name": "stdout",
     "output_type": "stream",
     "text": [
      "82/82 [==============================] - 21s 259ms/step - loss: 0.2543 - mae: 0.4493 - val_loss: 0.2380 - val_mae: 0.4373\n",
      "Epoch 95/500\n",
      "81/82 [============================>.] - ETA: 0s - loss: 0.2503 - mae: 0.4465"
     ]
    },
    {
     "metadata": {
      "tags": null
     },
     "name": "stderr",
     "output_type": "stream",
     "text": [
      "WARNING:absl:Found untraced functions such as _update_step_xla while saving (showing 1 of 1). These functions will not be directly callable after loading.\n"
     ]
    },
    {
     "metadata": {
      "tags": null
     },
     "name": "stdout",
     "output_type": "stream",
     "text": [
      "82/82 [==============================] - 20s 250ms/step - loss: 0.2502 - mae: 0.4463 - val_loss: 0.2362 - val_mae: 0.4353\n",
      "Epoch 96/500\n",
      "81/82 [============================>.] - ETA: 0s - loss: 0.2485 - mae: 0.4440"
     ]
    },
    {
     "metadata": {
      "tags": null
     },
     "name": "stderr",
     "output_type": "stream",
     "text": [
      "WARNING:absl:Found untraced functions such as _update_step_xla while saving (showing 1 of 1). These functions will not be directly callable after loading.\n"
     ]
    },
    {
     "metadata": {
      "tags": null
     },
     "name": "stdout",
     "output_type": "stream",
     "text": [
      "82/82 [==============================] - 21s 257ms/step - loss: 0.2484 - mae: 0.4439 - val_loss: 0.2343 - val_mae: 0.4333\n",
      "Epoch 97/500\n",
      "81/82 [============================>.] - ETA: 0s - loss: 0.2467 - mae: 0.4418"
     ]
    },
    {
     "metadata": {
      "tags": null
     },
     "name": "stderr",
     "output_type": "stream",
     "text": [
      "WARNING:absl:Found untraced functions such as _update_step_xla while saving (showing 1 of 1). These functions will not be directly callable after loading.\n"
     ]
    },
    {
     "metadata": {
      "tags": null
     },
     "name": "stdout",
     "output_type": "stream",
     "text": [
      "82/82 [==============================] - 20s 243ms/step - loss: 0.2467 - mae: 0.4418 - val_loss: 0.2325 - val_mae: 0.4313\n",
      "Epoch 98/500\n",
      "81/82 [============================>.] - ETA: 0s - loss: 0.2454 - mae: 0.4412"
     ]
    },
    {
     "metadata": {
      "tags": null
     },
     "name": "stderr",
     "output_type": "stream",
     "text": [
      "WARNING:absl:Found untraced functions such as _update_step_xla while saving (showing 1 of 1). These functions will not be directly callable after loading.\n"
     ]
    },
    {
     "metadata": {
      "tags": null
     },
     "name": "stdout",
     "output_type": "stream",
     "text": [
      "82/82 [==============================] - 20s 248ms/step - loss: 0.2454 - mae: 0.4412 - val_loss: 0.2306 - val_mae: 0.4292\n",
      "Epoch 99/500\n",
      "82/82 [==============================] - ETA: 0s - loss: 0.2425 - mae: 0.4379"
     ]
    },
    {
     "metadata": {
      "tags": null
     },
     "name": "stderr",
     "output_type": "stream",
     "text": [
      "WARNING:absl:Found untraced functions such as _update_step_xla while saving (showing 1 of 1). These functions will not be directly callable after loading.\n"
     ]
    },
    {
     "metadata": {
      "tags": null
     },
     "name": "stdout",
     "output_type": "stream",
     "text": [
      "82/82 [==============================] - 20s 250ms/step - loss: 0.2425 - mae: 0.4379 - val_loss: 0.2288 - val_mae: 0.4272\n",
      "Epoch 100/500\n",
      "82/82 [==============================] - ETA: 0s - loss: 0.2426 - mae: 0.4370"
     ]
    },
    {
     "metadata": {
      "tags": null
     },
     "name": "stderr",
     "output_type": "stream",
     "text": [
      "WARNING:absl:Found untraced functions such as _update_step_xla while saving (showing 1 of 1). These functions will not be directly callable after loading.\n"
     ]
    },
    {
     "metadata": {
      "tags": null
     },
     "name": "stdout",
     "output_type": "stream",
     "text": [
      "82/82 [==============================] - 20s 245ms/step - loss: 0.2426 - mae: 0.4370 - val_loss: 0.2269 - val_mae: 0.4251\n",
      "Epoch 101/500\n",
      "81/82 [============================>.] - ETA: 0s - loss: 0.2397 - mae: 0.4347"
     ]
    },
    {
     "metadata": {
      "tags": null
     },
     "name": "stderr",
     "output_type": "stream",
     "text": [
      "WARNING:absl:Found untraced functions such as _update_step_xla while saving (showing 1 of 1). These functions will not be directly callable after loading.\n"
     ]
    },
    {
     "metadata": {
      "tags": null
     },
     "name": "stdout",
     "output_type": "stream",
     "text": [
      "82/82 [==============================] - 22s 267ms/step - loss: 0.2398 - mae: 0.4348 - val_loss: 0.2251 - val_mae: 0.4230\n",
      "Epoch 102/500\n",
      "82/82 [==============================] - ETA: 0s - loss: 0.2376 - mae: 0.4324"
     ]
    },
    {
     "metadata": {
      "tags": null
     },
     "name": "stderr",
     "output_type": "stream",
     "text": [
      "WARNING:absl:Found untraced functions such as _update_step_xla while saving (showing 1 of 1). These functions will not be directly callable after loading.\n"
     ]
    },
    {
     "metadata": {
      "tags": null
     },
     "name": "stdout",
     "output_type": "stream",
     "text": [
      "82/82 [==============================] - 20s 251ms/step - loss: 0.2376 - mae: 0.4324 - val_loss: 0.2232 - val_mae: 0.4210\n",
      "Epoch 103/500\n",
      "81/82 [============================>.] - ETA: 0s - loss: 0.2386 - mae: 0.4324"
     ]
    },
    {
     "metadata": {
      "tags": null
     },
     "name": "stderr",
     "output_type": "stream",
     "text": [
      "WARNING:absl:Found untraced functions such as _update_step_xla while saving (showing 1 of 1). These functions will not be directly callable after loading.\n"
     ]
    },
    {
     "metadata": {
      "tags": null
     },
     "name": "stdout",
     "output_type": "stream",
     "text": [
      "82/82 [==============================] - 21s 254ms/step - loss: 0.2386 - mae: 0.4324 - val_loss: 0.2213 - val_mae: 0.4189\n",
      "Epoch 104/500\n",
      "81/82 [============================>.] - ETA: 0s - loss: 0.2340 - mae: 0.4280"
     ]
    },
    {
     "metadata": {
      "tags": null
     },
     "name": "stderr",
     "output_type": "stream",
     "text": [
      "WARNING:absl:Found untraced functions such as _update_step_xla while saving (showing 1 of 1). These functions will not be directly callable after loading.\n"
     ]
    },
    {
     "metadata": {
      "tags": null
     },
     "name": "stdout",
     "output_type": "stream",
     "text": [
      "82/82 [==============================] - 21s 260ms/step - loss: 0.2341 - mae: 0.4281 - val_loss: 0.2195 - val_mae: 0.4168\n",
      "Epoch 105/500\n",
      "81/82 [============================>.] - ETA: 0s - loss: 0.2327 - mae: 0.4263"
     ]
    },
    {
     "metadata": {
      "tags": null
     },
     "name": "stderr",
     "output_type": "stream",
     "text": [
      "WARNING:absl:Found untraced functions such as _update_step_xla while saving (showing 1 of 1). These functions will not be directly callable after loading.\n"
     ]
    },
    {
     "metadata": {
      "tags": null
     },
     "name": "stdout",
     "output_type": "stream",
     "text": [
      "82/82 [==============================] - 21s 255ms/step - loss: 0.2325 - mae: 0.4262 - val_loss: 0.2176 - val_mae: 0.4147\n",
      "Epoch 106/500\n",
      "81/82 [============================>.] - ETA: 0s - loss: 0.2309 - mae: 0.4242"
     ]
    },
    {
     "metadata": {
      "tags": null
     },
     "name": "stderr",
     "output_type": "stream",
     "text": [
      "WARNING:absl:Found untraced functions such as _update_step_xla while saving (showing 1 of 1). These functions will not be directly callable after loading.\n"
     ]
    },
    {
     "metadata": {
      "tags": null
     },
     "name": "stdout",
     "output_type": "stream",
     "text": [
      "82/82 [==============================] - 21s 256ms/step - loss: 0.2308 - mae: 0.4242 - val_loss: 0.2158 - val_mae: 0.4125\n",
      "Epoch 107/500\n",
      "82/82 [==============================] - ETA: 0s - loss: 0.2276 - mae: 0.4203"
     ]
    },
    {
     "metadata": {
      "tags": null
     },
     "name": "stderr",
     "output_type": "stream",
     "text": [
      "WARNING:absl:Found untraced functions such as _update_step_xla while saving (showing 1 of 1). These functions will not be directly callable after loading.\n"
     ]
    },
    {
     "metadata": {
      "tags": null
     },
     "name": "stdout",
     "output_type": "stream",
     "text": [
      "82/82 [==============================] - 20s 246ms/step - loss: 0.2276 - mae: 0.4203 - val_loss: 0.2139 - val_mae: 0.4104\n",
      "Epoch 108/500\n",
      "81/82 [============================>.] - ETA: 0s - loss: 0.2273 - mae: 0.4203"
     ]
    },
    {
     "metadata": {
      "tags": null
     },
     "name": "stderr",
     "output_type": "stream",
     "text": [
      "WARNING:absl:Found untraced functions such as _update_step_xla while saving (showing 1 of 1). These functions will not be directly callable after loading.\n"
     ]
    },
    {
     "metadata": {
      "tags": null
     },
     "name": "stdout",
     "output_type": "stream",
     "text": [
      "82/82 [==============================] - 20s 249ms/step - loss: 0.2274 - mae: 0.4204 - val_loss: 0.2121 - val_mae: 0.4083\n",
      "Epoch 109/500\n",
      "81/82 [============================>.] - ETA: 0s - loss: 0.2254 - mae: 0.4181"
     ]
    },
    {
     "metadata": {
      "tags": null
     },
     "name": "stderr",
     "output_type": "stream",
     "text": [
      "WARNING:absl:Found untraced functions such as _update_step_xla while saving (showing 1 of 1). These functions will not be directly callable after loading.\n"
     ]
    },
    {
     "metadata": {
      "tags": null
     },
     "name": "stdout",
     "output_type": "stream",
     "text": [
      "82/82 [==============================] - 22s 267ms/step - loss: 0.2255 - mae: 0.4182 - val_loss: 0.2102 - val_mae: 0.4061\n",
      "Epoch 110/500\n",
      "81/82 [============================>.] - ETA: 0s - loss: 0.2230 - mae: 0.4163"
     ]
    },
    {
     "metadata": {
      "tags": null
     },
     "name": "stderr",
     "output_type": "stream",
     "text": [
      "WARNING:absl:Found untraced functions such as _update_step_xla while saving (showing 1 of 1). These functions will not be directly callable after loading.\n"
     ]
    },
    {
     "metadata": {
      "tags": null
     },
     "name": "stdout",
     "output_type": "stream",
     "text": [
      "82/82 [==============================] - 20s 250ms/step - loss: 0.2230 - mae: 0.4163 - val_loss: 0.2084 - val_mae: 0.4039\n",
      "Epoch 111/500\n",
      "81/82 [============================>.] - ETA: 0s - loss: 0.2213 - mae: 0.4133"
     ]
    },
    {
     "metadata": {
      "tags": null
     },
     "name": "stderr",
     "output_type": "stream",
     "text": [
      "WARNING:absl:Found untraced functions such as _update_step_xla while saving (showing 1 of 1). These functions will not be directly callable after loading.\n"
     ]
    },
    {
     "metadata": {
      "tags": null
     },
     "name": "stdout",
     "output_type": "stream",
     "text": [
      "82/82 [==============================] - 20s 248ms/step - loss: 0.2213 - mae: 0.4133 - val_loss: 0.2065 - val_mae: 0.4017\n",
      "Epoch 112/500\n",
      "82/82 [==============================] - ETA: 0s - loss: 0.2188 - mae: 0.4113"
     ]
    },
    {
     "metadata": {
      "tags": null
     },
     "name": "stderr",
     "output_type": "stream",
     "text": [
      "WARNING:absl:Found untraced functions such as _update_step_xla while saving (showing 1 of 1). These functions will not be directly callable after loading.\n"
     ]
    },
    {
     "metadata": {
      "tags": null
     },
     "name": "stdout",
     "output_type": "stream",
     "text": [
      "82/82 [==============================] - 21s 251ms/step - loss: 0.2188 - mae: 0.4113 - val_loss: 0.2047 - val_mae: 0.3995\n",
      "Epoch 113/500\n",
      "81/82 [============================>.] - ETA: 0s - loss: 0.2195 - mae: 0.4109"
     ]
    },
    {
     "metadata": {
      "tags": null
     },
     "name": "stderr",
     "output_type": "stream",
     "text": [
      "WARNING:absl:Found untraced functions such as _update_step_xla while saving (showing 1 of 1). These functions will not be directly callable after loading.\n"
     ]
    },
    {
     "metadata": {
      "tags": null
     },
     "name": "stdout",
     "output_type": "stream",
     "text": [
      "82/82 [==============================] - 21s 252ms/step - loss: 0.2196 - mae: 0.4110 - val_loss: 0.2029 - val_mae: 0.3973\n",
      "Epoch 114/500\n",
      "81/82 [============================>.] - ETA: 0s - loss: 0.2160 - mae: 0.4072"
     ]
    },
    {
     "metadata": {
      "tags": null
     },
     "name": "stderr",
     "output_type": "stream",
     "text": [
      "WARNING:absl:Found untraced functions such as _update_step_xla while saving (showing 1 of 1). These functions will not be directly callable after loading.\n"
     ]
    },
    {
     "metadata": {
      "tags": null
     },
     "name": "stdout",
     "output_type": "stream",
     "text": [
      "82/82 [==============================] - 21s 252ms/step - loss: 0.2160 - mae: 0.4072 - val_loss: 0.2010 - val_mae: 0.3951\n",
      "Epoch 115/500\n",
      "82/82 [==============================] - ETA: 0s - loss: 0.2146 - mae: 0.4061"
     ]
    },
    {
     "metadata": {
      "tags": null
     },
     "name": "stderr",
     "output_type": "stream",
     "text": [
      "WARNING:absl:Found untraced functions such as _update_step_xla while saving (showing 1 of 1). These functions will not be directly callable after loading.\n"
     ]
    },
    {
     "metadata": {
      "tags": null
     },
     "name": "stdout",
     "output_type": "stream",
     "text": [
      "82/82 [==============================] - 20s 249ms/step - loss: 0.2146 - mae: 0.4061 - val_loss: 0.1992 - val_mae: 0.3929\n",
      "Epoch 116/500\n",
      "81/82 [============================>.] - ETA: 0s - loss: 0.2118 - mae: 0.4027"
     ]
    },
    {
     "metadata": {
      "tags": null
     },
     "name": "stderr",
     "output_type": "stream",
     "text": [
      "WARNING:absl:Found untraced functions such as _update_step_xla while saving (showing 1 of 1). These functions will not be directly callable after loading.\n"
     ]
    },
    {
     "metadata": {
      "tags": null
     },
     "name": "stdout",
     "output_type": "stream",
     "text": [
      "82/82 [==============================] - 20s 250ms/step - loss: 0.2118 - mae: 0.4027 - val_loss: 0.1974 - val_mae: 0.3907\n",
      "Epoch 117/500\n",
      "82/82 [==============================] - ETA: 0s - loss: 0.2105 - mae: 0.4012"
     ]
    },
    {
     "metadata": {
      "tags": null
     },
     "name": "stderr",
     "output_type": "stream",
     "text": [
      "WARNING:absl:Found untraced functions such as _update_step_xla while saving (showing 1 of 1). These functions will not be directly callable after loading.\n"
     ]
    },
    {
     "metadata": {
      "tags": null
     },
     "name": "stdout",
     "output_type": "stream",
     "text": [
      "82/82 [==============================] - 22s 266ms/step - loss: 0.2105 - mae: 0.4012 - val_loss: 0.1955 - val_mae: 0.3884\n",
      "Epoch 118/500\n",
      "81/82 [============================>.] - ETA: 0s - loss: 0.2092 - mae: 0.3995"
     ]
    },
    {
     "metadata": {
      "tags": null
     },
     "name": "stderr",
     "output_type": "stream",
     "text": [
      "WARNING:absl:Found untraced functions such as _update_step_xla while saving (showing 1 of 1). These functions will not be directly callable after loading.\n"
     ]
    },
    {
     "metadata": {
      "tags": null
     },
     "name": "stdout",
     "output_type": "stream",
     "text": [
      "82/82 [==============================] - 25s 304ms/step - loss: 0.2092 - mae: 0.3995 - val_loss: 0.1937 - val_mae: 0.3862\n",
      "Epoch 119/500\n",
      "81/82 [============================>.] - ETA: 0s - loss: 0.2065 - mae: 0.3964"
     ]
    },
    {
     "metadata": {
      "tags": null
     },
     "name": "stderr",
     "output_type": "stream",
     "text": [
      "WARNING:absl:Found untraced functions such as _update_step_xla while saving (showing 1 of 1). These functions will not be directly callable after loading.\n"
     ]
    },
    {
     "metadata": {
      "tags": null
     },
     "name": "stdout",
     "output_type": "stream",
     "text": [
      "82/82 [==============================] - 20s 250ms/step - loss: 0.2064 - mae: 0.3962 - val_loss: 0.1919 - val_mae: 0.3840\n",
      "Epoch 120/500\n",
      "82/82 [==============================] - ETA: 0s - loss: 0.2062 - mae: 0.3958"
     ]
    },
    {
     "metadata": {
      "tags": null
     },
     "name": "stderr",
     "output_type": "stream",
     "text": [
      "WARNING:absl:Found untraced functions such as _update_step_xla while saving (showing 1 of 1). These functions will not be directly callable after loading.\n"
     ]
    },
    {
     "metadata": {
      "tags": null
     },
     "name": "stdout",
     "output_type": "stream",
     "text": [
      "82/82 [==============================] - 23s 274ms/step - loss: 0.2062 - mae: 0.3958 - val_loss: 0.1901 - val_mae: 0.3818\n",
      "Epoch 121/500\n",
      "81/82 [============================>.] - ETA: 0s - loss: 0.2026 - mae: 0.3920"
     ]
    },
    {
     "metadata": {
      "tags": null
     },
     "name": "stderr",
     "output_type": "stream",
     "text": [
      "WARNING:absl:Found untraced functions such as _update_step_xla while saving (showing 1 of 1). These functions will not be directly callable after loading.\n"
     ]
    },
    {
     "metadata": {
      "tags": null
     },
     "name": "stdout",
     "output_type": "stream",
     "text": [
      "82/82 [==============================] - 21s 259ms/step - loss: 0.2026 - mae: 0.3919 - val_loss: 0.1883 - val_mae: 0.3795\n",
      "Epoch 122/500\n",
      "81/82 [============================>.] - ETA: 0s - loss: 0.2019 - mae: 0.3907"
     ]
    },
    {
     "metadata": {
      "tags": null
     },
     "name": "stderr",
     "output_type": "stream",
     "text": [
      "WARNING:absl:Found untraced functions such as _update_step_xla while saving (showing 1 of 1). These functions will not be directly callable after loading.\n"
     ]
    },
    {
     "metadata": {
      "tags": null
     },
     "name": "stdout",
     "output_type": "stream",
     "text": [
      "82/82 [==============================] - 21s 256ms/step - loss: 0.2020 - mae: 0.3908 - val_loss: 0.1866 - val_mae: 0.3773\n",
      "Epoch 123/500\n",
      "81/82 [============================>.] - ETA: 0s - loss: 0.1991 - mae: 0.3884"
     ]
    },
    {
     "metadata": {
      "tags": null
     },
     "name": "stderr",
     "output_type": "stream",
     "text": [
      "WARNING:absl:Found untraced functions such as _update_step_xla while saving (showing 1 of 1). These functions will not be directly callable after loading.\n"
     ]
    },
    {
     "metadata": {
      "tags": null
     },
     "name": "stdout",
     "output_type": "stream",
     "text": [
      "82/82 [==============================] - 20s 246ms/step - loss: 0.1991 - mae: 0.3884 - val_loss: 0.1848 - val_mae: 0.3752\n",
      "Epoch 124/500\n",
      "82/82 [==============================] - ETA: 0s - loss: 0.1982 - mae: 0.3870"
     ]
    },
    {
     "metadata": {
      "tags": null
     },
     "name": "stderr",
     "output_type": "stream",
     "text": [
      "WARNING:absl:Found untraced functions such as _update_step_xla while saving (showing 1 of 1). These functions will not be directly callable after loading.\n"
     ]
    },
    {
     "metadata": {
      "tags": null
     },
     "name": "stdout",
     "output_type": "stream",
     "text": [
      "82/82 [==============================] - 20s 247ms/step - loss: 0.1982 - mae: 0.3870 - val_loss: 0.1830 - val_mae: 0.3732\n",
      "Epoch 125/500\n",
      "82/82 [==============================] - ETA: 0s - loss: 0.1978 - mae: 0.3859"
     ]
    },
    {
     "metadata": {
      "tags": null
     },
     "name": "stderr",
     "output_type": "stream",
     "text": [
      "WARNING:absl:Found untraced functions such as _update_step_xla while saving (showing 1 of 1). These functions will not be directly callable after loading.\n"
     ]
    },
    {
     "metadata": {
      "tags": null
     },
     "name": "stdout",
     "output_type": "stream",
     "text": [
      "82/82 [==============================] - 22s 263ms/step - loss: 0.1978 - mae: 0.3859 - val_loss: 0.1812 - val_mae: 0.3711\n",
      "Epoch 126/500\n",
      "81/82 [============================>.] - ETA: 0s - loss: 0.1960 - mae: 0.3837"
     ]
    },
    {
     "metadata": {
      "tags": null
     },
     "name": "stderr",
     "output_type": "stream",
     "text": [
      "WARNING:absl:Found untraced functions such as _update_step_xla while saving (showing 1 of 1). These functions will not be directly callable after loading.\n"
     ]
    },
    {
     "metadata": {
      "tags": null
     },
     "name": "stdout",
     "output_type": "stream",
     "text": [
      "82/82 [==============================] - 20s 247ms/step - loss: 0.1959 - mae: 0.3837 - val_loss: 0.1794 - val_mae: 0.3690\n",
      "Epoch 127/500\n",
      "81/82 [============================>.] - ETA: 0s - loss: 0.1948 - mae: 0.3825"
     ]
    },
    {
     "metadata": {
      "tags": null
     },
     "name": "stderr",
     "output_type": "stream",
     "text": [
      "WARNING:absl:Found untraced functions such as _update_step_xla while saving (showing 1 of 1). These functions will not be directly callable after loading.\n"
     ]
    },
    {
     "metadata": {
      "tags": null
     },
     "name": "stdout",
     "output_type": "stream",
     "text": [
      "82/82 [==============================] - 21s 254ms/step - loss: 0.1947 - mae: 0.3823 - val_loss: 0.1777 - val_mae: 0.3669\n",
      "Epoch 128/500\n",
      "82/82 [==============================] - ETA: 0s - loss: 0.1918 - mae: 0.3782"
     ]
    },
    {
     "metadata": {
      "tags": null
     },
     "name": "stderr",
     "output_type": "stream",
     "text": [
      "WARNING:absl:Found untraced functions such as _update_step_xla while saving (showing 1 of 1). These functions will not be directly callable after loading.\n"
     ]
    },
    {
     "metadata": {
      "tags": null
     },
     "name": "stdout",
     "output_type": "stream",
     "text": [
      "82/82 [==============================] - 21s 253ms/step - loss: 0.1918 - mae: 0.3782 - val_loss: 0.1759 - val_mae: 0.3648\n",
      "Epoch 129/500\n",
      "81/82 [============================>.] - ETA: 0s - loss: 0.1909 - mae: 0.3777"
     ]
    },
    {
     "metadata": {
      "tags": null
     },
     "name": "stderr",
     "output_type": "stream",
     "text": [
      "WARNING:absl:Found untraced functions such as _update_step_xla while saving (showing 1 of 1). These functions will not be directly callable after loading.\n"
     ]
    },
    {
     "metadata": {
      "tags": null
     },
     "name": "stdout",
     "output_type": "stream",
     "text": [
      "82/82 [==============================] - 20s 250ms/step - loss: 0.1908 - mae: 0.3776 - val_loss: 0.1741 - val_mae: 0.3627\n",
      "Epoch 130/500\n",
      "81/82 [============================>.] - ETA: 0s - loss: 0.1889 - mae: 0.3750"
     ]
    },
    {
     "metadata": {
      "tags": null
     },
     "name": "stderr",
     "output_type": "stream",
     "text": [
      "WARNING:absl:Found untraced functions such as _update_step_xla while saving (showing 1 of 1). These functions will not be directly callable after loading.\n"
     ]
    },
    {
     "metadata": {
      "tags": null
     },
     "name": "stdout",
     "output_type": "stream",
     "text": [
      "82/82 [==============================] - 21s 261ms/step - loss: 0.1888 - mae: 0.3748 - val_loss: 0.1724 - val_mae: 0.3605\n",
      "Epoch 131/500\n",
      "81/82 [============================>.] - ETA: 0s - loss: 0.1869 - mae: 0.3730"
     ]
    },
    {
     "metadata": {
      "tags": null
     },
     "name": "stderr",
     "output_type": "stream",
     "text": [
      "WARNING:absl:Found untraced functions such as _update_step_xla while saving (showing 1 of 1). These functions will not be directly callable after loading.\n"
     ]
    },
    {
     "metadata": {
      "tags": null
     },
     "name": "stdout",
     "output_type": "stream",
     "text": [
      "82/82 [==============================] - 20s 246ms/step - loss: 0.1870 - mae: 0.3731 - val_loss: 0.1706 - val_mae: 0.3583\n",
      "Epoch 132/500\n",
      "81/82 [============================>.] - ETA: 0s - loss: 0.1846 - mae: 0.3700"
     ]
    },
    {
     "metadata": {
      "tags": null
     },
     "name": "stderr",
     "output_type": "stream",
     "text": [
      "WARNING:absl:Found untraced functions such as _update_step_xla while saving (showing 1 of 1). These functions will not be directly callable after loading.\n"
     ]
    },
    {
     "metadata": {
      "tags": null
     },
     "name": "stdout",
     "output_type": "stream",
     "text": [
      "82/82 [==============================] - 20s 245ms/step - loss: 0.1845 - mae: 0.3700 - val_loss: 0.1689 - val_mae: 0.3562\n",
      "Epoch 133/500\n",
      "82/82 [==============================] - ETA: 0s - loss: 0.1829 - mae: 0.3680"
     ]
    },
    {
     "metadata": {
      "tags": null
     },
     "name": "stderr",
     "output_type": "stream",
     "text": [
      "WARNING:absl:Found untraced functions such as _update_step_xla while saving (showing 1 of 1). These functions will not be directly callable after loading.\n"
     ]
    },
    {
     "metadata": {
      "tags": null
     },
     "name": "stdout",
     "output_type": "stream",
     "text": [
      "82/82 [==============================] - 20s 248ms/step - loss: 0.1829 - mae: 0.3680 - val_loss: 0.1671 - val_mae: 0.3541\n",
      "Epoch 134/500\n",
      "81/82 [============================>.] - ETA: 0s - loss: 0.1821 - mae: 0.3670"
     ]
    },
    {
     "metadata": {
      "tags": null
     },
     "name": "stderr",
     "output_type": "stream",
     "text": [
      "WARNING:absl:Found untraced functions such as _update_step_xla while saving (showing 1 of 1). These functions will not be directly callable after loading.\n"
     ]
    },
    {
     "metadata": {
      "tags": null
     },
     "name": "stdout",
     "output_type": "stream",
     "text": [
      "82/82 [==============================] - 21s 252ms/step - loss: 0.1821 - mae: 0.3669 - val_loss: 0.1654 - val_mae: 0.3520\n",
      "Epoch 135/500\n",
      "81/82 [============================>.] - ETA: 0s - loss: 0.1797 - mae: 0.3640"
     ]
    },
    {
     "metadata": {
      "tags": null
     },
     "name": "stderr",
     "output_type": "stream",
     "text": [
      "WARNING:absl:Found untraced functions such as _update_step_xla while saving (showing 1 of 1). These functions will not be directly callable after loading.\n"
     ]
    },
    {
     "metadata": {
      "tags": null
     },
     "name": "stdout",
     "output_type": "stream",
     "text": [
      "82/82 [==============================] - 21s 254ms/step - loss: 0.1797 - mae: 0.3640 - val_loss: 0.1636 - val_mae: 0.3499\n",
      "Epoch 136/500\n",
      "82/82 [==============================] - ETA: 0s - loss: 0.1778 - mae: 0.3619"
     ]
    },
    {
     "metadata": {
      "tags": null
     },
     "name": "stderr",
     "output_type": "stream",
     "text": [
      "WARNING:absl:Found untraced functions such as _update_step_xla while saving (showing 1 of 1). These functions will not be directly callable after loading.\n"
     ]
    },
    {
     "metadata": {
      "tags": null
     },
     "name": "stdout",
     "output_type": "stream",
     "text": [
      "82/82 [==============================] - 20s 248ms/step - loss: 0.1778 - mae: 0.3619 - val_loss: 0.1620 - val_mae: 0.3479\n",
      "Epoch 137/500\n",
      "82/82 [==============================] - ETA: 0s - loss: 0.1778 - mae: 0.3620"
     ]
    },
    {
     "metadata": {
      "tags": null
     },
     "name": "stderr",
     "output_type": "stream",
     "text": [
      "WARNING:absl:Found untraced functions such as _update_step_xla while saving (showing 1 of 1). These functions will not be directly callable after loading.\n"
     ]
    },
    {
     "metadata": {
      "tags": null
     },
     "name": "stdout",
     "output_type": "stream",
     "text": [
      "82/82 [==============================] - 20s 251ms/step - loss: 0.1778 - mae: 0.3620 - val_loss: 0.1603 - val_mae: 0.3458\n",
      "Epoch 138/500\n",
      "81/82 [============================>.] - ETA: 0s - loss: 0.1751 - mae: 0.3587"
     ]
    },
    {
     "metadata": {
      "tags": null
     },
     "name": "stderr",
     "output_type": "stream",
     "text": [
      "WARNING:absl:Found untraced functions such as _update_step_xla while saving (showing 1 of 1). These functions will not be directly callable after loading.\n"
     ]
    },
    {
     "metadata": {
      "tags": null
     },
     "name": "stdout",
     "output_type": "stream",
     "text": [
      "82/82 [==============================] - 22s 265ms/step - loss: 0.1752 - mae: 0.3587 - val_loss: 0.1587 - val_mae: 0.3438\n",
      "Epoch 139/500\n",
      "82/82 [==============================] - ETA: 0s - loss: 0.1734 - mae: 0.3554"
     ]
    },
    {
     "metadata": {
      "tags": null
     },
     "name": "stderr",
     "output_type": "stream",
     "text": [
      "WARNING:absl:Found untraced functions such as _update_step_xla while saving (showing 1 of 1). These functions will not be directly callable after loading.\n"
     ]
    },
    {
     "metadata": {
      "tags": null
     },
     "name": "stdout",
     "output_type": "stream",
     "text": [
      "82/82 [==============================] - 21s 254ms/step - loss: 0.1734 - mae: 0.3554 - val_loss: 0.1571 - val_mae: 0.3418\n",
      "Epoch 140/500\n",
      "81/82 [============================>.] - ETA: 0s - loss: 0.1723 - mae: 0.3543"
     ]
    },
    {
     "metadata": {
      "tags": null
     },
     "name": "stderr",
     "output_type": "stream",
     "text": [
      "WARNING:absl:Found untraced functions such as _update_step_xla while saving (showing 1 of 1). These functions will not be directly callable after loading.\n"
     ]
    },
    {
     "metadata": {
      "tags": null
     },
     "name": "stdout",
     "output_type": "stream",
     "text": [
      "82/82 [==============================] - 20s 246ms/step - loss: 0.1723 - mae: 0.3542 - val_loss: 0.1554 - val_mae: 0.3397\n",
      "Epoch 141/500\n",
      "82/82 [==============================] - ETA: 0s - loss: 0.1700 - mae: 0.3520"
     ]
    },
    {
     "metadata": {
      "tags": null
     },
     "name": "stderr",
     "output_type": "stream",
     "text": [
      "WARNING:absl:Found untraced functions such as _update_step_xla while saving (showing 1 of 1). These functions will not be directly callable after loading.\n"
     ]
    },
    {
     "metadata": {
      "tags": null
     },
     "name": "stdout",
     "output_type": "stream",
     "text": [
      "82/82 [==============================] - 21s 250ms/step - loss: 0.1700 - mae: 0.3520 - val_loss: 0.1538 - val_mae: 0.3377\n",
      "Epoch 142/500\n",
      "81/82 [============================>.] - ETA: 0s - loss: 0.1694 - mae: 0.3504"
     ]
    },
    {
     "metadata": {
      "tags": null
     },
     "name": "stderr",
     "output_type": "stream",
     "text": [
      "WARNING:absl:Found untraced functions such as _update_step_xla while saving (showing 1 of 1). These functions will not be directly callable after loading.\n"
     ]
    },
    {
     "metadata": {
      "tags": null
     },
     "name": "stdout",
     "output_type": "stream",
     "text": [
      "82/82 [==============================] - 20s 249ms/step - loss: 0.1693 - mae: 0.3504 - val_loss: 0.1522 - val_mae: 0.3356\n",
      "Epoch 143/500\n",
      "81/82 [============================>.] - ETA: 0s - loss: 0.1669 - mae: 0.3486"
     ]
    },
    {
     "metadata": {
      "tags": null
     },
     "name": "stderr",
     "output_type": "stream",
     "text": [
      "WARNING:absl:Found untraced functions such as _update_step_xla while saving (showing 1 of 1). These functions will not be directly callable after loading.\n"
     ]
    },
    {
     "metadata": {
      "tags": null
     },
     "name": "stdout",
     "output_type": "stream",
     "text": [
      "82/82 [==============================] - 22s 268ms/step - loss: 0.1670 - mae: 0.3487 - val_loss: 0.1506 - val_mae: 0.3335\n",
      "Epoch 144/500\n",
      "82/82 [==============================] - ETA: 0s - loss: 0.1670 - mae: 0.3485"
     ]
    },
    {
     "metadata": {
      "tags": null
     },
     "name": "stderr",
     "output_type": "stream",
     "text": [
      "WARNING:absl:Found untraced functions such as _update_step_xla while saving (showing 1 of 1). These functions will not be directly callable after loading.\n"
     ]
    },
    {
     "metadata": {
      "tags": null
     },
     "name": "stdout",
     "output_type": "stream",
     "text": [
      "82/82 [==============================] - 20s 245ms/step - loss: 0.1670 - mae: 0.3485 - val_loss: 0.1490 - val_mae: 0.3314\n",
      "Epoch 145/500\n",
      "81/82 [============================>.] - ETA: 0s - loss: 0.1655 - mae: 0.3460"
     ]
    },
    {
     "metadata": {
      "tags": null
     },
     "name": "stderr",
     "output_type": "stream",
     "text": [
      "WARNING:absl:Found untraced functions such as _update_step_xla while saving (showing 1 of 1). These functions will not be directly callable after loading.\n"
     ]
    },
    {
     "metadata": {
      "tags": null
     },
     "name": "stdout",
     "output_type": "stream",
     "text": [
      "82/82 [==============================] - 20s 249ms/step - loss: 0.1655 - mae: 0.3460 - val_loss: 0.1473 - val_mae: 0.3292\n",
      "Epoch 146/500\n",
      "82/82 [==============================] - ETA: 0s - loss: 0.1631 - mae: 0.3420"
     ]
    },
    {
     "metadata": {
      "tags": null
     },
     "name": "stderr",
     "output_type": "stream",
     "text": [
      "WARNING:absl:Found untraced functions such as _update_step_xla while saving (showing 1 of 1). These functions will not be directly callable after loading.\n"
     ]
    },
    {
     "metadata": {
      "tags": null
     },
     "name": "stdout",
     "output_type": "stream",
     "text": [
      "82/82 [==============================] - 21s 255ms/step - loss: 0.1631 - mae: 0.3420 - val_loss: 0.1457 - val_mae: 0.3271\n",
      "Epoch 147/500\n",
      "81/82 [============================>.] - ETA: 0s - loss: 0.1624 - mae: 0.3421"
     ]
    },
    {
     "metadata": {
      "tags": null
     },
     "name": "stderr",
     "output_type": "stream",
     "text": [
      "WARNING:absl:Found untraced functions such as _update_step_xla while saving (showing 1 of 1). These functions will not be directly callable after loading.\n"
     ]
    },
    {
     "metadata": {
      "tags": null
     },
     "name": "stdout",
     "output_type": "stream",
     "text": [
      "82/82 [==============================] - 25s 308ms/step - loss: 0.1624 - mae: 0.3420 - val_loss: 0.1441 - val_mae: 0.3249\n",
      "Epoch 148/500\n",
      "81/82 [============================>.] - ETA: 0s - loss: 0.1614 - mae: 0.3404"
     ]
    },
    {
     "metadata": {
      "tags": null
     },
     "name": "stderr",
     "output_type": "stream",
     "text": [
      "WARNING:absl:Found untraced functions such as _update_step_xla while saving (showing 1 of 1). These functions will not be directly callable after loading.\n"
     ]
    },
    {
     "metadata": {
      "tags": null
     },
     "name": "stdout",
     "output_type": "stream",
     "text": [
      "82/82 [==============================] - 21s 251ms/step - loss: 0.1614 - mae: 0.3404 - val_loss: 0.1425 - val_mae: 0.3228\n",
      "Epoch 149/500\n",
      "82/82 [==============================] - ETA: 0s - loss: 0.1581 - mae: 0.3366"
     ]
    },
    {
     "metadata": {
      "tags": null
     },
     "name": "stderr",
     "output_type": "stream",
     "text": [
      "WARNING:absl:Found untraced functions such as _update_step_xla while saving (showing 1 of 1). These functions will not be directly callable after loading.\n"
     ]
    },
    {
     "metadata": {
      "tags": null
     },
     "name": "stdout",
     "output_type": "stream",
     "text": [
      "82/82 [==============================] - 21s 255ms/step - loss: 0.1581 - mae: 0.3366 - val_loss: 0.1409 - val_mae: 0.3206\n",
      "Epoch 150/500\n",
      "81/82 [============================>.] - ETA: 0s - loss: 0.1581 - mae: 0.3364"
     ]
    },
    {
     "metadata": {
      "tags": null
     },
     "name": "stderr",
     "output_type": "stream",
     "text": [
      "WARNING:absl:Found untraced functions such as _update_step_xla while saving (showing 1 of 1). These functions will not be directly callable after loading.\n"
     ]
    },
    {
     "metadata": {
      "tags": null
     },
     "name": "stdout",
     "output_type": "stream",
     "text": [
      "82/82 [==============================] - 21s 251ms/step - loss: 0.1581 - mae: 0.3364 - val_loss: 0.1394 - val_mae: 0.3184\n",
      "Epoch 151/500\n",
      "81/82 [============================>.] - ETA: 0s - loss: 0.1564 - mae: 0.3352"
     ]
    },
    {
     "metadata": {
      "tags": null
     },
     "name": "stderr",
     "output_type": "stream",
     "text": [
      "WARNING:absl:Found untraced functions such as _update_step_xla while saving (showing 1 of 1). These functions will not be directly callable after loading.\n"
     ]
    },
    {
     "metadata": {
      "tags": null
     },
     "name": "stdout",
     "output_type": "stream",
     "text": [
      "82/82 [==============================] - 22s 270ms/step - loss: 0.1565 - mae: 0.3352 - val_loss: 0.1378 - val_mae: 0.3162\n",
      "Epoch 152/500\n",
      "82/82 [==============================] - ETA: 0s - loss: 0.1543 - mae: 0.3322"
     ]
    },
    {
     "metadata": {
      "tags": null
     },
     "name": "stderr",
     "output_type": "stream",
     "text": [
      "WARNING:absl:Found untraced functions such as _update_step_xla while saving (showing 1 of 1). These functions will not be directly callable after loading.\n"
     ]
    },
    {
     "metadata": {
      "tags": null
     },
     "name": "stdout",
     "output_type": "stream",
     "text": [
      "82/82 [==============================] - 20s 249ms/step - loss: 0.1543 - mae: 0.3322 - val_loss: 0.1362 - val_mae: 0.3140\n",
      "Epoch 153/500\n",
      "81/82 [============================>.] - ETA: 0s - loss: 0.1524 - mae: 0.3297"
     ]
    },
    {
     "metadata": {
      "tags": null
     },
     "name": "stderr",
     "output_type": "stream",
     "text": [
      "WARNING:absl:Found untraced functions such as _update_step_xla while saving (showing 1 of 1). These functions will not be directly callable after loading.\n"
     ]
    },
    {
     "metadata": {
      "tags": null
     },
     "name": "stdout",
     "output_type": "stream",
     "text": [
      "82/82 [==============================] - 21s 253ms/step - loss: 0.1524 - mae: 0.3297 - val_loss: 0.1346 - val_mae: 0.3118\n",
      "Epoch 154/500\n",
      "82/82 [==============================] - ETA: 0s - loss: 0.1503 - mae: 0.3264"
     ]
    },
    {
     "metadata": {
      "tags": null
     },
     "name": "stderr",
     "output_type": "stream",
     "text": [
      "WARNING:absl:Found untraced functions such as _update_step_xla while saving (showing 1 of 1). These functions will not be directly callable after loading.\n"
     ]
    },
    {
     "metadata": {
      "tags": null
     },
     "name": "stdout",
     "output_type": "stream",
     "text": [
      "82/82 [==============================] - 21s 259ms/step - loss: 0.1503 - mae: 0.3264 - val_loss: 0.1330 - val_mae: 0.3095\n",
      "Epoch 155/500\n",
      "81/82 [============================>.] - ETA: 0s - loss: 0.1515 - mae: 0.3273"
     ]
    },
    {
     "metadata": {
      "tags": null
     },
     "name": "stderr",
     "output_type": "stream",
     "text": [
      "WARNING:absl:Found untraced functions such as _update_step_xla while saving (showing 1 of 1). These functions will not be directly callable after loading.\n"
     ]
    },
    {
     "metadata": {
      "tags": null
     },
     "name": "stdout",
     "output_type": "stream",
     "text": [
      "82/82 [==============================] - 21s 259ms/step - loss: 0.1515 - mae: 0.3273 - val_loss: 0.1314 - val_mae: 0.3072\n",
      "Epoch 156/500\n",
      "81/82 [============================>.] - ETA: 0s - loss: 0.1482 - mae: 0.3240"
     ]
    },
    {
     "metadata": {
      "tags": null
     },
     "name": "stderr",
     "output_type": "stream",
     "text": [
      "WARNING:absl:Found untraced functions such as _update_step_xla while saving (showing 1 of 1). These functions will not be directly callable after loading.\n"
     ]
    },
    {
     "metadata": {
      "tags": null
     },
     "name": "stdout",
     "output_type": "stream",
     "text": [
      "82/82 [==============================] - 21s 256ms/step - loss: 0.1482 - mae: 0.3240 - val_loss: 0.1299 - val_mae: 0.3050\n",
      "Epoch 157/500\n",
      "82/82 [==============================] - ETA: 0s - loss: 0.1476 - mae: 0.3230"
     ]
    },
    {
     "metadata": {
      "tags": null
     },
     "name": "stderr",
     "output_type": "stream",
     "text": [
      "WARNING:absl:Found untraced functions such as _update_step_xla while saving (showing 1 of 1). These functions will not be directly callable after loading.\n"
     ]
    },
    {
     "metadata": {
      "tags": null
     },
     "name": "stdout",
     "output_type": "stream",
     "text": [
      "82/82 [==============================] - 21s 251ms/step - loss: 0.1476 - mae: 0.3230 - val_loss: 0.1283 - val_mae: 0.3027\n",
      "Epoch 158/500\n",
      "81/82 [============================>.] - ETA: 0s - loss: 0.1468 - mae: 0.3210"
     ]
    },
    {
     "metadata": {
      "tags": null
     },
     "name": "stderr",
     "output_type": "stream",
     "text": [
      "WARNING:absl:Found untraced functions such as _update_step_xla while saving (showing 1 of 1). These functions will not be directly callable after loading.\n"
     ]
    },
    {
     "metadata": {
      "tags": null
     },
     "name": "stdout",
     "output_type": "stream",
     "text": [
      "82/82 [==============================] - 21s 256ms/step - loss: 0.1468 - mae: 0.3210 - val_loss: 0.1268 - val_mae: 0.3004\n",
      "Epoch 159/500\n",
      "81/82 [============================>.] - ETA: 0s - loss: 0.1438 - mae: 0.3175"
     ]
    },
    {
     "metadata": {
      "tags": null
     },
     "name": "stderr",
     "output_type": "stream",
     "text": [
      "WARNING:absl:Found untraced functions such as _update_step_xla while saving (showing 1 of 1). These functions will not be directly callable after loading.\n"
     ]
    },
    {
     "metadata": {
      "tags": null
     },
     "name": "stdout",
     "output_type": "stream",
     "text": [
      "82/82 [==============================] - 22s 272ms/step - loss: 0.1438 - mae: 0.3175 - val_loss: 0.1251 - val_mae: 0.2979\n",
      "Epoch 160/500\n",
      "81/82 [============================>.] - ETA: 0s - loss: 0.1429 - mae: 0.3164"
     ]
    },
    {
     "metadata": {
      "tags": null
     },
     "name": "stderr",
     "output_type": "stream",
     "text": [
      "WARNING:absl:Found untraced functions such as _update_step_xla while saving (showing 1 of 1). These functions will not be directly callable after loading.\n"
     ]
    },
    {
     "metadata": {
      "tags": null
     },
     "name": "stdout",
     "output_type": "stream",
     "text": [
      "82/82 [==============================] - 21s 259ms/step - loss: 0.1429 - mae: 0.3164 - val_loss: 0.1235 - val_mae: 0.2957\n",
      "Epoch 161/500\n",
      "81/82 [============================>.] - ETA: 0s - loss: 0.1411 - mae: 0.3146"
     ]
    },
    {
     "metadata": {
      "tags": null
     },
     "name": "stderr",
     "output_type": "stream",
     "text": [
      "WARNING:absl:Found untraced functions such as _update_step_xla while saving (showing 1 of 1). These functions will not be directly callable after loading.\n"
     ]
    },
    {
     "metadata": {
      "tags": null
     },
     "name": "stdout",
     "output_type": "stream",
     "text": [
      "82/82 [==============================] - 21s 260ms/step - loss: 0.1411 - mae: 0.3146 - val_loss: 0.1219 - val_mae: 0.2935\n",
      "Epoch 162/500\n",
      "82/82 [==============================] - ETA: 0s - loss: 0.1415 - mae: 0.3150"
     ]
    },
    {
     "metadata": {
      "tags": null
     },
     "name": "stderr",
     "output_type": "stream",
     "text": [
      "WARNING:absl:Found untraced functions such as _update_step_xla while saving (showing 1 of 1). These functions will not be directly callable after loading.\n"
     ]
    },
    {
     "metadata": {
      "tags": null
     },
     "name": "stdout",
     "output_type": "stream",
     "text": [
      "82/82 [==============================] - 21s 261ms/step - loss: 0.1415 - mae: 0.3150 - val_loss: 0.1203 - val_mae: 0.2913\n",
      "Epoch 163/500\n",
      "81/82 [============================>.] - ETA: 0s - loss: 0.1390 - mae: 0.3112"
     ]
    },
    {
     "metadata": {
      "tags": null
     },
     "name": "stderr",
     "output_type": "stream",
     "text": [
      "WARNING:absl:Found untraced functions such as _update_step_xla while saving (showing 1 of 1). These functions will not be directly callable after loading.\n"
     ]
    },
    {
     "metadata": {
      "tags": null
     },
     "name": "stdout",
     "output_type": "stream",
     "text": [
      "82/82 [==============================] - 21s 257ms/step - loss: 0.1390 - mae: 0.3112 - val_loss: 0.1188 - val_mae: 0.2893\n",
      "Epoch 164/500\n",
      "82/82 [==============================] - ETA: 0s - loss: 0.1367 - mae: 0.3086"
     ]
    },
    {
     "metadata": {
      "tags": null
     },
     "name": "stderr",
     "output_type": "stream",
     "text": [
      "WARNING:absl:Found untraced functions such as _update_step_xla while saving (showing 1 of 1). These functions will not be directly callable after loading.\n"
     ]
    },
    {
     "metadata": {
      "tags": null
     },
     "name": "stdout",
     "output_type": "stream",
     "text": [
      "82/82 [==============================] - 23s 277ms/step - loss: 0.1367 - mae: 0.3086 - val_loss: 0.1172 - val_mae: 0.2874\n",
      "Epoch 165/500\n",
      "81/82 [============================>.] - ETA: 0s - loss: 0.1374 - mae: 0.3094"
     ]
    },
    {
     "metadata": {
      "tags": null
     },
     "name": "stderr",
     "output_type": "stream",
     "text": [
      "WARNING:absl:Found untraced functions such as _update_step_xla while saving (showing 1 of 1). These functions will not be directly callable after loading.\n"
     ]
    },
    {
     "metadata": {
      "tags": null
     },
     "name": "stdout",
     "output_type": "stream",
     "text": [
      "82/82 [==============================] - 21s 252ms/step - loss: 0.1374 - mae: 0.3095 - val_loss: 0.1157 - val_mae: 0.2855\n",
      "Epoch 166/500\n",
      "81/82 [============================>.] - ETA: 0s - loss: 0.1357 - mae: 0.3073"
     ]
    },
    {
     "metadata": {
      "tags": null
     },
     "name": "stderr",
     "output_type": "stream",
     "text": [
      "WARNING:absl:Found untraced functions such as _update_step_xla while saving (showing 1 of 1). These functions will not be directly callable after loading.\n"
     ]
    },
    {
     "metadata": {
      "tags": null
     },
     "name": "stdout",
     "output_type": "stream",
     "text": [
      "82/82 [==============================] - 22s 263ms/step - loss: 0.1357 - mae: 0.3073 - val_loss: 0.1141 - val_mae: 0.2836\n",
      "Epoch 167/500\n",
      "81/82 [============================>.] - ETA: 0s - loss: 0.1328 - mae: 0.3036"
     ]
    },
    {
     "metadata": {
      "tags": null
     },
     "name": "stderr",
     "output_type": "stream",
     "text": [
      "WARNING:absl:Found untraced functions such as _update_step_xla while saving (showing 1 of 1). These functions will not be directly callable after loading.\n"
     ]
    },
    {
     "metadata": {
      "tags": null
     },
     "name": "stdout",
     "output_type": "stream",
     "text": [
      "82/82 [==============================] - 20s 249ms/step - loss: 0.1328 - mae: 0.3036 - val_loss: 0.1125 - val_mae: 0.2816\n",
      "Epoch 168/500\n",
      "81/82 [============================>.] - ETA: 0s - loss: 0.1333 - mae: 0.3040"
     ]
    },
    {
     "metadata": {
      "tags": null
     },
     "name": "stderr",
     "output_type": "stream",
     "text": [
      "WARNING:absl:Found untraced functions such as _update_step_xla while saving (showing 1 of 1). These functions will not be directly callable after loading.\n"
     ]
    },
    {
     "metadata": {
      "tags": null
     },
     "name": "stdout",
     "output_type": "stream",
     "text": [
      "82/82 [==============================] - 22s 265ms/step - loss: 0.1333 - mae: 0.3040 - val_loss: 0.1109 - val_mae: 0.2796\n",
      "Epoch 169/500\n",
      "82/82 [==============================] - ETA: 0s - loss: 0.1315 - mae: 0.3013"
     ]
    },
    {
     "metadata": {
      "tags": null
     },
     "name": "stderr",
     "output_type": "stream",
     "text": [
      "WARNING:absl:Found untraced functions such as _update_step_xla while saving (showing 1 of 1). These functions will not be directly callable after loading.\n"
     ]
    },
    {
     "metadata": {
      "tags": null
     },
     "name": "stdout",
     "output_type": "stream",
     "text": [
      "82/82 [==============================] - 22s 263ms/step - loss: 0.1315 - mae: 0.3013 - val_loss: 0.1094 - val_mae: 0.2776\n",
      "Epoch 170/500\n",
      "82/82 [==============================] - ETA: 0s - loss: 0.1296 - mae: 0.2987"
     ]
    },
    {
     "metadata": {
      "tags": null
     },
     "name": "stderr",
     "output_type": "stream",
     "text": [
      "WARNING:absl:Found untraced functions such as _update_step_xla while saving (showing 1 of 1). These functions will not be directly callable after loading.\n"
     ]
    },
    {
     "metadata": {
      "tags": null
     },
     "name": "stdout",
     "output_type": "stream",
     "text": [
      "82/82 [==============================] - 21s 256ms/step - loss: 0.1296 - mae: 0.2987 - val_loss: 0.1079 - val_mae: 0.2756\n",
      "Epoch 171/500\n",
      "81/82 [============================>.] - ETA: 0s - loss: 0.1279 - mae: 0.2959"
     ]
    },
    {
     "metadata": {
      "tags": null
     },
     "name": "stderr",
     "output_type": "stream",
     "text": [
      "WARNING:absl:Found untraced functions such as _update_step_xla while saving (showing 1 of 1). These functions will not be directly callable after loading.\n"
     ]
    },
    {
     "metadata": {
      "tags": null
     },
     "name": "stdout",
     "output_type": "stream",
     "text": [
      "82/82 [==============================] - 22s 263ms/step - loss: 0.1278 - mae: 0.2958 - val_loss: 0.1064 - val_mae: 0.2736\n",
      "Epoch 172/500\n",
      "81/82 [============================>.] - ETA: 0s - loss: 0.1262 - mae: 0.2944"
     ]
    },
    {
     "metadata": {
      "tags": null
     },
     "name": "stderr",
     "output_type": "stream",
     "text": [
      "WARNING:absl:Found untraced functions such as _update_step_xla while saving (showing 1 of 1). These functions will not be directly callable after loading.\n"
     ]
    },
    {
     "metadata": {
      "tags": null
     },
     "name": "stdout",
     "output_type": "stream",
     "text": [
      "82/82 [==============================] - 21s 263ms/step - loss: 0.1263 - mae: 0.2945 - val_loss: 0.1049 - val_mae: 0.2716\n",
      "Epoch 173/500\n",
      "81/82 [============================>.] - ETA: 0s - loss: 0.1259 - mae: 0.2945"
     ]
    },
    {
     "metadata": {
      "tags": null
     },
     "name": "stderr",
     "output_type": "stream",
     "text": [
      "WARNING:absl:Found untraced functions such as _update_step_xla while saving (showing 1 of 1). These functions will not be directly callable after loading.\n"
     ]
    },
    {
     "metadata": {
      "tags": null
     },
     "name": "stdout",
     "output_type": "stream",
     "text": [
      "82/82 [==============================] - 24s 291ms/step - loss: 0.1259 - mae: 0.2944 - val_loss: 0.1034 - val_mae: 0.2696\n",
      "Epoch 174/500\n",
      "81/82 [============================>.] - ETA: 0s - loss: 0.1252 - mae: 0.2929"
     ]
    },
    {
     "metadata": {
      "tags": null
     },
     "name": "stderr",
     "output_type": "stream",
     "text": [
      "WARNING:absl:Found untraced functions such as _update_step_xla while saving (showing 1 of 1). These functions will not be directly callable after loading.\n"
     ]
    },
    {
     "metadata": {
      "tags": null
     },
     "name": "stdout",
     "output_type": "stream",
     "text": [
      "82/82 [==============================] - 20s 248ms/step - loss: 0.1252 - mae: 0.2929 - val_loss: 0.1020 - val_mae: 0.2676\n",
      "Epoch 175/500\n",
      "81/82 [============================>.] - ETA: 0s - loss: 0.1221 - mae: 0.2893"
     ]
    },
    {
     "metadata": {
      "tags": null
     },
     "name": "stderr",
     "output_type": "stream",
     "text": [
      "WARNING:absl:Found untraced functions such as _update_step_xla while saving (showing 1 of 1). These functions will not be directly callable after loading.\n"
     ]
    },
    {
     "metadata": {
      "tags": null
     },
     "name": "stdout",
     "output_type": "stream",
     "text": [
      "82/82 [==============================] - 21s 252ms/step - loss: 0.1221 - mae: 0.2892 - val_loss: 0.1005 - val_mae: 0.2655\n",
      "Epoch 176/500\n",
      "81/82 [============================>.] - ETA: 0s - loss: 0.1206 - mae: 0.2862"
     ]
    },
    {
     "metadata": {
      "tags": null
     },
     "name": "stderr",
     "output_type": "stream",
     "text": [
      "WARNING:absl:Found untraced functions such as _update_step_xla while saving (showing 1 of 1). These functions will not be directly callable after loading.\n"
     ]
    },
    {
     "metadata": {
      "tags": null
     },
     "name": "stdout",
     "output_type": "stream",
     "text": [
      "82/82 [==============================] - 26s 323ms/step - loss: 0.1206 - mae: 0.2862 - val_loss: 0.0991 - val_mae: 0.2636\n",
      "Epoch 177/500\n",
      "81/82 [============================>.] - ETA: 0s - loss: 0.1204 - mae: 0.2865"
     ]
    },
    {
     "metadata": {
      "tags": null
     },
     "name": "stderr",
     "output_type": "stream",
     "text": [
      "WARNING:absl:Found untraced functions such as _update_step_xla while saving (showing 1 of 1). These functions will not be directly callable after loading.\n"
     ]
    },
    {
     "metadata": {
      "tags": null
     },
     "name": "stdout",
     "output_type": "stream",
     "text": [
      "82/82 [==============================] - 22s 270ms/step - loss: 0.1204 - mae: 0.2865 - val_loss: 0.0977 - val_mae: 0.2615\n",
      "Epoch 178/500\n",
      "82/82 [==============================] - ETA: 0s - loss: 0.1192 - mae: 0.2846"
     ]
    },
    {
     "metadata": {
      "tags": null
     },
     "name": "stderr",
     "output_type": "stream",
     "text": [
      "WARNING:absl:Found untraced functions such as _update_step_xla while saving (showing 1 of 1). These functions will not be directly callable after loading.\n"
     ]
    },
    {
     "metadata": {
      "tags": null
     },
     "name": "stdout",
     "output_type": "stream",
     "text": [
      "82/82 [==============================] - 21s 254ms/step - loss: 0.1192 - mae: 0.2846 - val_loss: 0.0963 - val_mae: 0.2595\n",
      "Epoch 179/500\n",
      "82/82 [==============================] - ETA: 0s - loss: 0.1180 - mae: 0.2832"
     ]
    },
    {
     "metadata": {
      "tags": null
     },
     "name": "stderr",
     "output_type": "stream",
     "text": [
      "WARNING:absl:Found untraced functions such as _update_step_xla while saving (showing 1 of 1). These functions will not be directly callable after loading.\n"
     ]
    },
    {
     "metadata": {
      "tags": null
     },
     "name": "stdout",
     "output_type": "stream",
     "text": [
      "82/82 [==============================] - 21s 258ms/step - loss: 0.1180 - mae: 0.2832 - val_loss: 0.0950 - val_mae: 0.2575\n",
      "Epoch 180/500\n",
      "81/82 [============================>.] - ETA: 0s - loss: 0.1167 - mae: 0.2816"
     ]
    },
    {
     "metadata": {
      "tags": null
     },
     "name": "stderr",
     "output_type": "stream",
     "text": [
      "WARNING:absl:Found untraced functions such as _update_step_xla while saving (showing 1 of 1). These functions will not be directly callable after loading.\n"
     ]
    },
    {
     "metadata": {
      "tags": null
     },
     "name": "stdout",
     "output_type": "stream",
     "text": [
      "82/82 [==============================] - 22s 264ms/step - loss: 0.1167 - mae: 0.2815 - val_loss: 0.0937 - val_mae: 0.2556\n",
      "Epoch 181/500\n",
      "82/82 [==============================] - ETA: 0s - loss: 0.1163 - mae: 0.2812"
     ]
    },
    {
     "metadata": {
      "tags": null
     },
     "name": "stderr",
     "output_type": "stream",
     "text": [
      "WARNING:absl:Found untraced functions such as _update_step_xla while saving (showing 1 of 1). These functions will not be directly callable after loading.\n"
     ]
    },
    {
     "metadata": {
      "tags": null
     },
     "name": "stdout",
     "output_type": "stream",
     "text": [
      "82/82 [==============================] - 21s 256ms/step - loss: 0.1163 - mae: 0.2812 - val_loss: 0.0924 - val_mae: 0.2536\n",
      "Epoch 182/500\n",
      "81/82 [============================>.] - ETA: 0s - loss: 0.1145 - mae: 0.2783"
     ]
    },
    {
     "metadata": {
      "tags": null
     },
     "name": "stderr",
     "output_type": "stream",
     "text": [
      "WARNING:absl:Found untraced functions such as _update_step_xla while saving (showing 1 of 1). These functions will not be directly callable after loading.\n"
     ]
    },
    {
     "metadata": {
      "tags": null
     },
     "name": "stdout",
     "output_type": "stream",
     "text": [
      "82/82 [==============================] - 21s 258ms/step - loss: 0.1145 - mae: 0.2783 - val_loss: 0.0911 - val_mae: 0.2516\n",
      "Epoch 183/500\n",
      "82/82 [==============================] - ETA: 0s - loss: 0.1121 - mae: 0.2752"
     ]
    },
    {
     "metadata": {
      "tags": null
     },
     "name": "stderr",
     "output_type": "stream",
     "text": [
      "WARNING:absl:Found untraced functions such as _update_step_xla while saving (showing 1 of 1). These functions will not be directly callable after loading.\n"
     ]
    },
    {
     "metadata": {
      "tags": null
     },
     "name": "stdout",
     "output_type": "stream",
     "text": [
      "82/82 [==============================] - 21s 255ms/step - loss: 0.1121 - mae: 0.2752 - val_loss: 0.0898 - val_mae: 0.2496\n",
      "Epoch 184/500\n",
      "81/82 [============================>.] - ETA: 0s - loss: 0.1127 - mae: 0.2754"
     ]
    },
    {
     "metadata": {
      "tags": null
     },
     "name": "stderr",
     "output_type": "stream",
     "text": [
      "WARNING:absl:Found untraced functions such as _update_step_xla while saving (showing 1 of 1). These functions will not be directly callable after loading.\n"
     ]
    },
    {
     "metadata": {
      "tags": null
     },
     "name": "stdout",
     "output_type": "stream",
     "text": [
      "82/82 [==============================] - 21s 255ms/step - loss: 0.1127 - mae: 0.2753 - val_loss: 0.0886 - val_mae: 0.2476\n",
      "Epoch 185/500\n",
      "81/82 [============================>.] - ETA: 0s - loss: 0.1124 - mae: 0.2751"
     ]
    },
    {
     "metadata": {
      "tags": null
     },
     "name": "stderr",
     "output_type": "stream",
     "text": [
      "WARNING:absl:Found untraced functions such as _update_step_xla while saving (showing 1 of 1). These functions will not be directly callable after loading.\n"
     ]
    },
    {
     "metadata": {
      "tags": null
     },
     "name": "stdout",
     "output_type": "stream",
     "text": [
      "82/82 [==============================] - 22s 264ms/step - loss: 0.1124 - mae: 0.2751 - val_loss: 0.0874 - val_mae: 0.2456\n",
      "Epoch 186/500\n",
      "81/82 [============================>.] - ETA: 0s - loss: 0.1095 - mae: 0.2711"
     ]
    },
    {
     "metadata": {
      "tags": null
     },
     "name": "stderr",
     "output_type": "stream",
     "text": [
      "WARNING:absl:Found untraced functions such as _update_step_xla while saving (showing 1 of 1). These functions will not be directly callable after loading.\n"
     ]
    },
    {
     "metadata": {
      "tags": null
     },
     "name": "stdout",
     "output_type": "stream",
     "text": [
      "82/82 [==============================] - 21s 252ms/step - loss: 0.1094 - mae: 0.2710 - val_loss: 0.0862 - val_mae: 0.2436\n",
      "Epoch 187/500\n",
      "81/82 [============================>.] - ETA: 0s - loss: 0.1094 - mae: 0.2717"
     ]
    },
    {
     "metadata": {
      "tags": null
     },
     "name": "stderr",
     "output_type": "stream",
     "text": [
      "WARNING:absl:Found untraced functions such as _update_step_xla while saving (showing 1 of 1). These functions will not be directly callable after loading.\n"
     ]
    },
    {
     "metadata": {
      "tags": null
     },
     "name": "stdout",
     "output_type": "stream",
     "text": [
      "82/82 [==============================] - 22s 265ms/step - loss: 0.1093 - mae: 0.2717 - val_loss: 0.0850 - val_mae: 0.2417\n",
      "Epoch 188/500\n",
      "82/82 [==============================] - ETA: 0s - loss: 0.1078 - mae: 0.2695"
     ]
    },
    {
     "metadata": {
      "tags": null
     },
     "name": "stderr",
     "output_type": "stream",
     "text": [
      "WARNING:absl:Found untraced functions such as _update_step_xla while saving (showing 1 of 1). These functions will not be directly callable after loading.\n"
     ]
    },
    {
     "metadata": {
      "tags": null
     },
     "name": "stdout",
     "output_type": "stream",
     "text": [
      "82/82 [==============================] - 22s 268ms/step - loss: 0.1078 - mae: 0.2695 - val_loss: 0.0839 - val_mae: 0.2397\n",
      "Epoch 189/500\n",
      "81/82 [============================>.] - ETA: 0s - loss: 0.1088 - mae: 0.2705"
     ]
    },
    {
     "metadata": {
      "tags": null
     },
     "name": "stderr",
     "output_type": "stream",
     "text": [
      "WARNING:absl:Found untraced functions such as _update_step_xla while saving (showing 1 of 1). These functions will not be directly callable after loading.\n"
     ]
    },
    {
     "metadata": {
      "tags": null
     },
     "name": "stdout",
     "output_type": "stream",
     "text": [
      "82/82 [==============================] - 22s 264ms/step - loss: 0.1089 - mae: 0.2705 - val_loss: 0.0828 - val_mae: 0.2377\n",
      "Epoch 190/500\n",
      "82/82 [==============================] - ETA: 0s - loss: 0.1063 - mae: 0.2660"
     ]
    },
    {
     "metadata": {
      "tags": null
     },
     "name": "stderr",
     "output_type": "stream",
     "text": [
      "WARNING:absl:Found untraced functions such as _update_step_xla while saving (showing 1 of 1). These functions will not be directly callable after loading.\n"
     ]
    },
    {
     "metadata": {
      "tags": null
     },
     "name": "stdout",
     "output_type": "stream",
     "text": [
      "82/82 [==============================] - 21s 256ms/step - loss: 0.1063 - mae: 0.2660 - val_loss: 0.0816 - val_mae: 0.2356\n",
      "Epoch 191/500\n",
      "81/82 [============================>.] - ETA: 0s - loss: 0.1047 - mae: 0.2641"
     ]
    },
    {
     "metadata": {
      "tags": null
     },
     "name": "stderr",
     "output_type": "stream",
     "text": [
      "WARNING:absl:Found untraced functions such as _update_step_xla while saving (showing 1 of 1). These functions will not be directly callable after loading.\n"
     ]
    },
    {
     "metadata": {
      "tags": null
     },
     "name": "stdout",
     "output_type": "stream",
     "text": [
      "82/82 [==============================] - 21s 254ms/step - loss: 0.1047 - mae: 0.2640 - val_loss: 0.0805 - val_mae: 0.2335\n",
      "Epoch 192/500\n",
      "81/82 [============================>.] - ETA: 0s - loss: 0.1056 - mae: 0.2656"
     ]
    },
    {
     "metadata": {
      "tags": null
     },
     "name": "stderr",
     "output_type": "stream",
     "text": [
      "WARNING:absl:Found untraced functions such as _update_step_xla while saving (showing 1 of 1). These functions will not be directly callable after loading.\n"
     ]
    },
    {
     "metadata": {
      "tags": null
     },
     "name": "stdout",
     "output_type": "stream",
     "text": [
      "82/82 [==============================] - 21s 261ms/step - loss: 0.1056 - mae: 0.2657 - val_loss: 0.0794 - val_mae: 0.2316\n",
      "Epoch 193/500\n",
      "81/82 [============================>.] - ETA: 0s - loss: 0.1027 - mae: 0.2607"
     ]
    },
    {
     "metadata": {
      "tags": null
     },
     "name": "stderr",
     "output_type": "stream",
     "text": [
      "WARNING:absl:Found untraced functions such as _update_step_xla while saving (showing 1 of 1). These functions will not be directly callable after loading.\n"
     ]
    },
    {
     "metadata": {
      "tags": null
     },
     "name": "stdout",
     "output_type": "stream",
     "text": [
      "82/82 [==============================] - 21s 252ms/step - loss: 0.1027 - mae: 0.2607 - val_loss: 0.0784 - val_mae: 0.2296\n",
      "Epoch 194/500\n",
      "81/82 [============================>.] - ETA: 0s - loss: 0.1043 - mae: 0.2634"
     ]
    },
    {
     "metadata": {
      "tags": null
     },
     "name": "stderr",
     "output_type": "stream",
     "text": [
      "WARNING:absl:Found untraced functions such as _update_step_xla while saving (showing 1 of 1). These functions will not be directly callable after loading.\n"
     ]
    },
    {
     "metadata": {
      "tags": null
     },
     "name": "stdout",
     "output_type": "stream",
     "text": [
      "82/82 [==============================] - 21s 263ms/step - loss: 0.1044 - mae: 0.2634 - val_loss: 0.0774 - val_mae: 0.2276\n",
      "Epoch 195/500\n",
      "82/82 [==============================] - ETA: 0s - loss: 0.1022 - mae: 0.2604"
     ]
    },
    {
     "metadata": {
      "tags": null
     },
     "name": "stderr",
     "output_type": "stream",
     "text": [
      "WARNING:absl:Found untraced functions such as _update_step_xla while saving (showing 1 of 1). These functions will not be directly callable after loading.\n"
     ]
    },
    {
     "metadata": {
      "tags": null
     },
     "name": "stdout",
     "output_type": "stream",
     "text": [
      "82/82 [==============================] - 21s 254ms/step - loss: 0.1022 - mae: 0.2604 - val_loss: 0.0764 - val_mae: 0.2256\n",
      "Epoch 196/500\n",
      "81/82 [============================>.] - ETA: 0s - loss: 0.1031 - mae: 0.2611"
     ]
    },
    {
     "metadata": {
      "tags": null
     },
     "name": "stderr",
     "output_type": "stream",
     "text": [
      "WARNING:absl:Found untraced functions such as _update_step_xla while saving (showing 1 of 1). These functions will not be directly callable after loading.\n"
     ]
    },
    {
     "metadata": {
      "tags": null
     },
     "name": "stdout",
     "output_type": "stream",
     "text": [
      "82/82 [==============================] - 21s 253ms/step - loss: 0.1030 - mae: 0.2610 - val_loss: 0.0755 - val_mae: 0.2238\n",
      "Epoch 197/500\n",
      "81/82 [============================>.] - ETA: 0s - loss: 0.1026 - mae: 0.2603"
     ]
    },
    {
     "metadata": {
      "tags": null
     },
     "name": "stderr",
     "output_type": "stream",
     "text": [
      "WARNING:absl:Found untraced functions such as _update_step_xla while saving (showing 1 of 1). These functions will not be directly callable after loading.\n"
     ]
    },
    {
     "metadata": {
      "tags": null
     },
     "name": "stdout",
     "output_type": "stream",
     "text": [
      "82/82 [==============================] - 21s 262ms/step - loss: 0.1026 - mae: 0.2603 - val_loss: 0.0746 - val_mae: 0.2220\n",
      "Epoch 198/500\n",
      "82/82 [==============================] - ETA: 0s - loss: 0.0994 - mae: 0.2561"
     ]
    },
    {
     "metadata": {
      "tags": null
     },
     "name": "stderr",
     "output_type": "stream",
     "text": [
      "WARNING:absl:Found untraced functions such as _update_step_xla while saving (showing 1 of 1). These functions will not be directly callable after loading.\n"
     ]
    },
    {
     "metadata": {
      "tags": null
     },
     "name": "stdout",
     "output_type": "stream",
     "text": [
      "82/82 [==============================] - 21s 258ms/step - loss: 0.0994 - mae: 0.2561 - val_loss: 0.0737 - val_mae: 0.2205\n",
      "Epoch 199/500\n",
      "81/82 [============================>.] - ETA: 0s - loss: 0.1002 - mae: 0.2561"
     ]
    },
    {
     "metadata": {
      "tags": null
     },
     "name": "stderr",
     "output_type": "stream",
     "text": [
      "WARNING:absl:Found untraced functions such as _update_step_xla while saving (showing 1 of 1). These functions will not be directly callable after loading.\n"
     ]
    },
    {
     "metadata": {
      "tags": null
     },
     "name": "stdout",
     "output_type": "stream",
     "text": [
      "82/82 [==============================] - 20s 251ms/step - loss: 0.1002 - mae: 0.2562 - val_loss: 0.0728 - val_mae: 0.2192\n",
      "Epoch 200/500\n",
      "81/82 [============================>.] - ETA: 0s - loss: 0.0988 - mae: 0.2553"
     ]
    },
    {
     "metadata": {
      "tags": null
     },
     "name": "stderr",
     "output_type": "stream",
     "text": [
      "WARNING:absl:Found untraced functions such as _update_step_xla while saving (showing 1 of 1). These functions will not be directly callable after loading.\n"
     ]
    },
    {
     "metadata": {
      "tags": null
     },
     "name": "stdout",
     "output_type": "stream",
     "text": [
      "82/82 [==============================] - 21s 261ms/step - loss: 0.0988 - mae: 0.2553 - val_loss: 0.0719 - val_mae: 0.2179\n",
      "Epoch 201/500\n",
      "81/82 [============================>.] - ETA: 0s - loss: 0.0997 - mae: 0.2561"
     ]
    },
    {
     "metadata": {
      "tags": null
     },
     "name": "stderr",
     "output_type": "stream",
     "text": [
      "WARNING:absl:Found untraced functions such as _update_step_xla while saving (showing 1 of 1). These functions will not be directly callable after loading.\n"
     ]
    },
    {
     "metadata": {
      "tags": null
     },
     "name": "stdout",
     "output_type": "stream",
     "text": [
      "82/82 [==============================] - 21s 252ms/step - loss: 0.0997 - mae: 0.2562 - val_loss: 0.0711 - val_mae: 0.2169\n",
      "Epoch 202/500\n",
      "81/82 [============================>.] - ETA: 0s - loss: 0.0980 - mae: 0.2534"
     ]
    },
    {
     "metadata": {
      "tags": null
     },
     "name": "stderr",
     "output_type": "stream",
     "text": [
      "WARNING:absl:Found untraced functions such as _update_step_xla while saving (showing 1 of 1). These functions will not be directly callable after loading.\n"
     ]
    },
    {
     "metadata": {
      "tags": null
     },
     "name": "stdout",
     "output_type": "stream",
     "text": [
      "82/82 [==============================] - 22s 273ms/step - loss: 0.0980 - mae: 0.2534 - val_loss: 0.0703 - val_mae: 0.2161\n",
      "Epoch 203/500\n",
      "81/82 [============================>.] - ETA: 0s - loss: 0.0975 - mae: 0.2524"
     ]
    },
    {
     "metadata": {
      "tags": null
     },
     "name": "stderr",
     "output_type": "stream",
     "text": [
      "WARNING:absl:Found untraced functions such as _update_step_xla while saving (showing 1 of 1). These functions will not be directly callable after loading.\n"
     ]
    },
    {
     "metadata": {
      "tags": null
     },
     "name": "stdout",
     "output_type": "stream",
     "text": [
      "82/82 [==============================] - 21s 253ms/step - loss: 0.0975 - mae: 0.2525 - val_loss: 0.0696 - val_mae: 0.2154\n",
      "Epoch 204/500\n",
      "82/82 [==============================] - ETA: 0s - loss: 0.0972 - mae: 0.2530"
     ]
    },
    {
     "metadata": {
      "tags": null
     },
     "name": "stderr",
     "output_type": "stream",
     "text": [
      "WARNING:absl:Found untraced functions such as _update_step_xla while saving (showing 1 of 1). These functions will not be directly callable after loading.\n"
     ]
    },
    {
     "metadata": {
      "tags": null
     },
     "name": "stdout",
     "output_type": "stream",
     "text": [
      "82/82 [==============================] - 28s 344ms/step - loss: 0.0972 - mae: 0.2530 - val_loss: 0.0689 - val_mae: 0.2147\n",
      "Epoch 205/500\n",
      "81/82 [============================>.] - ETA: 0s - loss: 0.0963 - mae: 0.2515"
     ]
    },
    {
     "metadata": {
      "tags": null
     },
     "name": "stderr",
     "output_type": "stream",
     "text": [
      "WARNING:absl:Found untraced functions such as _update_step_xla while saving (showing 1 of 1). These functions will not be directly callable after loading.\n"
     ]
    },
    {
     "metadata": {
      "tags": null
     },
     "name": "stdout",
     "output_type": "stream",
     "text": [
      "82/82 [==============================] - 20s 244ms/step - loss: 0.0963 - mae: 0.2515 - val_loss: 0.0682 - val_mae: 0.2140\n",
      "Epoch 206/500\n",
      "81/82 [============================>.] - ETA: 0s - loss: 0.0958 - mae: 0.2516"
     ]
    },
    {
     "metadata": {
      "tags": null
     },
     "name": "stderr",
     "output_type": "stream",
     "text": [
      "WARNING:absl:Found untraced functions such as _update_step_xla while saving (showing 1 of 1). These functions will not be directly callable after loading.\n"
     ]
    },
    {
     "metadata": {
      "tags": null
     },
     "name": "stdout",
     "output_type": "stream",
     "text": [
      "82/82 [==============================] - 21s 254ms/step - loss: 0.0958 - mae: 0.2517 - val_loss: 0.0676 - val_mae: 0.2133\n",
      "Epoch 207/500\n",
      "82/82 [==============================] - ETA: 0s - loss: 0.0948 - mae: 0.2489"
     ]
    },
    {
     "metadata": {
      "tags": null
     },
     "name": "stderr",
     "output_type": "stream",
     "text": [
      "WARNING:absl:Found untraced functions such as _update_step_xla while saving (showing 1 of 1). These functions will not be directly callable after loading.\n"
     ]
    },
    {
     "metadata": {
      "tags": null
     },
     "name": "stdout",
     "output_type": "stream",
     "text": [
      "82/82 [==============================] - 21s 260ms/step - loss: 0.0948 - mae: 0.2489 - val_loss: 0.0670 - val_mae: 0.2127\n",
      "Epoch 208/500\n",
      "81/82 [============================>.] - ETA: 0s - loss: 0.0928 - mae: 0.2458"
     ]
    },
    {
     "metadata": {
      "tags": null
     },
     "name": "stderr",
     "output_type": "stream",
     "text": [
      "WARNING:absl:Found untraced functions such as _update_step_xla while saving (showing 1 of 1). These functions will not be directly callable after loading.\n"
     ]
    },
    {
     "metadata": {
      "tags": null
     },
     "name": "stdout",
     "output_type": "stream",
     "text": [
      "82/82 [==============================] - 20s 245ms/step - loss: 0.0928 - mae: 0.2459 - val_loss: 0.0664 - val_mae: 0.2120\n",
      "Epoch 209/500\n",
      "81/82 [============================>.] - ETA: 0s - loss: 0.0939 - mae: 0.2477"
     ]
    },
    {
     "metadata": {
      "tags": null
     },
     "name": "stderr",
     "output_type": "stream",
     "text": [
      "WARNING:absl:Found untraced functions such as _update_step_xla while saving (showing 1 of 1). These functions will not be directly callable after loading.\n"
     ]
    },
    {
     "metadata": {
      "tags": null
     },
     "name": "stdout",
     "output_type": "stream",
     "text": [
      "82/82 [==============================] - 21s 255ms/step - loss: 0.0938 - mae: 0.2477 - val_loss: 0.0660 - val_mae: 0.2115\n",
      "Epoch 210/500\n",
      "81/82 [============================>.] - ETA: 0s - loss: 0.0951 - mae: 0.2498"
     ]
    },
    {
     "metadata": {
      "tags": null
     },
     "name": "stderr",
     "output_type": "stream",
     "text": [
      "WARNING:absl:Found untraced functions such as _update_step_xla while saving (showing 1 of 1). These functions will not be directly callable after loading.\n"
     ]
    },
    {
     "metadata": {
      "tags": null
     },
     "name": "stdout",
     "output_type": "stream",
     "text": [
      "82/82 [==============================] - 20s 245ms/step - loss: 0.0951 - mae: 0.2499 - val_loss: 0.0655 - val_mae: 0.2110\n",
      "Epoch 211/500\n",
      "82/82 [==============================] - ETA: 0s - loss: 0.0939 - mae: 0.2467"
     ]
    },
    {
     "metadata": {
      "tags": null
     },
     "name": "stderr",
     "output_type": "stream",
     "text": [
      "WARNING:absl:Found untraced functions such as _update_step_xla while saving (showing 1 of 1). These functions will not be directly callable after loading.\n"
     ]
    },
    {
     "metadata": {
      "tags": null
     },
     "name": "stdout",
     "output_type": "stream",
     "text": [
      "82/82 [==============================] - 22s 267ms/step - loss: 0.0939 - mae: 0.2467 - val_loss: 0.0651 - val_mae: 0.2104\n",
      "Epoch 212/500\n",
      "81/82 [============================>.] - ETA: 0s - loss: 0.0949 - mae: 0.2490"
     ]
    },
    {
     "metadata": {
      "tags": null
     },
     "name": "stderr",
     "output_type": "stream",
     "text": [
      "WARNING:absl:Found untraced functions such as _update_step_xla while saving (showing 1 of 1). These functions will not be directly callable after loading.\n"
     ]
    },
    {
     "metadata": {
      "tags": null
     },
     "name": "stdout",
     "output_type": "stream",
     "text": [
      "82/82 [==============================] - 20s 243ms/step - loss: 0.0949 - mae: 0.2489 - val_loss: 0.0646 - val_mae: 0.2099\n",
      "Epoch 213/500\n",
      "81/82 [============================>.] - ETA: 0s - loss: 0.0939 - mae: 0.2460"
     ]
    },
    {
     "metadata": {
      "tags": null
     },
     "name": "stderr",
     "output_type": "stream",
     "text": [
      "WARNING:absl:Found untraced functions such as _update_step_xla while saving (showing 1 of 1). These functions will not be directly callable after loading.\n"
     ]
    },
    {
     "metadata": {
      "tags": null
     },
     "name": "stdout",
     "output_type": "stream",
     "text": [
      "82/82 [==============================] - 20s 247ms/step - loss: 0.0938 - mae: 0.2460 - val_loss: 0.0643 - val_mae: 0.2095\n",
      "Epoch 214/500\n",
      "82/82 [==============================] - ETA: 0s - loss: 0.0946 - mae: 0.2484"
     ]
    },
    {
     "metadata": {
      "tags": null
     },
     "name": "stderr",
     "output_type": "stream",
     "text": [
      "WARNING:absl:Found untraced functions such as _update_step_xla while saving (showing 1 of 1). These functions will not be directly callable after loading.\n"
     ]
    },
    {
     "metadata": {
      "tags": null
     },
     "name": "stdout",
     "output_type": "stream",
     "text": [
      "82/82 [==============================] - 20s 243ms/step - loss: 0.0946 - mae: 0.2484 - val_loss: 0.0640 - val_mae: 0.2091\n",
      "Epoch 215/500\n",
      "81/82 [============================>.] - ETA: 0s - loss: 0.0921 - mae: 0.2456"
     ]
    },
    {
     "metadata": {
      "tags": null
     },
     "name": "stderr",
     "output_type": "stream",
     "text": [
      "WARNING:absl:Found untraced functions such as _update_step_xla while saving (showing 1 of 1). These functions will not be directly callable after loading.\n"
     ]
    },
    {
     "metadata": {
      "tags": null
     },
     "name": "stdout",
     "output_type": "stream",
     "text": [
      "82/82 [==============================] - 20s 251ms/step - loss: 0.0921 - mae: 0.2456 - val_loss: 0.0636 - val_mae: 0.2085\n",
      "Epoch 216/500\n",
      "82/82 [==============================] - ETA: 0s - loss: 0.0927 - mae: 0.2468"
     ]
    },
    {
     "metadata": {
      "tags": null
     },
     "name": "stderr",
     "output_type": "stream",
     "text": [
      "WARNING:absl:Found untraced functions such as _update_step_xla while saving (showing 1 of 1). These functions will not be directly callable after loading.\n"
     ]
    },
    {
     "metadata": {
      "tags": null
     },
     "name": "stdout",
     "output_type": "stream",
     "text": [
      "82/82 [==============================] - 20s 249ms/step - loss: 0.0927 - mae: 0.2468 - val_loss: 0.0633 - val_mae: 0.2080\n",
      "Epoch 217/500\n",
      "81/82 [============================>.] - ETA: 0s - loss: 0.0936 - mae: 0.2461"
     ]
    },
    {
     "metadata": {
      "tags": null
     },
     "name": "stderr",
     "output_type": "stream",
     "text": [
      "WARNING:absl:Found untraced functions such as _update_step_xla while saving (showing 1 of 1). These functions will not be directly callable after loading.\n"
     ]
    },
    {
     "metadata": {
      "tags": null
     },
     "name": "stdout",
     "output_type": "stream",
     "text": [
      "82/82 [==============================] - 20s 240ms/step - loss: 0.0936 - mae: 0.2460 - val_loss: 0.0630 - val_mae: 0.2076\n",
      "Epoch 218/500\n",
      "81/82 [============================>.] - ETA: 0s - loss: 0.0919 - mae: 0.2440"
     ]
    },
    {
     "metadata": {
      "tags": null
     },
     "name": "stderr",
     "output_type": "stream",
     "text": [
      "WARNING:absl:Found untraced functions such as _update_step_xla while saving (showing 1 of 1). These functions will not be directly callable after loading.\n"
     ]
    },
    {
     "metadata": {
      "tags": null
     },
     "name": "stdout",
     "output_type": "stream",
     "text": [
      "82/82 [==============================] - 21s 256ms/step - loss: 0.0920 - mae: 0.2441 - val_loss: 0.0627 - val_mae: 0.2072\n",
      "Epoch 219/500\n",
      "81/82 [============================>.] - ETA: 0s - loss: 0.0944 - mae: 0.2473"
     ]
    },
    {
     "metadata": {
      "tags": null
     },
     "name": "stderr",
     "output_type": "stream",
     "text": [
      "WARNING:absl:Found untraced functions such as _update_step_xla while saving (showing 1 of 1). These functions will not be directly callable after loading.\n"
     ]
    },
    {
     "metadata": {
      "tags": null
     },
     "name": "stdout",
     "output_type": "stream",
     "text": [
      "82/82 [==============================] - 20s 242ms/step - loss: 0.0943 - mae: 0.2472 - val_loss: 0.0625 - val_mae: 0.2069\n",
      "Epoch 220/500\n",
      "81/82 [============================>.] - ETA: 0s - loss: 0.0926 - mae: 0.2457"
     ]
    },
    {
     "metadata": {
      "tags": null
     },
     "name": "stderr",
     "output_type": "stream",
     "text": [
      "WARNING:absl:Found untraced functions such as _update_step_xla while saving (showing 1 of 1). These functions will not be directly callable after loading.\n"
     ]
    },
    {
     "metadata": {
      "tags": null
     },
     "name": "stdout",
     "output_type": "stream",
     "text": [
      "82/82 [==============================] - 20s 250ms/step - loss: 0.0926 - mae: 0.2456 - val_loss: 0.0623 - val_mae: 0.2066\n",
      "Epoch 221/500\n",
      "82/82 [==============================] - ETA: 0s - loss: 0.0912 - mae: 0.2428"
     ]
    },
    {
     "metadata": {
      "tags": null
     },
     "name": "stderr",
     "output_type": "stream",
     "text": [
      "WARNING:absl:Found untraced functions such as _update_step_xla while saving (showing 1 of 1). These functions will not be directly callable after loading.\n"
     ]
    },
    {
     "metadata": {
      "tags": null
     },
     "name": "stdout",
     "output_type": "stream",
     "text": [
      "82/82 [==============================] - 20s 241ms/step - loss: 0.0912 - mae: 0.2428 - val_loss: 0.0621 - val_mae: 0.2062\n",
      "Epoch 222/500\n",
      "81/82 [============================>.] - ETA: 0s - loss: 0.0925 - mae: 0.2455"
     ]
    },
    {
     "metadata": {
      "tags": null
     },
     "name": "stderr",
     "output_type": "stream",
     "text": [
      "WARNING:absl:Found untraced functions such as _update_step_xla while saving (showing 1 of 1). These functions will not be directly callable after loading.\n"
     ]
    },
    {
     "metadata": {
      "tags": null
     },
     "name": "stdout",
     "output_type": "stream",
     "text": [
      "82/82 [==============================] - 20s 243ms/step - loss: 0.0924 - mae: 0.2454 - val_loss: 0.0619 - val_mae: 0.2060\n",
      "Epoch 223/500\n",
      "81/82 [============================>.] - ETA: 0s - loss: 0.0920 - mae: 0.2443"
     ]
    },
    {
     "metadata": {
      "tags": null
     },
     "name": "stderr",
     "output_type": "stream",
     "text": [
      "WARNING:absl:Found untraced functions such as _update_step_xla while saving (showing 1 of 1). These functions will not be directly callable after loading.\n"
     ]
    },
    {
     "metadata": {
      "tags": null
     },
     "name": "stdout",
     "output_type": "stream",
     "text": [
      "82/82 [==============================] - 21s 260ms/step - loss: 0.0920 - mae: 0.2442 - val_loss: 0.0618 - val_mae: 0.2058\n",
      "Epoch 224/500\n",
      "81/82 [============================>.] - ETA: 0s - loss: 0.0914 - mae: 0.2440"
     ]
    },
    {
     "metadata": {
      "tags": null
     },
     "name": "stderr",
     "output_type": "stream",
     "text": [
      "WARNING:absl:Found untraced functions such as _update_step_xla while saving (showing 1 of 1). These functions will not be directly callable after loading.\n"
     ]
    },
    {
     "metadata": {
      "tags": null
     },
     "name": "stdout",
     "output_type": "stream",
     "text": [
      "82/82 [==============================] - 20s 249ms/step - loss: 0.0914 - mae: 0.2439 - val_loss: 0.0617 - val_mae: 0.2056\n",
      "Epoch 225/500\n",
      "81/82 [============================>.] - ETA: 0s - loss: 0.0919 - mae: 0.2435"
     ]
    },
    {
     "metadata": {
      "tags": null
     },
     "name": "stderr",
     "output_type": "stream",
     "text": [
      "WARNING:absl:Found untraced functions such as _update_step_xla while saving (showing 1 of 1). These functions will not be directly callable after loading.\n"
     ]
    },
    {
     "metadata": {
      "tags": null
     },
     "name": "stdout",
     "output_type": "stream",
     "text": [
      "82/82 [==============================] - 21s 253ms/step - loss: 0.0918 - mae: 0.2434 - val_loss: 0.0616 - val_mae: 0.2055\n",
      "Epoch 226/500\n",
      "81/82 [============================>.] - ETA: 0s - loss: 0.0901 - mae: 0.2425"
     ]
    },
    {
     "metadata": {
      "tags": null
     },
     "name": "stderr",
     "output_type": "stream",
     "text": [
      "WARNING:absl:Found untraced functions such as _update_step_xla while saving (showing 1 of 1). These functions will not be directly callable after loading.\n"
     ]
    },
    {
     "metadata": {
      "tags": null
     },
     "name": "stdout",
     "output_type": "stream",
     "text": [
      "82/82 [==============================] - 20s 242ms/step - loss: 0.0901 - mae: 0.2424 - val_loss: 0.0615 - val_mae: 0.2053\n",
      "Epoch 227/500\n",
      "81/82 [============================>.] - ETA: 0s - loss: 0.0918 - mae: 0.2435"
     ]
    },
    {
     "metadata": {
      "tags": null
     },
     "name": "stderr",
     "output_type": "stream",
     "text": [
      "WARNING:absl:Found untraced functions such as _update_step_xla while saving (showing 1 of 1). These functions will not be directly callable after loading.\n"
     ]
    },
    {
     "metadata": {
      "tags": null
     },
     "name": "stdout",
     "output_type": "stream",
     "text": [
      "82/82 [==============================] - 21s 252ms/step - loss: 0.0919 - mae: 0.2436 - val_loss: 0.0615 - val_mae: 0.2052\n",
      "Epoch 228/500\n",
      "82/82 [==============================] - ETA: 0s - loss: 0.0913 - mae: 0.2433"
     ]
    },
    {
     "metadata": {
      "tags": null
     },
     "name": "stderr",
     "output_type": "stream",
     "text": [
      "WARNING:absl:Found untraced functions such as _update_step_xla while saving (showing 1 of 1). These functions will not be directly callable after loading.\n"
     ]
    },
    {
     "metadata": {
      "tags": null
     },
     "name": "stdout",
     "output_type": "stream",
     "text": [
      "82/82 [==============================] - 21s 253ms/step - loss: 0.0913 - mae: 0.2433 - val_loss: 0.0614 - val_mae: 0.2050\n",
      "Epoch 229/500\n",
      "81/82 [============================>.] - ETA: 0s - loss: 0.0919 - mae: 0.2441"
     ]
    },
    {
     "metadata": {
      "tags": null
     },
     "name": "stderr",
     "output_type": "stream",
     "text": [
      "WARNING:absl:Found untraced functions such as _update_step_xla while saving (showing 1 of 1). These functions will not be directly callable after loading.\n"
     ]
    },
    {
     "metadata": {
      "tags": null
     },
     "name": "stdout",
     "output_type": "stream",
     "text": [
      "82/82 [==============================] - 20s 248ms/step - loss: 0.0919 - mae: 0.2442 - val_loss: 0.0613 - val_mae: 0.2049\n",
      "Epoch 230/500\n",
      "82/82 [==============================] - ETA: 0s - loss: 0.0899 - mae: 0.2402"
     ]
    },
    {
     "metadata": {
      "tags": null
     },
     "name": "stderr",
     "output_type": "stream",
     "text": [
      "WARNING:absl:Found untraced functions such as _update_step_xla while saving (showing 1 of 1). These functions will not be directly callable after loading.\n"
     ]
    },
    {
     "metadata": {
      "tags": null
     },
     "name": "stdout",
     "output_type": "stream",
     "text": [
      "82/82 [==============================] - 20s 248ms/step - loss: 0.0899 - mae: 0.2402 - val_loss: 0.0612 - val_mae: 0.2048\n",
      "Epoch 231/500\n",
      "81/82 [============================>.] - ETA: 0s - loss: 0.0907 - mae: 0.2416"
     ]
    },
    {
     "metadata": {
      "tags": null
     },
     "name": "stderr",
     "output_type": "stream",
     "text": [
      "WARNING:absl:Found untraced functions such as _update_step_xla while saving (showing 1 of 1). These functions will not be directly callable after loading.\n"
     ]
    },
    {
     "metadata": {
      "tags": null
     },
     "name": "stdout",
     "output_type": "stream",
     "text": [
      "82/82 [==============================] - 20s 246ms/step - loss: 0.0907 - mae: 0.2416 - val_loss: 0.0612 - val_mae: 0.2047\n",
      "Epoch 232/500\n",
      "81/82 [============================>.] - ETA: 0s - loss: 0.0922 - mae: 0.2454"
     ]
    },
    {
     "metadata": {
      "tags": null
     },
     "name": "stderr",
     "output_type": "stream",
     "text": [
      "WARNING:absl:Found untraced functions such as _update_step_xla while saving (showing 1 of 1). These functions will not be directly callable after loading.\n"
     ]
    },
    {
     "metadata": {
      "tags": null
     },
     "name": "stdout",
     "output_type": "stream",
     "text": [
      "82/82 [==============================] - 22s 266ms/step - loss: 0.0922 - mae: 0.2454 - val_loss: 0.0611 - val_mae: 0.2046\n",
      "Epoch 233/500\n",
      "81/82 [============================>.] - ETA: 0s - loss: 0.0918 - mae: 0.2439"
     ]
    },
    {
     "metadata": {
      "tags": null
     },
     "name": "stderr",
     "output_type": "stream",
     "text": [
      "WARNING:absl:Found untraced functions such as _update_step_xla while saving (showing 1 of 1). These functions will not be directly callable after loading.\n"
     ]
    },
    {
     "metadata": {
      "tags": null
     },
     "name": "stdout",
     "output_type": "stream",
     "text": [
      "82/82 [==============================] - 20s 244ms/step - loss: 0.0918 - mae: 0.2439 - val_loss: 0.0611 - val_mae: 0.2045\n",
      "Epoch 234/500\n",
      "81/82 [============================>.] - ETA: 0s - loss: 0.0918 - mae: 0.2441"
     ]
    },
    {
     "metadata": {
      "tags": null
     },
     "name": "stderr",
     "output_type": "stream",
     "text": [
      "WARNING:absl:Found untraced functions such as _update_step_xla while saving (showing 1 of 1). These functions will not be directly callable after loading.\n"
     ]
    },
    {
     "metadata": {
      "tags": null
     },
     "name": "stdout",
     "output_type": "stream",
     "text": [
      "82/82 [==============================] - 28s 337ms/step - loss: 0.0918 - mae: 0.2441 - val_loss: 0.0610 - val_mae: 0.2044\n",
      "Epoch 235/500\n",
      "81/82 [============================>.] - ETA: 0s - loss: 0.0908 - mae: 0.2423"
     ]
    },
    {
     "metadata": {
      "tags": null
     },
     "name": "stderr",
     "output_type": "stream",
     "text": [
      "WARNING:absl:Found untraced functions such as _update_step_xla while saving (showing 1 of 1). These functions will not be directly callable after loading.\n"
     ]
    },
    {
     "metadata": {
      "tags": null
     },
     "name": "stdout",
     "output_type": "stream",
     "text": [
      "82/82 [==============================] - 21s 255ms/step - loss: 0.0907 - mae: 0.2421 - val_loss: 0.0610 - val_mae: 0.2042\n",
      "Epoch 236/500\n",
      "82/82 [==============================] - ETA: 0s - loss: 0.0893 - mae: 0.2402"
     ]
    },
    {
     "metadata": {
      "tags": null
     },
     "name": "stderr",
     "output_type": "stream",
     "text": [
      "WARNING:absl:Found untraced functions such as _update_step_xla while saving (showing 1 of 1). These functions will not be directly callable after loading.\n"
     ]
    },
    {
     "metadata": {
      "tags": null
     },
     "name": "stdout",
     "output_type": "stream",
     "text": [
      "82/82 [==============================] - 20s 242ms/step - loss: 0.0893 - mae: 0.2402 - val_loss: 0.0609 - val_mae: 0.2041\n",
      "Epoch 237/500\n",
      "81/82 [============================>.] - ETA: 0s - loss: 0.0910 - mae: 0.2428"
     ]
    },
    {
     "metadata": {
      "tags": null
     },
     "name": "stderr",
     "output_type": "stream",
     "text": [
      "WARNING:absl:Found untraced functions such as _update_step_xla while saving (showing 1 of 1). These functions will not be directly callable after loading.\n"
     ]
    },
    {
     "metadata": {
      "tags": null
     },
     "name": "stdout",
     "output_type": "stream",
     "text": [
      "82/82 [==============================] - 20s 249ms/step - loss: 0.0909 - mae: 0.2427 - val_loss: 0.0609 - val_mae: 0.2040\n",
      "Epoch 238/500\n",
      "82/82 [==============================] - ETA: 0s - loss: 0.0897 - mae: 0.2405"
     ]
    },
    {
     "metadata": {
      "tags": null
     },
     "name": "stderr",
     "output_type": "stream",
     "text": [
      "WARNING:absl:Found untraced functions such as _update_step_xla while saving (showing 1 of 1). These functions will not be directly callable after loading.\n"
     ]
    },
    {
     "metadata": {
      "tags": null
     },
     "name": "stdout",
     "output_type": "stream",
     "text": [
      "82/82 [==============================] - 20s 242ms/step - loss: 0.0897 - mae: 0.2405 - val_loss: 0.0609 - val_mae: 0.2040\n",
      "Epoch 239/500\n",
      "81/82 [============================>.] - ETA: 0s - loss: 0.0894 - mae: 0.2412"
     ]
    },
    {
     "metadata": {
      "tags": null
     },
     "name": "stderr",
     "output_type": "stream",
     "text": [
      "WARNING:absl:Found untraced functions such as _update_step_xla while saving (showing 1 of 1). These functions will not be directly callable after loading.\n"
     ]
    },
    {
     "metadata": {
      "tags": null
     },
     "name": "stdout",
     "output_type": "stream",
     "text": [
      "82/82 [==============================] - 20s 246ms/step - loss: 0.0894 - mae: 0.2411 - val_loss: 0.0608 - val_mae: 0.2039\n",
      "Epoch 240/500\n",
      "82/82 [==============================] - ETA: 0s - loss: 0.0910 - mae: 0.2430"
     ]
    },
    {
     "metadata": {
      "tags": null
     },
     "name": "stderr",
     "output_type": "stream",
     "text": [
      "WARNING:absl:Found untraced functions such as _update_step_xla while saving (showing 1 of 1). These functions will not be directly callable after loading.\n"
     ]
    },
    {
     "metadata": {
      "tags": null
     },
     "name": "stdout",
     "output_type": "stream",
     "text": [
      "82/82 [==============================] - 21s 254ms/step - loss: 0.0910 - mae: 0.2430 - val_loss: 0.0608 - val_mae: 0.2038\n",
      "Epoch 241/500\n",
      "81/82 [============================>.] - ETA: 0s - loss: 0.0900 - mae: 0.2411"
     ]
    },
    {
     "metadata": {
      "tags": null
     },
     "name": "stderr",
     "output_type": "stream",
     "text": [
      "WARNING:absl:Found untraced functions such as _update_step_xla while saving (showing 1 of 1). These functions will not be directly callable after loading.\n"
     ]
    },
    {
     "metadata": {
      "tags": null
     },
     "name": "stdout",
     "output_type": "stream",
     "text": [
      "82/82 [==============================] - 20s 249ms/step - loss: 0.0901 - mae: 0.2411 - val_loss: 0.0608 - val_mae: 0.2038\n",
      "Epoch 242/500\n",
      "81/82 [============================>.] - ETA: 0s - loss: 0.0900 - mae: 0.2418"
     ]
    },
    {
     "metadata": {
      "tags": null
     },
     "name": "stderr",
     "output_type": "stream",
     "text": [
      "WARNING:absl:Found untraced functions such as _update_step_xla while saving (showing 1 of 1). These functions will not be directly callable after loading.\n"
     ]
    },
    {
     "metadata": {
      "tags": null
     },
     "name": "stdout",
     "output_type": "stream",
     "text": [
      "82/82 [==============================] - 21s 252ms/step - loss: 0.0901 - mae: 0.2419 - val_loss: 0.0607 - val_mae: 0.2037\n",
      "Epoch 243/500\n",
      "82/82 [==============================] - ETA: 0s - loss: 0.0888 - mae: 0.2389"
     ]
    },
    {
     "metadata": {
      "tags": null
     },
     "name": "stderr",
     "output_type": "stream",
     "text": [
      "WARNING:absl:Found untraced functions such as _update_step_xla while saving (showing 1 of 1). These functions will not be directly callable after loading.\n"
     ]
    },
    {
     "metadata": {
      "tags": null
     },
     "name": "stdout",
     "output_type": "stream",
     "text": [
      "82/82 [==============================] - 21s 254ms/step - loss: 0.0888 - mae: 0.2389 - val_loss: 0.0607 - val_mae: 0.2037\n",
      "Epoch 244/500\n",
      "81/82 [============================>.] - ETA: 0s - loss: 0.0914 - mae: 0.2424"
     ]
    },
    {
     "metadata": {
      "tags": null
     },
     "name": "stderr",
     "output_type": "stream",
     "text": [
      "WARNING:absl:Found untraced functions such as _update_step_xla while saving (showing 1 of 1). These functions will not be directly callable after loading.\n"
     ]
    },
    {
     "metadata": {
      "tags": null
     },
     "name": "stdout",
     "output_type": "stream",
     "text": [
      "82/82 [==============================] - 20s 246ms/step - loss: 0.0914 - mae: 0.2425 - val_loss: 0.0607 - val_mae: 0.2037\n",
      "Epoch 245/500\n",
      "82/82 [==============================] - ETA: 0s - loss: 0.0918 - mae: 0.2432"
     ]
    },
    {
     "metadata": {
      "tags": null
     },
     "name": "stderr",
     "output_type": "stream",
     "text": [
      "WARNING:absl:Found untraced functions such as _update_step_xla while saving (showing 1 of 1). These functions will not be directly callable after loading.\n"
     ]
    },
    {
     "metadata": {
      "tags": null
     },
     "name": "stdout",
     "output_type": "stream",
     "text": [
      "82/82 [==============================] - 21s 254ms/step - loss: 0.0918 - mae: 0.2432 - val_loss: 0.0607 - val_mae: 0.2036\n",
      "Epoch 246/500\n",
      "82/82 [==============================] - 15s 181ms/step - loss: 0.0896 - mae: 0.2403 - val_loss: 0.0607 - val_mae: 0.2037\n",
      "Epoch 247/500\n",
      "82/82 [==============================] - ETA: 0s - loss: 0.0876 - mae: 0.2383"
     ]
    },
    {
     "metadata": {
      "tags": null
     },
     "name": "stderr",
     "output_type": "stream",
     "text": [
      "WARNING:absl:Found untraced functions such as _update_step_xla while saving (showing 1 of 1). These functions will not be directly callable after loading.\n"
     ]
    },
    {
     "metadata": {
      "tags": null
     },
     "name": "stdout",
     "output_type": "stream",
     "text": [
      "82/82 [==============================] - 20s 243ms/step - loss: 0.0876 - mae: 0.2383 - val_loss: 0.0606 - val_mae: 0.2035\n",
      "Epoch 248/500\n",
      "82/82 [==============================] - 15s 186ms/step - loss: 0.0911 - mae: 0.2421 - val_loss: 0.0607 - val_mae: 0.2036\n",
      "Epoch 249/500\n",
      "82/82 [==============================] - ETA: 0s - loss: 0.0889 - mae: 0.2398"
     ]
    },
    {
     "metadata": {
      "tags": null
     },
     "name": "stderr",
     "output_type": "stream",
     "text": [
      "WARNING:absl:Found untraced functions such as _update_step_xla while saving (showing 1 of 1). These functions will not be directly callable after loading.\n"
     ]
    },
    {
     "metadata": {
      "tags": null
     },
     "name": "stdout",
     "output_type": "stream",
     "text": [
      "82/82 [==============================] - 20s 243ms/step - loss: 0.0889 - mae: 0.2398 - val_loss: 0.0606 - val_mae: 0.2035\n",
      "Epoch 250/500\n",
      "82/82 [==============================] - 15s 180ms/step - loss: 0.0905 - mae: 0.2412 - val_loss: 0.0606 - val_mae: 0.2035\n",
      "Epoch 251/500\n",
      "82/82 [==============================] - 14s 175ms/step - loss: 0.0907 - mae: 0.2424 - val_loss: 0.0606 - val_mae: 0.2035\n",
      "Epoch 252/500\n",
      "81/82 [============================>.] - ETA: 0s - loss: 0.0898 - mae: 0.2425"
     ]
    },
    {
     "metadata": {
      "tags": null
     },
     "name": "stderr",
     "output_type": "stream",
     "text": [
      "WARNING:absl:Found untraced functions such as _update_step_xla while saving (showing 1 of 1). These functions will not be directly callable after loading.\n"
     ]
    },
    {
     "metadata": {
      "tags": null
     },
     "name": "stdout",
     "output_type": "stream",
     "text": [
      "82/82 [==============================] - 21s 254ms/step - loss: 0.0897 - mae: 0.2425 - val_loss: 0.0606 - val_mae: 0.2034\n",
      "Epoch 253/500\n",
      "82/82 [==============================] - ETA: 0s - loss: 0.0892 - mae: 0.2400"
     ]
    },
    {
     "metadata": {
      "tags": null
     },
     "name": "stderr",
     "output_type": "stream",
     "text": [
      "WARNING:absl:Found untraced functions such as _update_step_xla while saving (showing 1 of 1). These functions will not be directly callable after loading.\n"
     ]
    },
    {
     "metadata": {
      "tags": null
     },
     "name": "stdout",
     "output_type": "stream",
     "text": [
      "82/82 [==============================] - 21s 260ms/step - loss: 0.0892 - mae: 0.2400 - val_loss: 0.0606 - val_mae: 0.2033\n",
      "Epoch 254/500\n",
      "81/82 [============================>.] - ETA: 0s - loss: 0.0881 - mae: 0.2388"
     ]
    },
    {
     "metadata": {
      "tags": null
     },
     "name": "stderr",
     "output_type": "stream",
     "text": [
      "WARNING:absl:Found untraced functions such as _update_step_xla while saving (showing 1 of 1). These functions will not be directly callable after loading.\n"
     ]
    },
    {
     "metadata": {
      "tags": null
     },
     "name": "stdout",
     "output_type": "stream",
     "text": [
      "82/82 [==============================] - 20s 246ms/step - loss: 0.0882 - mae: 0.2389 - val_loss: 0.0606 - val_mae: 0.2033\n",
      "Epoch 255/500\n",
      "82/82 [==============================] - 15s 178ms/step - loss: 0.0885 - mae: 0.2400 - val_loss: 0.0606 - val_mae: 0.2033\n",
      "Epoch 256/500\n",
      "82/82 [==============================] - 15s 185ms/step - loss: 0.0893 - mae: 0.2404 - val_loss: 0.0606 - val_mae: 0.2033\n",
      "Epoch 257/500\n",
      "82/82 [==============================] - ETA: 0s - loss: 0.0889 - mae: 0.2392"
     ]
    },
    {
     "metadata": {
      "tags": null
     },
     "name": "stderr",
     "output_type": "stream",
     "text": [
      "WARNING:absl:Found untraced functions such as _update_step_xla while saving (showing 1 of 1). These functions will not be directly callable after loading.\n"
     ]
    },
    {
     "metadata": {
      "tags": null
     },
     "name": "stdout",
     "output_type": "stream",
     "text": [
      "82/82 [==============================] - 20s 247ms/step - loss: 0.0889 - mae: 0.2392 - val_loss: 0.0605 - val_mae: 0.2032\n",
      "Epoch 258/500\n",
      "81/82 [============================>.] - ETA: 0s - loss: 0.0869 - mae: 0.2373"
     ]
    },
    {
     "metadata": {
      "tags": null
     },
     "name": "stderr",
     "output_type": "stream",
     "text": [
      "WARNING:absl:Found untraced functions such as _update_step_xla while saving (showing 1 of 1). These functions will not be directly callable after loading.\n"
     ]
    },
    {
     "metadata": {
      "tags": null
     },
     "name": "stdout",
     "output_type": "stream",
     "text": [
      "82/82 [==============================] - 20s 247ms/step - loss: 0.0868 - mae: 0.2373 - val_loss: 0.0605 - val_mae: 0.2031\n",
      "Epoch 259/500\n",
      "81/82 [============================>.] - ETA: 0s - loss: 0.0900 - mae: 0.2422"
     ]
    },
    {
     "metadata": {
      "tags": null
     },
     "name": "stderr",
     "output_type": "stream",
     "text": [
      "WARNING:absl:Found untraced functions such as _update_step_xla while saving (showing 1 of 1). These functions will not be directly callable after loading.\n"
     ]
    },
    {
     "metadata": {
      "tags": null
     },
     "name": "stdout",
     "output_type": "stream",
     "text": [
      "82/82 [==============================] - 21s 259ms/step - loss: 0.0899 - mae: 0.2421 - val_loss: 0.0605 - val_mae: 0.2031\n",
      "Epoch 260/500\n",
      "82/82 [==============================] - 15s 181ms/step - loss: 0.0899 - mae: 0.2404 - val_loss: 0.0605 - val_mae: 0.2032\n",
      "Epoch 261/500\n",
      "82/82 [==============================] - 15s 180ms/step - loss: 0.0875 - mae: 0.2371 - val_loss: 0.0606 - val_mae: 0.2032\n",
      "Epoch 262/500\n",
      "82/82 [==============================] - 15s 180ms/step - loss: 0.0886 - mae: 0.2392 - val_loss: 0.0605 - val_mae: 0.2032\n",
      "Epoch 263/500\n",
      "82/82 [==============================] - 15s 178ms/step - loss: 0.0885 - mae: 0.2401 - val_loss: 0.0605 - val_mae: 0.2032\n",
      "Epoch 264/500\n",
      "82/82 [==============================] - 15s 178ms/step - loss: 0.0880 - mae: 0.2392 - val_loss: 0.0605 - val_mae: 0.2031\n",
      "Epoch 265/500\n",
      "82/82 [==============================] - 15s 180ms/step - loss: 0.0894 - mae: 0.2407 - val_loss: 0.0605 - val_mae: 0.2031\n",
      "Epoch 266/500\n",
      "81/82 [============================>.] - ETA: 0s - loss: 0.0882 - mae: 0.2387"
     ]
    },
    {
     "metadata": {
      "tags": null
     },
     "name": "stderr",
     "output_type": "stream",
     "text": [
      "WARNING:absl:Found untraced functions such as _update_step_xla while saving (showing 1 of 1). These functions will not be directly callable after loading.\n"
     ]
    },
    {
     "metadata": {
      "tags": null
     },
     "name": "stdout",
     "output_type": "stream",
     "text": [
      "82/82 [==============================] - 21s 252ms/step - loss: 0.0881 - mae: 0.2387 - val_loss: 0.0605 - val_mae: 0.2031\n",
      "Epoch 267/500\n",
      "82/82 [==============================] - 20s 243ms/step - loss: 0.0882 - mae: 0.2393 - val_loss: 0.0605 - val_mae: 0.2031\n",
      "Epoch 268/500\n",
      "82/82 [==============================] - 15s 178ms/step - loss: 0.0883 - mae: 0.2388 - val_loss: 0.0605 - val_mae: 0.2031\n",
      "Epoch 269/500\n",
      "82/82 [==============================] - ETA: 0s - loss: 0.0866 - mae: 0.2367"
     ]
    },
    {
     "metadata": {
      "tags": null
     },
     "name": "stderr",
     "output_type": "stream",
     "text": [
      "WARNING:absl:Found untraced functions such as _update_step_xla while saving (showing 1 of 1). These functions will not be directly callable after loading.\n"
     ]
    },
    {
     "metadata": {
      "tags": null
     },
     "name": "stdout",
     "output_type": "stream",
     "text": [
      "82/82 [==============================] - 20s 251ms/step - loss: 0.0866 - mae: 0.2367 - val_loss: 0.0605 - val_mae: 0.2030\n",
      "Epoch 270/500\n",
      "81/82 [============================>.] - ETA: 0s - loss: 0.0874 - mae: 0.2387"
     ]
    },
    {
     "metadata": {
      "tags": null
     },
     "name": "stderr",
     "output_type": "stream",
     "text": [
      "WARNING:absl:Found untraced functions such as _update_step_xla while saving (showing 1 of 1). These functions will not be directly callable after loading.\n"
     ]
    },
    {
     "metadata": {
      "tags": null
     },
     "name": "stdout",
     "output_type": "stream",
     "text": [
      "82/82 [==============================] - 21s 251ms/step - loss: 0.0873 - mae: 0.2386 - val_loss: 0.0605 - val_mae: 0.2030\n",
      "Epoch 271/500\n",
      "82/82 [==============================] - 15s 180ms/step - loss: 0.0873 - mae: 0.2373 - val_loss: 0.0605 - val_mae: 0.2031\n",
      "Epoch 272/500\n",
      "82/82 [==============================] - 15s 178ms/step - loss: 0.0902 - mae: 0.2415 - val_loss: 0.0605 - val_mae: 0.2030\n",
      "Epoch 273/500\n",
      "82/82 [==============================] - 15s 180ms/step - loss: 0.0868 - mae: 0.2373 - val_loss: 0.0605 - val_mae: 0.2031\n",
      "Epoch 274/500\n",
      "82/82 [==============================] - 15s 180ms/step - loss: 0.0879 - mae: 0.2376 - val_loss: 0.0605 - val_mae: 0.2030\n",
      "Epoch 275/500\n",
      "81/82 [============================>.] - ETA: 0s - loss: 0.0862 - mae: 0.2359"
     ]
    },
    {
     "metadata": {
      "tags": null
     },
     "name": "stderr",
     "output_type": "stream",
     "text": [
      "WARNING:absl:Found untraced functions such as _update_step_xla while saving (showing 1 of 1). These functions will not be directly callable after loading.\n"
     ]
    },
    {
     "metadata": {
      "tags": null
     },
     "name": "stdout",
     "output_type": "stream",
     "text": [
      "82/82 [==============================] - 20s 246ms/step - loss: 0.0863 - mae: 0.2361 - val_loss: 0.0605 - val_mae: 0.2030\n",
      "Epoch 276/500\n",
      "82/82 [==============================] - 15s 176ms/step - loss: 0.0874 - mae: 0.2380 - val_loss: 0.0605 - val_mae: 0.2030\n",
      "Epoch 277/500\n",
      "81/82 [============================>.] - ETA: 0s - loss: 0.0880 - mae: 0.2385"
     ]
    },
    {
     "metadata": {
      "tags": null
     },
     "name": "stderr",
     "output_type": "stream",
     "text": [
      "WARNING:absl:Found untraced functions such as _update_step_xla while saving (showing 1 of 1). These functions will not be directly callable after loading.\n"
     ]
    },
    {
     "metadata": {
      "tags": null
     },
     "name": "stdout",
     "output_type": "stream",
     "text": [
      "82/82 [==============================] - 22s 262ms/step - loss: 0.0880 - mae: 0.2384 - val_loss: 0.0605 - val_mae: 0.2029\n",
      "Epoch 278/500\n",
      "82/82 [==============================] - ETA: 0s - loss: 0.0869 - mae: 0.2372"
     ]
    },
    {
     "metadata": {
      "tags": null
     },
     "name": "stderr",
     "output_type": "stream",
     "text": [
      "WARNING:absl:Found untraced functions such as _update_step_xla while saving (showing 1 of 1). These functions will not be directly callable after loading.\n"
     ]
    },
    {
     "metadata": {
      "tags": null
     },
     "name": "stdout",
     "output_type": "stream",
     "text": [
      "82/82 [==============================] - 20s 243ms/step - loss: 0.0869 - mae: 0.2372 - val_loss: 0.0604 - val_mae: 0.2029\n",
      "Epoch 279/500\n",
      "81/82 [============================>.] - ETA: 0s - loss: 0.0870 - mae: 0.2374"
     ]
    },
    {
     "metadata": {
      "tags": null
     },
     "name": "stderr",
     "output_type": "stream",
     "text": [
      "WARNING:absl:Found untraced functions such as _update_step_xla while saving (showing 1 of 1). These functions will not be directly callable after loading.\n"
     ]
    },
    {
     "metadata": {
      "tags": null
     },
     "name": "stdout",
     "output_type": "stream",
     "text": [
      "82/82 [==============================] - 21s 258ms/step - loss: 0.0870 - mae: 0.2374 - val_loss: 0.0604 - val_mae: 0.2028\n",
      "Epoch 280/500\n",
      "82/82 [==============================] - 14s 177ms/step - loss: 0.0885 - mae: 0.2396 - val_loss: 0.0604 - val_mae: 0.2028\n",
      "Epoch 281/500\n",
      "81/82 [============================>.] - ETA: 0s - loss: 0.0862 - mae: 0.2360"
     ]
    },
    {
     "metadata": {
      "tags": null
     },
     "name": "stderr",
     "output_type": "stream",
     "text": [
      "WARNING:absl:Found untraced functions such as _update_step_xla while saving (showing 1 of 1). These functions will not be directly callable after loading.\n"
     ]
    },
    {
     "name": "stdout",
     "output_type": "stream",
     "text": [
      "82/82 [==============================] - 20s 240ms/step - loss: 0.0862 - mae: 0.2360 - val_loss: 0.0604 - val_mae: 0.2027\n",
      "Epoch 282/500\n",
      "81/82 [============================>.] - ETA: 0s - loss: 0.0863 - mae: 0.2367"
     ]
    },
    {
     "name": "stderr",
     "output_type": "stream",
     "text": [
      "WARNING:absl:Found untraced functions such as _update_step_xla while saving (showing 1 of 1). These functions will not be directly callable after loading.\n"
     ]
    },
    {
     "name": "stdout",
     "output_type": "stream",
     "text": [
      "\b\b\b\b\b\b\b\b\b\b\b\b\b\b\b\b\b\b\b\b\b\b\b\b\b\b\b\b\b\b\b\b\b\b\b\b\b\b\b\b\b\b\b\b\b\b\b\b\b\b\b\b\b\b\b\b\b\b\b\b\b\b\b\b\b\b\b\b\b\b\b\b\b\b\b\b\b\r",
      "82/82 [==============================] - 22s 275ms/step - loss: 0.0863 - mae: 0.2368 - val_loss: 0.0604 - val_mae: 0.2027\n",
      "Epoch 283/500\n",
      "82/82 [==============================] - 15s 179ms/step - loss: 0.0865 - mae: 0.2372 - val_loss: 0.0604 - val_mae: 0.2027\n",
      "Epoch 284/500\n",
      "82/82 [==============================] - 15s 178ms/step - loss: 0.0872 - mae: 0.2370 - val_loss: 0.0604 - val_mae: 0.2027\n",
      "Epoch 285/500\n",
      "82/82 [==============================] - 15s 181ms/step - loss: 0.0860 - mae: 0.2355 - val_loss: 0.0604 - val_mae: 0.2027\n",
      "Epoch 286/500\n",
      "82/82 [==============================] - 15s 178ms/step - loss: 0.0865 - mae: 0.2360 - val_loss: 0.0605 - val_mae: 0.2028\n",
      "Epoch 287/500\n",
      "82/82 [==============================] - 15s 179ms/step - loss: 0.0877 - mae: 0.2378 - val_loss: 0.0605 - val_mae: 0.2029\n",
      "Epoch 288/500\n",
      "82/82 [==============================] - 14s 177ms/step - loss: 0.0859 - mae: 0.2357 - val_loss: 0.0606 - val_mae: 0.2030\n",
      "Epoch 289/500\n",
      "82/82 [==============================] - 14s 177ms/step - loss: 0.0880 - mae: 0.2381 - val_loss: 0.0605 - val_mae: 0.2030\n",
      "Epoch 290/500\n",
      "82/82 [==============================] - 15s 181ms/step - loss: 0.0873 - mae: 0.2380 - val_loss: 0.0605 - val_mae: 0.2029\n",
      "Epoch 291/500\n",
      "82/82 [==============================] - 15s 178ms/step - loss: 0.0860 - mae: 0.2357 - val_loss: 0.0605 - val_mae: 0.2028\n",
      "Epoch 292/500\n",
      "82/82 [==============================] - 15s 179ms/step - loss: 0.0864 - mae: 0.2360 - val_loss: 0.0604 - val_mae: 0.2027\n",
      "Epoch 292: early stopping\n"
     ]
    },
    {
     "data": {
      "text/plain": [
       "<keras.callbacks.History at 0x7fc05ef17be0>"
      ]
     },
     "execution_count": 43,
     "metadata": {},
     "output_type": "execute_result"
    }
   ],
   "source": [
    "lstm_model = build_vanilla_lstm(MAX_SEQ_LEN = params['max_seq_len'], EMBEDDING_DIM = params['embedding_dim'], DROPOUT_RATE = params['dropout_rate'],EPOCHS = params['epochs'], BATCH_SIZE = params['batch_size'] ,embedding_matrix=glove_embeddings,LEARNING_RATE =params['learning_rate'])\n",
    "lstm_model.fit([padded_essay_train, features_train], target_train,\n",
    "            epochs= params['epochs'],\n",
    "            batch_size= params['batch_size'],\n",
    "            validation_data= ([padded_essay_val, features_val], target_val),\n",
    "            callbacks=[model_checkpoint_callback , NeptuneLogger(), es])"
   ]
  },
  {
   "cell_type": "code",
   "execution_count": 45,
   "metadata": {
    "id": "Z-y2ex0qI_L8"
   },
   "outputs": [],
   "source": [
    "# neptune.log_metric('MAE', lstm_model.history.history['val_mae'][-1])\n",
    "# neptune.log_metric('Loss', lstm_model.history.history['val_loss'][-1])\n",
    "\n",
    "run['valid/mae'] = lstm_model.history.history['val_mae'][-1]\n",
    "run['valid/loss'] = lstm_model.history.history['val_loss'][-1]"
   ]
  },
  {
   "cell_type": "code",
   "execution_count": 46,
   "metadata": {
    "colab": {
     "base_uri": "https://localhost:8080/"
    },
    "id": "0zna3Mk-ks_t",
    "outputId": "504661ff-7029-4b76-9fb7-9a16a6e24d9b"
   },
   "outputs": [
    {
     "name": "stdout",
     "output_type": "stream",
     "text": [
      "Model: \"model_1\"\n",
      "__________________________________________________________________________________________________\n",
      " Layer (type)                   Output Shape         Param #     Connected to                     \n",
      "==================================================================================================\n",
      " input_3 (InputLayer)           [(None, 100)]        0           []                               \n",
      "                                                                                                  \n",
      " embedding_1 (Embedding)        (None, 100, 100)     216326300   ['input_3[0][0]']                \n",
      "                                                                                                  \n",
      " lstm_1 (LSTM)                  (None, 64)           42240       ['embedding_1[0][0]']            \n",
      "                                                                                                  \n",
      " input_4 (InputLayer)           [(None, 3)]          0           []                               \n",
      "                                                                                                  \n",
      " concatenate_1 (Concatenate)    (None, 67)           0           ['lstm_1[0][0]',                 \n",
      "                                                                  'input_4[0][0]']                \n",
      "                                                                                                  \n",
      " dropout_1 (Dropout)            (None, 67)           0           ['concatenate_1[0][0]']          \n",
      "                                                                                                  \n",
      " dense_1 (Dense)                (None, 1)            68          ['dropout_1[0][0]']              \n",
      "                                                                                                  \n",
      "==================================================================================================\n",
      "Total params: 216,368,608\n",
      "Trainable params: 42,308\n",
      "Non-trainable params: 216,326,300\n",
      "__________________________________________________________________________________________________\n"
     ]
    }
   ],
   "source": [
    "lstm_model.summary()   #Confusion: MaxLenght=100 should be dropped? Since words in a sentences/Para can exceed the limit"
   ]
  },
  {
   "cell_type": "code",
   "execution_count": 48,
   "metadata": {
    "colab": {
     "base_uri": "https://localhost:8080/"
    },
    "id": "CBKDDQ0gOnYA",
    "outputId": "a8c63f76-febc-4890-b03d-492dfea7a7f9"
   },
   "outputs": [
    {
     "name": "stdout",
     "output_type": "stream",
     "text": [
      "Validation loss: 0.06038595736026764\n",
      "Validation MAE: 0.20268331468105316\n"
     ]
    }
   ],
   "source": [
    "#Fetching the best model saved using checkpoints\n",
    "new_model = tf.keras.models.load_model(\"./chkpt\")\n",
    "\n",
    "#Testing data on the model saved    #DO IT ON TRAIN DATA\n",
    "score = new_model.evaluate([padded_essay_val, features_val], target_val, verbose=0)\n",
    "\n",
    "print('Validation loss:', score[0])\n",
    "print('Validation MAE:', score[1])"
   ]
  },
  {
   "cell_type": "markdown",
   "metadata": {
    "id": "FGaWXz-ddjng"
   },
   "source": [
    "### **Results Visualization**"
   ]
  },
  {
   "cell_type": "code",
   "execution_count": 49,
   "metadata": {
    "colab": {
     "base_uri": "https://localhost:8080/",
     "height": 843
    },
    "id": "MUHxJAH_mI6L",
    "outputId": "55bf4b2a-5213-496d-c4ae-00a8b8d7d2ab"
   },
   "outputs": [
    {
     "data": {
      "image/png": "[encoded data removed]",
      "text/plain": [
       "<Figure size 640x480 with 1 Axes>"
      ]
     },
     "metadata": {},
     "output_type": "display_data"
    },
    {
     "data": {
      "image/png": "[encoded data removed]",
      "text/plain": [
       "<Figure size 640x480 with 1 Axes>"
      ]
     },
     "metadata": {},
     "output_type": "display_data"
    }
   ],
   "source": [
    "history = lstm_model.history.history\n",
    "\n",
    "import matplotlib.pyplot as plt\n",
    "\n",
    "# Plot validation loss\n",
    "plt.plot(history['val_loss'], label='val_loss')\n",
    "plt.plot(history['loss'], label='train_loss')\n",
    "plt.legend(loc=\"best\")\n",
    "plt.show()\n",
    "\n",
    "# Plot evaluation metrics\n",
    "plt.plot(history['mae'], label='train_mae')\n",
    "plt.plot(history['val_mae'], label='val_mae')\n",
    "plt.legend(loc=\"best\")\n",
    "plt.show()"
   ]
  },
  {
   "cell_type": "markdown",
   "metadata": {
    "id": "cMC5BxtrdumL"
   },
   "source": [
    "### **Testing Model**"
   ]
  },
  {
   "cell_type": "code",
   "execution_count": null,
   "metadata": {
    "id": "ql8PHdR4drm2"
   },
   "outputs": [],
   "source": [
    "test_loss, test_mae = lstm_model.evaluate([padded_docs_test, features_test], target_test)\n",
    "\n",
    "# Make predictions on test data\n",
    "predictions = lstm_model.predict([padded_docs_test, features_test])\n",
    "\n",
    "# Compute Cohen's kappa score\n",
    "kappa = cohen_kappa_score(np.round(predictions), target_test, weights='quadratic')\n",
    "\n",
    "print('Test Loss:', test_loss)\n",
    "print('Test MAE:', test_mae)\n",
    "print('Cohen\\'s Kappa Score:', kappa)"
   ]
  },
  {
   "cell_type": "markdown",
   "metadata": {
    "id": "u5fHbkcqwpqz"
   },
   "source": [
    "## **GridSearchCV** (Incomplete)"
   ]
  },
  {
   "cell_type": "markdown",
   "metadata": {
    "id": "weyBDkBMw42s"
   },
   "source": [
    "## **BiDirectional LSTM** (Incomplete)"
   ]
  },
  {
   "cell_type": "code",
   "execution_count": null,
   "metadata": {
    "id": "VS2XtKlexpF2"
   },
   "outputs": [],
   "source": [
    "import numpy as np\n",
    "import tensorflow as tf\n",
    "from tensorflow.keras.models import Sequential\n",
    "from tensorflow.keras.layers import LSTM, Dense, Dropout, Embedding, Input, concatenate, Bidirectional\n",
    "\n",
    "# Set random seed for reproducibility\n",
    "np.random.seed(42)\n",
    "tf.random.set_seed(42)\n",
    "\n",
    "# Define model parameters\n",
    "MAX_SEQ_LEN = 100\n",
    "EMBEDDING_DIM = 100\n",
    "DROPOUT_RATE = 0.6\n",
    "NUM_FEATURES = len(features_train[0])\n",
    "EPOCHS = 100\n",
    "BATCH_SIZE = 128\n",
    "VALIDATION_SPLIT = 0.2\n",
    "\n",
    "# Load pre-trained GloVe embeddings\n",
    "embedding_matrix = {} # Load GloVe embeddings here\n",
    "\n",
    "# Define input layers\n",
    "input_text = Input(shape=(MAX_SEQ_LEN,), dtype='int32')\n",
    "input_features = Input(shape=(NUM_FEATURES,), dtype='float32')\n",
    "\n",
    "# Define embedding layer\n",
    "embedding_layer = Embedding(input_dim=embedding_matrix.shape[0],\n",
    "                            output_dim=EMBEDDING_DIM,\n",
    "                            weights=[embedding_matrix],\n",
    "                            input_length=MAX_SEQ_LEN,\n",
    "                            trainable=False)\n",
    "\n",
    "# Define bidirectional LSTM layer\n",
    "lstm_layer = Bidirectional(LSTM(units=64, activation='sigmoid'))\n",
    "\n",
    "# Connect input layers to embedding and LSTM layers\n",
    "text_embed = embedding_layer(input_text)\n",
    "text_lstm = lstm_layer(text_embed)\n",
    "\n",
    "# Concatenate LSTM output with input features\n",
    "concat_layer = concatenate([text_lstm, input_features])\n",
    "\n",
    "# Define dropout layer\n",
    "dropout_layer = Dropout(rate=DROPOUT_RATE)\n",
    "\n",
    "# Connect concat layer to dropout layer\n",
    "dropout_output = dropout_layer(concat_layer)\n",
    "\n",
    "# Define output layer\n",
    "output_layer = Dense(units=1, activation='linear')\n",
    "\n",
    "# Connect dropout output to output layer\n",
    "output = output_layer(dropout_output)\n",
    "\n",
    "# Define model with two inputs and one output\n",
    "model = tf.keras.Model(inputs=[input_text, input_features], outputs=output)\n",
    "\n",
    "# Compile model\n",
    "model.compile(optimizer='adam',\n",
    "              loss='mse',\n",
    "              metrics=['mae'])\n",
    "\n",
    "# Train model\n",
    "model.fit([padded_docs_train, features_train], target_train,\n",
    "          epochs=EPOCHS,\n",
    "          batch_size=BATCH_SIZE,\n",
    "          validation_split=VALIDATION_SPLIT)\n"
   ]
  }
 ],
 "metadata": {
  "colab": {
   "provenance": []
  },
  "gpuClass": "standard",
  "kernelspec": {
   "display_name": "Python 3 (ipykernel)",
   "language": "python",
   "name": "python3"
  },
  "language_info": {
   "codemirror_mode": {
    "name": "ipython",
    "version": 3
   },
   "file_extension": ".py",
   "mimetype": "text/x-python",
   "name": "python",
   "nbconvert_exporter": "python",
   "pygments_lexer": "ipython3",
   "version": "3.10.6"
  }
 },
 "nbformat": 4,
 "nbformat_minor": 1
}
